{
  "nbformat": 4,
  "nbformat_minor": 0,
  "metadata": {
    "colab": {
      "name": "BiLSTM-revisions.ipynb",
      "provenance": [],
      "collapsed_sections": [],
      "authorship_tag": "ABX9TyNM3/7ExAhVni8adjknoU3E",
      "include_colab_link": true
    },
    "kernelspec": {
      "name": "python3",
      "display_name": "Python 3"
    },
    "accelerator": "GPU"
  },
  "cells": [
    {
      "cell_type": "markdown",
      "metadata": {
        "id": "view-in-github",
        "colab_type": "text"
      },
      "source": [
        "<a href=\"https://colab.research.google.com/github/TalitaAnthonio/COLING/blob/master/BiLSTM_revisions.ipynb\" target=\"_parent\"><img src=\"https://colab.research.google.com/assets/colab-badge.svg\" alt=\"Open In Colab\"/></a>"
      ]
    },
    {
      "cell_type": "markdown",
      "metadata": {
        "id": "pptvd-7dAm2H",
        "colab_type": "text"
      },
      "source": [
        "# BiLSTM with Wikihow \n",
        "\n",
        "*This notebook is used to run the examples with wikihow. \n",
        "\n",
        "### Read data"
      ]
    },
    {
      "cell_type": "code",
      "metadata": {
        "id": "bPVqCqA_AG0B",
        "colab_type": "code",
        "colab": {}
      },
      "source": [
        "from torchtext import data \n",
        "from torchtext import datasets\n",
        "import torch\n",
        "\n",
        "SEED = 1234\n",
        "\n",
        "torch.manual_seed(SEED)\n",
        "torch.backends.cudnn.deterministic = True"
      ],
      "execution_count": 0,
      "outputs": []
    },
    {
      "cell_type": "code",
      "metadata": {
        "id": "P78Gwd3RATgo",
        "colab_type": "code",
        "colab": {
          "base_uri": "https://localhost:8080/",
          "height": 35
        },
        "outputId": "af192e5f-345d-495a-f1ac-9b9efe7aebf0"
      },
      "source": [
        "from google.colab import drive \n",
        "\n",
        "\n",
        "drive.mount('/content/drive')\n",
        "path_to_dev = \"/content/drive/My Drive/data/wikihow/dev_set_pytorch.json\"\n",
        "path_to_test = \"/content/drive/My Drive/data/wikihow/test_set_pytorch.json\"\n",
        "path_to_train = \"/content/drive/My Drive/data/wikihow/train_set_pytorch.json\""
      ],
      "execution_count": 74,
      "outputs": [
        {
          "output_type": "stream",
          "text": [
            "Drive already mounted at /content/drive; to attempt to forcibly remount, call drive.mount(\"/content/drive\", force_remount=True).\n"
          ],
          "name": "stdout"
        }
      ]
    },
    {
      "cell_type": "code",
      "metadata": {
        "id": "_iqDC3d2BPNL",
        "colab_type": "code",
        "colab": {}
      },
      "source": [
        "# define the fields \n",
        "\n",
        "LABEL = data.LabelField(dtype=torch.float)\n",
        "LINE = data.Field(tokenize='spacy', lower=True, include_lengths=True)\n",
        "#CONTEXT = data.Field()"
      ],
      "execution_count": 0,
      "outputs": []
    },
    {
      "cell_type": "markdown",
      "metadata": {
        "id": "S1KMYHzCBusZ",
        "colab_type": "text"
      },
      "source": [
        "**notes from notebook**\n",
        "\n",
        "\n",
        "Also, if the values of json field are a string then the Fields tokenization is applied (default is to split the string on spaces), however if the values are a list then no tokenization is applied. Usually it is a good idea for the data to already be tokenized into a list, this saves time as you don't have to wait for TorchText to do it."
      ]
    },
    {
      "cell_type": "code",
      "metadata": {
        "id": "5qzkMM9YBvQ9",
        "colab_type": "code",
        "colab": {}
      },
      "source": [
        "fields = {'Label': ('label', LABEL), 'Line': ('line', LINE)}"
      ],
      "execution_count": 0,
      "outputs": []
    },
    {
      "cell_type": "code",
      "metadata": {
        "id": "3rBxlYrlCCIO",
        "colab_type": "code",
        "colab": {}
      },
      "source": [
        "train_data, validation_data, test_data = data.TabularDataset.splits(\n",
        "                            path = 'data',\n",
        "                            train = path_to_train,\n",
        "                            validation = path_to_dev, \n",
        "                            test = path_to_test,\n",
        "                            format = 'json',\n",
        "                            fields = fields\n",
        ")"
      ],
      "execution_count": 0,
      "outputs": []
    },
    {
      "cell_type": "code",
      "metadata": {
        "id": "2kzWqQOtDF5c",
        "colab_type": "code",
        "colab": {
          "base_uri": "https://localhost:8080/",
          "height": 449
        },
        "outputId": "6a53816e-0fdd-4535-cb38-cc6273d29679"
      },
      "source": [
        "vars(validation_data[0])"
      ],
      "execution_count": 78,
      "outputs": [
        {
          "output_type": "execute_result",
          "data": {
            "text/plain": [
              "{'label': '0',\n",
              " 'line': ['nothing',\n",
              "  'is',\n",
              "  'less',\n",
              "  'tastier',\n",
              "  'when',\n",
              "  'you',\n",
              "  'see',\n",
              "  'a',\n",
              "  'men',\n",
              "  'with',\n",
              "  'a',\n",
              "  'suit',\n",
              "  'to',\n",
              "  'large',\n",
              "  'or',\n",
              "  'an',\n",
              "  'outfit',\n",
              "  'not',\n",
              "  'in',\n",
              "  'season',\n",
              "  ';',\n",
              "  ')',\n",
              "  '.']}"
            ]
          },
          "metadata": {
            "tags": []
          },
          "execution_count": 78
        }
      ]
    },
    {
      "cell_type": "markdown",
      "metadata": {
        "id": "ixkimMpvGROD",
        "colab_type": "text"
      },
      "source": [
        "## Build Vocabulary"
      ]
    },
    {
      "cell_type": "markdown",
      "metadata": {
        "id": "-CwaFjfVHEb0",
        "colab_type": "text"
      },
      "source": [
        "Build vocabulary for ``LINE`` and ``LABEL``."
      ]
    },
    {
      "cell_type": "code",
      "metadata": {
        "id": "qvHQTmsGGOeq",
        "colab_type": "code",
        "colab": {}
      },
      "source": [
        "MAX_VOCAB_SIZE = 20000\n",
        "\n",
        "LINE.build_vocab(train_data, \n",
        "                 max_size = MAX_VOCAB_SIZE, \n",
        "                 vectors = \"glove.6B.100d\", \n",
        "                 unk_init = torch.Tensor.normal_)\n",
        "\n",
        "LABEL.build_vocab(train_data)"
      ],
      "execution_count": 0,
      "outputs": []
    },
    {
      "cell_type": "code",
      "metadata": {
        "id": "iCiMlaA4HByL",
        "colab_type": "code",
        "colab": {
          "base_uri": "https://localhost:8080/",
          "height": 91
        },
        "outputId": "d6b433cf-17cf-425f-92c0-9492950e5867"
      },
      "source": [
        "print(\"the vocabulary size is {0}\".format(len(LINE.vocab)))\n",
        "print(\"the number of unique labels is {0}\".format(len(LABEL.vocab)))\n",
        "\n",
        "print(vars(LABEL))"
      ],
      "execution_count": 80,
      "outputs": [
        {
          "output_type": "stream",
          "text": [
            "the vocabulary size is 20002\n",
            "the number of unique labels is 2\n",
            "{'sequential': False, 'use_vocab': True, 'init_token': None, 'eos_token': None, 'unk_token': None, 'fix_length': None, 'dtype': torch.float32, 'preprocessing': None, 'postprocessing': None, 'lower': False, 'tokenize': <function Field.<lambda> at 0x7f81518c68c8>, 'include_lengths': False, 'batch_first': False, 'pad_token': None, 'pad_first': False, 'truncate_first': False, 'stop_words': None, 'is_target': False, 'vocab': <torchtext.vocab.Vocab object at 0x7f80edb0b160>}\n"
          ],
          "name": "stdout"
        }
      ]
    },
    {
      "cell_type": "markdown",
      "metadata": {
        "id": "ztxK_VCQHbRF",
        "colab_type": "text"
      },
      "source": [
        "## Make Batch sizes "
      ]
    },
    {
      "cell_type": "code",
      "metadata": {
        "id": "iWrARyctHY1y",
        "colab_type": "code",
        "colab": {}
      },
      "source": [
        "BATCH_SIZE = 32 # not 64 \n",
        "\n",
        "device = torch.device('cuda' if torch.cuda.is_available() else 'cpu')\n",
        "\n",
        "train_iterator, valid_iterator, test_iterator = data.BucketIterator.splits(\n",
        "    (train_data, validation_data, test_data), \n",
        "    batch_size = BATCH_SIZE, sort_key = lambda x : len(x.line), \n",
        "    sort_within_batch = True,\n",
        "    repeat=False, \n",
        "    device = device)"
      ],
      "execution_count": 0,
      "outputs": []
    },
    {
      "cell_type": "code",
      "metadata": {
        "id": "Rsd4cEbeHmwU",
        "colab_type": "code",
        "colab": {
          "base_uri": "https://localhost:8080/",
          "height": 71
        },
        "outputId": "d73b22d0-5c0e-42ef-bfbb-b37a6176deb5"
      },
      "source": [
        "print(len(train_iterator))\n",
        "print(len(valid_iterator))\n",
        "print(len(test_iterator))"
      ],
      "execution_count": 82,
      "outputs": [
        {
          "output_type": "stream",
          "text": [
            "2760\n",
            "320\n",
            "308\n"
          ],
          "name": "stdout"
        }
      ]
    },
    {
      "cell_type": "code",
      "metadata": {
        "id": "tsTRESE2Hq2M",
        "colab_type": "code",
        "colab": {
          "base_uri": "https://localhost:8080/",
          "height": 287
        },
        "outputId": "f0458e1e-908d-4431-f533-bf34ac92423b"
      },
      "source": [
        "vars(train_iterator)"
      ],
      "execution_count": 83,
      "outputs": [
        {
          "output_type": "execute_result",
          "data": {
            "text/plain": [
              "{'_iterations_this_epoch': 0,\n",
              " '_random_state_this_epoch': None,\n",
              " '_restored_from_state': False,\n",
              " 'batch_size': 32,\n",
              " 'batch_size_fn': None,\n",
              " 'dataset': <torchtext.data.dataset.TabularDataset at 0x7f80edb0be80>,\n",
              " 'device': device(type='cuda'),\n",
              " 'iterations': 0,\n",
              " 'random_shuffler': <torchtext.data.utils.RandomShuffler at 0x7f80bf585ba8>,\n",
              " 'repeat': False,\n",
              " 'shuffle': True,\n",
              " 'sort': False,\n",
              " 'sort_key': <function __main__.<lambda>>,\n",
              " 'sort_within_batch': True,\n",
              " 'train': True}"
            ]
          },
          "metadata": {
            "tags": []
          },
          "execution_count": 83
        }
      ]
    },
    {
      "cell_type": "markdown",
      "metadata": {
        "id": "vB_kP9KmHsw_",
        "colab_type": "text"
      },
      "source": [
        "## Build the model"
      ]
    },
    {
      "cell_type": "code",
      "metadata": {
        "id": "OPglIy1oHtd7",
        "colab_type": "code",
        "colab": {}
      },
      "source": [
        "import torch.nn as nn\n",
        "\n",
        "class RNN(nn.Module):\n",
        "    def __init__(self, vocab_size, embedding_dim, hidden_dim, output_dim, n_layers, \n",
        "                 bidirectional, dropout, pad_idx):\n",
        "        \n",
        "        super().__init__()\n",
        "        \n",
        "        # Documentation: padding_idx (python:int, optional) – If given, pads the output with the embedding \n",
        "        # vector at padding_idx (initialized to zeros) whenever it encounters the index.\n",
        "        self.embedding = nn.Embedding(vocab_size, embedding_dim, padding_idx = pad_idx)\n",
        "        \n",
        "        self.rnn = nn.LSTM(embedding_dim, \n",
        "                           hidden_dim, \n",
        "                           num_layers=n_layers, \n",
        "                           bidirectional=bidirectional, \n",
        "                           dropout=dropout)\n",
        "        \n",
        "        self.fc = nn.Linear(hidden_dim * 2, output_dim)\n",
        "        \n",
        "        self.dropout = nn.Dropout(dropout)\n",
        "        \n",
        "    def forward(self, text, text_lengths):\n",
        "        \n",
        "        #text = [sent len, batch size]\n",
        "        \n",
        "        embedded = self.dropout(self.embedding(text))\n",
        "        \n",
        "        #embedded = [sent len, batch size, emb dim]\n",
        "        \n",
        "        #pack sequence\n",
        "        packed_embedded = nn.utils.rnn.pack_padded_sequence(embedded, text_lengths)\n",
        "        \n",
        "        packed_output, (hidden, cell) = self.rnn(packed_embedded)\n",
        "        \n",
        "        #unpack sequence\n",
        "        output, output_lengths = nn.utils.rnn.pad_packed_sequence(packed_output)\n",
        "\n",
        "        #output = [sent len, batch size, hid dim * num directions]\n",
        "        #output over padding tokens are zero tensors\n",
        "        \n",
        "        #hidden = [num layers * num directions, batch size, hid dim]\n",
        "        #cell = [num layers * num directions, batch size, hid dim]\n",
        "        \n",
        "        #concat the final forward (hidden[-2,:,:]) and backward (hidden[-1,:,:]) hidden layers\n",
        "        #and apply dropout\n",
        "        \n",
        "        hidden = self.dropout(torch.cat((hidden[-2,:,:], hidden[-1,:,:]), dim = 1))\n",
        "                \n",
        "        #hidden = [batch size, hid dim * num directions]\n",
        "            \n",
        "        return self.fc(hidden)"
      ],
      "execution_count": 0,
      "outputs": []
    },
    {
      "cell_type": "code",
      "metadata": {
        "id": "vguFv6s7Hxdh",
        "colab_type": "code",
        "colab": {}
      },
      "source": [
        "# makes sense because the glove vectors are also 100d \n",
        "INPUT_DIM = len(LINE.vocab)\n",
        "EMBEDDING_DIM = 100\n",
        "HIDDEN_DIM = 256\n",
        "OUTPUT_DIM = 1\n",
        "N_LAYERS = 2\n",
        "BIDIRECTIONAL = True\n",
        "\n",
        "# we use a dropout probability of 1 \n",
        "DROPOUT = 0.5\n",
        "PAD_IDX = LINE.vocab.stoi[LINE.pad_token]\n",
        "\n",
        "model = RNN(INPUT_DIM, \n",
        "            EMBEDDING_DIM, \n",
        "            HIDDEN_DIM, \n",
        "            OUTPUT_DIM, \n",
        "            N_LAYERS, \n",
        "            BIDIRECTIONAL, \n",
        "            DROPOUT, \n",
        "            PAD_IDX)"
      ],
      "execution_count": 0,
      "outputs": []
    },
    {
      "cell_type": "markdown",
      "metadata": {
        "id": "6Za1UkzaH3wz",
        "colab_type": "text"
      },
      "source": [
        "## Use pre-trained embeddings "
      ]
    },
    {
      "cell_type": "code",
      "metadata": {
        "id": "NECN_QLDH0Sl",
        "colab_type": "code",
        "colab": {
          "base_uri": "https://localhost:8080/",
          "height": 35
        },
        "outputId": "b5ce1d08-cb23-4ea4-b740-59298ed89e01"
      },
      "source": [
        "pretrained_embeddings = LINE.vocab.vectors\n",
        "print(pretrained_embeddings.shape)"
      ],
      "execution_count": 86,
      "outputs": [
        {
          "output_type": "stream",
          "text": [
            "torch.Size([20002, 100])\n"
          ],
          "name": "stdout"
        }
      ]
    },
    {
      "cell_type": "code",
      "metadata": {
        "id": "P-Ays5WgH7Rb",
        "colab_type": "code",
        "colab": {
          "base_uri": "https://localhost:8080/",
          "height": 143
        },
        "outputId": "9d370805-c4d9-4a11-e122-aab6e86e7843"
      },
      "source": [
        "model.embedding.weight.data.copy_(pretrained_embeddings)"
      ],
      "execution_count": 87,
      "outputs": [
        {
          "output_type": "execute_result",
          "data": {
            "text/plain": [
              "tensor([[-0.1117, -0.4966,  0.1631,  ...,  1.2647, -0.2753, -0.1325],\n",
              "        [-0.8555, -0.7208,  1.3755,  ...,  0.0825, -1.1314,  0.3997],\n",
              "        [-0.3398,  0.2094,  0.4635,  ..., -0.2339,  0.4730, -0.0288],\n",
              "        ...,\n",
              "        [-0.1353, -0.1401, -0.1164,  ...,  0.3354, -0.2014, -0.5799],\n",
              "        [-0.0764,  0.3016, -0.0953,  ...,  0.1170, -0.6364,  0.6872],\n",
              "        [ 0.1417,  0.2383,  0.5077,  ..., -0.1551, -0.1413, -0.5351]])"
            ]
          },
          "metadata": {
            "tags": []
          },
          "execution_count": 87
        }
      ]
    },
    {
      "cell_type": "code",
      "metadata": {
        "id": "yJL8pz5sIAZL",
        "colab_type": "code",
        "colab": {
          "base_uri": "https://localhost:8080/",
          "height": 143
        },
        "outputId": "c8069157-b014-49b9-f6b9-9f305efe9e69"
      },
      "source": [
        "UNK_IDX = LINE.vocab.stoi[LINE.unk_token]\n",
        "\n",
        "model.embedding.weight.data[UNK_IDX] = torch.zeros(EMBEDDING_DIM)\n",
        "model.embedding.weight.data[PAD_IDX] = torch.zeros(EMBEDDING_DIM)\n",
        "\n",
        "print(model.embedding.weight.data)"
      ],
      "execution_count": 88,
      "outputs": [
        {
          "output_type": "stream",
          "text": [
            "tensor([[ 0.0000,  0.0000,  0.0000,  ...,  0.0000,  0.0000,  0.0000],\n",
            "        [ 0.0000,  0.0000,  0.0000,  ...,  0.0000,  0.0000,  0.0000],\n",
            "        [-0.3398,  0.2094,  0.4635,  ..., -0.2339,  0.4730, -0.0288],\n",
            "        ...,\n",
            "        [-0.1353, -0.1401, -0.1164,  ...,  0.3354, -0.2014, -0.5799],\n",
            "        [-0.0764,  0.3016, -0.0953,  ...,  0.1170, -0.6364,  0.6872],\n",
            "        [ 0.1417,  0.2383,  0.5077,  ..., -0.1551, -0.1413, -0.5351]])\n"
          ],
          "name": "stdout"
        }
      ]
    },
    {
      "cell_type": "markdown",
      "metadata": {
        "id": "OTqtFXm6IEIj",
        "colab_type": "text"
      },
      "source": [
        "## Train the model "
      ]
    },
    {
      "cell_type": "code",
      "metadata": {
        "id": "wgDnkjl8IBwk",
        "colab_type": "code",
        "colab": {}
      },
      "source": [
        "import torch.optim as optim\n",
        "\n",
        "# it's not necessary to specify a learning rate here. \n",
        "optimizer = optim.Adam(model.parameters())\n",
        "# we use the same loss as previously \n",
        "criterion = nn.BCEWithLogitsLoss()\n",
        "\n",
        "model = model.to(device)\n",
        "criterion = criterion.to(device)"
      ],
      "execution_count": 0,
      "outputs": []
    },
    {
      "cell_type": "code",
      "metadata": {
        "id": "IMYGK1ZWIJAY",
        "colab_type": "code",
        "colab": {}
      },
      "source": [
        "def binary_accuracy(preds, y):\n",
        "    \"\"\"\n",
        "    Returns accuracy per batch, i.e. if you get 8/10 right, this returns 0.8, NOT 8\n",
        "    \"\"\"\n",
        "\n",
        "    #round predictions to the closest integer\n",
        "    rounded_preds = torch.round(torch.sigmoid(preds))\n",
        "    correct = (rounded_preds == y).float() #convert into float for division \n",
        "    acc = correct.sum() / len(correct)\n",
        "    return acc"
      ],
      "execution_count": 0,
      "outputs": []
    },
    {
      "cell_type": "code",
      "metadata": {
        "id": "2ID9fKDqIO45",
        "colab_type": "code",
        "colab": {}
      },
      "source": [
        "def train(model, iterator, optimizer, criterion):\n",
        "    \n",
        "    epoch_loss = 0\n",
        "    epoch_acc = 0\n",
        "    \n",
        "    model.train()\n",
        "    \n",
        "    for batch in iterator:\n",
        "        \n",
        "        optimizer.zero_grad()\n",
        "\n",
        "        # this happens now because \n",
        "        # As we have set include_lengths = True, our batch.text is \n",
        "        # now a tuple with the first element being the numericalized tensor and \n",
        "        # the second element being the actual lengths of each sequence. \n",
        "        # We separate these into their own variables, text and text_lengths, before passing them to the model.\n",
        "        \n",
        "        text, text_lengths = batch.line\n",
        "        \n",
        "        predictions = model(text, text_lengths).squeeze(1)\n",
        "        \n",
        "        loss = criterion(predictions, batch.label)\n",
        "        \n",
        "        acc = binary_accuracy(predictions, batch.label)\n",
        "        \n",
        "        loss.backward()\n",
        "        \n",
        "        optimizer.step()\n",
        "        \n",
        "        epoch_loss += loss.item()\n",
        "        epoch_acc += acc.item()\n",
        "        \n",
        "    return epoch_loss / len(iterator), epoch_acc / len(iterator)"
      ],
      "execution_count": 0,
      "outputs": []
    },
    {
      "cell_type": "code",
      "metadata": {
        "id": "HrvVBBBbISmY",
        "colab_type": "code",
        "colab": {}
      },
      "source": [
        "def evaluate(model, iterator, criterion):\n",
        "    \n",
        "    epoch_loss = 0\n",
        "    epoch_acc = 0\n",
        "    \n",
        "    model.eval()\n",
        "    \n",
        "    with torch.no_grad():\n",
        "    \n",
        "        for batch in iterator:\n",
        "\n",
        "            text, text_lengths = batch.line\n",
        "            \n",
        "            predictions = model(text, text_lengths).squeeze(1)\n",
        "            \n",
        "            loss = criterion(predictions, batch.label)\n",
        "            \n",
        "            acc = binary_accuracy(predictions, batch.label)\n",
        "            correct = get_evaluation_scores(predictions, batch.label)\n",
        "\n",
        "            epoch_loss += loss.item()\n",
        "            epoch_acc += acc.item()\n",
        "        \n",
        "    return epoch_loss / len(iterator), epoch_acc / len(iterator)"
      ],
      "execution_count": 0,
      "outputs": []
    },
    {
      "cell_type": "code",
      "metadata": {
        "id": "-jv3A05LIYhG",
        "colab_type": "code",
        "colab": {}
      },
      "source": [
        "N_EPOCHS = 10\n",
        "\n",
        "\n",
        "for epoch in range(N_EPOCHS):\n",
        "    \n",
        "    train_loss, train_acc = train(model, train_iterator, optimizer, criterion)\n",
        "    valid_loss, valid_acc = evaluate(model, valid_iterator, criterion)\n",
        "    \n",
        "    \n",
        "    print(\"Epoch {0}\".format(epoch+1))\n",
        "    print(f'\\tTrain Loss: {train_loss:.3f} | Train Acc: {train_acc*100:.2f}%')\n",
        "    print(f'\\t Val. Loss: {valid_loss:.3f} |  Val. Acc: {valid_acc*100:.2f}%')"
      ],
      "execution_count": 0,
      "outputs": []
    },
    {
      "cell_type": "code",
      "metadata": {
        "id": "Cavu-uwDIcLV",
        "colab_type": "code",
        "colab": {}
      },
      "source": [
        "test_loss, test_acc = evaluate(model, test_iterator, criterion)\n",
        "print(f'Test Loss: {test_loss:.3f} | Test Acc: {test_acc*100:.2f}%')"
      ],
      "execution_count": 0,
      "outputs": []
    },
    {
      "cell_type": "code",
      "metadata": {
        "id": "QKLGfNLnIdUU",
        "colab_type": "code",
        "colab": {}
      },
      "source": [
        "# this can later be used if I want \n",
        "from sklearn.metrics import classification_report \n",
        "from sklearn.metrics import confusion_matrix \n",
        "\n",
        "def get_evaluation_scores(preds, y):\n",
        "    categories = {\"0.0\": \"Non-Hyperpartisan\", \"1.0\": \"Hyperpartisan\"} \n",
        "    rounded_preds = torch.round(torch.sigmoid(preds))\n",
        "    Ypredict = []\n",
        "    Ytrue = []\n",
        "    for ypred in rounded_preds: \n",
        "        Ypredict.append(ypred.item())\n",
        "    for ytrue in y: \n",
        "        Ytrue.append(ytrue.item())\n",
        "    return classification_report(Ytrue, Ypredict)"
      ],
      "execution_count": 0,
      "outputs": []
    },
    {
      "cell_type": "code",
      "metadata": {
        "id": "PILyrurgnrdZ",
        "colab_type": "code",
        "colab": {}
      },
      "source": [
        ""
      ],
      "execution_count": 0,
      "outputs": []
    }
  ]
}