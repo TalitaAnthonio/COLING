{
 "cells": [
  {
   "cell_type": "code",
   "execution_count": 75,
   "metadata": {},
   "outputs": [],
   "source": [
    "import json\n",
    "from nltk.tokenize import sent_tokenize, word_tokenize\n",
    "from nltk.translate.bleu_score import sentence_bleu\n",
    "from progress.bar import Bar\n",
    "import re\n",
    "import argparse"
   ]
  },
  {
   "cell_type": "code",
   "execution_count": 76,
   "metadata": {},
   "outputs": [],
   "source": [
    "path_to_data = './noun-modifications/noun-modifications-test-5-new-lines.json'"
   ]
  },
  {
   "cell_type": "code",
   "execution_count": 77,
   "metadata": {},
   "outputs": [],
   "source": [
    "with open(path_to_data, 'r') as json_in: \n",
    "     content = json.load(json_in)"
   ]
  },
  {
   "cell_type": "code",
   "execution_count": 78,
   "metadata": {},
   "outputs": [],
   "source": [
    "def remove_html_tags(text):\n",
    "    \"\"\"Remove html tags from a string\"\"\"\n",
    "    import re\n",
    "    clean = re.compile('<.*?>')\n",
    "    return re.sub(clean, '', text)"
   ]
  },
  {
   "cell_type": "code",
   "execution_count": 79,
   "metadata": {},
   "outputs": [],
   "source": [
    "def sentence_splitter(document):\n",
    "    \"\"\"\n",
    "      Sentence splitter to deal with bullet items in texts.\n",
    "    \"\"\"\n",
    "    # Tokenize per 'sub sentence list' instead of joining (to keep markdown headers separated)\n",
    "    unflattened_sentences = (sent_tokenize(sent_item)\n",
    "                             for sent_item in document)\n",
    "    # Flatten sentences: (https://stackoverflow.com/questions/952914/how-to-make-a-flat-list-out-of-list-of-lists)\n",
    "    sentences = (\n",
    "        sentence for sub_sentences in unflattened_sentences for sentence in sub_sentences)\n",
    "    pattern = re.compile(r\"^[0-9]+\\.$\")\n",
    "    merged_item_sents = []\n",
    "\n",
    "    sentence = next(sentences)\n",
    "    while sentence:\n",
    "        if re.match(pattern, sentence):\n",
    "            next_sentence = next(sentences)\n",
    "            merged = f\"{sentence} {next_sentence}\"\n",
    "            merged_item_sents.append(merged)\n",
    "        else:\n",
    "            merged_item_sents.append(sentence)\n",
    "\n",
    "        try:\n",
    "            sentence = next(sentences)\n",
    "        except StopIteration:\n",
    "            sentence = False\n",
    "    return merged_item_sents"
   ]
  },
  {
   "cell_type": "code",
   "execution_count": 80,
   "metadata": {},
   "outputs": [
    {
     "name": "stdout",
     "output_type": "stream",
     "text": [
      "0 \t 3. Open the upper portion of the slicer.<br><br>\n",
      "1 \t 4. Place it on the opposite side of the main portion.<br><br>\n",
      "2 \t 5. Place the holder properly.<br><br>\n",
      "3 \t 6. Pick an egg with the help of the tongs or use fingers.<br><br>\n",
      "4 \t 7. Place it in the holder of the slicer carefully.<br><br><br><br>\n",
      "5 \t 8. Place the upper portion of the slicer on the egg.<br><br><br><br>\n",
      "6 \t 9. Press it with the fingers.<br><br>\n",
      "7 \t 10. Press harder once the slits are made on the egg white.<br><br><br><br><br><br>\n",
      "8 \t 11. Pull the upper portion lever till the end of the slicer as this would ensure that the egg has been sliced properly.<br><br><br><br><br><br>\n",
      "9 \t 12. Remove the upper portion of the slicer.\n",
      "10 \t 13. Keep the round slices of the egg on a plate.<br><br><br><br><br><br>\n"
     ]
    }
   ],
   "source": [
    "content[1272]['Source_Context']\n",
    "for index, sent in enumerate(content[1272]['Source_Context']): \n",
    "    print(index, '\\t', sent)"
   ]
  },
  {
   "cell_type": "code",
   "execution_count": 81,
   "metadata": {},
   "outputs": [
    {
     "name": "stdout",
     "output_type": "stream",
     "text": [
      "0 \t 3. Open the upper portion of the slicer.<br><br>\n",
      "1 \t 4. Place it on the opposite side of the main portion.<br><br>\n",
      "2 \t 5. Place the holder properly.<br><br>\n",
      "3 \t 6. Pick an egg with the help of the tongs or use fingers.<br><br>\n",
      "4 \t 7. Place it in the holder of the slicer carefully.<br><br><br><br>\n",
      "5 \t 8. Place the upper portion of the slicer on the egg.<br><br><br><br>\n",
      "6 \t 9. Press it with the fingers.<br><br>\n",
      "7 \t 10. Press harder once the slits are made on the egg white.<br><br><br><br><br><br>\n",
      "8 \t 11. Pull the upper portion lever till the end of the slicer as this would ensure that the egg has been sliced properly.<br><br><br><br><br><br>\n",
      "9 \t 12. Remove the upper portion of the slicer.\n",
      "10 \t 13. Keep the round slices of the egg on a plate.<br><br><br><br><br><br>\n"
     ]
    }
   ],
   "source": [
    "tokenized = sentence_splitter(content[1272]['Source_Context'])\n",
    "for index, sent in enumerate(tokenized): \n",
    "    print(index, '\\t', sent)"
   ]
  },
  {
   "cell_type": "code",
   "execution_count": 106,
   "metadata": {},
   "outputs": [],
   "source": [
    "def get_matching_sent_context(context, sent, windows=[1, 2, 3, 4, 5], use_sent_from_context=True):\n",
    "    \"\"\"\n",
    "        Use this function to get closest match to a source_line or target_line in a paragraph.\n",
    "    \"\"\"\n",
    "    sentence_tokenized_document = sentence_splitter(context)\n",
    "    bleu_scores = []\n",
    "    sents = []\n",
    "    for elem in sentence_tokenized_document:\n",
    "        elem = remove_html_tags(elem)\n",
    "        reference = [word_tokenize(elem)]\n",
    "        score = sentence_bleu(reference, sent)\n",
    "        bleu_scores.append(score)\n",
    "        sents.append(elem)\n",
    "    index_of_max_bleu = bleu_scores.index(max(bleu_scores))\n",
    "    matched_sent = sents[index_of_max_bleu]\n",
    "    print(matched_sent)\n",
    "\n",
    "    # make context here\n",
    "    previous_sentences = []\n",
    "    next_sentences = []\n",
    "    sent_indexes = [i for i in range(len(sents))]\n",
    "    for window in windows:\n",
    "        next_sent_pos = index_of_max_bleu+window\n",
    "        if next_sent_pos in sent_indexes:\n",
    "            next_sent = sents[index_of_max_bleu+window]\n",
    "            next_sentences.append(next_sent)\n",
    "        # repeat for previous_sentences\n",
    "        previous_sent_pos = index_of_max_bleu-window\n",
    "        if previous_sent_pos in sent_indexes:\n",
    "            previous_sent = sents[index_of_max_bleu - window]\n",
    "            previous_sentences.append(previous_sent)\n",
    "\n",
    "    previous_sentences.reverse()\n",
    "    if use_sent_from_context:\n",
    "        context = previous_sentences + [matched_sent] + next_sentences\n",
    "    else:\n",
    "        context = previous_sentences + [' '.join(sent)] + next_sentences\n",
    "    return context"
   ]
  },
  {
   "cell_type": "code",
   "execution_count": 107,
   "metadata": {},
   "outputs": [
    {
     "name": "stdout",
     "output_type": "stream",
     "text": [
      "8. Place the upper portion of the slicer on the egg.\n"
     ]
    }
   ],
   "source": [
    "source_tokenized = word_tokenize(content[1272]['Source_Line'])\n",
    "source_tokenized\n",
    "\n",
    "\n",
    "# match \n",
    "source_context_filtered = get_matching_sent_context(\n",
    "            content[1272]['Source_Context'], source_tokenized)"
   ]
  },
  {
   "cell_type": "code",
   "execution_count": 108,
   "metadata": {},
   "outputs": [
    {
     "name": "stdout",
     "output_type": "stream",
     "text": [
      "0 \t 3. Open the upper portion of the slicer.\n",
      "1 \t 4. Place it on the opposite side of the main portion.\n",
      "2 \t 5. Place the holder properly.\n",
      "3 \t 6. Pick an egg with the help of the tongs or use fingers.\n",
      "4 \t 7. Place it in the holder of the slicer carefully.\n",
      "5 \t 8. Place the upper portion of the slicer on the egg.\n",
      "6 \t 9. Press it with the fingers.\n",
      "7 \t 10. Press harder once the slits are made on the egg white.\n",
      "8 \t 11. Pull the upper portion lever till the end of the slicer as this would ensure that the egg has been sliced properly.\n",
      "9 \t 12. Remove the upper portion of the slicer.\n",
      "10 \t 13. Keep the round slices of the egg on a plate.\n"
     ]
    }
   ],
   "source": [
    "for index, sent in enumerate(source_context_filtered): \n",
    "    print(index, '\\t', sent)"
   ]
  },
  {
   "cell_type": "code",
   "execution_count": null,
   "metadata": {},
   "outputs": [],
   "source": []
  }
 ],
 "metadata": {
  "kernelspec": {
   "display_name": "Python 3",
   "language": "python",
   "name": "python3"
  },
  "language_info": {
   "codemirror_mode": {
    "name": "ipython",
    "version": 3
   },
   "file_extension": ".py",
   "mimetype": "text/x-python",
   "name": "python",
   "nbconvert_exporter": "python",
   "pygments_lexer": "ipython3",
   "version": "3.7.4"
  }
 },
 "nbformat": 4,
 "nbformat_minor": 2
}
