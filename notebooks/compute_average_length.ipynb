{
 "cells": [
  {
   "cell_type": "code",
   "execution_count": 1,
   "metadata": {},
   "outputs": [],
   "source": [
    "import json"
   ]
  },
  {
   "cell_type": "code",
   "execution_count": 2,
   "metadata": {},
   "outputs": [],
   "source": [
    "with open('./different-noun-modifications/DIFF-NOUN-MODIFICATIONS-TRAIN-5-new.JSON', 'r') as json_in: \n",
    "     diff_nouns = json.load(json_in)"
   ]
  },
  {
   "cell_type": "code",
   "execution_count": 3,
   "metadata": {},
   "outputs": [],
   "source": [
    "with open('./same-noun-modifications/SAME-NOUN-MODIFICATIONS-TRAIN-5-new.JSON', 'r') as json_in: \n",
    "     same_nouns = json.load(json_in)"
   ]
  },
  {
   "cell_type": "code",
   "execution_count": 16,
   "metadata": {},
   "outputs": [],
   "source": [
    "from nltk.tokenize import word_tokenize \n",
    "\n",
    "def make_tokens(list_of_wikihow_instances, source=True):\n",
    "    docs = []\n",
    "    for elem in list_of_wikihow_instances: \n",
    "        if source: \n",
    "            text = elem['Source_Context_5_Processed']\n",
    "        else: \n",
    "            text = elem['Target_Context_5_Processed']\n",
    "        tokenized = word_tokenize(text)\n",
    "        tokenized_doc = []\n",
    "        for tokens in tokenized: \n",
    "            tokenized_doc.append(tokens)\n",
    "        docs.append(tokenized_doc)\n",
    "    return docs "
   ]
  },
  {
   "cell_type": "code",
   "execution_count": 19,
   "metadata": {},
   "outputs": [],
   "source": [
    "diff_tokens_source = make_tokens(diff_nouns, source=True)\n",
    "diff_tokens_target = make_tokens(diff_nouns, source=False)\n",
    "same_tokens_source = make_tokens(same_nouns, source=True)\n",
    "same_tokens_target = make_tokens(same_nouns, source=False)"
   ]
  },
  {
   "cell_type": "code",
   "execution_count": 20,
   "metadata": {},
   "outputs": [],
   "source": [
    "all_docs = diff_tokens_source + diff_tokens_target + same_tokens_source + same_tokens_target \n",
    "len_of_docs = [len(doc) for doc in all_docs]"
   ]
  },
  {
   "cell_type": "code",
   "execution_count": 23,
   "metadata": {},
   "outputs": [
    {
     "name": "stdout",
     "output_type": "stream",
     "text": [
      "170.3270437402315\n",
      "8\n",
      "1101\n"
     ]
    }
   ],
   "source": [
    "import numpy as np \n",
    "\n",
    "print(np.mean(len_of_docs))\n",
    "print(np.min(len_of_docs))\n",
    "print(np.max(len_of_docs))"
   ]
  },
  {
   "cell_type": "code",
   "execution_count": 33,
   "metadata": {},
   "outputs": [
    {
     "data": {
      "text/plain": [
       "[(422, 1),\n",
       " (1101, 1),\n",
       " (465, 1),\n",
       " (469, 1),\n",
       " (421, 1),\n",
       " (461, 1),\n",
       " (520, 1),\n",
       " (489, 1),\n",
       " (573, 1),\n",
       " (605, 1)]"
      ]
     },
     "execution_count": 33,
     "metadata": {},
     "output_type": "execute_result"
    }
   ],
   "source": [
    "from collections import Counter\n",
    "\n",
    "freq = Counter()\n",
    "for elem in len_of_docs: \n",
    "    freq[elem] += 1 \n",
    "\n",
    "    "
   ]
  },
  {
   "cell_type": "code",
   "execution_count": null,
   "metadata": {},
   "outputs": [],
   "source": []
  }
 ],
 "metadata": {
  "kernelspec": {
   "display_name": "Python 3",
   "language": "python",
   "name": "python3"
  },
  "language_info": {
   "codemirror_mode": {
    "name": "ipython",
    "version": 3
   },
   "file_extension": ".py",
   "mimetype": "text/x-python",
   "name": "python",
   "nbconvert_exporter": "python",
   "pygments_lexer": "ipython3",
   "version": "3.7.4"
  }
 },
 "nbformat": 4,
 "nbformat_minor": 2
}
