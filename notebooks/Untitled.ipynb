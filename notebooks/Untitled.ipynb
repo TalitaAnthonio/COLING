{
 "cells": [
  {
   "cell_type": "code",
   "execution_count": 9,
   "metadata": {},
   "outputs": [
    {
     "ename": "ModuleNotFoundError",
     "evalue": "No module named 'nltk'",
     "output_type": "error",
     "traceback": [
      "\u001b[0;31m---------------------------------------------------------------------------\u001b[0m",
      "\u001b[0;31mModuleNotFoundError\u001b[0m                       Traceback (most recent call last)",
      "\u001b[0;32m<ipython-input-9-7aa18bcce06d>\u001b[0m in \u001b[0;36m<module>\u001b[0;34m\u001b[0m\n\u001b[1;32m      1\u001b[0m \u001b[0;32mimport\u001b[0m \u001b[0mjson\u001b[0m\u001b[0;34m\u001b[0m\u001b[0;34m\u001b[0m\u001b[0m\n\u001b[0;32m----> 2\u001b[0;31m \u001b[0;32mfrom\u001b[0m \u001b[0mnltk\u001b[0m\u001b[0;34m.\u001b[0m\u001b[0mtokenize\u001b[0m \u001b[0;32mimport\u001b[0m \u001b[0msent_tokenize\u001b[0m\u001b[0;34m,\u001b[0m \u001b[0mword_tokenize\u001b[0m\u001b[0;34m\u001b[0m\u001b[0;34m\u001b[0m\u001b[0m\n\u001b[0m\u001b[1;32m      3\u001b[0m \u001b[0;32mfrom\u001b[0m \u001b[0mnltk\u001b[0m\u001b[0;34m.\u001b[0m\u001b[0mtranslate\u001b[0m\u001b[0;34m.\u001b[0m\u001b[0mbleu_score\u001b[0m \u001b[0;32mimport\u001b[0m \u001b[0msentence_bleu\u001b[0m\u001b[0;34m\u001b[0m\u001b[0;34m\u001b[0m\u001b[0m\n\u001b[1;32m      4\u001b[0m \u001b[0;32mfrom\u001b[0m \u001b[0mprogress\u001b[0m\u001b[0;34m.\u001b[0m\u001b[0mbar\u001b[0m \u001b[0;32mimport\u001b[0m \u001b[0mBar\u001b[0m\u001b[0;34m\u001b[0m\u001b[0;34m\u001b[0m\u001b[0m\n\u001b[1;32m      5\u001b[0m \u001b[0;32mimport\u001b[0m \u001b[0mre\u001b[0m\u001b[0;34m\u001b[0m\u001b[0;34m\u001b[0m\u001b[0m\n",
      "\u001b[0;31mModuleNotFoundError\u001b[0m: No module named 'nltk'"
     ]
    }
   ],
   "source": [
    "import json\n",
    "from nltk.tokenize import sent_tokenize, word_tokenize\n",
    "from nltk.translate.bleu_score import sentence_bleu\n",
    "from progress.bar import Bar\n",
    "import re\n",
    "import argparse"
   ]
  },
  {
   "cell_type": "code",
   "execution_count": 2,
   "metadata": {},
   "outputs": [],
   "source": [
    "path_to_data = './noun-modifications/noun-modifications-test-5-new-lines.json'"
   ]
  },
  {
   "cell_type": "code",
   "execution_count": 3,
   "metadata": {},
   "outputs": [],
   "source": [
    "with open(path_to_data, 'r') as json_in: \n",
    "     content = json.load(json_in)"
   ]
  },
  {
   "cell_type": "code",
   "execution_count": 10,
   "metadata": {},
   "outputs": [],
   "source": [
    "def remove_html_tags(text):\n",
    "    \"\"\"Remove html tags from a string\"\"\"\n",
    "    import re\n",
    "    clean = re.compile('<.*?>')\n",
    "    return re.sub(clean, '', text)"
   ]
  },
  {
   "cell_type": "code",
   "execution_count": 7,
   "metadata": {},
   "outputs": [
    {
     "name": "stdout",
     "output_type": "stream",
     "text": [
      "0 \t 3. Open the upper portion of the slicer.<br><br>\n",
      "1 \t 4. Place it on the opposite side of the main portion.<br><br>\n",
      "2 \t 5. Place the holder properly.<br><br>\n",
      "3 \t 6. Pick an egg with the help of the tongs or use fingers.<br><br>\n",
      "4 \t 7. Place it in the holder of the slicer carefully.<br><br><br><br>\n",
      "5 \t 8. Place the upper portion of the slicer on the egg.<br><br><br><br>\n",
      "6 \t 9. Press it with the fingers.<br><br>\n",
      "7 \t 10. Press harder once the slits are made on the egg white.<br><br><br><br><br><br>\n",
      "8 \t 11. Pull the upper portion lever till the end of the slicer as this would ensure that the egg has been sliced properly.<br><br><br><br><br><br>\n",
      "9 \t 12. Remove the upper portion of the slicer.\n",
      "10 \t 13. Keep the round slices of the egg on a plate.<br><br><br><br><br><br>\n"
     ]
    }
   ],
   "source": [
    "content[1272]['Source_Context']\n",
    "for index, sent in enumerate(content[1272]['Source_Context']): \n",
    "    print(index, '\\t', sent)"
   ]
  },
  {
   "cell_type": "code",
   "execution_count": 8,
   "metadata": {},
   "outputs": [],
   "source": [
    "def sentence_splitter(document):\n",
    "    \"\"\"\n",
    "      Sentence splitter to deal with bullet items in texts.\n",
    "    \"\"\"\n",
    "    # Tokenize per 'sub sentence list' instead of joining (to keep markdown headers separated)\n",
    "    unflattened_sentences = (sent_tokenize(sent_item)\n",
    "                             for sent_item in document)\n",
    "    # Flatten sentences: (https://stackoverflow.com/questions/952914/how-to-make-a-flat-list-out-of-list-of-lists)\n",
    "    sentences = (\n",
    "        sentence for sub_sentences in unflattened_sentences for sentence in sub_sentences)\n",
    "    pattern = re.compile(r\"^[0-9]+\\.$\")\n",
    "    merged_item_sents = []\n",
    "\n",
    "    sentence = next(sentences)\n",
    "    while sentence:\n",
    "        if re.match(pattern, sentence):\n",
    "            next_sentence = next(sentences)\n",
    "            merged = f\"{sentence} {next_sentence}\"\n",
    "            merged_item_sents.append(merged)\n",
    "        else:\n",
    "            merged_item_sents.append(sentence)\n",
    "\n",
    "        try:\n",
    "            sentence = next(sentences)\n",
    "        except StopIteration:\n",
    "            sentence = False\n",
    "    return merged_item_sents"
   ]
  },
  {
   "cell_type": "code",
   "execution_count": null,
   "metadata": {},
   "outputs": [],
   "source": []
  }
 ],
 "metadata": {
  "kernelspec": {
   "display_name": "Python 3.7.4 64-bit ('venv': venv)",
   "language": "python",
   "name": "python37464bitvenvvenvfab5a4c297c342b29409b772e2a293de"
  },
  "language_info": {
   "codemirror_mode": {
    "name": "ipython",
    "version": 3
   },
   "file_extension": ".py",
   "mimetype": "text/x-python",
   "name": "python",
   "nbconvert_exporter": "python",
   "pygments_lexer": "ipython3",
   "version": "3.7.4"
  }
 },
 "nbformat": 4,
 "nbformat_minor": 2
}
