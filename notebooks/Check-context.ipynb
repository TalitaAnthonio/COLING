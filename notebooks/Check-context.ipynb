{
 "cells": [
  {
   "cell_type": "code",
   "execution_count": 199,
   "metadata": {},
   "outputs": [],
   "source": [
    "import json\n",
    "from nltk.tokenize import sent_tokenize, word_tokenize\n",
    "from nltk.translate.bleu_score import sentence_bleu\n",
    "from progress.bar import Bar\n",
    "import re\n",
    "import argparse"
   ]
  },
  {
   "cell_type": "code",
   "execution_count": 52,
   "metadata": {},
   "outputs": [],
   "source": [
    "with open('./noun-modifications/noun-modifications-test-with-match.json', 'r') as json_in: \n",
    "     content = json.load(json_in)"
   ]
  },
  {
   "cell_type": "code",
   "execution_count": 201,
   "metadata": {},
   "outputs": [],
   "source": [
    "def remove_html_tags(text):\n",
    "    \"\"\"Remove html tags from a string\"\"\"\n",
    "    import re\n",
    "    clean = re.compile('<.*?>')\n",
    "    return re.sub(clean, '', text)"
   ]
  },
  {
   "cell_type": "code",
   "execution_count": 195,
   "metadata": {},
   "outputs": [],
   "source": [
    "def sentence_splitter(document):\n",
    "    \"\"\"\n",
    "      Sentence splitter to deal with bullet items in texts.\n",
    "    \"\"\"\n",
    "    # Tokenize per 'sub sentence list' instead of joining (to keep markdown headers separated)\n",
    "    unflattened_sentences = (sent_tokenize(sent_item)\n",
    "                             for sent_item in document)\n",
    "    # Flatten sentences: (https://stackoverflow.com/questions/952914/how-to-make-a-flat-list-out-of-list-of-lists)\n",
    "    sentences = (\n",
    "        sentence for sub_sentences in unflattened_sentences for sentence in sub_sentences)\n",
    "    pattern = re.compile(r\"^[0-9]+\\.$\")\n",
    "    merged_item_sents = []\n",
    "\n",
    "    sentence = next(sentences)\n",
    "    while sentence:\n",
    "        if re.match(pattern, sentence):\n",
    "            next_sentence = next(sentences)\n",
    "            merged = f\"{sentence} {next_sentence}\"\n",
    "            merged_item_sents.append(merged)\n",
    "        else:\n",
    "            merged_item_sents.append(sentence)\n",
    "\n",
    "        try:\n",
    "            sentence = next(sentences)\n",
    "        except StopIteration:\n",
    "            sentence = False\n",
    "    return merged_item_sents\n"
   ]
  },
  {
   "cell_type": "code",
   "execution_count": 210,
   "metadata": {},
   "outputs": [],
   "source": [
    "def get_matching_sent_context(context, sent, windows=[1, 2, 3, 4, 5], use_sent_from_context=False, tokenized=True):\n",
    "    \"\"\"\n",
    "        Use this function to get closest match to a source_line or target_line in a paragraph.\n",
    "        Tokenized: whether the input sent should be tokenized or not (nesecarry when the sent is a string.)\n",
    "        use_sent_from_context: if true, then the matched sent will be taken in the final representation. \n",
    "\n",
    "    \"\"\"\n",
    "    sentence_tokenized_document = sentence_splitter(context)\n",
    "    sentence_tokenized_document = get_processed_context(sentence_tokenized_document)\n",
    "    bleu_scores = []\n",
    "    sents = []\n",
    "    if tokenized:\n",
    "        tokenized_sent = word_tokenize(sent)\n",
    "\n",
    "    else:\n",
    "        tokenized_sent = sent\n",
    "\n",
    "    for elem in sentence_tokenized_document:\n",
    "        elem = remove_html_tags(elem)\n",
    "        reference = [word_tokenize(elem)]\n",
    "        score = sentence_bleu(reference, tokenized_sent)\n",
    "        bleu_scores.append(score)\n",
    "        sents.append(elem)\n",
    "    index_of_max_bleu = bleu_scores.index(max(bleu_scores))\n",
    "    matched_sent = sents[index_of_max_bleu]\n",
    "    print(matched_sent)\n",
    "\n",
    "    # make context here\n",
    "    previous_sentences = []\n",
    "    next_sentences = []\n",
    "    sent_indexes = [i for i in range(len(sents))]\n",
    "    for window in windows:\n",
    "        next_sent_pos = index_of_max_bleu+window\n",
    "        if next_sent_pos in sent_indexes:\n",
    "            next_sent = sents[index_of_max_bleu+window]\n",
    "            next_sentences.append(next_sent)\n",
    "        # repeat for previous_sentences\n",
    "        previous_sent_pos = index_of_max_bleu-window\n",
    "        if previous_sent_pos in sent_indexes:\n",
    "            previous_sent = sents[index_of_max_bleu - window]\n",
    "            previous_sentences.append(previous_sent)\n",
    "\n",
    "    previous_sentences.reverse()\n",
    "    if use_sent_from_context:\n",
    "        context = previous_sentences + [matched_sent] + next_sentences\n",
    "    else:\n",
    "        # be aware that we use the non-tokenized version of sent here and that we do\n",
    "        # not join the results.\n",
    "        context = previous_sentences + [sent] + next_sentences\n",
    "    return context"
   ]
  },
  {
   "cell_type": "code",
   "execution_count": 170,
   "metadata": {},
   "outputs": [],
   "source": [
    "def remove_timestamps(list_with_indexes, source_context):\n",
    "    if len(list_with_indexes) == 1: \n",
    "        index = list_with_indexes[0]\n",
    "        if index < 5:\n",
    "            return source_context[index+1:]\n",
    "        else:\n",
    "            return source_context[:index]\n",
    "    elif len(list_with_indexes) == 2: \n",
    "        first_index = list_with_indexes[0]\n",
    "        second_index = list_with_indexes[-1]\n",
    "        return source_context[first_index+1:second_index]\n",
    "    else: \n",
    "        first_index = max(filter(lambda index: index < 5, list_with_indexes))\n",
    "        second_index = min(filter(lambda index: index > 5, list_with_indexes))\n",
    "        \n",
    "        return source_context[first_index+1:second_index]"
   ]
  },
  {
   "cell_type": "code",
   "execution_count": 237,
   "metadata": {},
   "outputs": [],
   "source": [
    "def get_processed_context(source_context):\n",
    "    timestamp_indexes = []\n",
    "    for index, sent in enumerate(source_context):\n",
    "        if '## Timestamp' in sent:\n",
    "            timestamp_indexes.append(index)\n",
    "            print(timestamp_indexes)\n",
    "            source_context = remove_timestamps(timestamp_indexes, source_context)\n",
    "    return source_context"
   ]
  },
  {
   "cell_type": "code",
   "execution_count": 84,
   "metadata": {},
   "outputs": [],
   "source": [
    "with open('../classification-scripts/noun-modifications/noun-modifications-train-without-match-pr.json', 'r') as json_in: \n",
    "     new_data = json.load(json_in)"
   ]
  },
  {
   "cell_type": "code",
   "execution_count": 139,
   "metadata": {},
   "outputs": [],
   "source": [
    "timestamp_indexes = []\n",
    "for index, sent in enumerate(x): \n",
    "    if '## Timestamp' in sent: \n",
    "        timestamp_indexes.append(index)"
   ]
  },
  {
   "cell_type": "code",
   "execution_count": 175,
   "metadata": {},
   "outputs": [],
   "source": [
    "with open('../classification-scripts/noun-modifications/noun-modifications-train-without-match-pr.json', 'r') as json_in: \n",
    "    data = json.load(json_in)"
   ]
  },
  {
   "cell_type": "code",
   "execution_count": 212,
   "metadata": {},
   "outputs": [],
   "source": [
    "x = data[33734]"
   ]
  },
  {
   "cell_type": "code",
   "execution_count": 213,
   "metadata": {},
   "outputs": [
    {
     "name": "stdout",
     "output_type": "stream",
     "text": [
      "['# Make Wobbly Wonders', '## Timestamp::::2009-05-03T22:22:09Z', 'Wobbly Wonders make an easy budget friendly snack for children. This recipe makes about 20 pieces of this gelatin based snack.', '## Steps', '## Section::::Steps.', '## Timestamp::::2009-05-03T22:39:01Z', 'Wobbly Wonders make an easy budget friendly treat for children. This recipe makes about 20 pieces of this gelatin based snack.', '## Ingredients']\n"
     ]
    }
   ],
   "source": [
    "source_first = x['Source_Context']\n",
    "print(source_first)"
   ]
  },
  {
   "cell_type": "code",
   "execution_count": 214,
   "metadata": {},
   "outputs": [
    {
     "name": "stdout",
     "output_type": "stream",
     "text": [
      "[1, 6]\n",
      "Wobbly Wonders make an easy budget friendly snack for children.\n"
     ]
    },
    {
     "data": {
      "text/plain": [
       "['Wobbly Wonders make an easy budget friendly snack for children.',\n",
       " 'This recipe makes about 20 pieces of this gelatin based snack.',\n",
       " '## Steps',\n",
       " '## Section::::Steps.']"
      ]
     },
     "execution_count": 214,
     "metadata": {},
     "output_type": "execute_result"
    }
   ],
   "source": [
    "get_matching_sent_context(source_first, x['Source_Line'], windows=[1, 2, 3, 4, 5], use_sent_from_context=False, tokenized=True)"
   ]
  },
  {
   "cell_type": "code",
   "execution_count": 242,
   "metadata": {},
   "outputs": [],
   "source": [
    "#692\n",
    "with open('../classification-scripts/noun-modifications/noun-modifications-test-5-new-lines.json', 'r') as json_in: \n",
    "    data = json.load(json_in)"
   ]
  },
  {
   "cell_type": "code",
   "execution_count": 251,
   "metadata": {},
   "outputs": [
    {
     "name": "stdout",
     "output_type": "stream",
     "text": [
      "{'All_Versions': ['\" If you don\\'t know where the book is, you can go to '\n",
      "                  'beginning of the Bible and look at the Contents page and '\n",
      "                  'find out where.',\n",
      "                  '\" If you don\\'t know where the book is, go to beginning of '\n",
      "                  'the Bible and look at the contents page to locate the '\n",
      "                  'needed book.',\n",
      "                  '\" If you don\\'t know where the book is, go to the beginning '\n",
      "                  'of the Bible and look at the contents page to locate the '\n",
      "                  'needed book.',\n",
      "                  '\" If you don\\'t know where the book is, go to the beginning '\n",
      "                  'of the Bible and look at the Table of Contents to locate '\n",
      "                  'the book.'],\n",
      " 'Differences': [[['page', 'NN'], ['Contents', 'NNS']]],\n",
      " 'Entailment_Rel': {'page#contents1': 'OtherRelated'},\n",
      " 'Filename': 'Look_up_a_Bible_Verse.txt',\n",
      " 'Key': 'Look_up_a_Bible_Verse9',\n",
      " 'Loc_in_splits': 'TEST',\n",
      " 'PPDB_Matches': [[['page', 'NN'], ['Contents', 'NNS']]],\n",
      " 'Revision_Length': 3,\n",
      " 'Source_Context': ['## Section::::Related wikiHows.',\n",
      "                    \"You've seen John 3:16 perhaps written on a poster board, \"\n",
      "                    'or printed on a shirt. You may even be familiar with some '\n",
      "                    'of it, \"For God so loved the world...\" But how do you '\n",
      "                    'look up a Bible verse?',\n",
      "                    '## Steps',\n",
      "                    '1. Look at the passage (or Bible verse) that you want to '\n",
      "                    'find.',\n",
      "                    '2. In the example above it would be \"John 3:16.\"',\n",
      "                    '3. \"John\" refers to the book of John, also known as \"The '\n",
      "                    'Gospel According to St. John.\" If you don\\'t know where '\n",
      "                    'the book is, you can go to beginning of the Bible and '\n",
      "                    'look at the Contents page and find out where.',\n",
      "                    '4. \"3\" refers to the chapter in the book of John where it '\n",
      "                    'is located. The number before the colon will always refer '\n",
      "                    'to the chapter of the book. In the Bible, the chapter '\n",
      "                    'numbers usually stand out because of their size and '\n",
      "                    'boldness. In the book of the scripture, look for the '\n",
      "                    'chapter number. Some chapters are long and some are '\n",
      "                    'short, so be aware of that. Most of the time, on the top '\n",
      "                    'of each page of the Bible, it says what book and what '\n",
      "                    'chapter(s) are located on that specific page. Some Bibles '\n",
      "                    'even have the exact verses.',\n",
      "                    '5. \"16\" refers to the verse in chapter 3 where the '\n",
      "                    'Scripture (of Bible) verse (or reference) is located. The '\n",
      "                    'number after the colon will always refer to the verse in '\n",
      "                    'that chapter. So in the chapter of the verse, look for a '\n",
      "                    'smaller number within the words. Once you find it, you '\n",
      "                    'have your verse right next to it.',\n",
      "                    '## Tips',\n",
      "                    '* The Bible is made up of 66 books in total. Some Bibles '\n",
      "                    'may contain sections that are not considered \"canonical\" '\n",
      "                    '(or accepted, or received - but thats another topic). For '\n",
      "                    'practical purposes, it is assumed that this refers to a '\n",
      "                    'basic Bible, void of any particular \"helps\" \"tools\" or '\n",
      "                    '\"aid.\"',\n",
      "                    '* The Bible is divided into two major divisions. The Old '\n",
      "                    'Testament and The New Testament.'],\n",
      " 'Source_Context_5': ['## Steps',\n",
      "                      '1. Look at the passage (or Bible verse) that you want '\n",
      "                      'to find.',\n",
      "                      '2. In the example above it would be \"John 3:16.\"',\n",
      "                      '3. \"John\" refers to the book of John, also known as '\n",
      "                      '\"The Gospel According to St.',\n",
      "                      'John.\"',\n",
      "                      \"If you don't know where the book is, you can go to \"\n",
      "                      'beginning of the Bible and look at the Contents page '\n",
      "                      'and find out where.',\n",
      "                      '4. \"3\" refers to the chapter in the book of John where '\n",
      "                      'it is located.',\n",
      "                      'The number before the colon will always refer to the '\n",
      "                      'chapter of the book.',\n",
      "                      'In the Bible, the chapter numbers usually stand out '\n",
      "                      'because of their size and boldness.',\n",
      "                      'In the book of the scripture, look for the chapter '\n",
      "                      'number.',\n",
      "                      'Some chapters are long and some are short, so be aware '\n",
      "                      'of that.'],\n",
      " 'Source_Context_5_Processed': '## Steps 1. Look at the passage (or Bible '\n",
      "                               'verse) that you want to find. 2. In the '\n",
      "                               'example above it would be \"John 3:16.\" 3. '\n",
      "                               '\"John\" refers to the book of John, also known '\n",
      "                               'as \"The Gospel According to St. John.\" If you '\n",
      "                               \"don't know where the book is, you can go to \"\n",
      "                               'beginning of the Bible and look at the '\n",
      "                               'Contents page and find out where. 4. \"3\" '\n",
      "                               'refers to the chapter in the book of John '\n",
      "                               'where it is located. The number before the '\n",
      "                               'colon will always refer to the chapter of the '\n",
      "                               'book. In the Bible, the chapter numbers '\n",
      "                               'usually stand out because of their size and '\n",
      "                               'boldness. In the book of the scripture, look '\n",
      "                               'for the chapter number. Some chapters are long '\n",
      "                               'and some are short, so be aware of that.',\n",
      " 'Source_Line': '\" If you don\\'t know where the book is, you can go to '\n",
      "                'beginning of the Bible and look at the Contents page and find '\n",
      "                'out where.',\n",
      " 'Source_Line_Nr': [600, 647, 2039],\n",
      " 'Source_Line_Tagged': [['``', '``'],\n",
      "                        ['If', 'IN'],\n",
      "                        ['you', 'PRP'],\n",
      "                        ['do', 'VBP'],\n",
      "                        [\"n't\", 'RB'],\n",
      "                        ['know', 'VB'],\n",
      "                        ['where', 'WRB'],\n",
      "                        ['the', 'DT'],\n",
      "                        ['book', 'NN'],\n",
      "                        ['is', 'VBZ'],\n",
      "                        [',', ','],\n",
      "                        ['you', 'PRP'],\n",
      "                        ['can', 'MD'],\n",
      "                        ['go', 'VB'],\n",
      "                        ['to', 'TO'],\n",
      "                        ['beginning', 'VBG'],\n",
      "                        ['of', 'IN'],\n",
      "                        ['the', 'DT'],\n",
      "                        ['Bible', 'NNP'],\n",
      "                        ['and', 'CC'],\n",
      "                        ['look', 'NN'],\n",
      "                        ['at', 'IN'],\n",
      "                        ['the', 'DT'],\n",
      "                        ['Contents', 'NNP'],\n",
      "                        ['page', 'NN'],\n",
      "                        ['and', 'CC'],\n",
      "                        ['find', 'VB'],\n",
      "                        ['out', 'RP'],\n",
      "                        ['where', 'WRB'],\n",
      "                        ['.', '.']],\n",
      " 'Target_Context': ['## Timestamp::::2013-01-22T18:18:10Z',\n",
      "                    '## Section::::Related wikiHows.',\n",
      "                    \"You've seen John 3:16 perhaps written on a poster board, \"\n",
      "                    'or printed on a shirt. You may even be familiar with some '\n",
      "                    'of it, \"For God so loved the world...\" but how would you '\n",
      "                    'find a verse in the Bible?',\n",
      "                    '## Steps',\n",
      "                    '1. Read the verse or passage that you want to find, such '\n",
      "                    'as John 3:16.',\n",
      "                    '2. Find the book. The book of \"John\" refers to \"The '\n",
      "                    'Gospel According to St. John,\" but in most Bibles it will '\n",
      "                    'simply be called \"John.\" If you don\\'t know where the '\n",
      "                    'book is, go to the beginning of the Bible and look at the '\n",
      "                    'Table of Contents to locate the book.',\n",
      "                    '3. Find the chapter. \"3\" refers to the chapter in the '\n",
      "                    'book of John where it is located. The number before the '\n",
      "                    'colon will always refer to the chapter of the book. In '\n",
      "                    'the Bible, the chapter numbers usually stand out because '\n",
      "                    'of their size and boldness. Some chapters are long and '\n",
      "                    'some are short, so be aware of that. Most of the time, on '\n",
      "                    'the top of each page of the Bible, it says what book and '\n",
      "                    'what chapter(s) are located on that specific page.',\n",
      "                    '4. Find the exact verse. \"16\" refers to the verse in '\n",
      "                    'chapter 3 where the reference is located. The number '\n",
      "                    'after the colon will always refer to the verse in that '\n",
      "                    'chapter. Once you find it, you have your verse right next '\n",
      "                    'to it.',\n",
      "                    '## Tips',\n",
      "                    '* Christian Bibles are divided into two major divisions, '\n",
      "                    'the Old Testament and the New Testament. The Protestant '\n",
      "                    'Old Testament is equivalent in content, though not in '\n",
      "                    'arrangement, with the Jewish Bible or Tanakh.',\n",
      "                    '* The numbers which are located at the left section of '\n",
      "                    'each chapter, which are before the actual passages, '\n",
      "                    'represent the verse or verses.'],\n",
      " 'Target_Context_5': ['You may even be familiar with some of it, \"For God so '\n",
      "                      'loved the world...\" but how would you find a verse in '\n",
      "                      'the Bible?',\n",
      "                      '## Steps',\n",
      "                      '1. Read the verse or passage that you want to find, '\n",
      "                      'such as John 3:16.',\n",
      "                      '2. Find the book.',\n",
      "                      'The book of \"John\" refers to \"The Gospel According to '\n",
      "                      'St. John,\" but in most Bibles it will simply be called '\n",
      "                      '\"John.\"',\n",
      "                      \"If you don't know where the book is, go to the \"\n",
      "                      'beginning of the Bible and look at the Table of '\n",
      "                      'Contents to locate the book.',\n",
      "                      '3. Find the chapter.',\n",
      "                      '\"3\" refers to the chapter in the book of John where it '\n",
      "                      'is located.',\n",
      "                      'The number before the colon will always refer to the '\n",
      "                      'chapter of the book.',\n",
      "                      'In the Bible, the chapter numbers usually stand out '\n",
      "                      'because of their size and boldness.',\n",
      "                      'Some chapters are long and some are short, so be aware '\n",
      "                      'of that.'],\n",
      " 'Target_Context_5_Processed': 'You may even be familiar with some of it, \"For '\n",
      "                               'God so loved the world...\" but how would you '\n",
      "                               'find a verse in the Bible? ## Steps 1. Read '\n",
      "                               'the verse or passage that you want to find, '\n",
      "                               'such as John 3:16. 2. Find the book. The book '\n",
      "                               'of \"John\" refers to \"The Gospel According to '\n",
      "                               'St. John,\" but in most Bibles it will simply '\n",
      "                               'be called \"John.\" If you don\\'t know where the '\n",
      "                               'book is, go to the beginning of the Bible and '\n",
      "                               'look at the Table of Contents to locate the '\n",
      "                               'book. 3. Find the chapter. \"3\" refers to the '\n",
      "                               'chapter in the book of John where it is '\n",
      "                               'located. The number before the colon will '\n",
      "                               'always refer to the chapter of the book. In '\n",
      "                               'the Bible, the chapter numbers usually stand '\n",
      "                               'out because of their size and boldness. Some '\n",
      "                               'chapters are long and some are short, so be '\n",
      "                               'aware of that.',\n",
      " 'Target_Line': '\" If you don\\'t know where the book is, go to the beginning '\n",
      "                'of the Bible and look at the Table of Contents to locate the '\n",
      "                'book.',\n",
      " 'Target_Line_Nr': [647, 694, 2090],\n",
      " 'Target_Line_Tagged': [['``', '``'],\n",
      "                        ['If', 'IN'],\n",
      "                        ['you', 'PRP'],\n",
      "                        ['do', 'VBP'],\n",
      "                        [\"n't\", 'RB'],\n",
      "                        ['know', 'VB'],\n",
      "                        ['where', 'WRB'],\n",
      "                        ['the', 'DT'],\n",
      "                        ['book', 'NN'],\n",
      "                        ['is', 'VBZ'],\n",
      "                        [',', ','],\n",
      "                        ['go', 'VB'],\n",
      "                        ['to', 'TO'],\n",
      "                        ['the', 'DT'],\n",
      "                        ['beginning', 'NN'],\n",
      "                        ['of', 'IN'],\n",
      "                        ['the', 'DT'],\n",
      "                        ['Bible', 'NNP'],\n",
      "                        ['and', 'CC'],\n",
      "                        ['look', 'NN'],\n",
      "                        ['at', 'IN'],\n",
      "                        ['the', 'DT'],\n",
      "                        ['Table', 'NN'],\n",
      "                        ['of', 'IN'],\n",
      "                        ['Contents', 'NNS'],\n",
      "                        ['to', 'TO'],\n",
      "                        ['locate', 'VB'],\n",
      "                        ['the', 'DT'],\n",
      "                        ['book', 'NN'],\n",
      "                        ['.', '.']]}\n"
     ]
    }
   ],
   "source": [
    "#data[693]['Source_Context']\n",
    "from pprint import pprint\n",
    "pprint(data[692])"
   ]
  },
  {
   "cell_type": "code",
   "execution_count": 245,
   "metadata": {},
   "outputs": [
    {
     "name": "stdout",
     "output_type": "stream",
     "text": [
      "Once you find it, you have your verse right next to it.\n"
     ]
    },
    {
     "data": {
      "text/plain": [
       "['Most of the time, on the top of each page of the Bible, it says what book and what chapter(s) are located on that specific page.',\n",
       " 'Some Bibles even have the exact verses.',\n",
       " '5. \"16\" refers to the verse in chapter 3 where the Scripture (of Bible) verse (or reference) is located.',\n",
       " 'The number after the colon will always refer to the verse in that chapter.',\n",
       " 'So in the chapter of the verse, look for a smaller number within the words.',\n",
       " 'With these instruction, you will be shooting in no time!',\n",
       " '## Tips',\n",
       " '* The Bible is made up of 66 books in total.',\n",
       " 'Some Bibles may contain sections that are not considered \"canonical\" (or accepted, or received - but thats another topic).',\n",
       " 'For practical purposes, it is assumed that this refers to a basic Bible, void of any particular \"helps\" \"tools\" or \"aid.\"',\n",
       " '* The Bible is divided into two major divisions.']"
      ]
     },
     "execution_count": 245,
     "metadata": {},
     "output_type": "execute_result"
    }
   ],
   "source": [
    "get_matching_sent_context(data[692]['Source_Context'], data[693]['Source_Line'], windows=[1, 2, 3, 4, 5], use_sent_from_context=False, tokenized=True)"
   ]
  },
  {
   "cell_type": "code",
   "execution_count": 246,
   "metadata": {},
   "outputs": [
    {
     "data": {
      "text/plain": [
       "['## Section::::Related wikiHows.',\n",
       " 'You\\'ve seen John 3:16 perhaps written on a poster board, or printed on a shirt. You may even be familiar with some of it, \"For God so loved the world...\" But how do you look up a Bible verse?',\n",
       " '## Steps',\n",
       " '1. Look at the passage (or Bible verse) that you want to find.',\n",
       " '2. In the example above it would be \"John 3:16.\"',\n",
       " '3. \"John\" refers to the book of John, also known as \"The Gospel According to St. John.\" If you don\\'t know where the book is, you can go to beginning of the Bible and look at the Contents page and find out where.',\n",
       " '4. \"3\" refers to the chapter in the book of John where it is located. The number before the colon will always refer to the chapter of the book. In the Bible, the chapter numbers usually stand out because of their size and boldness. In the book of the scripture, look for the chapter number. Some chapters are long and some are short, so be aware of that. Most of the time, on the top of each page of the Bible, it says what book and what chapter(s) are located on that specific page. Some Bibles even have the exact verses.',\n",
       " '5. \"16\" refers to the verse in chapter 3 where the Scripture (of Bible) verse (or reference) is located. The number after the colon will always refer to the verse in that chapter. So in the chapter of the verse, look for a smaller number within the words. Once you find it, you have your verse right next to it.',\n",
       " '## Tips',\n",
       " '* The Bible is made up of 66 books in total. Some Bibles may contain sections that are not considered \"canonical\" (or accepted, or received - but thats another topic). For practical purposes, it is assumed that this refers to a basic Bible, void of any particular \"helps\" \"tools\" or \"aid.\"',\n",
       " '* The Bible is divided into two major divisions. The Old Testament and The New Testament.']"
      ]
     },
     "execution_count": 246,
     "metadata": {},
     "output_type": "execute_result"
    }
   ],
   "source": [
    "data[692]['Source_Context']"
   ]
  },
  {
   "cell_type": "code",
   "execution_count": 234,
   "metadata": {},
   "outputs": [
    {
     "data": {
      "text/plain": [
       "['## Section::::Related wikiHows.',\n",
       " \"You've seen John 3:16 perhaps written on a poster board, or printed on a shirt.\",\n",
       " 'You may even be familiar with some of it, \"For God so loved the world...\" But how do you look up a Bible verse?',\n",
       " '## Steps',\n",
       " '1. Look at the passage (or Bible verse) that you want to find.',\n",
       " '2. In the example above it would be \"John 3:16.\"',\n",
       " '3. \"John\" refers to the book of John, also known as \"The Gospel According to St.',\n",
       " 'John.\"',\n",
       " \"If you don't know where the book is, you can go to beginning of the Bible and look at the Contents page and find out where.\",\n",
       " '4. \"3\" refers to the chapter in the book of John where it is located.',\n",
       " 'The number before the colon will always refer to the chapter of the book.',\n",
       " 'In the Bible, the chapter numbers usually stand out because of their size and boldness.',\n",
       " 'In the book of the scripture, look for the chapter number.',\n",
       " 'Some chapters are long and some are short, so be aware of that.',\n",
       " 'Most of the time, on the top of each page of the Bible, it says what book and what chapter(s) are located on that specific page.',\n",
       " 'Some Bibles even have the exact verses.',\n",
       " '5. \"16\" refers to the verse in chapter 3 where the Scripture (of Bible) verse (or reference) is located.',\n",
       " 'The number after the colon will always refer to the verse in that chapter.',\n",
       " 'So in the chapter of the verse, look for a smaller number within the words.',\n",
       " 'Once you find it, you have your verse right next to it.',\n",
       " '## Tips',\n",
       " '* The Bible is made up of 66 books in total.',\n",
       " 'Some Bibles may contain sections that are not considered \"canonical\" (or accepted, or received - but thats another topic).',\n",
       " 'For practical purposes, it is assumed that this refers to a basic Bible, void of any particular \"helps\" \"tools\" or \"aid.\"',\n",
       " '* The Bible is divided into two major divisions.',\n",
       " 'The Old Testament and The New Testament.']"
      ]
     },
     "execution_count": 234,
     "metadata": {},
     "output_type": "execute_result"
    }
   ],
   "source": [
    "sentence_tokenized_document = sentence_splitter(data[692]['Source_Context'])\n",
    "sentence_tokenized_document"
   ]
  },
  {
   "cell_type": "code",
   "execution_count": 238,
   "metadata": {},
   "outputs": [],
   "source": [
    "res = get_processed_context(sentence_tokenized_document)"
   ]
  },
  {
   "cell_type": "code",
   "execution_count": 233,
   "metadata": {},
   "outputs": [
    {
     "data": {
      "text/plain": [
       "False"
      ]
     },
     "execution_count": 233,
     "metadata": {},
     "output_type": "execute_result"
    }
   ],
   "source": [
    "'## Timestamp' in sentence_tokenized_document"
   ]
  },
  {
   "cell_type": "code",
   "execution_count": 239,
   "metadata": {},
   "outputs": [
    {
     "data": {
      "text/plain": [
       "['## Section::::Related wikiHows.',\n",
       " \"You've seen John 3:16 perhaps written on a poster board, or printed on a shirt.\",\n",
       " 'You may even be familiar with some of it, \"For God so loved the world...\" But how do you look up a Bible verse?',\n",
       " '## Steps',\n",
       " '1. Look at the passage (or Bible verse) that you want to find.',\n",
       " '2. In the example above it would be \"John 3:16.\"',\n",
       " '3. \"John\" refers to the book of John, also known as \"The Gospel According to St.',\n",
       " 'John.\"',\n",
       " \"If you don't know where the book is, you can go to beginning of the Bible and look at the Contents page and find out where.\",\n",
       " '4. \"3\" refers to the chapter in the book of John where it is located.',\n",
       " 'The number before the colon will always refer to the chapter of the book.',\n",
       " 'In the Bible, the chapter numbers usually stand out because of their size and boldness.',\n",
       " 'In the book of the scripture, look for the chapter number.',\n",
       " 'Some chapters are long and some are short, so be aware of that.',\n",
       " 'Most of the time, on the top of each page of the Bible, it says what book and what chapter(s) are located on that specific page.',\n",
       " 'Some Bibles even have the exact verses.',\n",
       " '5. \"16\" refers to the verse in chapter 3 where the Scripture (of Bible) verse (or reference) is located.',\n",
       " 'The number after the colon will always refer to the verse in that chapter.',\n",
       " 'So in the chapter of the verse, look for a smaller number within the words.',\n",
       " 'Once you find it, you have your verse right next to it.',\n",
       " '## Tips',\n",
       " '* The Bible is made up of 66 books in total.',\n",
       " 'Some Bibles may contain sections that are not considered \"canonical\" (or accepted, or received - but thats another topic).',\n",
       " 'For practical purposes, it is assumed that this refers to a basic Bible, void of any particular \"helps\" \"tools\" or \"aid.\"',\n",
       " '* The Bible is divided into two major divisions.',\n",
       " 'The Old Testament and The New Testament.']"
      ]
     },
     "execution_count": 239,
     "metadata": {},
     "output_type": "execute_result"
    }
   ],
   "source": [
    "res"
   ]
  },
  {
   "cell_type": "code",
   "execution_count": 252,
   "metadata": {},
   "outputs": [],
   "source": [
    "indexes = [0,1,3,9]"
   ]
  },
  {
   "cell_type": "code",
   "execution_count": 253,
   "metadata": {},
   "outputs": [],
   "source": [
    "d = filter(lambda x: x > 5, indexes)"
   ]
  },
  {
   "cell_type": "code",
   "execution_count": 254,
   "metadata": {},
   "outputs": [
    {
     "data": {
      "text/plain": [
       "<filter at 0x1199f7b90>"
      ]
     },
     "execution_count": 254,
     "metadata": {},
     "output_type": "execute_result"
    }
   ],
   "source": [
    "d"
   ]
  },
  {
   "cell_type": "code",
   "execution_count": 255,
   "metadata": {},
   "outputs": [
    {
     "data": {
      "text/plain": [
       "False"
      ]
     },
     "execution_count": 255,
     "metadata": {},
     "output_type": "execute_result"
    }
   ],
   "source": [
    "not d"
   ]
  },
  {
   "cell_type": "code",
   "execution_count": 256,
   "metadata": {},
   "outputs": [
    {
     "data": {
      "text/plain": [
       "[9]"
      ]
     },
     "execution_count": 256,
     "metadata": {},
     "output_type": "execute_result"
    }
   ],
   "source": [
    "list(d)"
   ]
  },
  {
   "cell_type": "code",
   "execution_count": 257,
   "metadata": {},
   "outputs": [
    {
     "ename": "ValueError",
     "evalue": "min() arg is an empty sequence",
     "output_type": "error",
     "traceback": [
      "\u001b[0;31m---------------------------------------------------------------------------\u001b[0m",
      "\u001b[0;31mValueError\u001b[0m                                Traceback (most recent call last)",
      "\u001b[0;32m<ipython-input-257-cb4199d4da81>\u001b[0m in \u001b[0;36m<module>\u001b[0;34m\u001b[0m\n\u001b[0;32m----> 1\u001b[0;31m \u001b[0mmin\u001b[0m\u001b[0;34m(\u001b[0m\u001b[0;34m[\u001b[0m\u001b[0;34m]\u001b[0m\u001b[0;34m)\u001b[0m\u001b[0;34m\u001b[0m\u001b[0;34m\u001b[0m\u001b[0m\n\u001b[0m",
      "\u001b[0;31mValueError\u001b[0m: min() arg is an empty sequence"
     ]
    }
   ],
   "source": [
    "min([])"
   ]
  },
  {
   "cell_type": "code",
   "execution_count": 258,
   "metadata": {},
   "outputs": [
    {
     "data": {
      "text/plain": [
       "0"
      ]
     },
     "execution_count": 258,
     "metadata": {},
     "output_type": "execute_result"
    }
   ],
   "source": [
    "min([] or [0])"
   ]
  },
  {
   "cell_type": "code",
   "execution_count": 259,
   "metadata": {},
   "outputs": [],
   "source": [
    "with open('../classification-scripts/noun-modifications/noun-modifications-train-5-new-lines.json', 'r') as json_in: \n",
    "    data = json.load(json_in)"
   ]
  },
  {
   "cell_type": "code",
   "execution_count": 274,
   "metadata": {},
   "outputs": [
    {
     "name": "stdout",
     "output_type": "stream",
     "text": [
      "0 \t ## Section::::Tips.\n",
      "1 \t This is a guide to playing forgoten hope mod for battlefield 1942 <a href=\"http%3A//forgottenhope.bf1942files.com\">click to go to homepage</a>. this is not for people who want a guide to play by. this is just sugestions. i do not plan to use the format\n",
      "2 \t ## Steps\n",
      "3 \t 1. Their are 4 kinds of assults on most maps.\n",
      "4 \t 2. A. air raid, B. air deplyment, C. naval (not always avalable) D. rapid armor, infantry, light transport deploy.\n",
      "5 \t 3. For the air raid, i will take the Battle of Britan as an example. As playing as German Luftwafta, you have the selection of fighters bombers and divebombers (if you want to be ainel, there are a list and discription of units at the end.) Messerschmitt BF 109E, Messerschmitt BF 110G, Heinkel He 111H, Junkers Ju 87B-2 \"Stuka\", Junkers Ju 88A. use your messerschmitts as escorts. stay in formation and the british plains can not get at the bomber's blindspots; between tail and ball turet gunners cant hit. if you keep your speed low, you can cover that blind spot. if you want to be part of the actul bomber team, get into the ball turet or if you are new to multi-gun birds, then choose the stern turret. unless you are experienced at it, then use the tail guns, but only if you are ready. If gunning down fighters does not apeal to you, then take to the cockpit. the piolet must have a good judge of distance per speed. the time the bombs meet the ground, is (pending with altitude) most likely by the time the tail of the plain has past the target on the mini-map. now then thats all nice and good but what if your facing the heat? in the Battle of Britan map, the allies have been given as listed:\n",
      "6 \t * Boulton Paul P82 \"Defiant\" Mk I\n",
      "7 \t * Hawker Hurricane Mk I\n",
      "8 \t * Supermarine Spitfire\n",
      "9 \t 4. the Defiant is a good starter. its slower speeds alow for training against bombers. it uses 8 .50 brownings. the bullets come out faster than one would think. for a more sesond piolet, then the hurricane mk1 would be the choice plane. this plain has .30 mg primary, 20MM cannon secondary. the cannon is good for flying the bomber's blind spot. the only thing is that your limmited speed, monourvability, and ammo capasity, makes it the better bomber hunter, but the worst dog fighter. the spitfire is for the ace. it has impeckable speed, best in the british airforce. it has 4 .30 MG. it is very versitle. its strong armor alwos for some slips in the bombers blind spot, but its strong engin alows for chaising after fighters.\n",
      "10 \t 5. In this section i shall go into detale about Air deployment. It is may 20 on the small island of creat. then the afrika corp attacks. with them they are using Light Air Transports. *speial note, in FH mod you must find or choose the piolet class to use a parachute. in the battle of creat, you have a parachute in all classes.*\n"
     ]
    }
   ],
   "source": [
    "for index, sent in enumerate(data[8098]['Source_Context']): \n",
    "    print(index, '\\t', sent)"
   ]
  },
  {
   "cell_type": "code",
   "execution_count": 268,
   "metadata": {},
   "outputs": [
    {
     "name": "stdout",
     "output_type": "stream",
     "text": [
      "0 \t ## Section::::Sources and Citations.\n",
      "1 \t English is a difficult language to learn and even more so to speak with native fluency.\n",
      "2 \t By immersing yourself in the language, using media to practice, and enhancing your appearance as a native speaker, you can perfect your ability to speak English in no time.\n",
      "3 \t ## Steps\n",
      "4 \t ### Immersing Yourself\n",
      "5 \t 1. Find a native conversation partner in person or online.\n",
      "6 \t If your experience with English has largely been in textbooks, it can be helpful to practice your conversation skills with a native English speaker.\n",
      "7 \t Conversing regularly with a skilled English speaker will enable you to speak more fluidly and develop a natural speaking cadence.\n",
      "8 \t You can seek out a native speaker to partner with for conversation through Meetup.com or a local university.\n",
      "9 \t * If you don’t have time to seek out a partner in person, many online service such as Italki.com can connect you with a native speaker over Skype for one-on-one conversation sessions.\n",
      "10 \t 2. Take a class.\n",
      "11 \t A classroom setting allows you to brush up your language skills in areas of confidence and improve your skills where you lag.\n",
      "12 \t You may feel at ease practicing in front of others who fall a little short of fluency as well.\n",
      "13 \t ESLdirectory.com provides a great database to browse ESL classes in your area.\n",
      "14 \t 3. Study abroad.\n",
      "15 \t Immersing yourself completely in not just an English-speaking population but also an English-speaking culture can take your fluency to the next level.\n",
      "16 \t Seek out university programs in the United States, Canada, UK, Ireland, Australia or New Zealand for further study.\n",
      "17 \t Many accept international students year-round.\n",
      "18 \t ### Using Media\n",
      "19 \t 1. Take an online course.\n",
      "20 \t It used to be that you needed to shell out lots of money for online English classes, but that is changing thanks to MOOCs or Massive Open Online Courses.\n",
      "21 \t These courses are taught online at the college level and often by high-ranking professors.\n",
      "22 \t Best of all?\n",
      "23 \t Most are free.\n",
      "24 \t * Top MOOEC’s to seek out are Alison, FutureLearn and EdX.\n",
      "25 \t Many offer specialized classes that focus on improving conversation skills, verb tenses and more, so you can improve the particular area that you have trouble with to perfect your English.\n"
     ]
    }
   ],
   "source": [
    "for index, sent in enumerate(sentence_splitter(data[8097]['Source_Context'])): \n",
    "    print(index, '\\t', sent)"
   ]
  },
  {
   "cell_type": "code",
   "execution_count": 264,
   "metadata": {},
   "outputs": [
    {
     "name": "stdout",
     "output_type": "stream",
     "text": [
      "0\t## Steps\n",
      "1\t1. Example: A Grass/Ground deer covered with dirt and grass.\n",
      "2\tGather some words for it's first type:Verdant, Green, Forest, Leaf, Jungle, Meadow, Grass, Flower (Any kind of flower)\n",
      "3\t2. Next, gather some words for it's second type: Dirt, Mine, Terra(Spanish for Earth), Ground, Sand, Mineral, Mud, Cliff, Mountain\n",
      "4\t3. For the third group of words, get words for what it is based on, or its color.\n",
      "5\tMy example is a deer: Antler, Animal, Hoof, Brown, Green, Deer, Reindeer\n",
      "6\t4. Finally, mash some words together (Or put some in different languages and then mash) We get: Terrantler\n",
      "7\t5. By the way, you might also want some words that go with its features and body.\n"
     ]
    }
   ],
   "source": [
    "d = ['## Steps', '1. Example: A Grass/Ground deer covered with dirt and grass.', \"Gather some words for it's first type:Verdant, Green, Forest, Leaf, Jungle, Meadow, Grass, Flower (Any kind of flower)\", \"2. Next, gather some words for it's second type: Dirt, Mine, Terra(Spanish for Earth), Ground, Sand, Mineral, Mud, Cliff, Mountain\", '3. For the third group of words, get words for what it is based on, or its color.', 'My example is a deer: Antler, Animal, Hoof, Brown, Green, Deer, Reindeer', '4. Finally, mash some words together (Or put some in different languages and then mash) We get: Terrantler', '5. By the way, you might also want some words that go with its features and body.']\n",
    "\n",
    "for index, sent in enumerate(d):\n",
    "    print(f\"{index}\\t{sent}\")"
   ]
  },
  {
   "cell_type": "code",
   "execution_count": 265,
   "metadata": {},
   "outputs": [],
   "source": [
    "l = [1,2,3,4,5]"
   ]
  },
  {
   "cell_type": "code",
   "execution_count": 266,
   "metadata": {},
   "outputs": [
    {
     "data": {
      "text/plain": [
       "[1, 2, 3, 4, 5]"
      ]
     },
     "execution_count": 266,
     "metadata": {},
     "output_type": "execute_result"
    }
   ],
   "source": [
    "l[:]"
   ]
  },
  {
   "cell_type": "code",
   "execution_count": 267,
   "metadata": {},
   "outputs": [
    {
     "data": {
      "text/plain": [
       "[1, 2, 3, 4, 5]"
      ]
     },
     "execution_count": 267,
     "metadata": {},
     "output_type": "execute_result"
    }
   ],
   "source": [
    "l[:None]"
   ]
  },
  {
   "cell_type": "code",
   "execution_count": 279,
   "metadata": {},
   "outputs": [],
   "source": [
    "d = ['Seems like too Impossible but it Really is possible!', '## Steps', '1. Hi, May you have a good day, look, i want to talk to you, I can\\'t end everything unless I could say \"THANKS TO YOU.\"', 'This would make him/her curious and will push them to know what goodness have she/he done for you to thank him.', '* Tell him/her a thing that will give a push to their thoughts to want to know more.', '* Make him/her be interested what you are going to say ( in DETAILED).', '* Use a handled source that will enlighten you.', 'such as being able to say words to him/her that would:', '2. Refresh yourself, take a warm bath to make you relax.', 'Be sure you are in a mood of doing what you are planning to do.', \"Don't men his/her mistakes, take it all as your responsibility, for example, Hi Mich, please talk to me, I know that it's my fault but you have some mistakes too...Never say that!\"]"
   ]
  },
  {
   "cell_type": "code",
   "execution_count": 280,
   "metadata": {},
   "outputs": [
    {
     "name": "stdout",
     "output_type": "stream",
     "text": [
      "0\tSeems like too Impossible but it Really is possible!\n",
      "1\t## Steps\n",
      "2\t1. Hi, May you have a good day, look, i want to talk to you, I can't end everything unless I could say \"THANKS TO YOU.\"\n",
      "3\tThis would make him/her curious and will push them to know what goodness have she/he done for you to thank him.\n",
      "4\t* Tell him/her a thing that will give a push to their thoughts to want to know more.\n",
      "5\t* Make him/her be interested what you are going to say ( in DETAILED).\n",
      "6\t* Use a handled source that will enlighten you.\n",
      "7\tsuch as being able to say words to him/her that would:\n",
      "8\t2. Refresh yourself, take a warm bath to make you relax.\n",
      "9\tBe sure you are in a mood of doing what you are planning to do.\n",
      "10\tDon't men his/her mistakes, take it all as your responsibility, for example, Hi Mich, please talk to me, I know that it's my fault but you have some mistakes too...Never say that!\n"
     ]
    }
   ],
   "source": [
    "for index, sent in enumerate(d):\n",
    "    print(f\"{index}\\t{sent}\")"
   ]
  },
  {
   "cell_type": "code",
   "execution_count": 283,
   "metadata": {},
   "outputs": [
    {
     "data": {
      "text/plain": [
       "['# Make Wobbly Wonders',\n",
       " '## Timestamp::::2009-05-03T22:22:09Z',\n",
       " 'Wobbly Wonders make an easy budget friendly snack for children. This recipe makes about 20 pieces of this gelatin based snack.',\n",
       " '## Steps',\n",
       " '## Section::::Steps.',\n",
       " '## Timestamp::::2009-05-03T22:39:01Z',\n",
       " 'Wobbly Wonders make an easy budget friendly treat for children. This recipe makes about 20 pieces of this gelatin based snack.',\n",
       " '## Ingredients']"
      ]
     },
     "execution_count": 283,
     "metadata": {},
     "output_type": "execute_result"
    }
   ],
   "source": [
    "data[33734]['Source_Context']"
   ]
  },
  {
   "cell_type": "code",
   "execution_count": 285,
   "metadata": {},
   "outputs": [
    {
     "data": {
      "text/plain": [
       "dict_keys(['Filename', 'All_Versions', 'Revision_Length', 'Base_Sentence', 'Revisions', 'Key', 'Source_Tokenized', 'Target_Tokenized', 'Correction', 'Source_Line_Tagged', 'Target_Line_Tagged', 'Differences', 'Entailment_Rel', 'PPDB_Matches', 'Loc_in_splits', 'Target_Line_Nr', 'Source_Line_Nr', 'Source_Context', 'Target_Context', 'Source_Context_5', 'Target_Context_5', 'Source_Context_5_Processed', 'Target_Context_5_Processed', 'Source_Line', 'Target_Line'])"
      ]
     },
     "execution_count": 285,
     "metadata": {},
     "output_type": "execute_result"
    }
   ],
   "source": [
    "data[33734].keys()"
   ]
  },
  {
   "cell_type": "code",
   "execution_count": 288,
   "metadata": {},
   "outputs": [
    {
     "data": {
      "text/plain": [
       "{'Filename': 'Make_Wobbly_Wonders.txt',\n",
       " 'All_Versions': ['Wobbly Wonders make an easy budget friendly snack for children.',\n",
       "  'Wobbly Wonders make an easy budget friendly treat for children.'],\n",
       " 'Revision_Length': 1,\n",
       " 'Base_Sentence': 'Wobbly Wonders make an easy budget friendly snack for children.',\n",
       " 'Revisions': ['Wobbly Wonders make an easy budget friendly treat for children.'],\n",
       " 'Key': 'Make_Wobbly_Wonders0',\n",
       " 'Source_Tokenized': ['Wobbly',\n",
       "  'Wonders',\n",
       "  'make',\n",
       "  'an',\n",
       "  'easy',\n",
       "  'budget',\n",
       "  'friendly',\n",
       "  'snack',\n",
       "  'for',\n",
       "  'children',\n",
       "  '.'],\n",
       " 'Target_Tokenized': ['Wobbly',\n",
       "  'Wonders',\n",
       "  'make',\n",
       "  'an',\n",
       "  'easy',\n",
       "  'budget',\n",
       "  'friendly',\n",
       "  'treat',\n",
       "  'for',\n",
       "  'children',\n",
       "  '.'],\n",
       " 'Correction': True,\n",
       " 'Source_Line_Tagged': [['Wobbly', 'JJ'],\n",
       "  ['Wonders', 'NNP'],\n",
       "  ['make', 'VBP'],\n",
       "  ['an', 'DT'],\n",
       "  ['easy', 'JJ'],\n",
       "  ['budget', 'NN'],\n",
       "  ['friendly', 'JJ'],\n",
       "  ['snack', 'NN'],\n",
       "  ['for', 'IN'],\n",
       "  ['children', 'NNS'],\n",
       "  ['.', '.']],\n",
       " 'Target_Line_Tagged': [['Wobbly', 'JJ'],\n",
       "  ['Wonders', 'NNP'],\n",
       "  ['make', 'VBP'],\n",
       "  ['an', 'DT'],\n",
       "  ['easy', 'JJ'],\n",
       "  ['budget', 'NN'],\n",
       "  ['friendly', 'JJ'],\n",
       "  ['treat', 'NN'],\n",
       "  ['for', 'IN'],\n",
       "  ['children', 'NNS'],\n",
       "  ['.', '.']],\n",
       " 'Differences': [[['snack', 'NN'], ['treat', 'NN']]],\n",
       " 'Entailment_Rel': {'snack#treat1': 'Independent'},\n",
       " 'PPDB_Matches': [[['snack', 'NN'], ['treat', 'NN']]],\n",
       " 'Loc_in_splits': 'TRAIN',\n",
       " 'Target_Line_Nr': [14],\n",
       " 'Source_Line_Nr': [5],\n",
       " 'Source_Context': ['# Make Wobbly Wonders',\n",
       "  '## Timestamp::::2009-05-03T22:22:09Z',\n",
       "  'Wobbly Wonders make an easy budget friendly snack for children. This recipe makes about 20 pieces of this gelatin based snack.',\n",
       "  '## Steps',\n",
       "  '## Section::::Steps.',\n",
       "  '## Timestamp::::2009-05-03T22:39:01Z',\n",
       "  'Wobbly Wonders make an easy budget friendly treat for children. This recipe makes about 20 pieces of this gelatin based snack.',\n",
       "  '## Ingredients'],\n",
       " 'Target_Context': ['## Timestamp::::2009-05-03T22:22:09Z',\n",
       "  'Wobbly Wonders make an easy budget friendly snack for children. This recipe makes about 20 pieces of this gelatin based snack.',\n",
       "  '## Steps',\n",
       "  '## Section::::Steps.',\n",
       "  '## Timestamp::::2009-05-03T22:39:01Z',\n",
       "  'Wobbly Wonders make an easy budget friendly treat for children. This recipe makes about 20 pieces of this gelatin based snack.',\n",
       "  '## Ingredients',\n",
       "  '* 12 ounces gelatin powder, favorite flavor',\n",
       "  '* 2 cups boiling water',\n",
       "  '* 1 1/2 cups low-fat milk',\n",
       "  '* 3 1/2 ounces instant vanilla pudding mix'],\n",
       " 'Source_Context_5': ['# Make Wobbly Wonders',\n",
       "  '## Timestamp::::2009-05-03T22:22:09Z',\n",
       "  'Wobbly Wonders make an easy budget friendly snack for children.',\n",
       "  'This recipe makes about 20 pieces of this gelatin based snack.',\n",
       "  '## Steps',\n",
       "  '## Section::::Steps.',\n",
       "  '## Timestamp::::2009-05-03T22:39:01Z',\n",
       "  'Wobbly Wonders make an easy budget friendly treat for children.'],\n",
       " 'Target_Context_5': ['Wobbly Wonders make an easy budget friendly snack for children.',\n",
       "  'This recipe makes about 20 pieces of this gelatin based snack.',\n",
       "  '## Steps',\n",
       "  '## Section::::Steps.',\n",
       "  '## Timestamp::::2009-05-03T22:39:01Z',\n",
       "  'Wobbly Wonders make an easy budget friendly treat for children.',\n",
       "  'This recipe makes about 20 pieces of this gelatin based snack.',\n",
       "  '## Ingredients',\n",
       "  '* 12 ounces gelatin powder, favorite flavor',\n",
       "  '* 2 cups boiling water',\n",
       "  '* 1 1/2 cups low-fat milk'],\n",
       " 'Source_Context_5_Processed': 'Wobbly Wonders make an easy budget friendly snack for children. This recipe makes about 20 pieces of this gelatin based snack. ## Steps ## Section::::Steps. ## Timestamp::::2009-05-03T22:39:01Z Wobbly Wonders make an easy budget friendly treat for children.',\n",
       " 'Target_Context_5_Processed': 'Wobbly Wonders make an easy budget friendly treat for children. This recipe makes about 20 pieces of this gelatin based snack. ## Ingredients * 12 ounces gelatin powder, favorite flavor * 2 cups boiling water * 1 1/2 cups low-fat milk',\n",
       " 'Source_Line': 'Wobbly Wonders make an easy budget friendly snack for children.',\n",
       " 'Target_Line': 'Wobbly Wonders make an easy budget friendly treat for children.'}"
      ]
     },
     "execution_count": 288,
     "metadata": {},
     "output_type": "execute_result"
    }
   ],
   "source": [
    "data[33734]"
   ]
  },
  {
   "cell_type": "code",
   "execution_count": 289,
   "metadata": {},
   "outputs": [
    {
     "ename": "ValueError",
     "evalue": "('Hello', 'World')",
     "output_type": "error",
     "traceback": [
      "\u001b[0;31m---------------------------------------------------------------------------\u001b[0m",
      "\u001b[0;31mValueError\u001b[0m                                Traceback (most recent call last)",
      "\u001b[0;32m<ipython-input-289-c0b344a31164>\u001b[0m in \u001b[0;36m<module>\u001b[0;34m\u001b[0m\n\u001b[0;32m----> 1\u001b[0;31m \u001b[0;32mraise\u001b[0m \u001b[0mValueError\u001b[0m\u001b[0;34m(\u001b[0m\u001b[0;34m\"Hello\"\u001b[0m\u001b[0;34m,\u001b[0m \u001b[0;34m\"World\"\u001b[0m\u001b[0;34m)\u001b[0m\u001b[0;34m\u001b[0m\u001b[0;34m\u001b[0m\u001b[0m\n\u001b[0m",
      "\u001b[0;31mValueError\u001b[0m: ('Hello', 'World')"
     ]
    }
   ],
   "source": [
    "raise ValueError(\"Hello\", \"World\")"
   ]
  },
  {
   "cell_type": "code",
   "execution_count": 292,
   "metadata": {},
   "outputs": [
    {
     "ename": "TypeError",
     "evalue": "ValueError() takes no keyword arguments",
     "output_type": "error",
     "traceback": [
      "\u001b[0;31m---------------------------------------------------------------------------\u001b[0m",
      "\u001b[0;31mTypeError\u001b[0m                                 Traceback (most recent call last)",
      "\u001b[0;32m<ipython-input-292-07b85d6fa103>\u001b[0m in \u001b[0;36m<module>\u001b[0;34m\u001b[0m\n\u001b[1;32m      1\u001b[0m \u001b[0;32mtry\u001b[0m\u001b[0;34m:\u001b[0m\u001b[0;34m\u001b[0m\u001b[0;34m\u001b[0m\u001b[0m\n\u001b[0;32m----> 2\u001b[0;31m     \u001b[0;32mraise\u001b[0m \u001b[0mValueError\u001b[0m\u001b[0;34m(\u001b[0m\u001b[0;34m\"Hello\"\u001b[0m\u001b[0;34m,\u001b[0m \u001b[0mmessage\u001b[0m\u001b[0;34m=\u001b[0m\u001b[0;34m\"lol\"\u001b[0m\u001b[0;34m)\u001b[0m\u001b[0;34m\u001b[0m\u001b[0;34m\u001b[0m\u001b[0m\n\u001b[0m\u001b[1;32m      3\u001b[0m \u001b[0;32mexcept\u001b[0m \u001b[0mValueError\u001b[0m \u001b[0;32mas\u001b[0m \u001b[0merror\u001b[0m\u001b[0;34m:\u001b[0m\u001b[0;34m\u001b[0m\u001b[0;34m\u001b[0m\u001b[0m\n\u001b[1;32m      4\u001b[0m     \u001b[0mprint\u001b[0m\u001b[0;34m(\u001b[0m\u001b[0mvars\u001b[0m\u001b[0;34m(\u001b[0m\u001b[0merror\u001b[0m\u001b[0;34m)\u001b[0m\u001b[0;34m)\u001b[0m\u001b[0;34m\u001b[0m\u001b[0;34m\u001b[0m\u001b[0m\n",
      "\u001b[0;31mTypeError\u001b[0m: ValueError() takes no keyword arguments"
     ]
    }
   ],
   "source": [
    "try:\n",
    "    raise ValueError(\"Hello\", message=\"lol\")\n",
    "except ValueError as error:\n",
    "    print(vars(error))"
   ]
  },
  {
   "cell_type": "code",
   "execution_count": null,
   "metadata": {},
   "outputs": [],
   "source": []
  }
 ],
 "metadata": {
  "kernelspec": {
   "display_name": "Python 3",
   "language": "python",
   "name": "python3"
  },
  "language_info": {
   "codemirror_mode": {
    "name": "ipython",
    "version": 3
   },
   "file_extension": ".py",
   "mimetype": "text/x-python",
   "name": "python",
   "nbconvert_exporter": "python",
   "pygments_lexer": "ipython3",
   "version": "3.7.4"
  }
 },
 "nbformat": 4,
 "nbformat_minor": 2
}
