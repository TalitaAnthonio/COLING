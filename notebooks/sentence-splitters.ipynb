{
 "cells": [
  {
   "cell_type": "code",
   "execution_count": 11,
   "metadata": {},
   "outputs": [],
   "source": [
    "import json \n",
    "import spacy \n",
    "from nltk.tokenize import sent_tokenize\n",
    "\n",
    "spacy_model = spacy.load(\"en_core_web_sm\")"
   ]
  },
  {
   "cell_type": "code",
   "execution_count": 3,
   "metadata": {},
   "outputs": [],
   "source": [
    "path_to_dev = './classification-scripts/same-noun-modifications/SAME-NOUN-MODIFICATIONS-DEV.JSON'\n",
    "with open(path_to_dev, 'r') as json_in: \n",
    "     content = json.load(json_in)"
   ]
  },
  {
   "cell_type": "code",
   "execution_count": 5,
   "metadata": {},
   "outputs": [
    {
     "data": {
      "text/plain": [
       "dict_keys(['Filename', 'All_Versions', 'Revision_Length', 'Base_Sentence', 'Revisions', 'Key', 'Source_Tokenized', 'Target_Tokenized', 'Correction', 'Source_Line_Tagged', 'Target_Line_Tagged', 'Differences', 'Entailment_Rel', 'PPDB_Matches', 'Loc_in_splits', 'Target_Line_Nr', 'Source_Line_Nr', 'Source_Context', 'Target_Context'])"
      ]
     },
     "execution_count": 5,
     "metadata": {},
     "output_type": "execute_result"
    }
   ],
   "source": [
    "content[0].keys()"
   ]
  },
  {
   "cell_type": "code",
   "execution_count": 9,
   "metadata": {},
   "outputs": [],
   "source": [
    "def tokenize_sents_spacy(doc): \n",
    "    doc = spacy_model(doc)\n",
    "    return [sent.text for sent in doc.sents]"
   ]
  },
  {
   "cell_type": "code",
   "execution_count": 12,
   "metadata": {},
   "outputs": [],
   "source": [
    "def tokenize_sents_nltk(doc): \n",
    "    return sent_tokenize(doc)"
   ]
  },
  {
   "cell_type": "code",
   "execution_count": 10,
   "metadata": {},
   "outputs": [
    {
     "data": {
      "text/plain": [
       "['This is a sentence.', 'And this is another one,', 'but yeah.']"
      ]
     },
     "execution_count": 10,
     "metadata": {},
     "output_type": "execute_result"
    }
   ],
   "source": [
    "tokenize_sents_spacy(\"This is a sentence. And this is another one, but yeah.\")"
   ]
  },
  {
   "cell_type": "code",
   "execution_count": 13,
   "metadata": {},
   "outputs": [
    {
     "data": {
      "text/plain": [
       "['This is a sentence.', 'And this is another one, but yeah.']"
      ]
     },
     "execution_count": 13,
     "metadata": {},
     "output_type": "execute_result"
    }
   ],
   "source": [
    "tokenize_sents_nltk(\"This is a sentence. And this is another one, but yeah.\")"
   ]
  },
  {
   "cell_type": "code",
   "execution_count": 14,
   "metadata": {},
   "outputs": [
    {
     "data": {
      "text/plain": [
       "['1) This is a sentence.', '2) And this is another one, but yeah.']"
      ]
     },
     "execution_count": 14,
     "metadata": {},
     "output_type": "execute_result"
    }
   ],
   "source": [
    "tokenize_sents_nltk(\"1) This is a sentence. 2) And this is another one, but yeah.\")"
   ]
  },
  {
   "cell_type": "code",
   "execution_count": 19,
   "metadata": {},
   "outputs": [
    {
     "data": {
      "text/plain": [
       "['1.', 'This is a sentence.', '2.', 'And this is another one, but yeah.']"
      ]
     },
     "execution_count": 19,
     "metadata": {},
     "output_type": "execute_result"
    }
   ],
   "source": [
    "tokenize_sents_nltk(\"1. This is a sentence. 2. And this is another one, but yeah.\")"
   ]
  },
  {
   "cell_type": "markdown",
   "metadata": {},
   "source": [
    "## Test tokenizer with data "
   ]
  },
  {
   "cell_type": "code",
   "execution_count": 106,
   "metadata": {},
   "outputs": [],
   "source": [
    "document = content[0]['Source_Context']\n",
    "sent = content[0]['Source_Tokenized']"
   ]
  },
  {
   "cell_type": "code",
   "execution_count": 109,
   "metadata": {},
   "outputs": [
    {
     "name": "stdout",
     "output_type": "stream",
     "text": [
      "0 \t ## Section::::Related wikiHows.\n",
      "1 \t This is a good way to approach women in a public setting without seeming creepy. You can meet women anywhere. You may even meet your future wife standing at a bus stop.\n",
      "2 \t ## Steps\n",
      "3 \t 1. You have to get out there and seek them out! Most intelligent and classy girls do not go door to door looking for dates.\n",
      "4 \t 2. Enter a public place such as school and check out the girls (Note: if you are too old to be in school, it will look creepy).\n",
      "5 \t 3. Seek eye contact. Maintain eye contact while trying to keep underwear and armpits dry.\n",
      "6 \t 4. Smile. Avoid appearing overconfident as she may find you cocky, but you mustn't be shy either. Some girls do like shy guys. But most of them want a guy who's not afraid to go out on a limb sometimes.\n",
      "7 \t 5. Approach with confidence; don't use cheesy pick-up lines (A pick-up line is a conversation opener with the intent of engaging an unfamiliar person for sex, romance, or dating. ...), they rarely work. A simple \"Hi, how are you tonight?\" should break the ice. Or, if you're a teenager, a less formal \"Hey, how's it going?\" or \"Hey, what's up?\" will suffice. Being polite and friendly always helps.\n",
      "8 \t 6. Have a fun conversation. If there is chemistry between you two, this is all you need to do. Joking around and flirting will make both of you more comfortable. It is always more enjoyable to be with someone who makes you smile.\n",
      "9 \t 7. Take a hint if she's not interested. If she's busy, or if your comic genius is not being appreciated, then say, \"It was great to meet you\" and cut your losses. If you come on too strong, some women might feel threatened.\n",
      "10 \t 8. Take it small steps at a time. If you think she is interested: be brief, return to your friends, say, \"Maybe we can have a chat later.\"\n",
      "['Seek', 'eye', 'contact', '.']\n"
     ]
    }
   ],
   "source": [
    "for c, elem in enumerate(document,0):\n",
    "    print(c, '\\t', elem)\n",
    "    \n",
    "print(sent)"
   ]
  },
  {
   "cell_type": "code",
   "execution_count": 100,
   "metadata": {},
   "outputs": [],
   "source": [
    "## Tokenize per 'sub sentence list' instead of joining (to keep markdown headers separated)\n",
    "unflattened_sentences = (tokenize_sents_nltk(sent_item) for sent_item in document)\n",
    "\n",
    "## Flatten sentences: (https://stackoverflow.com/questions/952914/how-to-make-a-flat-list-out-of-list-of-lists)\n",
    "sentences = (sentence for sub_sentences in unflattened_sentences for sentence in sub_sentences)"
   ]
  },
  {
   "cell_type": "code",
   "execution_count": 101,
   "metadata": {},
   "outputs": [],
   "source": [
    "import re\n",
    "pattern = re.compile(r\"^[0-9]+\\.$\")\n",
    "\n",
    "merged_item_sents = []\n",
    "\n",
    "sentence = next(sentences)\n",
    "while sentence:\n",
    "    if re.match(pattern, sentence):\n",
    "        next_sentence = next(sentences)\n",
    "        merged = f\"{sentence} {next_sentence}\"\n",
    "        merged_item_sents.append(merged)\n",
    "    else:\n",
    "        merged_item_sents.append(sentence)\n",
    "    \n",
    "    try:\n",
    "        sentence = next(sentences)\n",
    "    except StopIteration:\n",
    "        sentence = False"
   ]
  },
  {
   "cell_type": "code",
   "execution_count": 102,
   "metadata": {},
   "outputs": [
    {
     "name": "stdout",
     "output_type": "stream",
     "text": [
      "## Section::::Related wikiHows.\n",
      "\n",
      "This is a good way to approach women in a public setting without seeming creepy.\n",
      "\n",
      "You can meet women anywhere.\n",
      "\n",
      "You may even meet your future wife standing at a bus stop.\n",
      "\n",
      "## Steps\n",
      "\n",
      "1. You have to get out there and seek them out!\n",
      "\n",
      "Most intelligent and classy girls do not go door to door looking for dates.\n",
      "\n",
      "2. Enter a public place such as school and check out the girls (Note: if you are too old to be in school, it will look creepy).\n",
      "\n",
      "3. Seek eye contact.\n",
      "\n",
      "Maintain eye contact while trying to keep underwear and armpits dry.\n",
      "\n",
      "4. Smile.\n",
      "\n",
      "Avoid appearing overconfident as she may find you cocky, but you mustn't be shy either.\n",
      "\n",
      "Some girls do like shy guys.\n",
      "\n",
      "But most of them want a guy who's not afraid to go out on a limb sometimes.\n",
      "\n",
      "5. Approach with confidence; don't use cheesy pick-up lines (A pick-up line is a conversation opener with the intent of engaging an unfamiliar person for sex, romance, or dating.\n",
      "\n",
      "...), they rarely work.\n",
      "\n",
      "A simple \"Hi, how are you tonight?\"\n",
      "\n",
      "should break the ice.\n",
      "\n",
      "Or, if you're a teenager, a less formal \"Hey, how's it going?\"\n",
      "\n",
      "or \"Hey, what's up?\"\n",
      "\n",
      "will suffice.\n",
      "\n",
      "Being polite and friendly always helps.\n",
      "\n",
      "6. Have a fun conversation.\n",
      "\n",
      "If there is chemistry between you two, this is all you need to do.\n",
      "\n",
      "Joking around and flirting will make both of you more comfortable.\n",
      "\n",
      "It is always more enjoyable to be with someone who makes you smile.\n",
      "\n",
      "7. Take a hint if she's not interested.\n",
      "\n",
      "If she's busy, or if your comic genius is not being appreciated, then say, \"It was great to meet you\" and cut your losses.\n",
      "\n",
      "If you come on too strong, some women might feel threatened.\n",
      "\n",
      "8. Take it small steps at a time.\n",
      "\n",
      "If you think she is interested: be brief, return to your friends, say, \"Maybe we can have a chat later.\"\n"
     ]
    }
   ],
   "source": [
    "print('\\n\\n'.join(merged_item_sents))\n"
   ]
  },
  {
   "cell_type": "code",
   "execution_count": 104,
   "metadata": {},
   "outputs": [
    {
     "name": "stdout",
     "output_type": "stream",
     "text": [
      "['## Section::::Related wikiHows.', 'This is a good way to approach women in a public setting without seeming creepy.', 'You can meet women anywhere.', 'You may even meet your future wife standing at a bus stop.', '## Steps', '1. You have to get out there and seek them out!', 'Most intelligent and classy girls do not go door to door looking for dates.', '2. Enter a public place such as school and check out the girls (Note: if you are too old to be in school, it will look creepy).', '3. Seek eye contact.', 'Maintain eye contact while trying to keep underwear and armpits dry.', '4. Smile.', \"Avoid appearing overconfident as she may find you cocky, but you mustn't be shy either.\", 'Some girls do like shy guys.', \"But most of them want a guy who's not afraid to go out on a limb sometimes.\", \"5. Approach with confidence; don't use cheesy pick-up lines (A pick-up line is a conversation opener with the intent of engaging an unfamiliar person for sex, romance, or dating.\", '...), they rarely work.', 'A simple \"Hi, how are you tonight?\"', 'should break the ice.', 'Or, if you\\'re a teenager, a less formal \"Hey, how\\'s it going?\"', 'or \"Hey, what\\'s up?\"', 'will suffice.', 'Being polite and friendly always helps.', '6. Have a fun conversation.', 'If there is chemistry between you two, this is all you need to do.', 'Joking around and flirting will make both of you more comfortable.', 'It is always more enjoyable to be with someone who makes you smile.', \"7. Take a hint if she's not interested.\", 'If she\\'s busy, or if your comic genius is not being appreciated, then say, \"It was great to meet you\" and cut your losses.', 'If you come on too strong, some women might feel threatened.', '8. Take it small steps at a time.', 'If you think she is interested: be brief, return to your friends, say, \"Maybe we can have a chat later.\"']\n"
     ]
    }
   ],
   "source": [
    "print(merged_item_sents)"
   ]
  },
  {
   "cell_type": "markdown",
   "metadata": {},
   "source": [
    "## Make function"
   ]
  },
  {
   "cell_type": "code",
   "execution_count": 110,
   "metadata": {},
   "outputs": [],
   "source": [
    "def sentence_splitter(document): \n",
    "    ## Tokenize per 'sub sentence list' instead of joining (to keep markdown headers separated)\n",
    "    unflattened_sentences = (tokenize_sents_nltk(sent_item) for sent_item in document)\n",
    "    ## Flatten sentences: (https://stackoverflow.com/questions/952914/how-to-make-a-flat-list-out-of-list-of-lists)\n",
    "    sentences = (sentence for sub_sentences in unflattened_sentences for sentence in sub_sentences)\n",
    "    pattern = re.compile(r\"^[0-9]+\\.$\")\n",
    "    merged_item_sents = []\n",
    "\n",
    "    sentence = next(sentences)\n",
    "    while sentence:\n",
    "        if re.match(pattern, sentence):\n",
    "            next_sentence = next(sentences)\n",
    "            merged = f\"{sentence} {next_sentence}\"\n",
    "            merged_item_sents.append(merged)\n",
    "        else:\n",
    "            merged_item_sents.append(sentence)\n",
    "\n",
    "        try:\n",
    "            sentence = next(sentences)\n",
    "        except StopIteration:\n",
    "            sentence = False\n",
    "    return merged_item_sents"
   ]
  },
  {
   "cell_type": "code",
   "execution_count": 134,
   "metadata": {},
   "outputs": [
    {
     "name": "stdout",
     "output_type": "stream",
     "text": [
      "['If', 'you', 'approach', 'a', 'woman', 'who', 'is', 'with', 'her', 'friends', ',', 'be', 'prepared', 'to', 'impress', 'the', 'entire', 'group', '.']\n",
      "0 \t * Ask a sister, mother, or female friend for advice.\n",
      "1 \t They are women, after all.\n",
      "2 \t They might have some advice for you.\n",
      "3 \t * Make sure the conversation goes both ways.\n",
      "4 \t There's nothing worse than being in a conversation where only one person is talking.\n",
      "5 \t Ask her opinion, and LISTEN to what she says.\n",
      "6 \t This shows that you care about what she thinks and that you're paying attention.\n",
      "7 \t * Girls like to be asked questions - that's how you make the girl feel more comfortable and secure with you.\n",
      "8 \t For an example, say \"How was your day?\n",
      "9 \t \", \"What are your interests?\n",
      "10 \t \", \"Do you have any good friends?\n",
      "11 \t \", or \"Do you stay close to your Family?\"\n",
      "12 \t Girls love a guy that is very close to their family.\n",
      "13 \t * Really important: Don't be annoying because you think they like it - treat a women as you would at a fancy party, don't try any flirty/poking her elbow tricks until you have established a proper friendship or more.\n",
      "14 \t ## Warnings\n",
      "15 \t * If you approach a woman who is with her friends, be prepared to impress the entire group.\n",
      "16 \t * If you get rejected in public, don't react negatively, just smile at her and leave.\n",
      "17 \t * Do not tell a girl to smile if she isn't.\n",
      "18 \t Women are told this constantly and it is never endearing.\n",
      "19 \t * Don't be that jerk who reads way too deeply into what a girl's saying.\n",
      "20 \t If she says she's not interested, she's not trying to play hard to get, she's just not interested.\n",
      "21 \t * Be respectful.\n",
      "22 \t Treat her like a woman; don't act disrespectful and overly flirtatious.\n",
      "23 \t * Do not approach girls at the gym.\n",
      "24 \t They are there to workout and rarely appreciate being hit-on.\n"
     ]
    }
   ],
   "source": [
    "res = sentence_splitter(content[1]['Source_Context'])\n",
    "print(content[1]['Source_Tokenized'])\n",
    "for c, item in enumerate(res, 0):\n",
    "    print(c, '\\t', item)"
   ]
  },
  {
   "cell_type": "code",
   "execution_count": 133,
   "metadata": {},
   "outputs": [
    {
     "name": "stdout",
     "output_type": "stream",
     "text": [
      "['If', 'you', 'approach', 'a', 'girl', 'who', 'is', 'with', 'her', 'friends', ',', 'be', 'prepared', 'to', 'impress', 'the', 'entire', 'group', '.']\n",
      "0 \t * Ask a sister, aunt, or female friend for advice.\n",
      "1 \t They are girls, after all.\n",
      "2 \t They might have some advice for you.\n",
      "3 \t * Make sure the conversation goes both ways.\n",
      "4 \t There's nothing worse than being in a conversation where only one person is talking.\n",
      "5 \t Ask her opinion, and LISTEN to what she says.\n",
      "6 \t This shows that you care about what she thinks and that you're paying attention.\n",
      "7 \t * Girls like to be asked questions - that's how you make the girl feel more comfortable and secure with you.\n",
      "8 \t For an example, say \"How was your day?\n",
      "9 \t \", \"What are your interests?\n",
      "10 \t \", \"Do you have any good friends?\n",
      "11 \t \", or \"Do you stay close to your Family?\"\n",
      "12 \t Girls love a guy that is very close to their family.\n",
      "13 \t * Really important: Don't be annoying because you think they like it - treat a girl as you would at a fancy party, don't try any flirty/poking her elbow tricks until you have established a proper friendship or more.\n",
      "14 \t ## Warnings\n",
      "15 \t * If you approach a girl who is with her friends, be prepared to impress the entire group.\n",
      "16 \t * If you get rejected in public, don't react negatively, just smile at her and leave.\n",
      "17 \t * Do not tell a girl to smile if she isn't.\n",
      "18 \t Some girls are told this constantly and it is never endearing.\n",
      "19 \t * Don't be that jerk who reads way too deeply into what a girl's saying.\n",
      "20 \t If she says she's not interested, she's not trying to play hard to get, she's just not interested.\n",
      "21 \t * Be respectful.\n",
      "22 \t Treat her like a human being; don't act disrespectful and overly flirtatious.\n",
      "23 \t * Do not approach girls at the gym.\n",
      "24 \t They are there to workout and rarely appreciate being hit-on.\n"
     ]
    }
   ],
   "source": [
    "res = sentence_splitter(content[1]['Target_Context'])\n",
    "print(content[1]['Target_Tokenized'])\n",
    "for c, item in enumerate(res, 0):\n",
    "    print(c, '\\t', item)"
   ]
  },
  {
   "cell_type": "code",
   "execution_count": 186,
   "metadata": {},
   "outputs": [
    {
     "name": "stdout",
     "output_type": "stream",
     "text": [
      "['If', 'you', 'approach', 'a', 'girl', 'who', 'is', 'with', 'her', 'friends', ',', 'be', 'prepared', 'to', 'impress', 'the', 'entire', 'group', '.']\n",
      "-------------------------\n",
      "1.1484186507842885e-231 \t [['*', 'Ask', 'a', 'sister', ',', 'mother', ',', 'or', 'female', 'friend', 'for', 'advice', '.']]\n",
      "1.0377133938315695e-231 \t [['They', 'are', 'women', ',', 'after', 'all', '.']]\n",
      "1.0377133938315695e-231 \t [['They', 'might', 'have', 'some', 'advice', 'for', 'you', '.']]\n",
      "1.0377133938315695e-231 \t [['*', 'Make', 'sure', 'the', 'conversation', 'goes', 'both', 'ways', '.']]\n",
      "1.1484186507842885e-231 \t [['There', \"'s\", 'nothing', 'worse', 'than', 'being', 'in', 'a', 'conversation', 'where', 'only', 'one', 'person', 'is', 'talking', '.']]\n",
      "1.2340561512781763e-231 \t [['Ask', 'her', 'opinion', ',', 'and', 'LISTEN', 'to', 'what', 'she', 'says', '.']]\n",
      "1.0377133938315695e-231 \t [['This', 'shows', 'that', 'you', 'care', 'about', 'what', 'she', 'thinks', 'and', 'that', 'you', \"'re\", 'paying', 'attention', '.']]\n",
      "1.149910437731938e-231 \t [['*', 'Girls', 'like', 'to', 'be', 'asked', 'questions', '-', 'that', \"'s\", 'how', 'you', 'make', 'the', 'girl', 'feel', 'more', 'comfortable', 'and', 'secure', 'with', 'you', '.']]\n",
      "8.726094729337945e-232 \t [['For', 'an', 'example', ',', 'say', '``', 'How', 'was', 'your', 'day', '?']]\n",
      "8.726094729337945e-232 \t [['``', ',', '``', 'What', 'are', 'your', 'interests', '?']]\n",
      "1.1484186507842885e-231 \t [['``', ',', '``', 'Do', 'you', 'have', 'any', 'good', 'friends', '?']]\n",
      "1.1484186507842885e-231 \t [['``', ',', 'or', '``', 'Do', 'you', 'stay', 'close', 'to', 'your', 'Family', '?', \"''\"]]\n",
      "1.2340561512781763e-231 \t [['Girls', 'love', 'a', 'guy', 'that', 'is', 'very', 'close', 'to', 'their', 'family', '.']]\n",
      "3.663680796844828e-232 \t [['*', 'Really', 'important', ':', 'Do', \"n't\", 'be', 'annoying', 'because', 'you', 'think', 'they', 'like', 'it', '-', 'treat', 'a', 'women', 'as', 'you', 'would', 'at', 'a', 'fancy', 'party', ',', 'do', \"n't\", 'try', 'any', 'flirty/poking', 'her', 'elbow', 'tricks', 'until', 'you', 'have', 'established', 'a', 'proper', 'friendship', 'or', 'more', '.']]\n",
      "0 \t [['#', '#', 'Warnings']]\n",
      "0.8056920633274978 \t [['*', 'If', 'you', 'approach', 'a', 'woman', 'who', 'is', 'with', 'her', 'friends', ',', 'be', 'prepared', 'to', 'impress', 'the', 'entire', 'group', '.']]\n",
      "4.920968510408716e-155 \t [['*', 'If', 'you', 'get', 'rejected', 'in', 'public', ',', 'do', \"n't\", 'react', 'negatively', ',', 'just', 'smile', 'at', 'her', 'and', 'leave', '.']]\n",
      "5.186903763466333e-155 \t [['*', 'Do', 'not', 'tell', 'a', 'girl', 'to', 'smile', 'if', 'she', 'is', \"n't\", '.']]\n",
      "1.0377133938315695e-231 \t [['Women', 'are', 'told', 'this', 'constantly', 'and', 'it', 'is', 'never', 'endearing', '.']]\n",
      "5.186903763466333e-155 \t [['*', 'Do', \"n't\", 'be', 'that', 'jerk', 'who', 'reads', 'way', 'too', 'deeply', 'into', 'what', 'a', 'girl', \"'s\", 'saying', '.']]\n",
      "9.485208888416708e-232 \t [['If', 'she', 'says', 'she', \"'s\", 'not', 'interested', ',', 'she', \"'s\", 'not', 'trying', 'to', 'play', 'hard', 'to', 'get', ',', 'she', \"'s\", 'just', 'not', 'interested', '.']]\n",
      "8.726094729337945e-232 \t [['*', 'Be', 'respectful', '.']]\n",
      "1.1484186507842885e-231 \t [['Treat', 'her', 'like', 'a', 'woman', ';', 'do', \"n't\", 'act', 'disrespectful', 'and', 'overly', 'flirtatious', '.']]\n",
      "1.1484186507842885e-231 \t [['*', 'Do', 'not', 'approach', 'girls', 'at', 'the', 'gym', '.']]\n",
      "1.0377133938315695e-231 \t [['They', 'are', 'there', 'to', 'workout', 'and', 'rarely', 'appreciate', 'being', 'hit-on', '.']]\n"
     ]
    }
   ],
   "source": [
    "candidate = content[1]['Target_Context']\n",
    "print(content[1]['Target_Tokenized'])\n",
    "print(\"-------------------------\")\n",
    "bleu_scores = []\n",
    "sents = []\n",
    "for elem in res: \n",
    "    reference = [word_tokenize(elem)]\n",
    "    candidate = content[1]['Target_Tokenized']\n",
    "    score = sentence_bleu(reference, candidate)\n",
    "    print(score, '\\t', reference)\n",
    "    bleu_scores.append(score)\n",
    "    sents.append(reference)"
   ]
  },
  {
   "cell_type": "code",
   "execution_count": 187,
   "metadata": {},
   "outputs": [
    {
     "name": "stdout",
     "output_type": "stream",
     "text": [
      "0.8056920633274978\n",
      "15\n"
     ]
    },
    {
     "data": {
      "text/plain": [
       "[['*',\n",
       "  'If',\n",
       "  'you',\n",
       "  'approach',\n",
       "  'a',\n",
       "  'woman',\n",
       "  'who',\n",
       "  'is',\n",
       "  'with',\n",
       "  'her',\n",
       "  'friends',\n",
       "  ',',\n",
       "  'be',\n",
       "  'prepared',\n",
       "  'to',\n",
       "  'impress',\n",
       "  'the',\n",
       "  'entire',\n",
       "  'group',\n",
       "  '.']]"
      ]
     },
     "execution_count": 187,
     "metadata": {},
     "output_type": "execute_result"
    }
   ],
   "source": [
    "max_bleu = max(bleu_scores)\n",
    "print(max_bleu)\n",
    "index = bleu_scores.index(max_bleu)\n",
    "print(index)\n",
    "sents[index]"
   ]
  },
  {
   "cell_type": "code",
   "execution_count": 184,
   "metadata": {},
   "outputs": [
    {
     "name": "stdout",
     "output_type": "stream",
     "text": [
      "['If', 'you', 'approach', 'a', 'girl', 'who', 'is', 'with', 'her', 'friends', ',', 'be', 'prepared', 'to', 'impress', 'the', 'entire', 'group', '.']\n",
      "['* Ask a sister, aunt, or female friend for advice. They are girls, after all. They might have some advice for you.', \"* Make sure the conversation goes both ways. There's nothing worse than being in a conversation where only one person is talking. Ask her opinion, and LISTEN to what she says. This shows that you care about what she thinks and that you're paying attention.\", '* Girls like to be asked questions - that\\'s how you make the girl feel more comfortable and secure with you. For an example, say \"How was your day?\", \"What are your interests?\", \"Do you have any good friends?\", or \"Do you stay close to your Family?\" Girls love a guy that is very close to their family.', \"* Really important: Don't be annoying because you think they like it - treat a girl as you would at a fancy party, don't try any flirty/poking her elbow tricks until you have established a proper friendship or more.\", '## Warnings', '* If you approach a girl who is with her friends, be prepared to impress the entire group.', \"* If you get rejected in public, don't react negatively, just smile at her and leave.\", \"* Do not tell a girl to smile if she isn't. Some girls are told this constantly and it is never endearing.\", \"* Don't be that jerk who reads way too deeply into what a girl's saying. If she says she's not interested, she's not trying to play hard to get, she's just not interested.\", \"* Be respectful. Treat her like a human being; don't act disrespectful and overly flirtatious.\", '* Do not approach girls at the gym. They are there to workout and rarely appreciate being hit-on.']\n"
     ]
    }
   ],
   "source": [
    "context = content[1]['Target_Context']\n",
    "sents = content[1]['Target_Tokenized']\n",
    "print(sents)\n",
    "print(context)"
   ]
  },
  {
   "cell_type": "code",
   "execution_count": 188,
   "metadata": {},
   "outputs": [
    {
     "name": "stdout",
     "output_type": "stream",
     "text": [
      "['If', 'you', 'approach', 'a', 'woman', 'who', 'is', 'with', 'her', 'friends', ',', 'be', 'prepared', 'to', 'impress', 'the', 'entire', 'group', '.']\n",
      "['* Ask a sister, mother, or female friend for advice. They are women, after all. They might have some advice for you.', \"* Make sure the conversation goes both ways. There's nothing worse than being in a conversation where only one person is talking. Ask her opinion, and LISTEN to what she says. This shows that you care about what she thinks and that you're paying attention.\", '* Girls like to be asked questions - that\\'s how you make the girl feel more comfortable and secure with you. For an example, say \"How was your day?\", \"What are your interests?\", \"Do you have any good friends?\", or \"Do you stay close to your Family?\" Girls love a guy that is very close to their family.', \"* Really important: Don't be annoying because you think they like it - treat a women as you would at a fancy party, don't try any flirty/poking her elbow tricks until you have established a proper friendship or more.\", '## Warnings', '* If you approach a woman who is with her friends, be prepared to impress the entire group.', \"* If you get rejected in public, don't react negatively, just smile at her and leave.\", \"* Do not tell a girl to smile if she isn't. Women are told this constantly and it is never endearing.\", \"* Don't be that jerk who reads way too deeply into what a girl's saying. If she says she's not interested, she's not trying to play hard to get, she's just not interested.\", \"* Be respectful. Treat her like a woman; don't act disrespectful and overly flirtatious.\", '* Do not approach girls at the gym. They are there to workout and rarely appreciate being hit-on.']\n"
     ]
    }
   ],
   "source": [
    "context = content[1]['Source_Context']\n",
    "sents = content[1]['Source_Tokenized']\n",
    "print(sents)\n",
    "print(context)"
   ]
  },
  {
   "cell_type": "code",
   "execution_count": 216,
   "metadata": {},
   "outputs": [],
   "source": [
    "def get_matching_sent(context, sent): \n",
    "    \"\"\"\n",
    "        Use this function to get closest match to a source_line or target_line in a paragraph. \n",
    "    \"\"\"\n",
    "    sentence_tokenized_document = sentence_splitter(context)\n",
    "    bleu_scores = []\n",
    "    sents = []\n",
    "    for elem in sentence_tokenized_document: \n",
    "        reference = [word_tokenize(elem)]\n",
    "        score = sentence_bleu(reference, sent)\n",
    "        bleu_scores.append(score)\n",
    "        sents.append(elem)\n",
    "    index_of_max_bleu = bleu_scores.index(max(bleu_scores))\n",
    "    matched_sent = sents[index_of_max_bleu]\n",
    "    print(matched_sent)"
   ]
  },
  {
   "cell_type": "code",
   "execution_count": 214,
   "metadata": {},
   "outputs": [
    {
     "name": "stdout",
     "output_type": "stream",
     "text": [
      "15\n",
      "* If you approach a girl who is with her friends, be prepared to impress the entire group.\n"
     ]
    }
   ],
   "source": []
  },
  {
   "cell_type": "code",
   "execution_count": 217,
   "metadata": {},
   "outputs": [
    {
     "name": "stdout",
     "output_type": "stream",
     "text": [
      "['Maintain', 'eye', 'contact', '.']\n",
      "Maintain eye contact.\n",
      "['If', 'you', 'approach', 'a', 'girl', 'who', 'is', 'with', 'her', 'friends', ',', 'be', 'prepared', 'to', 'impress', 'the', 'entire', 'group', '.']\n",
      "* If you approach a girl who is with her friends, be prepared to impress the entire group.\n",
      "['Weigh', 'the', 'kittens', 'once', 'per', 'day', '.']\n",
      "5. Weigh the kittens once per day.\n",
      "['To', 'make', 'sure', 'that', 'the', 'kittens', 'are', 'getting', 'proper', 'nutrition', 'and', 'putting', 'on', 'weight', ',', 'you', 'will', 'need', 'to', 'weigh', 'the', 'kittens', 'once', 'per', 'day', 'and', 'keep', 'a', 'record', 'of', 'their', 'weights', '.']\n",
      "To make sure that the kittens are getting proper nutrition and putting on weight, you will need to weigh the kittens once per day and keep a record of their weights.\n",
      "['Attempt', 'to', 'be', 'compassionate', 'and', 'give', 'them', 'the', 'benefit', 'of', 'the', 'doubt', '.']\n",
      "Attempt to be compassionate and give them the benefit of the doubt.\n",
      "['Say', '“', 'Not', 'great', '”', 'or', '“', 'I', 'think', 'I', '’', 'm', 'coming', 'down', 'with', 'something', '”', 'if', 'you', 'are', 'feeling', 'ill', '.']\n",
      "2. Say “Not great” or “I think I’m coming down with something” if you are feeling ill.\n",
      "['It', 'is', 'normal', 'to', 'suffer', 'intensely', 'when', 'a', 'friend', 'you', 'love', 'is', 'taken', 'away', 'by', 'a', 'car', 'crash', ',', 'cancer', 'or', 'an', 'ugly', 'disease', '.']\n",
      "It is normal to suffer intensely when a friend you love is taken away by a car crash, cancer or an ugly disease.\n",
      "['Be', 'sure', 'that', 'the', 'marked', 'line', 'is', 'above', 'the', 'heating', 'element', '.']\n",
      "Be sure that the marked line is above the heating element.\n",
      "['Post', 'photos', 'of', 'your', 'work', ',', 'inventory', ',', 'or', 'building', '.']\n",
      "* If you offer services, take photos of your work.\n",
      "['Always', 'consult', 'your', 'physician', 'before', 'beginning', 'a', 'new', 'exercise', 'programme', '.']\n",
      "* Always consult your physician before beginning a new exercise programme.\n",
      "['As', 'an', 'example', ',', '$', '75,000', '(', 'assets', ')', '-', '$', '25,000', '(', 'liabilities', ')', '=', '$', '50,000', 'for', 'December', '31', ',', '2014', '.']\n",
      "As an example, $75,000 (assets) - $25,000 (liabilities) = $50,000 for December 31, 2014.\n",
      "['The', 'art', 'of', 'conversation', 'is', '90', 'percent', 'listening', '.']\n",
      "The art of conversation is 90 percent listening.\n",
      "['Jobs', 'like', 'Durex', \"''\", 'for', 'boys', 'or', '``', 'Pop', 'Singers', 'for', 'girls', '.']\n",
      "Jobs like Durex\" for boys or \"Pop Singers for girls.\n",
      "['After', 'you', 'have', 'taken', 'a', 'deep', 'breath', 'of', 'cold', 'air', ',', 'breathe', 'out', 'through', 'your', 'mouth', '.']\n",
      "After you have taken a deep breath of cold air, breathe out through your mouth.\n",
      "['Measure', 'the', 'length', 'of', 'a', 'box', '.']\n",
      "2. Measure the length of a box.\n",
      "['This', 'guide', 'will', 'yield', 'one', 'scalable', 'uninterrupted', 'power', 'supply', 'system', '.']\n",
      "This guide will yield one scalable uninterrupted power supply system.\n",
      "['Locate', 'atomic', 'mass', 'on', 'the', 'periodic', 'table', '.']\n",
      "2. Locate atomic mass on the periodic table.\n",
      "['Fuzzy', 'fabric', 'huts', 'should', 'be', 'avoided', 'as', 'the', 'fibers', 'cause', 'crop', 'impaction', 'and', 'gut', 'blockage', 'when', 'ingested', '.']\n",
      "Fuzzy fabric huts should be avoided as the fibers cause crop impaction and gut blockage when ingested.\n",
      "['He', 'is', 'scared', 'of', 'his', 'older', 'brother', '(', 'most', 'of', 'the', 'time', ')', 'but', 'he', 'tries', 'to', 'bully', 'his', 'younger', 'brother', 'when', 'he', 'can', ',', 'when', 'his', 'mom', 'is', \"n't\", 'watching', '.']\n",
      "2. He is scared of his older brother (most of the time) but he tries to bully his younger brother when he can, when his mom isn't watching.\n",
      "['BIL', 'and', 'PDL', 'policies', 'are', 'often', 'specified', 'as', 'sets', 'of', 'numbers', ',', 'like', '20/50/10', '.']\n",
      "* BIL and PDL policies are often specified as sets of numbers, like 20/50/10.\n",
      "['Make', 'sure', 'it', 'is', 'highlighted', 'in', 'blue', '.']\n",
      "Make sure it is highlighted in blue.\n",
      "['Give', 'your', 'ducks', 'plenty', 'of', 'quality', 'food', '.']\n",
      "1. Give your ducks plenty of quality food.\n",
      "['Determine', 'whether', 'the', 'horse', \"'s\", 'movements', 'look', 'safe', '.']\n",
      "Determine whether the horse's movements look safe.\n",
      "['Get', 'the', 'right', 'food', '.']\n",
      "2. Get the right food.\n",
      "['This', 'equates', 'to', '140', 'litres', 'for', 'the', 'first', 'fish', ',', 'and', '45', 'liters', 'per', 'additional', 'fish', '.']\n",
      "This equates to 140 litres for the first fish, and 45 liters per additional fish.\n",
      "['A', 'horse', 'for', 'a', 'knight', 'can', 'go', 'well', ',', 'or', 'a', 'dog', 'for', 'any', 'time', 'zone', '.']\n",
      "A horse for a knight can go well, or a dog for any time zone.\n",
      "['Take', 'notes', 'and', 'highlight', 'any', 'relevant', 'information']\n",
      "* Take notes and highlight any relevant information\n",
      "['If', 'you', 'see', 'strays', ',', 'pluck', 'em', '!', 'If', 'You', 'want', 'fuller', 'eye', 'brows', 'use', 'an', 'eye', 'brow', 'pencil', 'or', 'eye', 'shadow', 'that', 'matches', 'the', 'color', 'of', 'your', 'eye', 'brows', '.']\n",
      "If You want fuller eye brows use an eye brow pencil or eye shadow that matches the color of your eye brows.\n",
      "['How', 'to', 'Make', 'a', 'Fitness', 'Calendar']\n",
      "* <a href=\"Make%20a%20Fitness%20Calendar\">How to Make a Fitness Calendar</a>\n",
      "['Training', 'regularly', 'is', 'the', 'only', 'way', 'you', '’', 'll', 'be', 'able', 'to', 'step', 'into', 'the', 'cage', 'and', 'hurt', 'your', 'opponent', 'while', 'evading', 'their', 'attacks', '.']\n",
      "Training regularly is the only way you’ll be able to step into the cage and hurt your opponent while evading their attacks.\n",
      "['only', 'do', 'this', 'with', 'your', 'mom', 'and', 'dad', \"'s\", 'permission']\n",
      "* only do this with your mom and dad's permission\n",
      "['Many', 'pet', 'stores', 'sell', 'toys', 'where', 'you', 'place', 'a', 'treat', 'inside', 'a', 'box', 'a', 'pig', 'must', 'then', 'disassemble', '.']\n",
      "Many pet stores sell toys where you place a treat inside a box a pig must then disassemble.\n",
      "['You', 'do', \"n't\", 'have', 'to', 'stick', 'with', 'books', ',', 'you', 'can', 'read', 'a', 'newspaper', ',', 'poetry', 'and', 'magazines', '.']\n",
      "You don't have to stick with books, you can read a newspaper, poetry and magazines.\n",
      "['If', 'you', 'have', 'excess', 'body', 'fat', ',', 'the', 'benefits', 'of', 'exercise', 'will', 'not', 'be', 'visible', '.']\n",
      "If you have excess body fat, the benefits of exercise will not be visible.\n",
      "['You', 'can', 'then', 'evaluate', 'these', 'set', 'goals', 'and', 'have', 'a', 'better', 'understanding', 'of', 'what', 'to', 'monitor', 'and', 'measure', '.']\n",
      "You can then evaluate these set goals and have a better understanding of what to monitor and measure.\n",
      "['Do', \"n't\", 'get', 'complacent', ',', 'even', 'after', 'lots', 'of', 'practice', '.']\n",
      "* Don't get complacent, even after lots of practice.\n",
      "['Other', 'people', 'want', 'to', 'be', 'on', 'their', 'school', \"'s\", 'team', 'and', 'do', 'All', 'Star', 'cheerleading', 'at', 'the', 'same', 'time', '.']\n",
      "Other people want to be on their school's team and do All Star cheerleading at the same time.\n",
      "['Use', 'an', 'axe', 'and', 'chop', 'down', 'some', 'trees', 'in', 'any', 'old', 'place', '.']\n",
      "2. Use an axe and chop down some trees in any old place.\n",
      "['Your', 'Defense', 'level', 'times', '100', '(', 'call', 'this', 'variable', 'A', ')']\n",
      "* Your Defense level times 100 (call this variable A)\n",
      "['Convert', 'the', 'number', 'into', 'money', 'form', '(', '$', '69.03', ')', ',', 'rounding', 'if', 'needed', '.']\n",
      "5. Convert the number into money form ($69.03), rounding if needed.\n",
      "['Indulge', 'in', 'extra', 'curricular', 'activities', '.']\n",
      "* Indulge in extra curricular activities.\n",
      "['Music', 'therapy', 'as', 'an', 'remedy', 'to', 'address', 'perceived', 'pain', 'due', 'to', 'surgery', 'can', 'be', 'beneficial', 'to', 'patients', 'physically', 'and', 'psychologically', '.']\n",
      "Music therapy as an remedy to address perceived pain due to surgery can be beneficial to patients physically and psychologically.\n",
      "['Keep', 'track', 'of', 'the', 'effects', 'the', 'accident', 'has', 'on', 'your', 'life', '.']\n",
      "7. Keep track of the effects the accident has on your life.\n",
      "['It', 'is', 'important', 'to', 'photograph', 'both', 'vehicles', ',', 'not', 'just', 'yours', '.']\n",
      "* It is important to photograph both vehicles, not just yours.\n",
      "['Although', 'your', 'car', 'is', 'the', 'one', 'that', 'concerns', 'you', ',', 'you', 'should', 'photograph', 'both', 'vehicles', '.']\n",
      "Although your car is the one that concerns you, you should photograph both vehicles.\n",
      "['As', 'it', 'may', 'change', 'the', 'way', 'colleagues', 'are', 'talking', 'to', 'you']\n",
      "As it may change the way colleagues are talking to you\n",
      "['NEVER', 'ALLOW', 'THE', 'CALIPER', 'TO', 'HANG', 'ON', 'THE', 'HOSE', '.']\n",
      "* NEVER ALLOW THE CALIPER TO HANG ON THE HOSE.\n",
      "['NEVER', 'ALLOW', 'THE', 'CALIPER', 'TO', 'HANG', 'ON', 'THE', 'HOSE', '.']\n",
      "* NEVER ALLOW THE CALIPER TO HANG ON THE HOSE.\n",
      "['Pump', 'the', 'brake', 'lever', 'to', 'clamp', 'the', 'pads', 'onto', 'the', 'spacer', '.']\n",
      "4. Pump the brake lever to clamp the pads onto the spacer.\n",
      "['It', 'can', 'also', 'be', 'used', 'to', 'calculate', 'how', 'many', 'gallons', 'were', 'purchased', 'using', 'G=TS', '/', 'P', '.']\n",
      "* It can also be used to calculate how many gallons were purchased using G=TS / P.\n",
      "['Have', 'you', 'ever', 'noticed', 'while', 'texting', 'your', 'friends', 'that', 'some', 'things', 'come', 'across', 'as', 'sounding', 'mean', 'or', 'nasty', ',', 'even', 'if', 'they', \"'re\", 'really', 'not', '?']\n"
     ]
    },
    {
     "name": "stdout",
     "output_type": "stream",
     "text": [
      "Have you ever noticed while texting your friends that some things come across as sounding mean or nasty, even if they're really not?\n",
      "['Tap', 'the', '``', 'Block', \"''\", 'option', 'at', 'the', 'top', 'of', 'the', 'screen', '.']\n",
      "* Tap the \"Block\" option at the top of the screen.\n",
      "['How', 'much', 'weight', 'is', 'considered', '“', 'heavy', '”', 'depends', 'on', 'the', 'person', ',', 'including', 'experience', 'level', 'and', 'sex', '.']\n",
      "How much weight is considered “heavy” depends on the person, including experience level and sex.\n",
      "['For', 'even', 'more', 'simplicity', ',', 'just', 'start', 'doing', '10', 'push-ups', 'and', '20', 'crunches', 'every', 'morning', ',', 'and', 'work', 'up', 'to', '25', 'or', 'more', 'push-ups', 'and', '50', 'or', 'more', 'crunches', '.']\n",
      "For even more simplicity, just start doing 10 push-ups and 20 crunches every morning, and work up to 25 or more push-ups and 50 or more crunches.\n",
      "['Give', 'children', 'the', 'time', 'and', 'space', 'to', 'try', 'something', 'new', 'and', 'learn', 'from', 'their', 'mistakes', '.']\n",
      "Give children the time and space to try something new and learn from their mistakes.\n",
      "['There', 'are', 'several', 'questions', 'to', 'take', 'into', 'consideration', 'when', 'choosing', 'a', 'motorcycle', '.']\n",
      "There are several questions to take into consideration when choosing a motorcycle.<br><br>\n",
      "['There', 'are', 'several', 'questions', 'to', 'take', 'into', 'consideration', 'when', 'choosing', 'a', 'motorcycle', '.']\n",
      "There are several questions to take into consideration when choosing a motorcycle.<br><br>\n",
      "['There', 'are', 'several', 'questions', 'to', 'take', 'into', 'consideration', 'when', 'choosing', 'a', 'motorcycle', '.']\n",
      "There are several questions to take into consideration when choosing a motorcycle.<br><br>\n",
      "['You', 'can', 'also', 'apply', 'sunscreen', 'on', 'your', 'mustache', 'and', 'go', 'out', 'into', 'the', 'sun', 'to', 'get', 'a', 'tan', '.']\n",
      "* You can also apply sunscreen on your mustache and go out into the sun to get a tan.\n",
      "['When', 'you', 'get', 'back', 'from', 'tanning', ',', 'the', 'mustache', 'will', 'blend', 'in', 'with', 'the', 'tan', '.']\n",
      "When you get back from tanning, the mustache will blend in with the tan.\n",
      "['Robux', 'cost', 'money', 'but', ',', 'they', '’', 're', 'worth', 'the', 'cost', '.']\n",
      "Robux cost money but, they’re worth the cost.\n",
      "['Read', 'the', 'newspaper', 'like', 'old', 'times', '?']\n",
      "Read the newspaper like old times?\n",
      "['Apart', 'from', 'the', 'feeling', 'of', 'flying', 'and', 'the', 'exhilaration', 'that', 'comes', 'with', 'riding', 'a', 'motorcycle', ',', 'there', 'is', 'also', 'the', 'mechanical', 'side', '.']\n",
      "Apart from the feeling of flying and the exhilaration that comes with riding a motorcycle, there is also the mechanical side.\n",
      "['Build', 'up', 'the', 'color', 'gradually', ',', 'so', 'you', 'get', 'exactly', 'the', 'shade', 'you', 'want', '.']\n",
      "Build up the color gradually, so you get exactly the shade you want.\n",
      "['Eat', 'lots', 'of', 'fiber', ',', 'like', 'fruits', 'and', 'vegetables', ',', 'and', 'eat', 'lots', 'of', 'protein', 'like', 'eggs', ',', 'fish', ',', 'chicken', ',', 'nuts', ',', 'and', 'tofu', '.']\n",
      "Eat lots of fiber, like fruits and vegetables, and eat lots of protein like eggs, fish, chicken, nuts, and tofu.\n",
      "['Watch', 'only', 'a', 'little', 'TV', '.']\n",
      "7. Watch only a little TV.\n",
      "['If', 'you', 'buy', 'real', 'estate', ',', 'you', 'must', 'be', 'aware', 'of', 'it', '.']\n",
      "If you buy real estate, you must be aware of it.\n",
      "['Health', 'professionals', 'recommend', 'aiming', 'for', 'about', '150', 'minutes', 'of', 'cardio', 'per', 'week', '.']\n",
      "Health professionals recommend aiming for about 150 minutes of cardio per week.\n",
      "['Be', 'wary', 'of', 'programs', 'that', 'suggest', 'taking', 'a', 'lot', 'of', 'supplements', '.']\n",
      "3. Be wary of programs that suggest taking a lot of supplements.\n",
      "['Also', 'avoid', 'programs', 'that', 'recommend', 'taking', 'non-prescription', 'weight', 'loss', 'medications', '.']\n",
      "* Also avoid programs that recommend taking non-prescription weight loss medications.\n",
      "['Pay', 'particular', 'attention', 'to', 'the', 'hairline', 'line', 'and', 'roots', '.']\n",
      "Pay particular attention to the hairline line and roots.\n",
      "['Click', 'on', 'Recent', 'Changes', 'in', 'the', 'column', 'to', 'the', 'right', '.']\n",
      "* Click on Recent Changes in the column to the right.\n",
      "['By', 'not', 'getting', 'ripped', 'off', 'you', 'are', 'not', 'only', 'benefiting', 'yourself', ',', 'but', 'future', 'travelers', '.']\n",
      "By not getting ripped off you are not only benefiting yourself, but future travelers.\n",
      "['Resist', 'the', 'urge', 'to', 'compare', 'yourself', 'to', 'classmates', 'or', 'coworkers', '.']\n",
      "Resist the urge to compare yourself to classmates or coworkers.\n",
      "['The', 'first', 'method', 'is', 'great', 'for', 'working', 'your', 'small', 'stabilization', 'muscles', ',', 'getting', 'more', 'dynamic', 'exercises', 'and', 'it', \"'s\", 'cheaper', 'and', 'easier', 'to', 'construct', '.']\n",
      "* The first method is great for working your small stabilization muscles, getting more dynamic exercises and it's cheaper and easier to construct.\n",
      "['Choose', '2', 'big', 'mixing', 'buckets', 'you', 'don', '’', 't', 'mind', 'burying', '.']\n",
      "Choose 2 big mixing buckets you don’t mind burying.\n",
      "['Do', \"n't\", 'put', 'your', 'arm', 'around', 'her', 'shoulders', '.']\n",
      "* Don't put your arm around her shoulders.\n",
      "['Watch', 'every', 'single', 'episode', 'they', 'make/made']\n",
      "1. Watch every single episode they make/made<br><br>\n",
      "['You', 'need', 'to', 'consult', 'your', 'doctor', 'regarding', 'your', 'consumption', 'of', 'the', 'herbs', ',', 'for', 'they', 'may', 'cause', 'adverse', 'side-effects', 'in', 'your', 'body', '.']\n",
      "* You need to consult your doctor regarding your consumption of the herbs, for they may cause adverse side-effects in your body.\n",
      "['Gather', 'both', 'a', 'phillips', 'and', 'flat', 'head', 'screwdriver', '.']\n",
      "2. Gather both a phillips and flat head screwdriver.\n",
      "['Know', ',', 'however', ',', 'that', 'this', 'will', 'not', 'make', 'a', 'very', 'strong', 'box', '.']\n",
      "Know, however, that this will not make a very strong box.\n",
      "['Make', 'sure', 'each', 'biscuit', 'is', 'snug', 'inside', 'the', 'hole', '.']\n",
      "Make sure each biscuit is snug inside the hole.\n",
      "['That', \"'s\", 'because', 'wholemeal', 'bread', 'contains', 'complex', 'carbohydrates', 'instead', 'of', 'simple', 'carbohydrates', ';', 'complex', 'carbohydrates', 'take', 'longer', 'for', 'your', 'body', 'to', 'break', 'down', ',', 'meaning', 'they', 'are', \"n't\", 'stored', 'as', 'fat', 'easily', '.']\n",
      "That's because wholemeal bread contains complex carbohydrates instead of simple carbohydrates; complex carbohydrates take longer for your body to break down, meaning they aren't stored as fat easily.\n",
      "['Your', 'initially', 'piercing', 'jewelry', 'should', 'stay', 'in', 'place', 'for', 'the', 'duration', 'of', 'the', 'healing', 'period', '(', '4-10', 'weeks', ')', '.']\n",
      "Your initially piercing jewelry should stay in place for the duration of the healing period (4-10 weeks).\n",
      "['If', 'you', 'wish', 'to', 'be', 'able', 'to', 'do', 'the', 'bunny', 'hop', 'backwards', '(', 'getting', 'your', 'rear', 'wheel', 'off', 'first', ')', ',', 'you', 'could', 'do', 'a', 'stoppie', '(', 'getting', 'some', 'speed', 'and', 'hitting', 'the', 'front', 'brake', 'just', 'enough', 'to', 'get', 'the', 'back', 'wheel', 'off', 'the', 'ground', ')', 'while', 'thrusting', 'your', 'weight', 'onto', 'your', 'front', 'tire', 'and', 'then', 'slinging', 'your', 'weight', 'backwards', 'while', 'holding', 'on', 'to', 'the', 'handlebars', 'and', 'when', 'the', 'rear', 'wheel', 'is', 'still', 'up', '.']\n",
      "* If you wish to be able to do the bunny hop backwards (getting your rear wheel off first), you could do a stoppie (getting some speed and hitting the front brake just enough to get the back wheel off the ground) while thrusting your weight onto your front tire and then slinging your weight backwards while holding on to the handlebars and when the rear wheel is still up.\n",
      "['Sample', 'I', 'statements', 'are', ':', '“', 'I', 'feel', 'angry', 'when', 'you', 'use', 'sarcasm', ',', '”', '“', 'I', 'feel', 'insulted', 'when', 'you', 'put', 'your', 'desires', 'ahead', 'of', 'mine', ',', '”', 'or', '“', 'I', 'feel', 'hurt', 'when', 'you', 'talk', 'to', 'me', 'like', 'that', '.', '”']\n",
      "* Sample I statements are: “I feel angry when you use sarcasm,” “I feel insulted when you put your desires ahead of mine,” or “I feel hurt when you talk to me like that.”\n",
      "['Remember', 'that', '``', 'without', 'love', ',', 'life', \"'s\", 'a', \"'45\", 'when', 'you', 'ca', \"n't\", 'buy', 'it', '!', \"''\"]\n",
      "Remember that \"without love, life's a '45 when you can't buy it!\"\n",
      "['Go', 'to', 'your', 'veterinarian', \"'s\", 'office', '.']\n",
      "3. Go to your veterinarian's office.\n",
      "['Stick', 'to', 'red', ',', 'grays', ',', 'blacks', ',', 'and', 'light', 'colors', '.']\n",
      "* Stick to red, grays, blacks, and light colors.\n",
      "['How', 'to', 'Change', 'Your', 'Security', 'Question', 'on', 'oDesk']\n",
      "* <a href=\"Change%20Your%20Security%20Question%20on%20oDesk\">How to Change Your Security Question on oDesk</a>\n",
      "['This', 'is', 'not', 'at', 'all', 'true', ',', 'if', 'any', 'one', 'bothered', 'to', 'read', 'he/she', 'would', 'find', 'out', 'that', 'the', 'people', 'who', 'steal', 'out', 'of', 'need', ',', 'the', 'employee', 'who', 'steals', 'from', 'his', 'work', 'place', '(', 'i.e', '.', 'a', 'waitress', 'who', 'steals', 'spoons', ')', ',', 'and', 'a', 'family', 'member', 'that', 'steals', 'from', 'his/her', 'family', 'member', ',', 'all', 'of', 'these', 'are', 'not', 'to', 'be', 'sentenced', 'by', 'cutting', 'of', 'their', 'hands', '.']\n",
      "This is not at all true, if any one bothered to read he/she would find out that the people who steal out of need, the employee who steals from his work place (i.e.\n",
      "['Allah', ',', 'the', 'Arabic', 'word', 'for', 'God', ',', 'refers', 'to', 'the', 'same', 'God', 'worshiped', 'by', 'Christians', 'and', 'Jews', '(', 'aka', 'the', '``', 'Abrahamic', \"''\", 'God', ')', '.']\n",
      "* Allah, the Arabic word for God, refers to the same God worshiped by Christians and Jews (aka the \"Abrahamic\" God).\n",
      "['Performance', 'the', 'five', 'daily', 'prayers', '(', 'Salah', ')', '.']\n",
      "* Performance the <a href=\"Pray%20in%20Islam\">five daily prayers</a> (Salah).\n",
      "['Practice', 'caution', 'when', 'going', 'into', 'a', 'taxi', '.']\n",
      "8. Practice caution when going into a taxi.\n",
      "['If', 'you', 'encounter', 'terrorists', 'who', 'target', 'people', 'of', 'a', 'particular', 'religion', ',', 'you', 'could', 'become', 'a', 'victim', 'of', 'terrorism', '.']\n"
     ]
    },
    {
     "name": "stdout",
     "output_type": "stream",
     "text": [
      "If you encounter terrorists who target people of a particular religion, you could become a victim of terrorism.\n",
      "['Open', 'the', 'Google', 'Drive', 'app', '.']\n",
      "* Open the Google Drive app.\n",
      "['Most', 'of', 'the', 'organizations', 'responsible', 'for', 'governance', 'of', 'snow', 'sports', 'training', 'are', 'members', 'of', 'the', 'International', 'Ski', 'Instructors', 'Association', '(', 'ISIA', ')', ',', 'the', 'worldwide', 'association', 'for', 'ski', 'instructors', ',', 'which', 'determines', 'minimum', 'standards', 'for', 'ski', 'instructor', 'certification', '.']\n",
      "* Most of the organizations responsible for governance of snow sports training are members of the International Ski Instructors Association (ISIA), the worldwide association for ski instructors, which determines minimum standards for ski instructor certification.\n",
      "['When', 'attempting', 'in', 'any', 'condition', ',', 'always', 'wear', 'a', 'personal', 'flotation', 'device', '.']\n",
      "* When attempting in any condition, always wear a personal flotation device.\n",
      "['Before', 'you', 'file', 'your', 'PCT', 'application', ',', 'you', 'should', 'be', 'aware', 'of', 'the', 'deadlines', 'so', 'that', 'you', 'can', 'plan', 'your', 'patent', 'application', 'timeline', 'accordingly', '.']\n",
      "Before you file your PCT application, you should be aware of the deadlines so that you can plan your patent application timeline accordingly.\n",
      "['Analyze', 'this', ',', 'discard', 'idiotic', 'behavior', '(', 'unless', 'you', 'are', 'prepared', 'to', 'be', '``', 'social', \"''\", 'by', 'being', 'an', 'ass', ')', '.']\n",
      "2. Analyze this, discard idiotic behavior (unless you are prepared to be \"social\" by being an ass).\n"
     ]
    }
   ],
   "source": [
    "subset = content[0:100]\n",
    "for wikihow_instance in subset: \n",
    "    print(wikihow_instance['Target_Tokenized'])\n",
    "    get_matching_sent(wikihow_instance['Target_Context'], wikihow_instance['Target_Tokenized'])"
   ]
  },
  {
   "cell_type": "code",
   "execution_count": 241,
   "metadata": {},
   "outputs": [],
   "source": [
    "def get_matching_sent_context(context, sent, windows=[1,2,3,4,5]): \n",
    "    \"\"\"\n",
    "        Use this function to get closest match to a source_line or target_line in a paragraph. \n",
    "    \"\"\"\n",
    "    sentence_tokenized_document = sentence_splitter(context)\n",
    "    bleu_scores = []\n",
    "    sents = []\n",
    "    for elem in sentence_tokenized_document: \n",
    "        reference = [word_tokenize(elem)]\n",
    "        score = sentence_bleu(reference, sent)\n",
    "        bleu_scores.append(score)\n",
    "        sents.append(elem)\n",
    "    index_of_max_bleu = bleu_scores.index(max(bleu_scores))\n",
    "    matched_sent = sents[index_of_max_bleu]\n",
    "    previous_sentences = []\n",
    "    next_sentences = []\n",
    "    for window in windows:\n",
    "        # get five sentences after max bleu index \n",
    "        next_sent = sents[index_of_max_bleu+window]\n",
    "        next_sentences.append(next_sent)\n",
    "        previous_sent = sents[index_of_max_bleu-window]\n",
    "        previous_sentences.append(previous_sent)\n",
    "    previous_sentences.reverse()\n",
    "    context = previous_sentences + [matched_sent] + next_sentences\n",
    "    print(context)    "
   ]
  },
  {
   "cell_type": "code",
   "execution_count": 242,
   "metadata": {},
   "outputs": [
    {
     "name": "stdout",
     "output_type": "stream",
     "text": [
      "['\", \"Do you have any good friends?', '\", or \"Do you stay close to your Family?\"', 'Girls love a guy that is very close to their family.', \"* Really important: Don't be annoying because you think they like it - treat a girl as you would at a fancy party, don't try any flirty/poking her elbow tricks until you have established a proper friendship or more.\", '## Warnings', '* If you approach a girl who is with her friends, be prepared to impress the entire group.', \"* If you get rejected in public, don't react negatively, just smile at her and leave.\", \"* Do not tell a girl to smile if she isn't.\", 'Some girls are told this constantly and it is never endearing.', \"* Don't be that jerk who reads way too deeply into what a girl's saying.\", \"If she says she's not interested, she's not trying to play hard to get, she's just not interested.\"]\n"
     ]
    }
   ],
   "source": [
    "get_matching_sent_context(content[1]['Target_Context'], content[1]['Target_Tokenized'])"
   ]
  },
  {
   "cell_type": "code",
   "execution_count": 232,
   "metadata": {},
   "outputs": [
    {
     "name": "stdout",
     "output_type": "stream",
     "text": [
      "* Ask a sister, aunt, or female friend for advice. They are girls, after all. They might have some advice for you.\n",
      "* Make sure the conversation goes both ways. There's nothing worse than being in a conversation where only one person is talking. Ask her opinion, and LISTEN to what she says. This shows that you care about what she thinks and that you're paying attention.\n",
      "* Girls like to be asked questions - that's how you make the girl feel more comfortable and secure with you. For an example, say \"How was your day?\", \"What are your interests?\", \"Do you have any good friends?\", or \"Do you stay close to your Family?\" Girls love a guy that is very close to their family.\n",
      "* Really important: Don't be annoying because you think they like it - treat a girl as you would at a fancy party, don't try any flirty/poking her elbow tricks until you have established a proper friendship or more.\n",
      "## Warnings\n",
      "* If you approach a girl who is with her friends, be prepared to impress the entire group.\n",
      "* If you get rejected in public, don't react negatively, just smile at her and leave.\n",
      "* Do not tell a girl to smile if she isn't. Some girls are told this constantly and it is never endearing.\n",
      "* Don't be that jerk who reads way too deeply into what a girl's saying. If she says she's not interested, she's not trying to play hard to get, she's just not interested.\n",
      "* Be respectful. Treat her like a human being; don't act disrespectful and overly flirtatious.\n",
      "* Do not approach girls at the gym. They are there to workout and rarely appreciate being hit-on.\n"
     ]
    }
   ],
   "source": [
    "for elem in content[1]['Target_Context']: \n",
    "    print(elem)"
   ]
  },
  {
   "cell_type": "code",
   "execution_count": 260,
   "metadata": {},
   "outputs": [],
   "source": [
    "def get_matching_sent_context(context, sent, windows=[1,2,3,4,5]): \n",
    "    \"\"\"\n",
    "        Use this function to get closest match to a source_line or target_line in a paragraph. \n",
    "    \"\"\"\n",
    "    sentence_tokenized_document = sentence_splitter(context)\n",
    "    bleu_scores = []\n",
    "    sents = []\n",
    "    for elem in sentence_tokenized_document: \n",
    "        reference = [word_tokenize(elem)]\n",
    "        score = sentence_bleu(reference, sent)\n",
    "        bleu_scores.append(score)\n",
    "        sents.append(elem)\n",
    "    index_of_max_bleu = bleu_scores.index(max(bleu_scores))\n",
    "    matched_sent = sents[index_of_max_bleu]\n",
    "    previous_sentences = []\n",
    "    next_sentences = []\n",
    "    for window in windows:\n",
    "        # get five sentences after max bleu index \n",
    "        next_sent = sents[index_of_max_bleu+window]\n",
    "        next_sentences.append(next_sent)\n",
    "        previous_sent = sents[index_of_max_bleu-window]\n",
    "        previous_sentences.append(previous_sent)\n",
    "    previous_sentences.reverse()\n",
    "    context = previous_sentences + [matched_sent] + next_sentences\n",
    "    return context    "
   ]
  },
  {
   "cell_type": "code",
   "execution_count": 243,
   "metadata": {},
   "outputs": [
    {
     "name": "stdout",
     "output_type": "stream",
     "text": [
      "['Maintain', 'eye', 'contact', '.']\n",
      "['## Steps', '1. You have to get out there and seek them out!', 'Most intelligent and classy girls do not go door to door looking for dates.', '2. Enter a public place such as school and check out the girls (Note: if you are too old to be in school, it will look creepy).', '3. Seek eye contact.', 'Maintain eye contact.', '4. Smile.', \"Avoid appearing overconfident as she may find you cocky, but you mustn't be shy either.\", 'Some girls do like shy guys.', \"But most of them want a guy who's not afraid to go out on a limb sometimes.\", \"5. Approach with confidence; don't use cheesy pick-up lines (A pick-up line is a conversation opener with the intent of engaging an unfamiliar person for sex, romance, or dating.\"]\n",
      "['If', 'you', 'approach', 'a', 'girl', 'who', 'is', 'with', 'her', 'friends', ',', 'be', 'prepared', 'to', 'impress', 'the', 'entire', 'group', '.']\n",
      "['\", \"Do you have any good friends?', '\", or \"Do you stay close to your Family?\"', 'Girls love a guy that is very close to their family.', \"* Really important: Don't be annoying because you think they like it - treat a girl as you would at a fancy party, don't try any flirty/poking her elbow tricks until you have established a proper friendship or more.\", '## Warnings', '* If you approach a girl who is with her friends, be prepared to impress the entire group.', \"* If you get rejected in public, don't react negatively, just smile at her and leave.\", \"* Do not tell a girl to smile if she isn't.\", 'Some girls are told this constantly and it is never endearing.', \"* Don't be that jerk who reads way too deeply into what a girl's saying.\", \"If she says she's not interested, she's not trying to play hard to get, she's just not interested.\"]\n",
      "['Weigh', 'the', 'kittens', 'once', 'per', 'day', '.']\n",
      "['Do not give cow’s milk to the kittens because it is too hard for them to digest.', '* When the kittens are 3-4 weeks old, provide formula in a shallow dish as well as some kitten food that has been softened with water.', 'Offer these foods 4-6 times per day.', '* When the kittens are 6-12 weeks old, decrease the amount of formula that you offer them and begin to give them dry kitten food.', 'Offer these foods 4 times per day.', '5. Weigh the kittens once per day.', 'To make sure that the kittens are getting proper nutrition and putting on weight, you will need to weigh the kittens once per day and keep a record of their weights.', 'Kittens should gain about 1/4 to 1/2 ounce per day.', 'Talk to your veterinarian if you are concerned that the kittens are not gaining weigh fast enough.', '### Handling and Protecting', '1. Leave kittens alone during their first week of life if the mother is around.']\n",
      "['To', 'make', 'sure', 'that', 'the', 'kittens', 'are', 'getting', 'proper', 'nutrition', 'and', 'putting', 'on', 'weight', ',', 'you', 'will', 'need', 'to', 'weigh', 'the', 'kittens', 'once', 'per', 'day', 'and', 'keep', 'a', 'record', 'of', 'their', 'weights', '.']\n",
      "['* When the kittens are 3-4 weeks old, provide formula in a shallow dish as well as some kitten food that has been softened with water.', 'Offer these foods 4-6 times per day.', '* When the kittens are 6-12 weeks old, decrease the amount of formula that you offer them and begin to give them dry kitten food.', 'Offer these foods 4 times per day.', '5. Weigh the kittens once per day.', 'To make sure that the kittens are getting proper nutrition and putting on weight, you will need to weigh the kittens once per day and keep a record of their weights.', 'Kittens should gain about 1/4 to 1/2 ounce per day.', 'Talk to your veterinarian if you are concerned that the kittens are not gaining weigh fast enough.', '### Handling and Protecting', '1. Leave kittens alone during their first week of life if the mother is around.', 'Mother cats may reject their kittens or get upset if they are handled too much, so it is in their best interest to leave them alone if she is still around.']\n",
      "['Attempt', 'to', 'be', 'compassionate', 'and', 'give', 'them', 'the', 'benefit', 'of', 'the', 'doubt', '.']\n",
      "['This really is their concern, not yours.', '2. Be the bigger person.', \"It's never fun being the subject of another person's negativity, but consider how miserable that person must be to be intentionally treating you this way.\", 'They may see themselves as a victim of the world, and they may be scared or hurting in some way.', 'Anger is one way that people use to hide their true feelings from others, as well as from themselves.', 'Attempt to be compassionate and give them the benefit of the doubt.', '3. Attempt to share some of your own positivity.', \"Ask yourself what you can do to make this person's day better.\", 'It could be something modest, like acknowledging a recent accomplishment or complementing them on something.', 'Even just asking them how they are doing might help them open up to you and tell you about how they really feel.', 'Do something that you think would cheer yourself up on a bad day.']\n",
      "['Say', '“', 'Not', 'great', '”', 'or', '“', 'I', 'think', 'I', '’', 'm', 'coming', 'down', 'with', 'something', '”', 'if', 'you', 'are', 'feeling', 'ill', '.']\n",
      "['* You may also be honest and tell a coworker or peer you are close with how you are actually feeling.', '* For example, you may respond, “Actually, I’ve been feeling a little down lately.', 'I think I might be struggling with stress and anxiety” if you have not been feeling well or like yourself.', '* You may respond, “You know, I’ve been feeling great.', 'I finally have a job I love and I’m feeling more confident these days” if you are feeling positive and happy.', '2. Say “Not great” or “I think I’m coming down with something” if you are feeling ill.', 'This response will allow you to be honest and let the person know you are not feeling well.', 'They may then ask you more questions and show sympathy for how you are feeling.', '* Only use this response if you want to talk about your sickness or illness with the person.', 'It is usually a prompt for the other person to find out more and try to make you feel better.', '3. Maintain eye contact and be expressive.']\n",
      "['It', 'is', 'normal', 'to', 'suffer', 'intensely', 'when', 'a', 'friend', 'you', 'love', 'is', 'taken', 'away', 'by', 'a', 'car', 'crash', ',', 'cancer', 'or', 'an', 'ugly', 'disease', '.']\n",
      "[\"There is no returning from death and your heart is broken, you can't stop crying and you feel like you have become a zombie.\", 'This sounds like a cliché but time will eventually heal your pain.', 'You will never forget but someday you will live again, just as they would want you to.', '## Steps', \"1. Don't be surprised at the grief that you will feel.\", 'It is normal to suffer intensely when a friend you love is taken away by a car crash, cancer or an ugly disease.', '2. Give yourself plenty of time to grieve, to mourn, to be angry.', '3. Cry and howl as much as you can.', 'Do not keep anything bottled up.', '* All that pain needs to get out.', \"If you don't let it out now, it will come back to bite you in the bum, months or years later.\"]\n",
      "['Be', 'sure', 'that', 'the', 'marked', 'line', 'is', 'above', 'the', 'heating', 'element', '.']\n",
      "['If you need a more acute or obtuse angle, then you will likely need to cut the edges of your scrap wood at slight angles instead of perfectly straight across.', '* Set the jig aside until you need it.', 'Be sure to leave it close by and easily accessible.', '* Have a piece of scrap wood nearby, as well, for helping to form the shape of the bent acrylic in the jig.', '5. Set the sheet of acrylic across the rests on the strip heater and turn it on.', 'Be sure that the marked line is above the heating element.', '* Turn the sheet of acrylic over on the heating element every 30-60 seconds in order to avoid damaging it.', 'Wear gloves as you do this to avoid burning your hands.', '* Only keep the acrylic on the strip heater long enough for it to become flexible, at which point it is ready for you to bend.', '* It may be helpful to clamp the acrylic in place while it is being heated so that only the marked area is heated and the sheet of acrylic does not move.', '6. Remove the heated, flexible acrylic from the strip heater and move it to the jig.']\n",
      "['Post', 'photos', 'of', 'your', 'work', ',', 'inventory', ',', 'or', 'building', '.']\n",
      "['Whenever you complete a job, finish a new project, or get new inventory, snap a few well-lit photos.', 'You can post your photos on social media, your website, or share them with potential customers as examples of your work.', '* People are more likely to patronize your business if they know what you have to offer.', '* If you sell products, entice people to come to your store by showing off your best inventory.', 'Model your photos off the types of pictures you see in magazines.', '* If you offer services, take photos of your work.', 'For example, a contractor might take photos of building projects they’ve completed.', '### Advertising on a Budget', '1. <a href=\"Make%20a%20Flyer\">Create</a> and post flyers for an inexpensive option.', 'Include an image on your flyer to attract attention, then provide information about what your business does or sells.', 'Be sure to include your contact information and/or location so that interested people know how to patronize your business!']\n",
      "['Always', 'consult', 'your', 'physician', 'before', 'beginning', 'a', 'new', 'exercise', 'programme', '.']\n",
      "['## Tips', \"* Very rarely, you may encounter a recumbent or upright bike with moving handlebars you can push and pull as you pedal, like those you'd find on an elliptical trainer.\", 'These are known as dual-action bikes.', '* Make sure you have adequate space (recumbent bikes take more space).', '## Warnings', '* Always consult your physician before beginning a new exercise programme.', '* Always follow directions.', 'Exercise bikes have many moving parts and can be hazardous.', '## Related wikiHows', '* <a href=\"Buy%20Recumbent%20Bikes\">Buy Recumbent Bikes</a>', '* <a href=\"Use%20an%20Exercise%20Bike\">Use an Exercise Bike</a>']\n",
      "['As', 'an', 'example', ',', '$', '75,000', '(', 'assets', ')', '-', '$', '25,000', '(', 'liabilities', ')', '=', '$', '50,000', 'for', 'December', '31', ',', '2014', '.']\n",
      "['SEavg=(SE1+SE2)/2).', 'This enables an investor to measure the change in profitability over a one year time period.', \"* For example, calculate shareholders' equity on December 31, 2014 by subtracting the company's liabilities from its assets.\", 'Then do the same for the assets and liabilities numbers on December 31, 2013.', 'Divide this number by 2.', 'As an example, $75,000 (assets) - $25,000 (liabilities) = $50,000 for December 31, 2014.', 'For December 31, 2013, $125,000 (assets) - $50,000 (liabilities) = $75,000.', \"$50,000 + $75,000 = $125,000/2 = $62,500 shareholders' average equity.\", 'You will need this number to calculate ROE.', '* You can choose any date for the beginning of a year, and then compare the numbers for one year previous to that date.', '3. Find net profits (NP).']\n",
      "['The', 'art', 'of', 'conversation', 'is', '90', 'percent', 'listening', '.']\n",
      "['8. age (as in the older the person, the more \"important.\")', '9. gender (if both guests are of the same social status and of the same relative age, introduce the lady first)', '10. if they are both people of the same gender and of the same approx.', 'age and social status, introduce the one to your right first.', '11. Ask questions and listen to the answers.', 'The art of conversation is 90 percent listening.', '12. Do not confuse etiquette and <a href=\"Have%20Good%20Manners\">manners</a>.', \"It's bad etiquette to use your dinner fork on your salad.\", \"It's bad manners to comment that someone used their dinner fork on their salad.\", 'In the southern tradition, manners always trumps etiquette.', '## Tips']\n",
      "['Jobs', 'like', 'Durex', \"''\", 'for', 'boys', 'or', '``', 'Pop', 'Singers', 'for', 'girls', '.']\n",
      "['* Join groups with your interest or with a lot of members.', 'Make your group and invite friends, too.', \"* Put 'like for a return' in your picture caption so more people will like your picture.\", \"* Your profile information's must be original.\", 'Choose locations like Honolulu or Hawaii.', 'Jobs like Durex\" for boys or \"Pop Singers for girls.', 'You can add your dream job, if you want.', 'Also, write nice things about yourself.', \"* Don't forget, to wish at everyone at his or her birthday!\", '* Login everyday for about 30 minutes or more if you can.', '* Ask questions about public ideas such as \"Who will go to the Eurovision this year?\"']\n",
      "['After', 'you', 'have', 'taken', 'a', 'deep', 'breath', 'of', 'cold', 'air', ',', 'breathe', 'out', 'through', 'your', 'mouth', '.']\n",
      "['2. Take a deep breath.', 'Open your freezer and inhale deeply.', 'Try to place your face as far in your freezer as possible so that you can inhale the most cold air.', 'If you are outside, just inhale the cold air around you.', '3. Exhale.', 'After you have taken a deep breath of cold air, breathe out through your mouth.', \"You will need to do this in a cold setting, so don't remove your face from the freezer.\", 'The combination of your warm breath on a cold surface or in a cold area is what causes the visible smoke.', '* For a more visible, lasting effect of smoke, try blowing on a piece of glass.', 'After you have inhaled the cold air, exhale directly onto the glass.', 'This glass will need to be very cold as well so that the difference of temperatures between the cold glass and your warm breath will create the effect of smoke.']\n",
      "['Measure', 'the', 'length', 'of', 'a', 'box', '.']\n",
      "['* V = l x w x h', '* V = 10cm x 4cm x 5cm', '* V = 200cm', '* \"Height\" is may by replaced with \"depth.\"', 'For example, \"The box has a length of 10cm, width of 4cm, and is 5cm deep.\"', '2. Measure the length of a box.', 'If your are looking down at your box, the top appears to be a flat rectangle/The length the longest side of this rectangle.', 'Write this number down as \"length.\"', '* Make sure you use the same measurement for each side -- if you measure one side in inches, you need to measure them all in inches.', '3. Measure the width of the box next to the length.', 'The width of the box is the other edge next to the length.']\n",
      "['This', 'guide', 'will', 'yield', 'one', 'scalable', 'uninterrupted', 'power', 'supply', 'system', '.']\n",
      "['* <a href=\"Diagnose%20and%20Replace%20a%20Failed%20PC%20Power%20Supply\">How to Diagnose and Replace a Failed PC Power Supply</a>', '* <a href=\"Run%20Your%20Desktop%20off%20Dc%20Power\">How to Run Your Desktop off Dc Power</a>', '## Timestamp::::2008-03-13T22:58:59Z', '## Section::::Related wikiHows.', 'In the event of extended blackout, you may have critical systems (such as computer or medical equipment) that must remain running no matter what.', 'This guide will yield one scalable uninterrupted power supply system.', 'You may extend it with power generation, or solar/wind/etc.', 'as you see fit.', \"Most uninterrupted power supplies sold for computers 'switch' power, running a small inverter when power is interrupted, then switching back to 'normal' power when it's back on.\", 'This one simply produces AC power with a continuous duty inverter and assumes some system(s) will charge the DC battery supply it requires faster than it consumes it.', 'This makes the design simpler and also allows more than one kind of DC power source to participate in charging the batteries.']\n",
      "['Locate', 'atomic', 'mass', 'on', 'the', 'periodic', 'table', '.']\n",
      "['However, because atomic masses, when expressed in these terms, are incredibly small, atomic mass is often expressed in unified atomic mass units (usually shortened to \"u\" or \"amu\").', 'The standard for one atomic mass unit is equal to 1/12th of the mass of a standard carbon-12 isotope.', '[[Image:1083156 1.jpg|center|416px]]', '* Atomic mass units tell the mass of one mole of a given element or molecule in grams.', 'This is a very useful property when it comes to practical calculations, as it allows easy conversion between the mass and moles of a given quantity of atoms or molecules of the same type.', '2. Locate atomic mass on the periodic table.', 'Most standard periodic tables list the relative atomic masses (atomic weights) of each element.', \"This is almost always written as a number at the bottom of the element's square on the table, under its one or two letter chemical symbol.\", 'This number is usually expressed as a decimal rather than as a whole number.', '[[Image:1083156 2.jpg|center|416px]]', '* Note that the relative atomic masses listed on the periodic table are average values for the associated element.']\n",
      "['Fuzzy', 'fabric', 'huts', 'should', 'be', 'avoided', 'as', 'the', 'fibers', 'cause', 'crop', 'impaction', 'and', 'gut', 'blockage', 'when', 'ingested', '.']\n",
      "['Bird toys are easy to make yet they can be a bit expensive in pet shops.', 'Some toys that you could have are:', '* A bird hut.', 'These are great for when your bird wants to hide somewhere or rest for a little while.', 'Be aware that these may been seen as nests and should not be provided to female under 12 months old.', 'Fuzzy fabric huts should be avoided as the fibers cause crop impaction and gut blockage when ingested.', '* A mirror.', \"Parakeets love playing with their own reflection as it makes them feel like there's another bird in the cage, it's especially good if your parakeet is lonely.\", \"Parakeets love playing with their own reflection and it's a lot of fun watching them play as well.\", 'Make sure the mirror is a bird friendly one and is set up properly so that it cannot fall.', 'Be aware that your budgie may become obsessed with the mirror and can neglect its own health.']\n",
      "['He', 'is', 'scared', 'of', 'his', 'older', 'brother', '(', 'most', 'of', 'the', 'time', ')', 'but', 'he', 'tries', 'to', 'bully', 'his', 'younger', 'brother', 'when', 'he', 'can', ',', 'when', 'his', 'mom', 'is', \"n't\", 'watching', '.']\n",
      "[\"He usually wears a white shirt and shorts, so that's a good start.\", \"3. Wear converse, which he usually does, and also he tends to wear hoodies and jackets in the movie, so that's also a good idea.\", \"4. Wear a backpack on one shoulder, because that's what cool guys wear according to him.\", '### Act Like Him', \"1. He is usually uninterested in what's going on around him, so try to act a bit and show that you are not interested in what people are saying around you.\", \"2. He is scared of his older brother (most of the time) but he tries to bully his younger brother when he can, when his mom isn't watching.\", '3. He is more of an \"indoor person\", which he admits in Dog Days.', 'He also likes video games.', 'Actually they are his life.', \"(And girls, if you like video games, that's awesome!)\", '* Be indecisive.']\n",
      "['BIL', 'and', 'PDL', 'policies', 'are', 'often', 'specified', 'as', 'sets', 'of', 'numbers', ',', 'like', '20/50/10', '.']\n",
      "['Be sure to check with your state first to determine minimum coverages for each type of policy.', '2. Decide how much liability coverage you need.', 'Liability insurance covers damage to passengers and vehicles when you are at fault for an accident.', 'The two types here are Bodily Injury Liability (BIL) policies and Property Damage Liability (PDL) policies.', 'The first covers injury of other drivers and passengers and the second covers damage to their vehicles.', '* BIL and PDL policies are often specified as sets of numbers, like 20/50/10.', 'This means that this package of both types of policy will cover $20,000 in medical expenses per person affected (excluding you), up to $50,000 for the group, and $10,000 in damage to vehicles involved (excluding yours).', '* How much protection you need here depends first on your state required minimums and then on your assets.', 'You should have at least as much coverage as you do assets (your possessions like your money, house, and cars).', '3. Consider personal injury protection.', 'This policy pays for your medical bills in case you are involved in an accident.']\n",
      "['Make', 'sure', 'it', 'is', 'highlighted', 'in', 'blue', '.']\n",
      "['At the top you see \"Popular Commands.\"', 'Click on the arrow next to it.', '5. This will bring up a drop-down menu.', 'There, click on \"Commands not in the Ribbon\".', '6. There click on calculator.', 'Make sure it is highlighted in blue.', '7. When it is highlighted in blue, click the \"Add\" button.', '8. It should come on the other side.', '9. After that click the \"OK\" button.', '## Timestamp::::2014-05-18T16:52:43Z', 'This will add the Windows calculator on the Quick Access Toolbar.']\n",
      "['Give', 'your', 'ducks', 'plenty', 'of', 'quality', 'food', '.']\n",
      "['## Timestamp::::2013-07-24T01:08:11Z', 'For anyone in a cold freezing climate, caring for outdoor animals in the winter can be a major worry.', 'Fortunately, ducks, like most waterbirds are well adapted to low temperatures (even well below freezing!).', 'But there are ways to help your ducks stay at optimum health during the winter months.', '## Steps', '1. Give your ducks plenty of quality food.', 'Start increasing the amount of feed in the late fall to allow them to put on fat.', 'Keeping warm burns energy, so be sure your ducks have plenty of food available.', 'Feed them food that gives the most heat, like wheat and corn.', '2. Build a dry, sheltered <a href=\"Build%20a%20Chicken%20Coop\">coop</a> so the ducks have somewhere to shelter', '* Fill the floor of the shelter with straw']\n",
      "['Determine', 'whether', 'the', 'horse', \"'s\", 'movements', 'look', 'safe', '.']\n",
      "['Watch it move and look for signs of discomfort or skittishness, such as a bobbing head, pinned ears, or a swishing tail.', \"Determine whether the horse's reactions look trustworthy.\", '7. Evaluate how the horse moves.', 'Ask the owner to walk it and ride it.', 'While the horse walks, trots, canters and gallops, watch for signs of lameness and check the range of motion and the length of stride.', \"Determine whether the horse's movements look safe.\", \"8. Analyze the horse's ground manners.\", '* See whether its posture is relaxed or uneasy.', \"If you can see the white of the horse's eye, its nervous or panicked.\", '* If the horse is relaxed enough, stand to the side of the horse and use a progress string (promise string), a 6-foot braided nylon rope with an eye at one end and a leather popper at the other, to tap the horse on the forelegs to direct its attention.', 'This way, you can evaluate the horses reaction to handling.']\n",
      "['Get', 'the', 'right', 'food', '.']\n",
      "['Cheap bunches of Elodea should be seen as a sacrificial plant and can be replaced every 1 to 2 weeks.', 'Try to mass plant or these can just be left floating.', 'Anubias or Java Fern tied onto wood seem to be quite goldy proof.', 'They like moss balls too.', \"Real planted tanks aren't needed, silk plants can be used with great affect but it's nice for the fish to have some 'greens' to hand if they fancy a munch.\", '2. Get the right food.', \"They shouldn't have flake food, because they can gulp down air and that can cause problems.\", 'Slow sinking goldfish pellets are best and if you buy the right brand, it can enhance the color of the goldfish and make them more active and brighter in color.', 'Try to vary food on a daily basis i.e.', 'pellets am, frozen food (Blood worm etc)pm.', 'Chopped up blanched veggies go down well as do de-shelled chopped peas (a great natural unblocker used a']\n",
      "['This', 'equates', 'to', '140', 'litres', 'for', 'the', 'first', 'fish', ',', 'and', '45', 'liters', 'per', 'additional', 'fish', '.']\n"
     ]
    },
    {
     "name": "stdout",
     "output_type": "stream",
     "text": [
      "['If kept in a suitable environment, Fancy goldfish normally grow to 8 to 12 inches or more!', 'and the normal life expectancy of Fancy goldfish is about 12 years.', '## Steps', '1. Buy an appropriate aquarium.', 'A single adult fancy goldfish needs a 30 gallon tank, with another ten gallons per additional fancy goldfish.', 'This equates to 140 litres for the first fish, and 45 liters per additional fish.', 'The \"goldfish bowl\" is much too small and doesn\\'t let enough oxygen get to the goldfish.', 'Plus, it will absolutely stunt the growth of your fish.', 'Leave bowls for flowers at weddings!<br><br>', '2. Obtain a good filter.', 'Whatever the total amount of gallons is, you multiply it by ten and get the answer for the gallons pumped per hour (GPH).<br><br>']\n",
      "['A', 'horse', 'for', 'a', 'knight', 'can', 'go', 'well', ',', 'or', 'a', 'dog', 'for', 'any', 'time', 'zone', '.']\n",
      "['have a general or king to rule the army, give him assistants, then officers and so on.', '5. Get some weapons.', 'as with the headgear, make sure it is from thre same time zone.', 'A spear in a 21st century fight migt not look good...', '6. Give animals to your army.', 'A horse for a knight can go well, or a dog for any time zone.', '## Tips', '* Make sure you ave at least 2/5 of your army as infantry, 1/6 as ofiicers, and 1/10 artillery', '* Customise your army, and give them, a colored arm for your army', '* Try to make your army a decent size, as a couple of people does not count.', \"## Things You'll Need\"]\n",
      "['Take', 'notes', 'and', 'highlight', 'any', 'relevant', 'information']\n",
      "['## Tips', \"* The 3 P's- Practise, practise,practise\", '* Maintain focus, on your key subject areas', '* Spare and at least 30 minutes of your time', '* Dedicate your hard work and effort- doing this will guarantee that your grades improve', '* Take notes and highlight any relevant information', '* Do things to your understanding', '* Have faith and believe that you are capable of anything!', '## Timestamp::::2015-05-31T18:26:20Z', '## Section::::Tips.', 'Wondering how to better yourself in key subject areas?']\n",
      "['If', 'you', 'see', 'strays', ',', 'pluck', 'em', '!', 'If', 'You', 'want', 'fuller', 'eye', 'brows', 'use', 'an', 'eye', 'brow', 'pencil', 'or', 'eye', 'shadow', 'that', 'matches', 'the', 'color', 'of', 'your', 'eye', 'brows', '.']\n",
      "[\"4. Taylor's skin is almost flawless.\", 'Therefore, begin by applying concealer and foundation to even out your skin tone and hide any trouble spots.', 'Make sure when applying concealer to use your pinky finger and when applying foundation use either a sponge, foundation brush, or 3 middle fingers :)', '5. Make sure your eyebrows are neat and tweezed.', 'If you see strays, pluck em!', 'If You want fuller eye brows use an eye brow pencil or eye shadow that matches the color of your eye brows.', '6. Use a Black Eyeliner (pencil, creme or liquid) draw a medium sized line across the top lash line.', 'When using the black eyeliner pencil make sure you line the inside of your bottom lid.', '7. With the white, silver, and gray shadows, create a smoky eye.', 'Apply the darkest shade across the lid and blend it with silver up to your eyebrows.', 'Apply white shadow in the inner corners and under your eyebrows.']\n",
      "['How', 'to', 'Make', 'a', 'Fitness', 'Calendar']\n",
      "['## Related wikiHows', '* <a href=\"Begin%20a%20Walking/%20Weight%20Loss%20Program%20for%20the%20Very%20Unfit%20Person\">How to Begin a Walking/ Weight Loss Program for the Very Unfit Person</a>', '* <a href=\"Lose%20Weight\">How to Lose Weight</a>', '* <a href=\"Stick%20to%20a%20Fitness%20Plan\">How to Stick to a Fitness Plan</a>', '* <a href=\"Start%20Your%20Own%20Exercise%20Regimen%20and%20Stick%20to%20It\">How to Start Your Own Exercise Regimen and Stick to It</a>', '* <a href=\"Make%20a%20Fitness%20Calendar\">How to Make a Fitness Calendar</a>', '## External Links', '* http://www.briancalkins.com/HeartRate.htm', '## Timestamp::::2006-02-15T01:48:45Z', '## Section::::External Links.', 'Do you want to get the most out of those 30 minutes on the treadmill, or any kind of cardio exercise?']\n",
      "['Training', 'regularly', 'is', 'the', 'only', 'way', 'you', '’', 'll', 'be', 'able', 'to', 'step', 'into', 'the', 'cage', 'and', 'hurt', 'your', 'opponent', 'while', 'evading', 'their', 'attacks', '.']\n",
      "['For instance, you could shadowbox by throwing 50 jabs, 50 crosses, 50 jab-cross combos, and 25 more punches of any type.', 'After that, start jumping rope until you’ve shadowboxed and jumped rope for a combined five minutes.', '* Additionally, you could ride a bike, go running, jump rope, and go swimming.', 'Mix these exercises up in any order and engage in each for at least 30 minutes at a time.', '4. Train 35-40 hours each week.', 'Training regularly is the only way you’ll be able to step into the cage and hurt your opponent while evading their attacks.', 'Training at this level will enable you to become the best cage fighter you can be.', '* When you’re an up-and-coming fighter, you might need to maintain this level of training even while working full time.', '5. Divide up your time at the gym with the help of your coach or trainer.', 'The way you should divide your time at the gym (between sparring, cardio, strength training, and so on) will vary depending on your individual needs.', 'Consult the cage fighting trainers at your gym (or the head trainer or coach if you’re not training at an MMA gym).']\n",
      "['only', 'do', 'this', 'with', 'your', 'mom', 'and', 'dad', \"'s\", 'permission']\n",
      "['1. Find a place that nobody uses anymore e.g a shed or a spare room', '2. Mark it off by putting a sign or some kind of marking.', '3. If it has no carpet put some rugs in or some ratty old blankets', '4. Add some details e.g posters furniture if its your spy lab get you spy stuff and put in there', '## Warnings', \"* only do this with your mom and dad's permission\", '* otherwise HAVE FUN', \"## Things You'll Need\", '* A spare room', '* Furniture', '* Rugs']\n",
      "['Many', 'pet', 'stores', 'sell', 'toys', 'where', 'you', 'place', 'a', 'treat', 'inside', 'a', 'box', 'a', 'pig', 'must', 'then', 'disassemble', '.']\n",
      "['They thrive on play, so make sure you play with your pig regularly.', 'A pig that does not get enough attention will not be happy and may act out.', '* You can use rubber dog toys for your pig.', 'You can toss these toys for your pig and it will chase and catch them.', '* Pigs also like puzzle toys.', 'Many pet stores sell toys where you place a treat inside a box a pig must then disassemble.', '* You should also keep a dirt box in your house.', 'Pigs love rooting around in dirt.', 'However, for the sake of your home, keep the dirt box on a tile or laminated floor to make cleaning easier.', \"4. Monitor your pig's interaction with small children.\", 'In general, potbelly pigs do not make great pets for small children.']\n",
      "['You', 'do', \"n't\", 'have', 'to', 'stick', 'with', 'books', ',', 'you', 'can', 'read', 'a', 'newspaper', ',', 'poetry', 'and', 'magazines', '.']\n",
      "['You will make money, gain work experience and make new friends.', 'Find something you love.', '13. Read.', 'Reading increases your vocabulary and is fun.', 'Find books you really enjoy.', \"You don't have to stick with books, you can read a newspaper, poetry and magazines.\", '14. Listen to music.', 'You can dance to it.', '15. Head up to the local park with some friends and have a picnic', '## Tips', '* Treat yourself occasionally.']\n",
      "['If', 'you', 'have', 'excess', 'body', 'fat', ',', 'the', 'benefits', 'of', 'exercise', 'will', 'not', 'be', 'visible', '.']\n",
      "['Bikram yoga is the perfect exercise regimen to make yourself more attractive.', 'Dancing, running, pilates, swimming and sports are other good choices for women.', 'Take nightly walks of at least a mile.', 'Exercise without a disciplined diet will not help you lose fat.', 'It will make your body more attractive to men by improving your posture, strengthening your legs and butt, and relieving stress.', 'If you have excess body fat, the benefits of exercise will not be visible.', '3. Maintain perfect hygiene.', 'Guys do notice.', 'Brush twice a day and floss once a day.', 'Keep your skin looking healthy with moisturizer and some time in the sauna or steam room.', 'Get manicures and pedicures.']\n",
      "['You', 'can', 'then', 'evaluate', 'these', 'set', 'goals', 'and', 'have', 'a', 'better', 'understanding', 'of', 'what', 'to', 'monitor', 'and', 'measure', '.']\n",
      "['Before jumping into the heavy traffic of social media, you have to know where you want to be in the end.', 'When working with clients, you should first establish a set of goals and what it is that they hope to achieve.', 'How do you want to expose your business?', 'Are you going for awareness, sales, leads?', 'What do you hope to learn or get out of using these social mediums?', 'You can then evaluate these set goals and have a better understanding of what to monitor and measure.', '2. Know your Target Audience.', 'Knowing your audience is important in creating an effective social media plan.', 'Who are you trying to target?', 'What are they interested in?', 'What gets them excited?']\n",
      "['Do', \"n't\", 'get', 'complacent', ',', 'even', 'after', 'lots', 'of', 'practice', '.']\n",
      "['* Try not to swallow saliva when too near a person as you may create a \"gulping\" sound, revealing your location.', '* If you can hear yourself then the person/animal that you are sneaking up on can hear you too!', 'So be careful.', '* Practice on a squeaky chair.', 'Sit on the chair then try to get up without making a sound.', \"* Don't get complacent, even after lots of practice.\", '## Warnings', '* Some people will react angrily or violently, so try not to scare anyone who you think might retaliate.', \"* The same goes for animals, make sure it's one which knows you, and won't attack you if it hears you sneaking up behind it.\", '* Someone might call the police if you are stalking them.', '## Related wikiHows']\n",
      "['Other', 'people', 'want', 'to', 'be', 'on', 'their', 'school', \"'s\", 'team', 'and', 'do', 'All', 'Star', 'cheerleading', 'at', 'the', 'same', 'time', '.']\n",
      "['* <a href=\"Create%20an%20All%20Star%20Cheer%20Team\">Create an All Star Cheer Team</a>', '__PARTS__', '## Section::::Related wikiHows.', '## Timestamp::::2017-01-31T04:01:07Z', 'Nowadays, many people would rather be on an All Star cheerleading team and not on their school team.', \"Other people want to be on their school's team and do All Star cheerleading at the same time.\", 'The reason is that you are in the public eye, you stay fit while having fun, and you meet a lot of people.', 'You also build confidence and self-esteem!', '## Steps', '### Researching Teams and Options', '1. Get your parents permission and support.']\n",
      "['Use', 'an', 'axe', 'and', 'chop', 'down', 'some', 'trees', 'in', 'any', 'old', 'place', '.']\n",
      "['## Starting With Chickens', '1. Start off by killing some level 1 chickens in the farm in between Lumbridge and Varrock.', 'Take their carcasses until your inventory is full of them.', 'Hold on to the feathers, as these can be sold to members for about 5gp each.', 'Bury the bones to get prayer levels.', '2. Use an axe and chop down some trees in any old place.', \"This'll get your woodcutting level up.\", '3. Use a tinderbox with the logs and make a fire.', \"This'll get your firemaking experience up a bit.\", \"4. Use the Raw Chicken with the fire and right click (if you're left-handed) or left click (if you're right-handed).\", \"Click 'Cook All' and relax for a few seconds.\"]\n",
      "['Your', 'Defense', 'level', 'times', '100', '(', 'call', 'this', 'variable', 'A', ')']\n",
      "['You must be at least level 40.', '* To easily calculate what you need to train to level up your combat level, go to http://www.lunagang.nl/calculators.php?calc=combat and enter the details.', \"It's a Dutch site but it works very well!\", '* Here is the combat lvl formula so... you can see what levels correlate to a combat level =P:', '* Step 1: Calculate your Base Combat level.', '* Your Defense level times 100 (call this variable A)', '* Your Hitpoints level times 100 (call this variable B)', '* If your Prayer level is odd:', '* Your (Prayer level - 1) times 50 (call this variable C)', '* If your Prayer level is even:', '* Your Prayer level times 50 (call this variable C)']\n",
      "['Convert', 'the', 'number', 'into', 'money', 'form', '(', '$', '69.03', ')', ',', 'rounding', 'if', 'needed', '.']\n",
      "[\"2. Let's say it is on sale for $50.39 and it it 27% off.\", 'Change 27% into .27, which is the same thing.', '3. Subtract the discount from one.', '(1-0.27 = 0.73)', '4. Divide the new price by the result of the previous step ($50.39/0.73)', '5. Convert the number into money form ($69.03), rounding if needed.', '6. There you go!', '## Related wikiHows', '* <a href=\"Calculate%20Your%20Age%20by%20Chocolate\">How to Calculate Your Age by Chocolate</a>', '* <a href=\"Calculate%20Percentages\">How to Calculate Percentages</a>', '* <a href=\"Calculate%20Your%20Target%20Heart%20Rate\">How to Calculate Your Target Heart Rate</a>']\n",
      "['Indulge', 'in', 'extra', 'curricular', 'activities', '.']\n",
      "['* Feel good about yourself.', 'At the same time avoid overconfidence.', '* Just be yourself.', \"It is easier said than done, but just don't try to be something that you are not, e.g.\", \"Don't suddenly try to do mimicry if you have never done it before.\", '* Indulge in extra curricular activities.', 'Most people don\\'t do that, giving lame excuses like \"No Time\".', '* If you have a talent, e.g.', 'Guitar or Violin, show it.', 'Somehow brace yourself for a performance in front of the crowd.', '* Try to join a gym if there is not extra curricular activity.']\n",
      "['Music', 'therapy', 'as', 'an', 'remedy', 'to', 'address', 'perceived', 'pain', 'due', 'to', 'surgery', 'can', 'be', 'beneficial', 'to', 'patients', 'physically', 'and', 'psychologically', '.']\n",
      "['Ancient civilization artifacts as well as Biblical references suggest that music was considered a powerful influence on physical health and well-being.', 'It has been used as a motivator to do many activities such as work out or just doing house hold chores.', 'To educate children of any age, children can benefit from the use of music making and music skill building to increase their attention span and develop motor coordination.', 'Skills such as sharing, turn-taking, listening, and memory.', 'Also to heal, Music therapy when used from being highly motivating and stimulating, to calming and relaxing.', 'Music therapy as an remedy to address perceived pain due to surgery can be beneficial to patients physically and psychologically.', 'When music is used in therapy it can reach even those resistant to other treatment approaches due to its accessibility, familiarity, feelings of security associated with it, and its capacity to express the range of human emotion.', '## Steps', '1. Try listening to all types of music from rap to techno, R&B to country.', 'Be open to anything and you will be surprised at what you like.', \"2. Music is not just something you listen to, it's an expression, it's the artist expressing their feeling, and what they are going through.\"]\n",
      "['Keep', 'track', 'of', 'the', 'effects', 'the', 'accident', 'has', 'on', 'your', 'life', '.']\n",
      "['At this point, you may have hired the rightful attorney who would handle your case.', 'Although these professionals may have their knowledge and skills, you have to work together to get the best result.<br><br>', '6. Stay with the case.', 'You will never be able to obtain a fair settlement if you are not around.', 'Remember, they may be representing you in court, but there will still be other important things they would need in order to rightly defend you.<br><br>', '7. Keep track of the effects the accident has on your life.', \"Track all the hours and days you've missed from work.\", 'Wage losses can be part of the settlement claim.', 'Along with the other expenses you have spent with regard to the injuries resulting from the accident, take note of each one of them.<br><br>', '8. Begin negotiations with the other party.', 'Make sure you have your attorney by your side.']\n",
      "['It', 'is', 'important', 'to', 'photograph', 'both', 'vehicles', ',', 'not', 'just', 'yours', '.']\n",
      "['* Describe your location on the road (which lane you were in, which lane the other vehicle was in) and the movement of each vehicle.', '9. Take photographs of the scene.', 'If you have a cell phone that contains a camera feature, take some photographs of the accident scene before the vehicles are moved.', 'Try to get pictures that will show the cars’ positions and demonstrate how the accident happened.', 'Take pictures of the damage to each car as well.', '* It is important to photograph both vehicles, not just yours.', 'Although your car is the one that concerns you, you should photograph both vehicles.', 'Having pictures from the scene of the accident will prevent the other driver from making an unsubstantiated claim later on and blaming it on you at this accident.', '10. Identify any witnesses.', 'Very often, other cars will stop if they saw what happened, or you may be able to identify a pedestrian who saw the accident.', 'Get their names and contact information, if you can.']\n",
      "['Although', 'your', 'car', 'is', 'the', 'one', 'that', 'concerns', 'you', ',', 'you', 'should', 'photograph', 'both', 'vehicles', '.']\n",
      "['9. Take photographs of the scene.', 'If you have a cell phone that contains a camera feature, take some photographs of the accident scene before the vehicles are moved.', 'Try to get pictures that will show the cars’ positions and demonstrate how the accident happened.', 'Take pictures of the damage to each car as well.', '* It is important to photograph both vehicles, not just yours.', 'Although your car is the one that concerns you, you should photograph both vehicles.', 'Having pictures from the scene of the accident will prevent the other driver from making an unsubstantiated claim later on and blaming it on you at this accident.', '10. Identify any witnesses.', 'Very often, other cars will stop if they saw what happened, or you may be able to identify a pedestrian who saw the accident.', 'Get their names and contact information, if you can.', 'Ask each to verify what happened, so you will know if they will support your claim eventually.']\n",
      "['As', 'it', 'may', 'change', 'the', 'way', 'colleagues', 'are', 'talking', 'to', 'you']\n"
     ]
    },
    {
     "name": "stdout",
     "output_type": "stream",
     "text": [
      "['It will get a unique attraction to you.', '5. Change your style!', 'Be aware that things about you will be changing.', \"Don't be frightened.\", 'Accept and embrace them.Always dress smart.', 'As it may change the way colleagues are talking to you', '* The transition to puberty is full of changes.', 'Embrace them!', 'It is a rare opportunity to redefine yourself--what you like, , or as a teen can be completely different than what you preferred as a child.', 'Try making drastic changes and explore your options.', '6. Try things that only teens can do.']\n",
      "['NEVER', 'ALLOW', 'THE', 'CALIPER', 'TO', 'HANG', 'ON', 'THE', 'HOSE', '.']\n",
      "[\"If it's on the pads you can remove the excess as prevous and than coer in chalk or baby powder and bake or 120deg'C to obsorbe the fluid out of the pads.\", 'Gut they are never the same again so replace as soona as possable.', '(Works great for cars as well but you have 3 other sets of pads)', '* I have used this methoid to change the fluid in between races in under 3 minuites, but is better to take yout time and do it correct the first time.', '## Warnings', '* NEVER ALLOW THE CALIPER TO HANG ON THE HOSE.', 'YOU CAN INTERNALLY TEAR THE HOSE AND GUESS WHAT!', 'WHEN YOU REALY NEED YOUR BRAKES THEY FAIL.', '* DONT ALLOW THE BREAK FLUID TO GET ON THE BREAK PADS OR THE DISK.', '* Ensure the brake works before rideing and be carfull for the first 10 brake uses.', '## Timestamp::::2009-11-06T00:38:18Z']\n",
      "['NEVER', 'ALLOW', 'THE', 'CALIPER', 'TO', 'HANG', 'ON', 'THE', 'HOSE', '.']\n",
      "[\"If it's on the pads you can remove the excess as prevous and than coer in chalk or baby powder and bake or 120deg'C to obsorbe the fluid out of the pads.\", 'Gut they are never the same again so replace as soona as possable.', '(Works great for cars as well but you have 3 other sets of pads)', '* I have used this methoid to change the fluid in between races in under 3 minuites, but is better to take yout time and do it correct the first time.', '## Warnings', '* NEVER ALLOW THE CALIPER TO HANG ON THE HOSE.', 'YOU CAN INTERNALLY TEAR THE HOSE AND GUESS WHAT!', 'WHEN YOU REALY NEED YOUR BRAKES THEY FAIL.', '* DONT ALLOW THE BREAK FLUID TO GET ON THE BREAK PADS OR THE DISK.', '* Ensure the brake works before rideing and be carfull for the first 10 brake uses.', '## Timestamp::::2009-11-06T00:38:18Z']\n",
      "['Pump', 'the', 'brake', 'lever', 'to', 'clamp', 'the', 'pads', 'onto', 'the', 'spacer', '.']\n",
      "['careful the brake fluid does not over run the master cylinder reservoir.', '3. Use a piece of wire though the caliper mounting holes to allow it to be hung from the handle bars or similar.', 'NEVER ALLOW THE CALIPER TO HAND ON THE HOSE.', 'YOU CAN INTERNALLY TEAR THE HOSES AND GUESS WHAT!', 'WHEN YOU REALLY NEED YOUR BRAKES THEY FAIL.', '4. Pump the brake lever to clamp the pads onto the spacer.', 'A bit of electrical tap is also good to ensure it does not fall out.', '5. Try sucking out the old oil in the reservoir (not right to the bottom) and put in new oil.', 'This allows the oil to be changed at the same time.', 'Most time the air in the brakes is caused by the breakdown of the fluid due to high temperature, regular changing will stop this and stop corrosion.', '6. Place a small hose onto the bleed screw nipple and into a tin can.']\n",
      "['It', 'can', 'also', 'be', 'used', 'to', 'calculate', 'how', 'many', 'gallons', 'were', 'purchased', 'using', 'G=TS', '/', 'P', '.']\n",
      "['3. Now substitute the price per gallon in Dollars for P and the number of gallons you wish to buy for G. For example: TS=1.20 X 12', '4. Perform the operation, using a calculator or mentally.', 'In this example, TS= $14.4, so that is how much the petrol will cost.', '## Tips', '* The equation can be changed to find the price per gallon as P=TS / G.', '* It can also be used to calculate how many gallons were purchased using G=TS / P.', '## Warnings', '* Make sure you have enough money to pay for your gasoline before entering the station.', '## Timestamp::::2014-05-22T11:20:21Z', '## Section::::Warnings.', \"Craig's Theorem can be used to calculate in advance the amount you will have to pay when buying petrol.\"]\n",
      "['Have', 'you', 'ever', 'noticed', 'while', 'texting', 'your', 'friends', 'that', 'some', 'things', 'come', 'across', 'as', 'sounding', 'mean', 'or', 'nasty', ',', 'even', 'if', 'they', \"'re\", 'really', 'not', '?']\n",
      "['* <a href=\"Practice%20Text%20Etiquette\">How to Practice Text Etiquette</a>', '* <a href=\"Text%20Message%20Your%20Friends\">How to Text Message Your Friends</a>', '* <a href=\"Send%20a%20Text%20Message\">How to Send a Text Message</a>', '## Timestamp::::2010-01-10T22:30:37Z', '## Section::::Related wikiHows.', \"Have you ever noticed while texting your friends that some things come across as sounding mean or nasty, even if they're really not?\", 'It\\'s important to maintain proper \"text-iquette\" so that the ones you are texting don\\'t misconstrue what you say and become angry with you.', 'Read on!', '## Steps', '1. Use \"haha\\'s\" generously.', 'When texting, the other person cannot see or hear your reaction, so things that sound nice when you say them may not read that way.']\n",
      "['Tap', 'the', '``', 'Block', \"''\", 'option', 'at', 'the', 'top', 'of', 'the', 'screen', '.']\n",
      "[\"This will allow you to continue using the bot for general queries but it won't interrupt your private conversations.\", '6. Unblock a bot if you want to start using it again.', 'If you want to start chatting with a blocked chat bot again, you can unblock it from the conversation screen.', '* Open a conversation with the bot.', \"If you deleted the conversation after blocking it, you'll need to search for the bot again on the People screen.\", '* Tap the \"Block\" option at the top of the screen.', '* Toggle \"Block all messages\" off.', \"You'll be able to chat normally with the bot again.\", '## Sources and Citations', '## Section::::Sources and Citations.', '__PARTS__']\n",
      "['How', 'much', 'weight', 'is', 'considered', '“', 'heavy', '”', 'depends', 'on', 'the', 'person', ',', 'including', 'experience', 'level', 'and', 'sex', '.']\n",
      "['Continue to decrease the length of your band until the band is too short for use.', 'Then, switch to a band labeled as medium or heavy tension.', '### Using Weights', '1. <a href=\"Lift%20Heavier%20Weights\">Lift the heaviest weights</a> you can for fewer reps.', 'This helps you build mass quicker.', 'How much weight is considered “heavy” depends on the person, including experience level and sex.', 'Start with lighter weights as you perfect your form, then increase how much you lift in small increments.', \"* For example, you might start out lifting just the bar if using a barbell or on each side if you're using dumbbells.\", 'However, you should increase this weight by on each side as soon as your sets become easy.', 'Continue to increase how much weight you’re lifting until you’ve reached a weight that remains challenging for you.', '2. Do bench <a href=\"Do%20Hip%20Thrusts\">hip thrusts</a>.']\n",
      "['For', 'even', 'more', 'simplicity', ',', 'just', 'start', 'doing', '10', 'push-ups', 'and', '20', 'crunches', 'every', 'morning', ',', 'and', 'work', 'up', 'to', '25', 'or', 'more', 'push-ups', 'and', '50', 'or', 'more', 'crunches', '.']\n",
      "['* Learn what various common ingredients are, and why they are there.', \"Some sound really bad, but aren't as dangerous as they are just hard to pronounce.\", 'Others seem innocent, but are far from it (see high fructose corn syrup tip, above.)', \"* You don't have to join a health club or buy an expensive home gym or treadmill to enjoy regular exercise.\", 'Running, walking, rollerblading, jumping rope, and biking are all examples of good exercise that you can do even with a small investment in clothing or exercise items.', 'For even more simplicity, just start doing 10 push-ups and 20 crunches every morning, and work up to 25 or more push-ups and 50 or more crunches.', 'If you cannot even do one push-up, just lay on the ground and push like crazy.', 'Your muscles will grow stronger day by day until you can do a push-up, then just add one more per day whenever you can until you reach your goal.', '* Healthy food doesn\\'t have to taste like \"health food\".', 'You can prepare a lot of really tasty meals that are also good for you.', 'Check out magazines like Cooking Light to find recipes that are delicious and healthy.']\n",
      "['Give', 'children', 'the', 'time', 'and', 'space', 'to', 'try', 'something', 'new', 'and', 'learn', 'from', 'their', 'mistakes', '.']\n",
      "['Whatever the child does right, we should compliment them and encourage them.', 'If a children does something inappropriate, then we have to correct them (without yelling at them).', 'They need to know that without making mistakes, their can be no wisdom.', '3. Children learn a lot more by trying for themselves though it will take longer and probably be more messy.', 'Patience and confidence can do a lot.', 'Give children the time and space to try something new and learn from their mistakes.', 'Provide them with help, if they need it.', 'Be proud of them, whether or not they succeed.', 'Children with self-confidence are not frightene by new experiences or learning situations.', '* Allowing children to complete puzzles or projects on their own (you will help if they ask) will build their confidence.', '4. Act as a role model.']\n",
      "['There', 'are', 'several', 'questions', 'to', 'take', 'into', 'consideration', 'when', 'choosing', 'a', 'motorcycle', '.']\n",
      "['There are many things to take into consideration when purchasing a motorcycle.', 'In particular, this how-to is aimed at first-time buyers.', 'After your first purchase, you will become more comfortable with the buying process.', '## Steps', '1. Pick out a motorcycle.', 'There are several questions to take into consideration when choosing a motorcycle.<br><br>', '* What is your price range?', '* What is an appropriate displacement, weight and type within your skill set?', '* Should the motorcycle be new or used.', '* What is the intended use for the motorcycle?', '* Can you ultimately be satisfied with your purchase?']\n",
      "['There', 'are', 'several', 'questions', 'to', 'take', 'into', 'consideration', 'when', 'choosing', 'a', 'motorcycle', '.']\n",
      "['There are many things to take into consideration when purchasing a motorcycle.', 'In particular, this how-to is aimed at first-time buyers.', 'After your first purchase, you will become more comfortable with the buying process.', '## Steps', '1. Buying a motorcycle.', 'There are several questions to take into consideration when choosing a motorcycle.<br><br>', '* Do you really want or need a motorcycle?', '* What is your price range?', '* What is an appropriate displacement, weight and type within your skill set?', '* What is the intended use for the motorcycle?', '* Should the motorcycle be new or used.']\n",
      "['There', 'are', 'several', 'questions', 'to', 'take', 'into', 'consideration', 'when', 'choosing', 'a', 'motorcycle', '.']\n",
      "['There are many things to take into consideration when purchasing a motorcycle.', 'In particular, this how-to is aimed at first-time buyers.', 'After your first purchase, you will become more comfortable with the buying process.', '## Steps', '1. Buying a motorcycle.', 'There are several questions to take into consideration when choosing a motorcycle.<br><br>', '* Do you really want or need a motorcycle?', '* What is your price range?', '* What is an appropriate displacement, weight and type within your skill set?', '* What is the intended use for the motorcycle?', '* Should the motorcycle be new or used.']\n",
      "['You', 'can', 'also', 'apply', 'sunscreen', 'on', 'your', 'mustache', 'and', 'go', 'out', 'into', 'the', 'sun', 'to', 'get', 'a', 'tan', '.']\n",
      "['#Remove a small amount of the bleach to check it has worked.', 'If it has, wash it off fully.', '## Tips', \"* Don't worry if the bleach starts to wear off.\", 'Just reapply it.', '* You can also apply sunscreen on your mustache and go out into the sun to get a tan.', 'When you get back from tanning, the mustache will blend in with the tan.', '* Getting a bleach done from a salon is cheap, and a lot more accurate.', \"It's worth paying the money!\", '* Wash your hands, face and anywhere else the bleach has touched.', '* Follow the directions on the box!']\n",
      "['When', 'you', 'get', 'back', 'from', 'tanning', ',', 'the', 'mustache', 'will', 'blend', 'in', 'with', 'the', 'tan', '.']\n",
      "['If it has, wash it off fully.', '## Tips', \"* Don't worry if the bleach starts to wear off.\", 'Just reapply it.', '* You can also apply sunscreen on your mustache and go out into the sun to get a tan.', 'When you get back from tanning, the mustache will blend in with the tan.', '* Getting a bleach done from a salon is cheap, and a lot more accurate.', \"It's worth paying the money!\", '* Wash your hands, face and anywhere else the bleach has touched.', '* Follow the directions on the box!', '## Warnings']\n",
      "['Robux', 'cost', 'money', 'but', ',', 'they', '’', 're', 'worth', 'the', 'cost', '.']\n",
      "['Assemble an inventory of valuable items.', 'You can use these in trades with other players.', 'The more you trade the more you become known, and having a valuable inventory will help you be respected as a better player.', 'Limiteds cost robux (ex.', 'a Dominus Infernus).', 'Robux cost money but, they’re worth the cost.', '8. Make a good place.', 'Learn to script on Roblox.', 'Ask for help on the forums.', 'The more dedicated you are, and the more you study, the better your place will be.', '9. Advertise your place.']\n",
      "['Read', 'the', 'newspaper', 'like', 'old', 'times', '?']\n",
      "[\"You'll see the sun rise and fall.\", \"You'll have a goal from the moment you set your feet on the asphalt in the morning to when you lay down at night.\", 'Think to yourself: what do I want to do today?', 'Share a couple of beers with that cool homebum down the street?', 'Get a job for the day at the local ready labor?', 'Read the newspaper like old times?', 'Jump on a train and see where it takes me?', 'Go to the national forest where the hippies are hosting this months gathering?', 'You have the country at your fingertips.', '* If you need money you can always get a days labor at the local labor ready building.', 'You have to be there at 4-5 in the morning.']\n",
      "['Apart', 'from', 'the', 'feeling', 'of', 'flying', 'and', 'the', 'exhilaration', 'that', 'comes', 'with', 'riding', 'a', 'motorcycle', ',', 'there', 'is', 'also', 'the', 'mechanical', 'side', '.']\n",
      "['7. When it comes to the proper care of and replacing motorcycle batteries, nothing beats getting information from bike lovers like yourself.', 'Many of them have probably seen and done it all in terms of caring for their pride and joy.', 'To the true motorcyclist, they might be as important as the bikes themselves.', '## Timestamp::::2011-07-13T04:36:36Z', '## Section::::Steps.', 'Apart from the feeling of flying and the exhilaration that comes with riding a motorcycle, there is also the mechanical side.', 'To keep them running smoothly, they need to be kept in tip-top condition.', 'This also includes electrical power, and any serious biker knows that they have to maintain their motorcycle battery.', 'Owners have the option of selecting regular (old school} or maintenance free motorcycle batteries.', 'With maintenance free types there is no need to top up the cells up with water on a regular basis.', '## Steps']\n",
      "['Build', 'up', 'the', 'color', 'gradually', ',', 'so', 'you', 'get', 'exactly', 'the', 'shade', 'you', 'want', '.']\n",
      "[\"A little is all that's needed.\", 'To ensure an even application, tap off any excess bronzer.', 'You can also rub the brush in to a clean tissue to get rid off any excess.', '5. Apply bronzer to the areas of the face the sun would naturally hit.', 'Using very light strokes, first apply the bronzer to the top of the forehead, working down the nose and along the cheeks.', 'Build up the color gradually, so you get exactly the shade you want.', 'You could also try applying a small amount to the chin.', '6. Check the bronzer in daylight.', \"Make sure it's not too heavy.\", 'Look for streaks.', 'If too much bronzer is applied, blend the bronzer down evenly with a cotton pad or apply a little more base powder.']\n",
      "['Eat', 'lots', 'of', 'fiber', ',', 'like', 'fruits', 'and', 'vegetables', ',', 'and', 'eat', 'lots', 'of', 'protein', 'like', 'eggs', ',', 'fish', ',', 'chicken', ',', 'nuts', ',', 'and', 'tofu', '.']\n",
      "['## Steps', '### Appearance', '1. Try to be healthy.', 'Drink lots of water every day, and carry a water bottle with you to school.', 'Try to get at least 8 hours of sleep a night to wake up feeling refreshed and well-rested.', 'Eat lots of fiber, like fruits and vegetables, and eat lots of protein like eggs, fish, chicken, nuts, and tofu.', \"Don't eat a lot of junk food.\", 'Also try to get in some light exercise.', 'You could play a sport, take a bike ride, etc.', 'Being at least a little active keeps you from feeling tired.', \"When you're healthy, your skin is automatically clearer, your hair shinier, and your nails stronger.\"]\n",
      "['Watch', 'only', 'a', 'little', 'TV', '.']\n"
     ]
    },
    {
     "name": "stdout",
     "output_type": "stream",
     "text": [
      "['Scientific research shows that relaxed people think more positively and are happier.', 'Where that point of balance between rest and activity lies, must be decided for oneself.', 'Everyone needs to experiment a little to find this correct balance.', '6. Think positive.', 'Those who think positively double their chance to realize happiness.', '7. Watch only a little TV.', 'Scientific research states, „ every hour of television lowers the general quality of life by 5%“.', 'The way to positive TV viewing consists of: a) choose your programs carefully.', 'Avoid negative films.', 'b) Find the correct amount of TV.', 'Children should watch a maximum of one hour per day of television.']\n",
      "['If', 'you', 'buy', 'real', 'estate', ',', 'you', 'must', 'be', 'aware', 'of', 'it', '.']\n",
      "['It is unlikely that anyone will care or take notice and the general consensus among many expats is that now that the housing boom is over, the Spanish see no use for foreigners in their country.', 'If you wish to buy or build in Spain you should exercise extreme caution and bear in mind the average lawyer is incompetent by Northern European standards.', '* Every property you buy fuels the Spanish real state economy.', 'In general terms, real state firms prefer making more money selling it to richer foreign owners than selling housing at affordable prices to the Spanish population.', 'This situation has led to the outright violation of the constitutional right to have a place to live.', 'If you buy real estate, you must be aware of it.', '## Related wikiHows', '* <a href=\"Learn%20to%20Speak%20Spanish\">How to Learn to Speak Spanish</a>', '* <a href=\"Buy%20Property%20in%20Bulgaria\">How to Buy Property in Bulgaria</a>', '* <a href=\"Buy%20Land%20in%20Koh%20Phangan%20Without%20Getting%20Shot%2C%20Scammed%20or%20Married\">How to Buy Land in Koh Phangan Without Getting Shot, Scammed or Married</a>', '* <a href=\"Buy%20a%20Property%20in%20Romania\">How to Buy a Property in Romania</a>']\n",
      "['Health', 'professionals', 'recommend', 'aiming', 'for', 'about', '150', 'minutes', 'of', 'cardio', 'per', 'week', '.']\n",
      "['5. Include regular exercise.', 'Nutrition is a huge part of weight loss.', 'However, another important part to safe and effective weight loss is regular exercise.', 'Include this as part of your weight loss plan.', \"* One type of exercise that's essential is cardio or aerobic exercise.\", 'Health professionals recommend aiming for about 150 minutes of cardio per week.', '* Also include regular strength training.', 'Aim for 1-2 days of strength training exercises each week.', '* The best combination for healthy and sustainable weight loss is a combination of a balanced diet and exercise.', '## Tips', '* Always talk to your doctor before starting any diet programs or taking any diet products.']\n",
      "['Be', 'wary', 'of', 'programs', 'that', 'suggest', 'taking', 'a', 'lot', 'of', 'supplements', '.']\n",
      "['You may also notice that there are several dieting programs on the market that suggest you avoid entire food groups or a very specific list of foods.', 'Or, you might find that only allow you to eat a very small grouping of foods.', '* There is no scientific evidence supporting a theory that only eating certain foods or avoiding certain food groups will result in weight loss.', \"* Diets that propose avoiding all gluten, all dairy products, all grains or all carbs may result in some initial weight loss; however, once you add these foods back in, you'll most likely regain the weight.\", '* The only foods that can be avoided (and should be at least limited) are fried foods, fast foods or processed junk food treats.', '3. Be wary of programs that suggest taking a lot of supplements.', 'Some diet programs advise the use of dietary supplements.', 'These may be vitamins, minerals or herbal supplements that are touted to help you lose weight.', \"* Whether it's green tea, green coffee, Vitamin B12 or garcinia cambogia, it's important to note that there is very little evidence supporting the use of any vitamin or herbal supplement for weight loss.\", '* If a plan suggests taking any type of supplement without modifying your diet, you can be sure this is an unhealthy and possibly unsafe method of weight loss.', 'Avoid these types of weight loss programs or products.']\n",
      "['Also', 'avoid', 'programs', 'that', 'recommend', 'taking', 'non-prescription', 'weight', 'loss', 'medications', '.']\n",
      "['Some diet programs advise the use of dietary supplements.', 'These may be vitamins, minerals or herbal supplements that are touted to help you lose weight.', \"* Whether it's green tea, green coffee, Vitamin B12 or garcinia cambogia, it's important to note that there is very little evidence supporting the use of any vitamin or herbal supplement for weight loss.\", '* If a plan suggests taking any type of supplement without modifying your diet, you can be sure this is an unhealthy and possibly unsafe method of weight loss.', 'Avoid these types of weight loss programs or products.', '* Also avoid programs that recommend taking non-prescription weight loss medications.', 'These can have serious negative side effects and are not a healthy way to lose weight.', '* Never take any dietary supplement without speaking to your doctor first.', 'These supplements are not well regulated and many can interfere with certain diseases and prescription medications.', '4. Do not follow diets that advise fasting or consuming very low calorie levels.', 'Another popular form of dieting is fasting diets or programs that suggest only eat a very small amount of calories everyday.']\n",
      "['Pay', 'particular', 'attention', 'to', 'the', 'hairline', 'line', 'and', 'roots', '.']\n",
      "['Continue working in thin 2-inch (5-cm) sections to ensure proper coverage.', 'When you’ve dyed the topmost layer of hair, repeat the same process with the layer below until all your hair has been dyed.', '* Keep twisting and wrapping each section of hair around the original bun.', '6. Touch up around the hairline.', 'When every section of hair has been covered and twisted into the bun, go around your hairline and add more paste to areas where the henna looks sparse or more coverage is needed.', 'Pay particular attention to the hairline line and roots.', '### Setting and Rinsing', '1. Wrap plastic wrap around your hair.', 'When your hair is fully covered, take a long sheet of plastic wrap and wrap your hair.', 'Wrap the plastic all the way around your hairline and completely cover your hair and the top of your head.', 'Don’t cover your ears.']\n",
      "['Click', 'on', 'Recent', 'Changes', 'in', 'the', 'column', 'to', 'the', 'right', '.']\n",
      "['Learn why each edit is corrected, undone or rolled back.', \"* Learn how to tag articles and user's Talk pages.\", \"* Voice your opinion, if you don't agree, to gain a better understanding.\", '5. Patrol one area at a time.', '<br><br>', '* Click on Recent Changes in the column to the right.', '* Click on Hide Patrolled Edits at the top of the page.', '* Select from the dropdown menu and click on GO.', '* User and Talk pages are easier than Discussion pages.', '* Article pages are more involved.', '6. Understand titles: <br><br>']\n",
      "['By', 'not', 'getting', 'ripped', 'off', 'you', 'are', 'not', 'only', 'benefiting', 'yourself', ',', 'but', 'future', 'travelers', '.']\n",
      "['## Steps', '1. First of all keep in mind that no one is going to sell you something unless they are going to make a profit.', \"Don't worry about insulting the merchant by offering an incredibly low price.\", 'If the merchant turns up his nose and appears insulted, move on to the next stall, you just established that the item cannot be bought at that time for or below the price you quoted.', '2. Consider that by paying an outrageous price for something, you are dooming the next poor traveler to pay the same or higher price for that object.', 'By not getting ripped off you are not only benefiting yourself, but future travelers.', '3. Conversely, expect to get ripped off, its part of traveling, and it keeps you sharp', '4. Consider visiting a super market where the prices are indicated before going out to the market.', 'The prices are often indicated much like any western shopping center and they will give you a rough idea for what things cost.', 'Usually, purchases at the supermarket cost more than in the street market.', '## Timestamp::::2007-02-18T18:56:21Z']\n",
      "['Resist', 'the', 'urge', 'to', 'compare', 'yourself', 'to', 'classmates', 'or', 'coworkers', '.']\n",
      "['With a bit of mental retraining, you can, too.', '## Steps', '### Challenging Negative or Inaccurate Thinking', '1. Stop comparing yourself to others.', 'Your negative thinking might rest at least in part on basic insecurities – feelings that you are not good enough or not as good as others around you.', 'Resist the urge to compare yourself to classmates or coworkers.', 'There will always be someone who is better, prettier, or more talented than you.', 'Recognize that this sort of thinking only feeds your insecurity.', 'The only person that you should compete against is yourself.', '* Try to be mindful of when you compare yourself to others.', 'When you catch yourself, stop and reverse the thought.']\n",
      "['The', 'first', 'method', 'is', 'great', 'for', 'working', 'your', 'small', 'stabilization', 'muscles', ',', 'getting', 'more', 'dynamic', 'exercises', 'and', 'it', \"'s\", 'cheaper', 'and', 'easier', 'to', 'construct', '.']\n",
      "[\"4. Let dry for a couple days, and you're done!\", '5. Finished.', '## Tips', '* The second bar is way better, but costs more and takes longer to make.', \"It's probably worth it though.\", \"* The first method is great for working your small stabilization muscles, getting more dynamic exercises and it's cheaper and easier to construct.\", '## Warnings', \"* Don't drop the bar on you when you're putting the hanging one up.\", '* Make sure to not hurt any muscles and stretch before your workout.', \"## Things You'll Need\", '* A four foot bar']\n",
      "['Choose', '2', 'big', 'mixing', 'buckets', 'you', 'don', '’', 't', 'mind', 'burying', '.']\n",
      "['Hold the flanges firmly against the wood.', 'Note the series of screw holes on them and mark these on the wood posts with a pencil.', 'Then, pre-drill the holes with a drill bit.', 'Finish by securing the flanges with galvanized wood screws placed in each hole.', '7. Mix 2 batches of <a href=\"Make%20Concrete\">concrete</a> in separate plastic buckets.', 'Choose 2 big mixing buckets you don’t mind burying.', 'The buckets need to be about and deep.', 'Use about 1 bag of concrete mix for each bucket.', 'Follow the manufacturer’s instructions to mix the concrete with water to the proper consistency.', '* The buckets give the bar more stability.', 'If you put the concrete directly into the ground, it may shift over time.']\n",
      "['Do', \"n't\", 'put', 'your', 'arm', 'around', 'her', 'shoulders', '.']\n",
      "[\"Don't hold the hug longer for 3 seconds.\", 'Just every once in a while.', 'Unless she is okay with it.', '## Warnings', '* Never force her to do anything.', \"* Don't put your arm around her shoulders.\", 'She will most likely get uncomfortable.', \"* Don't touch her private areas.\", \"Even if it's in private.\", '## Timestamp::::2010-03-17T01:59:37Z', '## Section::::Warnings.']\n",
      "['Watch', 'every', 'single', 'episode', 'they', 'make/made']\n",
      "['* not the dog though', '## Timestamp::::2014-09-13T08:47:59Z', '## Section::::Warnings.', 'How to be a true fan of My Little Pony', '## Steps', '1. Watch every single episode they make/made<br><br>', '2. Your bedroom has to be all rainbow with My Little Pony pictures you drew.', '3. Dress as your favorite character for Halloween.', '4. Know all the characters.', '5. Know the elements of harmony.', '6. Start a fan club with fellow bronies/pegasisters']\n",
      "['You', 'need', 'to', 'consult', 'your', 'doctor', 'regarding', 'your', 'consumption', 'of', 'the', 'herbs', ',', 'for', 'they', 'may', 'cause', 'adverse', 'side-effects', 'in', 'your', 'body', '.']\n",
      "['7. Get bright hope with Goldenseal.', 'This is another herb coming from the buttercup family.', 'This herb has been used as a medicine for a long time.', 'It is helpful in combating flu, sore throats, pinkeye, and other infections through strengthening your immune system.', '## Warnings', '* You need to consult your doctor regarding your consumption of the herbs, for they may cause adverse side-effects in your body.', '* Consider the medications you take for herbs may interact with them adversely.', '## Timestamp::::2014-04-09T14:11:38Z', '## Section::::Warnings.', 'The immune system is your body’s protective defense against different ailments, diseases, and other infections.', 'It is responsible for inhibiting the effects of foreign invaders, germs, viruses, as well as bacteria in your body.']\n",
      "['Gather', 'both', 'a', 'phillips', 'and', 'flat', 'head', 'screwdriver', '.']\n",
      "['## Section::::Steps.', 'Want to know how to build a laptop?', 'look below here!', '## Steps', '1. Gather a barebones notebook system, a central processing unit, memory chipsets, a hard drive.', '2. Gather both a phillips and flat head screwdriver.', 'Also unplug the AC adapter.', '3. Locate the heat sink.', 'Then unplug both the heat sink and fan.', 'Be careful not to damage the motherboard.', '4. Set the heat sink and fan aside.']\n",
      "['Know', ',', 'however', ',', 'that', 'this', 'will', 'not', 'make', 'a', 'very', 'strong', 'box', '.']\n",
      "['Building this crate requires that you to adhere the two boards to make the ends.', 'You have several options, including:', '* <a href=\"Make%20a%20Biscuit%20Joint\">Biscuit joints.</a> The remainder of the tutorial will be using biscuit joints.', '* <a href=\"Install%20Wood%20Dowel%20Joints\">Dowels</a>', '* Wood glue.', 'Know, however, that this will not make a very strong box.', '3. With the wood pressed together, use a pencil to mark three spots for dowels or biscuit joints.', \"Mark where you're going to adhere the boxes together on both blanks.\", \"For this tutorial, you'll use biscuit joints, though you can use any method you're comfortable with.\", 'Make sure you have three wooden biscuits as well as a biscuit drill.', '* Three biscuit joiners for each end should be more than enough.']\n",
      "['Make', 'sure', 'each', 'biscuit', 'is', 'snug', 'inside', 'the', 'hole', '.']\n",
      "['Like up the drill with your pencil marks and make a clean, quick cut with the drill.', 'Repeat for the other 5 marks.', '5. Apply wood glue to all three biscuit holes on one of the planks.', 'One solid line of glue along the entire edge should be fine.', '6. Insert a biscuit into each hole and firmly push it into place.', 'Make sure each biscuit is snug inside the hole.', '7. Add a little more glue to the top of each biscuit, then attach the two boards together.', 'Simply slot the biscuits into the slots on the other piece.', 'Let the wood glue dry and your ends are finished.', 'Use a rubber mallet to hammer the ends gently, but firmly, together.', '* For the cleanest results, use a set of clamps to hold the two boards together as the wood glue dries.']\n",
      "['That', \"'s\", 'because', 'wholemeal', 'bread', 'contains', 'complex', 'carbohydrates', 'instead', 'of', 'simple', 'carbohydrates', ';', 'complex', 'carbohydrates', 'take', 'longer', 'for', 'your', 'body', 'to', 'break', 'down', ',', 'meaning', 'they', 'are', \"n't\", 'stored', 'as', 'fat', 'easily', '.']\n",
      "['## Sources and Citations', '* http://allrecipes.com/recipe/simple-whole-wheat-bread/', '## Section::::Sources and Citations.', '## Timestamp::::2014-10-21T13:19:59Z', 'This wholemeal bread recipe is a delicious yet nutritious way to serve bread.', \"That's because wholemeal bread contains complex carbohydrates instead of simple carbohydrates; complex carbohydrates take longer for your body to break down, meaning they aren't stored as fat easily.\", 'For a surefire recipe on how to bake wholemeal bread, read on.', '## Ingredients', '* 3 cups warm water (110 degrees F/45 degrees C)', '* 2 (.25 ounce) packages active dry yeast', '* 2/3 cup honey, divided into two 1/3 cups']\n",
      "['Your', 'initially', 'piercing', 'jewelry', 'should', 'stay', 'in', 'place', 'for', 'the', 'duration', 'of', 'the', 'healing', 'period', '(', '4-10', 'weeks', ')', '.']\n",
      "['### Avoiding Irritation To The Piercing', '1. Keep from touching your piercing.', 'Of course it’s appropriate to touch your piercing with clean hands while you wash it, but avoid playing with, twisting, pulling, or fondling your piercing unnecessarily.', '* Any excessive touching (especially with unwashed hands) can make your piercing more susceptible to opening up and bleeding, or becoming infected.', '2. Leave the jewelry in place.', 'Your initially piercing jewelry should stay in place for the duration of the healing period (4-10 weeks).', 'Removing your jewelry before your piercing is fully healed can cause your piercing site to close up, which can in turn make reinserting jewelry more difficult and painful.', '* This added irritation could potentially create more scarring and slow down your body’s natural healing process.', '3. Avoid applying ointments.', 'Ointments or creams prevent your piercing from coming in contact with air, and breathing.', 'They block out air and seal in moisture at the piercing site with potential bacteria.']\n",
      "['If', 'you', 'wish', 'to', 'be', 'able', 'to', 'do', 'the', 'bunny', 'hop', 'backwards', '(', 'getting', 'your', 'rear', 'wheel', 'off', 'first', ')', ',', 'you', 'could', 'do', 'a', 'stoppie', '(', 'getting', 'some', 'speed', 'and', 'hitting', 'the', 'front', 'brake', 'just', 'enough', 'to', 'get', 'the', 'back', 'wheel', 'off', 'the', 'ground', ')', 'while', 'thrusting', 'your', 'weight', 'onto', 'your', 'front', 'tire', 'and', 'then', 'slinging', 'your', 'weight', 'backwards', 'while', 'holding', 'on', 'to', 'the', 'handlebars', 'and', 'when', 'the', 'rear', 'wheel', 'is', 'still', 'up', '.']\n",
      "['Start jumping using a smaller bike.', 'The difference in weight and mobility is critical to beginning jumps.', '* Try jumping over cardboard boxes, or small piece of wood that will fall over easily if hit.', '* Hopping high on the flat ground for no reason is hard.', 'You will jump higher if you have something to jump over.', '* If you wish to be able to do the bunny hop backwards (getting your rear wheel off first), you could do a stoppie (getting some speed and hitting the front brake just enough to get the back wheel off the ground) while thrusting your weight onto your front tire and then slinging your weight backwards while holding on to the handlebars and when the rear wheel is still up.', '## Warnings', '* Always wear a safety helmet when doing bicycle stunts.', '* Watch out for the pedals!', 'If you misland the hop, your pedals will slam into your shins, which is a very painful experience.', \"* Don't pull up on the front wheel so hard that you loop out and fall on your butt.\"]\n",
      "['Sample', 'I', 'statements', 'are', ':', '“', 'I', 'feel', 'angry', 'when', 'you', 'use', 'sarcasm', ',', '”', '“', 'I', 'feel', 'insulted', 'when', 'you', 'put', 'your', 'desires', 'ahead', 'of', 'mine', ',', '”', 'or', '“', 'I', 'feel', 'hurt', 'when', 'you', 'talk', 'to', 'me', 'like', 'that', '.', '”']\n",
      "['An I statement is when you begin a sentence with “I…” It is successful because it focuses on what you need without putting the other person in a corner.', 'You allow the other person to think, feel and do what is best for them.', '* Using an I statement is an assertive technique rather than a rude one because you are taking responsibility for your feelings.', 'You are not blaming the other person.', '“I” statements are a good way to open up communication so that the problem can be solved.', '* Sample I statements are: “I feel angry when you use sarcasm,” “I feel insulted when you put your desires ahead of mine,” or “I feel hurt when you talk to me like that.”', '4. Be polite but firm.', 'Stay within the bounds of politeness while also expressing yourself.', 'After saying what you need to say, listen to the other side.', 'There’s no need to raise your voice to be heard.', 'There’s more power (and politeness) in being calm and collected.']\n",
      "['Remember', 'that', '``', 'without', 'love', ',', 'life', \"'s\", 'a', \"'45\", 'when', 'you', 'ca', \"n't\", 'buy', 'it', '!', \"''\"]\n",
      "['Penny supports Tracy in everything she does, even when it lands them in the \"big doll house,\" so be very supporting to all your friends.', '2. Chew lots of gum!', '3. Oppose the tyranny of your over-protective mother and remind her that you\\'re \"a big girl now.\"', '4. Be accepting of the differences of others.', '5. Love your boyfriend even though the rest of the world seems opposed to your relationship.', 'Remember that \"without love, life\\'s a \\'45 when you can\\'t buy it!\"', \"6. Achieving Penny's Look This step is optional.\", '* Dye your hair red and keep it on the shorter side.', '* Wear plaid jumpers', \"* Although you really don't have to wear the jumpers either or cut your hair but if you're going all out for it then, yes, you should totally do it!\", '## Tips']\n",
      "['Go', 'to', 'your', 'veterinarian', \"'s\", 'office', '.']\n"
     ]
    },
    {
     "name": "stdout",
     "output_type": "stream",
     "text": [
      "['There are USDA offices located all over the country.', 'The Department’s website provides a locator that will help you find the nearest service center.', '2. Get a copy of the Certificate of Good Health of Exportation of Small Animals.', 'The title of this document may vary as issued by your country of origin.', 'In the United States, this is form 7001 issued by the USDA.', \"3. Go to your veterinarian's office.\", 'Have your them do a health exam and fill out a health certificate, a rabies vaccination certificate, and a certificate of origin.', 'Have all of the forms filled out in ink.', '* Consider having your <a href=\"Microchip%20Your%20Dog\">pet micro-chipped</a> at this point.', 'It is a form of identification that mitigates the risk of your pet being lost and not found again.', 'Panama recommends, but does not require, that you have your pet micro-chipped.']\n",
      "['Stick', 'to', 'red', ',', 'grays', ',', 'blacks', ',', 'and', 'light', 'colors', '.']\n",
      "['Stand tall and take long strides.', 'Keep our shoulders down and your head up.', '## Tips', '* Less is more when it comes to make-up', '* If you have an allergic reaction or break out after using a certain product, just throw it out and find a better one.', '* Stick to red, grays, blacks, and light colors.', \"This isn't the colorblind scene look.\", \"* If it doesn't fit you, even just in one place, don't buy it or get it tailored.\", '* Buy things that define your waistline and exploit your curves.', 'Be proud of your girly shape.', \"* The hoop earrings shouldn't reach your shoulders!\"]\n",
      "['How', 'to', 'Change', 'Your', 'Security', 'Question', 'on', 'oDesk']\n",
      "['## Section::::Adding Employment History via Smartphone.', '__METHOD__', '## Related wikiHows', '* <a href=\"Use%20the%20oDesk%20Team%20App\">How to Use the oDesk Team App</a>', '* <a href=\"Change%20Your%20Profile%20Access%20on%20oDesk\">How to Change Your Profile Access on oDesk</a>', '* <a href=\"Change%20Your%20Security%20Question%20on%20oDesk\">How to Change Your Security Question on oDesk</a>', '## Timestamp::::2014-09-18T22:47:25Z', '## Section::::Related wikiHows.', 'If you are a freelancer—whether a writer, graphic artist, and the like—it’s highly likely that you have signed up with oDesk to find work online.', 'Many people do not realize how important having a complete profile can be.', 'In fact, it is key to finding and getting hired for good jobs online.']\n",
      "['This', 'is', 'not', 'at', 'all', 'true', ',', 'if', 'any', 'one', 'bothered', 'to', 'read', 'he/she', 'would', 'find', 'out', 'that', 'the', 'people', 'who', 'steal', 'out', 'of', 'need', ',', 'the', 'employee', 'who', 'steals', 'from', 'his', 'work', 'place', '(', 'i.e', '.', 'a', 'waitress', 'who', 'steals', 'spoons', ')', ',', 'and', 'a', 'family', 'member', 'that', 'steals', 'from', 'his/her', 'family', 'member', ',', 'all', 'of', 'these', 'are', 'not', 'to', 'be', 'sentenced', 'by', 'cutting', 'of', 'their', 'hands', '.']\n",
      "['* Read the book, The Forty Hadiths, to sample a few of the prophetic sayings.', \"* Visit the websites of reverts to Islam, Muslim singers, writers, etc... to get a feel of this huge community of 1.5 billion people (17% of the world's population).\", '## Warnings', \"* DON'T believe everything you hear about Islam.\", '* There are many many misconceptions about Islam, one of the most popular being that in the Islamic doctrine all thieves should have their hands cut off.', 'This is not at all true, if any one bothered to read he/she would find out that the people who steal out of need, the employee who steals from his work place (i.e.', 'a waitress who steals spoons), and a family member that steals from his/her family member, all of these are not to be sentenced by cutting of their hands.', \"So we're only talking about wealthy bank robbers who deserve such a sentence anyways.\", '* Again, be careful about what you hear!', \"## Things You'll Need\", \"* Your undivided attention (it's somewhere in you!)\"]\n",
      "['Allah', ',', 'the', 'Arabic', 'word', 'for', 'God', ',', 'refers', 'to', 'the', 'same', 'God', 'worshiped', 'by', 'Christians', 'and', 'Jews', '(', 'aka', 'the', '``', 'Abrahamic', \"''\", 'God', ')', '.']\n",
      "['Islam considers itself to be the natural way of all creation.', 'That is, Islam is the original, perfect state of being.', 'So, when a person \"converts\" to Islam, he/she is actually reverting to their own original nature.', '* Islam considers anyone who follows its teachings to be a Muslim, regardless of when or where she or he lived.', \"For instance, Islam believes that Jesus was a Muslim, though he lived hundreds of years before modern Islam's historical founding.\", '* Allah, the Arabic word for God, refers to the same God worshiped by Christians and Jews (aka the \"Abrahamic\" God).', 'Thus, Muslims revere the prophets of Christianity and Judaism (including Jesus, Moses, David, Elijah, etc.)', 'and consider the Bible and Torah to be divinely inspired, but modified over time, and therefore, unreliable.', \"The Qur'an is God's final scripture that affirms the truth in the previous scriptures and rectifies any falsehoods or corruptions.\", '* Avoid associating yourself with any sect in Islam.', 'Allah and his Prophet command us to be united.']\n",
      "['Performance', 'the', 'five', 'daily', 'prayers', '(', 'Salah', ')', '.']\n",
      "[\"Islam's Five Pillars are obligatory actions that Muslims must take.\", 'They represent the core of pious Islamic life.', 'The Five Pillars are:', '* Testimony of Faith (Shahada).', 'You make this when you become a Muslim by declaring that there is no God but Allah and Muhammad is His messenger.', '* Performance the <a href=\"Pray%20in%20Islam\">five daily prayers</a> (Salah).', 'Prayers are made throughout the day, five times, in the direction of the holy city of Mecca.', '* <a href=\"Make-the-Most-out-of-Ramadhan\">Fasting</a> during the month of Ramadan (Sawm), if able.', 'Ramadan is a holy month marked by fasting and additional good deeds such as prayer and charity.', '* Giving 2.5% of your savings to the poor (Zakat).', 'It is a personal responsibility of Muslims to help those less fortunate.']\n",
      "['Practice', 'caution', 'when', 'going', 'into', 'a', 'taxi', '.']\n",
      "['* Age', '* Beliefs', '* Values', '7. Look out for people following or listening to you.', 'You should never say anything confidential or private in public, even if you are sure nobody is listening.', '8. Practice caution when going into a taxi.', 'Only get into cabs clearly marked.', 'Ensure their name and photo matches their license.', '### While on a Holiday', '1. <a href=\"Answer%20the%20Door%20Safely\">Verify identity before opening your door.</a> Always ask who it is, even if you are suspecting one.', '2. Keep your room to people you know.']\n",
      "['If', 'you', 'encounter', 'terrorists', 'who', 'target', 'people', 'of', 'a', 'particular', 'religion', ',', 'you', 'could', 'become', 'a', 'victim', 'of', 'terrorism', '.']\n",
      "['3. Avoid anything that could indicate your country of origin.', 'Do not wear shirts or hats emblazoned with your national flag.', 'Terrorists could use that to identify and target you as someone belonging to a particular nation.', 'Additionally, do not attach keychains, buttons, stickers, or patches bearing your national flag to your clothing, backpack, or suitcase.', '4. Don’t wear religious clothing.', 'If you encounter terrorists who target people of a particular religion, you could become a victim of terrorism.', 'Wearing crucifixes, yarmulkes, or other religious garb could cause terrorists to target you.', '5. Identify safe havens you can retreat to in the event of a terror attack.', 'Obtain a map of your local area.', 'Mark all the police stations, hotels, and hospitals on the map.', 'Circle the ones that are closest to you or to the locations you know you will be visiting regularly or in the near future.']\n",
      "['Open', 'the', 'Google', 'Drive', 'app', '.']\n",
      "['7. Tap .', \"It's in the upper-right corner.\", 'This automatically backs up your chosen items to the cloud.', '8. View the uploaded files in My Drive.', 'Use the following steps to view the files on your drive.', '* Open the Google Drive app.', '* Tap the Files tab in the lower-right corner.', '* Tap the My Drive tab at the top of the screen.', '### Syncing Android Apps and Settings with Google', '1. Open Google Drive.', \"It's the app that has an icon that resembles triangle with green, yellow, and blue sides.\"]\n",
      "['Most', 'of', 'the', 'organizations', 'responsible', 'for', 'governance', 'of', 'snow', 'sports', 'training', 'are', 'members', 'of', 'the', 'International', 'Ski', 'Instructors', 'Association', '(', 'ISIA', ')', ',', 'the', 'worldwide', 'association', 'for', 'ski', 'instructors', ',', 'which', 'determines', 'minimum', 'standards', 'for', 'ski', 'instructor', 'certification', '.']\n",
      "['Read further to learn how to become a ski instructor.', '## Steps', '1. Research the requirements in your country of interest.', 'Different countries have different governing bodies for their ski instructors, which means that different countries have different certifications.', 'Therefore, you will need to find out which organization governs certification where you would like to teach.', '* Most of the organizations responsible for governance of snow sports training are members of the International Ski Instructors Association (ISIA), the worldwide association for ski instructors, which determines minimum standards for ski instructor certification.', 'Before signing up for a ski course, make sure the governing body of the country where your course will take place is a member of ISIA in order to be certain you will obtain a valid qualification.', '* It would be wise to obtain your certification in the country where you would like to teach; however, some countries will allow you to teach with certifications from other countries.', '2. Decide which type of skiing you would like to teach.', 'There are several types of skiing, including adaptive alpine skiing, alpine skiing, cross country skiing, and telemark skiing.', 'You can also specialize in children’s skiing or freestyle skiing.']\n",
      "['When', 'attempting', 'in', 'any', 'condition', ',', 'always', 'wear', 'a', 'personal', 'flotation', 'device', '.']\n",
      "['* Make sure the line goes on the marker without any tangles so that the line comes off the marker smoothly.', '* When using a fluke anchor, give the anchor rope a couple of sharp, short pulls while letting out line to set it.', 'The more line out the better angle you will have to get the flukes in the sand.', '* When finished, make sure the anchor line is wrapped in a circle and then stored neatly to prevent future tangles.', '## Warnings', '* When attempting in any condition, always wear a personal flotation device.', \"## Things You'll Need\", '* Anchor line', '* Anchor', '* Boat', '## Related wikiHows']\n",
      "['Before', 'you', 'file', 'your', 'PCT', 'application', ',', 'you', 'should', 'be', 'aware', 'of', 'the', 'deadlines', 'so', 'that', 'you', 'can', 'plan', 'your', 'patent', 'application', 'timeline', 'accordingly', '.']\n",
      "['The PCT is an international treaty that allows member countries to file a single international patent application that would be recognized by the other 148 member countries.', 'This patent application must be filed within twelve months of the date that you filed your provisional or non-provisional application with the USTPO.', '2. Check foreign country deadlines.', 'Typically, once you submit your PCT patent application you will have between 18 and 30 months to amend and file your patent in individual countries.', 'This is called “nationalizing” your patent and is discussed below.', 'Before you file your PCT application, you should be aware of the deadlines so that you can plan your patent application timeline accordingly.', '* Failure to file on time may permanently extinguish your potential patent rights in foreign countries.', '* You can review a list of country-specific deadlines for nationalizing patents at: http://www.wipo.int/pct/en/texts/time_limits.html', '3. Draft a PCT patent application.', 'The PCT patent application requires a number of documents and information for it to be deemed complete.', 'You should consider hiring an attorney that specializes in patent law and is experienced in PCT patents to assist you in drafting your application.']\n",
      "['Analyze', 'this', ',', 'discard', 'idiotic', 'behavior', '(', 'unless', 'you', 'are', 'prepared', 'to', 'be', '``', 'social', \"''\", 'by', 'being', 'an', 'ass', ')', '.']\n",
      "['Look at others and learn.', \"Now that you have been invited into a party, it's time to learn how to act in a party!\", '## Steps', '1. Look at people that appear to be social, and check what they do.', 'Make a list of good behaviors.', '2. Analyze this, discard idiotic behavior (unless you are prepared to be \"social\" by being an ass).', '3. Reduce your list to 5 to 10 points of observed behavior.', '4. Practice one point at a time at different parties.', \"Don't be afraid to fail -- Rome was not built in a day.\", '5. Enjoy yourself; there is nothing more boring in a party than a worrying fart.', \"6. When you're in a conversation with other people and someone new walks up, look at him or her, smile and turn your body so that the group includes the newcomer.\"]\n"
     ]
    }
   ],
   "source": [
    "subset = content[0:100]\n",
    "for wikihow_instance in subset: \n",
    "    print(wikihow_instance['Target_Tokenized'])\n",
    "    get_matching_sent_context(wikihow_instance['Target_Context'], wikihow_instance['Target_Tokenized'])"
   ]
  },
  {
   "cell_type": "code",
   "execution_count": 249,
   "metadata": {},
   "outputs": [
    {
     "ename": "KeyError",
     "evalue": "'Source_tagged'",
     "output_type": "error",
     "traceback": [
      "\u001b[0;31m---------------------------------------------------------------------------\u001b[0m",
      "\u001b[0;31mKeyError\u001b[0m                                  Traceback (most recent call last)",
      "\u001b[0;32m<ipython-input-249-c749ae2f8f5a>\u001b[0m in \u001b[0;36m<module>\u001b[0;34m\u001b[0m\n\u001b[1;32m      1\u001b[0m \u001b[0;32mfor\u001b[0m \u001b[0mwikihow_instance\u001b[0m \u001b[0;32min\u001b[0m \u001b[0msubset\u001b[0m\u001b[0;34m:\u001b[0m\u001b[0;34m\u001b[0m\u001b[0;34m\u001b[0m\u001b[0m\n\u001b[1;32m      2\u001b[0m     \u001b[0msource_context\u001b[0m \u001b[0;34m=\u001b[0m \u001b[0mwikihow_instance\u001b[0m\u001b[0;34m[\u001b[0m\u001b[0;34m'Source_Context'\u001b[0m\u001b[0;34m]\u001b[0m\u001b[0;34m\u001b[0m\u001b[0;34m\u001b[0m\u001b[0m\n\u001b[0;32m----> 3\u001b[0;31m     \u001b[0msource_line\u001b[0m \u001b[0;34m=\u001b[0m \u001b[0mwikihow_instance\u001b[0m\u001b[0;34m[\u001b[0m\u001b[0;34m'Source_tagged'\u001b[0m\u001b[0;34m]\u001b[0m\u001b[0;34m\u001b[0m\u001b[0;34m\u001b[0m\u001b[0m\n\u001b[0m\u001b[1;32m      4\u001b[0m     \u001b[0mprint\u001b[0m\u001b[0;34m(\u001b[0m\u001b[0msource_line\u001b[0m\u001b[0;34m)\u001b[0m\u001b[0;34m\u001b[0m\u001b[0;34m\u001b[0m\u001b[0m\n\u001b[1;32m      5\u001b[0m     \u001b[0mprint\u001b[0m\u001b[0;34m(\u001b[0m\u001b[0msource_context\u001b[0m\u001b[0;34m)\u001b[0m\u001b[0;34m\u001b[0m\u001b[0;34m\u001b[0m\u001b[0m\n",
      "\u001b[0;31mKeyError\u001b[0m: 'Source_tagged'"
     ]
    }
   ],
   "source": [
    "for wikihow_instance in subset: \n",
    "    source_context = wikihow_instance['Source_Context']\n",
    "    source_line = wikihow_instance['Source_tagged']\n",
    "    \n",
    "    print(source_line)\n",
    "    print(source_context)\n",
    "    print(\"------------------\")\n",
    "    get_matching_sent_context(source_context, source_line, windows=[1,2,3,4,5])\n",
    "    print('\\n')"
   ]
  },
  {
   "cell_type": "code",
   "execution_count": 255,
   "metadata": {},
   "outputs": [
    {
     "name": "stdout",
     "output_type": "stream",
     "text": [
      "['Be', 'Like', 'a', 'New', 'Yorker']\n",
      "0 \t ## Things You'll Need\n",
      "1 \t * Enough money to get quality clothes, makeup, and hair supplies\n",
      "2 \t * A mirror so you can see yourself while you practise how you act\n",
      "3 \t * An alarm clock- you need to get up nice and early in order to do your makeup and hair\n",
      "4 \t ## Related wikiHows\n",
      "5 \t * <a href=\"Be%20Like%20a%20New%20Yorker\">Be Like a New Yorker</a>\n",
      "6 \t * <a href=\"Be%20a%20True%20Rock%20N%20Roller\">Be a True Rock N Roller</a>\n",
      "7 \t * <a href=\"Be%20a%20Greaser\">Be a Greaser</a>\n",
      "8 \t ## Timestamp::::2018-04-30T16:38:43Z\n",
      "9 \t ## Section::::Related wikiHows.\n",
      "10 \t Moe is a style in Japan. It means somebody who has small but adorable and sexy features. There's a certain way to act as well!\n"
     ]
    }
   ],
   "source": [
    "print(content[120]['Source_Tokenized'])\n",
    "for c, elem in enumerate(content[120]['Source_Context'], 0): \n",
    "    print(c, '\\t', elem)"
   ]
  },
  {
   "cell_type": "code",
   "execution_count": 261,
   "metadata": {},
   "outputs": [
    {
     "name": "stdout",
     "output_type": "stream",
     "text": [
      "0 ## Things You'll Need\n",
      "1 * Enough money to get quality clothes, makeup, and hair supplies\n",
      "2 * A mirror so you can see yourself while you practise how you act\n",
      "3 * An alarm clock- you need to get up nice and early in order to do your makeup and hair\n",
      "4 ## Related wikiHows\n",
      "5 * <a href=\"Be%20Like%20a%20New%20Yorker\">Be Like a New Yorker</a>\n",
      "6 * <a href=\"Be%20a%20True%20Rock%20N%20Roller\">Be a True Rock N Roller</a>\n",
      "7 * <a href=\"Be%20a%20Greaser\">Be a Greaser</a>\n",
      "8 ## Timestamp::::2018-04-30T16:38:43Z\n",
      "9 ## Section::::Related wikiHows.\n",
      "10 Moe is a style in Japan.\n"
     ]
    }
   ],
   "source": [
    "res = get_matching_sent_context(content[120]['Source_Context'], content[120]['Source_Tokenized'])\n",
    "for c, elem in enumerate(res, 0):  \n",
    "    print(c, elem)"
   ]
  },
  {
   "cell_type": "code",
   "execution_count": 280,
   "metadata": {},
   "outputs": [],
   "source": [
    "def get_context(context,sent):\n",
    "    sentence_tokenized_document = sentence_splitter(context)\n",
    "    bleu_scores = []\n",
    "    sents = []\n",
    "    for elem in sentence_tokenized_document:\n",
    "        reference = [word_tokenize(elem)]\n",
    "        score = sentence_bleu(reference, sent)\n",
    "        bleu_scores.append(score)\n",
    "        sents.append(elem)\n",
    "    index_of_max_bleu = bleu_scores.index(max(bleu_scores))\n",
    "    matched_sent = sents[index_of_max_bleu]\n",
    "    previous_sentences = []\n",
    "    next_sentences = [] \n",
    "    for window in windows: \n",
    "        next_sent = sents[index_of_max_bleu+window]\n",
    "        next_sentences.append(next_sent)\n",
    "        previous_sent = sents[index_of_max_bleu-window]\n",
    "        previous_sentences.append(previous_sent)\n",
    "    previous_sentences.reverse()\n",
    "    context = previous_sentences + [matched_sent] + next_sentences\n",
    "    return context "
   ]
  },
  {
   "cell_type": "code",
   "execution_count": 268,
   "metadata": {},
   "outputs": [
    {
     "name": "stdout",
     "output_type": "stream",
     "text": [
      "[\"## Things You'll Need\", '* Enough money to get quality clothes, makeup, and hair supplies', '* A mirror so you can see yourself while you practise how you act', '* An alarm clock- you need to get up nice and early in order to do your makeup and hair', '## Related wikiHows', '* If you approach a girl who is with her friends, be prepared to impress the entire group.', '* <a href=\"Be%20a%20True%20Rock%20N%20Roller\">Be a True Rock N Roller</a>', '* <a href=\"Be%20a%20Greaser\">Be a Greaser</a>', '## Timestamp::::2018-04-30T16:38:43Z', '## Section::::Related wikiHows.', 'Moe is a style in Japan.']\n"
     ]
    }
   ],
   "source": [
    "print(context)"
   ]
  },
  {
   "cell_type": "code",
   "execution_count": 282,
   "metadata": {},
   "outputs": [
    {
     "ename": "IndexError",
     "evalue": "list index out of range",
     "output_type": "error",
     "traceback": [
      "\u001b[0;31m---------------------------------------------------------------------------\u001b[0m",
      "\u001b[0;31mIndexError\u001b[0m                                Traceback (most recent call last)",
      "\u001b[0;32m<ipython-input-282-9b10ffba880b>\u001b[0m in \u001b[0;36m<module>\u001b[0;34m\u001b[0m\n\u001b[0;32m----> 1\u001b[0;31m \u001b[0mget_context\u001b[0m\u001b[0;34m(\u001b[0m\u001b[0mcontent\u001b[0m\u001b[0;34m[\u001b[0m\u001b[0;36m120\u001b[0m\u001b[0;34m]\u001b[0m\u001b[0;34m[\u001b[0m\u001b[0;34m'Target_Context'\u001b[0m\u001b[0;34m]\u001b[0m\u001b[0;34m,\u001b[0m \u001b[0mcontent\u001b[0m\u001b[0;34m[\u001b[0m\u001b[0;36m120\u001b[0m\u001b[0;34m]\u001b[0m\u001b[0;34m[\u001b[0m\u001b[0;34m'Target_Tokenized'\u001b[0m\u001b[0;34m]\u001b[0m\u001b[0;34m)\u001b[0m\u001b[0;34m\u001b[0m\u001b[0;34m\u001b[0m\u001b[0m\n\u001b[0m",
      "\u001b[0;32m<ipython-input-280-535392f180ba>\u001b[0m in \u001b[0;36mget_context\u001b[0;34m(context, sent)\u001b[0m\n\u001b[1;32m     13\u001b[0m     \u001b[0mnext_sentences\u001b[0m \u001b[0;34m=\u001b[0m \u001b[0;34m[\u001b[0m\u001b[0;34m]\u001b[0m\u001b[0;34m\u001b[0m\u001b[0;34m\u001b[0m\u001b[0m\n\u001b[1;32m     14\u001b[0m     \u001b[0;32mfor\u001b[0m \u001b[0mwindow\u001b[0m \u001b[0;32min\u001b[0m \u001b[0mwindows\u001b[0m\u001b[0;34m:\u001b[0m\u001b[0;34m\u001b[0m\u001b[0;34m\u001b[0m\u001b[0m\n\u001b[0;32m---> 15\u001b[0;31m         \u001b[0mnext_sent\u001b[0m \u001b[0;34m=\u001b[0m \u001b[0msents\u001b[0m\u001b[0;34m[\u001b[0m\u001b[0mindex_of_max_bleu\u001b[0m\u001b[0;34m+\u001b[0m\u001b[0mwindow\u001b[0m\u001b[0;34m]\u001b[0m\u001b[0;34m\u001b[0m\u001b[0;34m\u001b[0m\u001b[0m\n\u001b[0m\u001b[1;32m     16\u001b[0m         \u001b[0mnext_sentences\u001b[0m\u001b[0;34m.\u001b[0m\u001b[0mappend\u001b[0m\u001b[0;34m(\u001b[0m\u001b[0mnext_sent\u001b[0m\u001b[0;34m)\u001b[0m\u001b[0;34m\u001b[0m\u001b[0;34m\u001b[0m\u001b[0m\n\u001b[1;32m     17\u001b[0m         \u001b[0mprevious_sent\u001b[0m \u001b[0;34m=\u001b[0m \u001b[0msents\u001b[0m\u001b[0;34m[\u001b[0m\u001b[0mindex_of_max_bleu\u001b[0m\u001b[0;34m-\u001b[0m\u001b[0mwindow\u001b[0m\u001b[0;34m]\u001b[0m\u001b[0;34m\u001b[0m\u001b[0;34m\u001b[0m\u001b[0m\n",
      "\u001b[0;31mIndexError\u001b[0m: list index out of range"
     ]
    }
   ],
   "source": [
    "get_context(content[120]['Target_Context'], content[120]['Target_Tokenized'])"
   ]
  },
  {
   "cell_type": "code",
   "execution_count": 283,
   "metadata": {},
   "outputs": [
    {
     "name": "stdout",
     "output_type": "stream",
     "text": [
      "[\"## Things You'll Need\", '* Enough money to get quality clothes, makeup, and hair supplies', '* A mirror so you can see yourself while you practise how you act', '* An alarm clock- you need to get up nice and early in order to do your makeup and hair', '## Related wikiHows', '* <a href=\"Act%20Like%20a%20New%20Yorker\">Act Like a New Yorker</a>', '* <a href=\"Be%20a%20True%20Rock%20N%20Roller\">Be a True Rock N Roller</a>', '* <a href=\"Look%20Like%20a%20Greaser\">Look Like a Greaser</a>']\n"
     ]
    }
   ],
   "source": [
    "print(content[120]['Target_Context'])"
   ]
  },
  {
   "cell_type": "code",
   "execution_count": null,
   "metadata": {},
   "outputs": [],
   "source": []
  }
 ],
 "metadata": {
  "kernelspec": {
   "display_name": "Python 3",
   "language": "python",
   "name": "python3"
  },
  "language_info": {
   "codemirror_mode": {
    "name": "ipython",
    "version": 3
   },
   "file_extension": ".py",
   "mimetype": "text/x-python",
   "name": "python",
   "nbconvert_exporter": "python",
   "pygments_lexer": "ipython3",
   "version": "3.7.4"
  }
 },
 "nbformat": 4,
 "nbformat_minor": 2
}
