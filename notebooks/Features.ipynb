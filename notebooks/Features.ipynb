{
 "cells": [
  {
   "cell_type": "code",
   "execution_count": 32,
   "metadata": {},
   "outputs": [],
   "source": [
    "import json\n",
    "from nltk.tokenize import sent_tokenize\n",
    "import re"
   ]
  },
  {
   "cell_type": "code",
   "execution_count": 12,
   "metadata": {},
   "outputs": [],
   "source": [
    "path = '../classification-scripts/same-noun-modifications/SAME-NOUN-MODIFICATIONS-TEST-5-NEW.json'\n",
    "with open(path, 'r') as json_in: \n",
    "     data = json.load(json_in)"
   ]
  },
  {
   "cell_type": "code",
   "execution_count": 30,
   "metadata": {},
   "outputs": [],
   "source": [
    "def sentence_splitter(document):\n",
    "    \"\"\"\n",
    "      Sentence splitter to deal with bullet items in texts.\n",
    "    \"\"\"\n",
    "    # Tokenize per 'sub sentence list' instead of joining (to keep markdown headers separated)\n",
    "    unflattened_sentences = (sent_tokenize(sent_item)\n",
    "                             for sent_item in document)\n",
    "    # Flatten sentences: (https://stackoverflow.com/questions/952914/how-to-make-a-flat-list-out-of-list-of-lists)\n",
    "    sentences = (\n",
    "        sentence for sub_sentences in unflattened_sentences for sentence in sub_sentences)\n",
    "    pattern = re.compile(r\"^[0-9]+\\.$\")\n",
    "    merged_item_sents = []\n",
    "\n",
    "    sentence = next(sentences)\n",
    "    while sentence:\n",
    "        if re.match(pattern, sentence):\n",
    "            next_sentence = next(sentences)\n",
    "            merged = f\"{sentence} {next_sentence}\"\n",
    "            merged_item_sents.append(merged)\n",
    "        else:\n",
    "            merged_item_sents.append(sentence)\n",
    "\n",
    "        try:\n",
    "            sentence = next(sentences)\n",
    "        except StopIteration:\n",
    "            sentence = False\n",
    "    return merged_item_sents"
   ]
  },
  {
   "cell_type": "code",
   "execution_count": 13,
   "metadata": {},
   "outputs": [
    {
     "data": {
      "text/plain": [
       "dict_keys(['Filename', 'All_Versions', 'Revision_Length', 'Base_Sentence', 'Revisions', 'Key', 'Source_Tokenized', 'Target_Tokenized', 'Correction', 'Source_Line_Tagged', 'Target_Line_Tagged', 'Differences', 'Entailment_Rel', 'PPDB_Matches', 'Loc_in_splits', 'Target_Line_Nr', 'Source_Line_Nr', 'Source_Context', 'Target_Context', 'Source_Context_5', 'Target_Context_5', 'Source_Context_5_Processed', 'Target_Context_5_Processed'])"
      ]
     },
     "execution_count": 13,
     "metadata": {},
     "output_type": "execute_result"
    }
   ],
   "source": [
    "data[0].keys()"
   ]
  },
  {
   "cell_type": "code",
   "execution_count": 27,
   "metadata": {},
   "outputs": [],
   "source": [
    "context_example = data[10]['Source_Context_5_Processed']"
   ]
  },
  {
   "cell_type": "code",
   "execution_count": 16,
   "metadata": {},
   "outputs": [
    {
     "data": {
      "text/plain": [
       "'To find an appraiser who might be able to train you, run a search online for “real estate appraisers” or some similar formulation. Alternately, use your phone book to locate real estate appraisers. * In some cases, your local licensing authority will connect you with an appraiser. * You can often begin as an apprentice before beginning your educational requirements, but you won’t be able to complete your apprenticeship and become a licensed real estate appraiser without gaining the requisite education. * In the U.S., you could use the Appraisal Subcommittee’s “Find an appraiser” search function at https://www.asc.gov/Pages/FindAnAppraiser.aspx. 3. Complete the real estate appraisal application. The application varies from country to country, and regional variations often exist even within a single nation. Generally, however, you’ll need to include (or agree to) a criminal background check, provide copies of your academic transcripts, and provide basic contact information (including your name, phone number, and address). * Contact your local real estate licensing authority, labor department, or regulatory board for information about where to obtain the real estate appraiser application. 4. Include the appropriate fee with your application. Most real estate appraisal applications require you to submit a processing fee along with your application.'"
      ]
     },
     "execution_count": 16,
     "metadata": {},
     "output_type": "execute_result"
    }
   ],
   "source": [
    "context_example"
   ]
  },
  {
   "cell_type": "code",
   "execution_count": 8,
   "metadata": {},
   "outputs": [],
   "source": [
    "from nltk.tokenize import word_tokenize"
   ]
  },
  {
   "cell_type": "code",
   "execution_count": 17,
   "metadata": {},
   "outputs": [
    {
     "data": {
      "text/plain": [
       "['To',\n",
       " 'find',\n",
       " 'an',\n",
       " 'appraiser',\n",
       " 'who',\n",
       " 'might',\n",
       " 'be',\n",
       " 'able',\n",
       " 'to',\n",
       " 'train',\n",
       " 'you',\n",
       " ',',\n",
       " 'run',\n",
       " 'a',\n",
       " 'search',\n",
       " 'online',\n",
       " 'for',\n",
       " '“',\n",
       " 'real',\n",
       " 'estate',\n",
       " 'appraisers',\n",
       " '”',\n",
       " 'or',\n",
       " 'some',\n",
       " 'similar',\n",
       " 'formulation',\n",
       " '.',\n",
       " 'Alternately',\n",
       " ',',\n",
       " 'use',\n",
       " 'your',\n",
       " 'phone',\n",
       " 'book',\n",
       " 'to',\n",
       " 'locate',\n",
       " 'real',\n",
       " 'estate',\n",
       " 'appraisers',\n",
       " '.',\n",
       " '*',\n",
       " 'In',\n",
       " 'some',\n",
       " 'cases',\n",
       " ',',\n",
       " 'your',\n",
       " 'local',\n",
       " 'licensing',\n",
       " 'authority',\n",
       " 'will',\n",
       " 'connect',\n",
       " 'you',\n",
       " 'with',\n",
       " 'an',\n",
       " 'appraiser',\n",
       " '.',\n",
       " '*',\n",
       " 'You',\n",
       " 'can',\n",
       " 'often',\n",
       " 'begin',\n",
       " 'as',\n",
       " 'an',\n",
       " 'apprentice',\n",
       " 'before',\n",
       " 'beginning',\n",
       " 'your',\n",
       " 'educational',\n",
       " 'requirements',\n",
       " ',',\n",
       " 'but',\n",
       " 'you',\n",
       " 'won',\n",
       " '’',\n",
       " 't',\n",
       " 'be',\n",
       " 'able',\n",
       " 'to',\n",
       " 'complete',\n",
       " 'your',\n",
       " 'apprenticeship',\n",
       " 'and',\n",
       " 'become',\n",
       " 'a',\n",
       " 'licensed',\n",
       " 'real',\n",
       " 'estate',\n",
       " 'appraiser',\n",
       " 'without',\n",
       " 'gaining',\n",
       " 'the',\n",
       " 'requisite',\n",
       " 'education',\n",
       " '.',\n",
       " '*',\n",
       " 'In',\n",
       " 'the',\n",
       " 'U.S.',\n",
       " ',',\n",
       " 'you',\n",
       " 'could',\n",
       " 'use',\n",
       " 'the',\n",
       " 'Appraisal',\n",
       " 'Subcommittee',\n",
       " '’',\n",
       " 's',\n",
       " '“',\n",
       " 'Find',\n",
       " 'an',\n",
       " 'appraiser',\n",
       " '”',\n",
       " 'search',\n",
       " 'function',\n",
       " 'at',\n",
       " 'https',\n",
       " ':',\n",
       " '//www.asc.gov/Pages/FindAnAppraiser.aspx',\n",
       " '.',\n",
       " '3',\n",
       " '.',\n",
       " 'Complete',\n",
       " 'the',\n",
       " 'real',\n",
       " 'estate',\n",
       " 'appraisal',\n",
       " 'application',\n",
       " '.',\n",
       " 'The',\n",
       " 'application',\n",
       " 'varies',\n",
       " 'from',\n",
       " 'country',\n",
       " 'to',\n",
       " 'country',\n",
       " ',',\n",
       " 'and',\n",
       " 'regional',\n",
       " 'variations',\n",
       " 'often',\n",
       " 'exist',\n",
       " 'even',\n",
       " 'within',\n",
       " 'a',\n",
       " 'single',\n",
       " 'nation',\n",
       " '.',\n",
       " 'Generally',\n",
       " ',',\n",
       " 'however',\n",
       " ',',\n",
       " 'you',\n",
       " '’',\n",
       " 'll',\n",
       " 'need',\n",
       " 'to',\n",
       " 'include',\n",
       " '(',\n",
       " 'or',\n",
       " 'agree',\n",
       " 'to',\n",
       " ')',\n",
       " 'a',\n",
       " 'criminal',\n",
       " 'background',\n",
       " 'check',\n",
       " ',',\n",
       " 'provide',\n",
       " 'copies',\n",
       " 'of',\n",
       " 'your',\n",
       " 'academic',\n",
       " 'transcripts',\n",
       " ',',\n",
       " 'and',\n",
       " 'provide',\n",
       " 'basic',\n",
       " 'contact',\n",
       " 'information',\n",
       " '(',\n",
       " 'including',\n",
       " 'your',\n",
       " 'name',\n",
       " ',',\n",
       " 'phone',\n",
       " 'number',\n",
       " ',',\n",
       " 'and',\n",
       " 'address',\n",
       " ')',\n",
       " '.',\n",
       " '*',\n",
       " 'Contact',\n",
       " 'your',\n",
       " 'local',\n",
       " 'real',\n",
       " 'estate',\n",
       " 'licensing',\n",
       " 'authority',\n",
       " ',',\n",
       " 'labor',\n",
       " 'department',\n",
       " ',',\n",
       " 'or',\n",
       " 'regulatory',\n",
       " 'board',\n",
       " 'for',\n",
       " 'information',\n",
       " 'about',\n",
       " 'where',\n",
       " 'to',\n",
       " 'obtain',\n",
       " 'the',\n",
       " 'real',\n",
       " 'estate',\n",
       " 'appraiser',\n",
       " 'application',\n",
       " '.',\n",
       " '4',\n",
       " '.',\n",
       " 'Include',\n",
       " 'the',\n",
       " 'appropriate',\n",
       " 'fee',\n",
       " 'with',\n",
       " 'your',\n",
       " 'application',\n",
       " '.',\n",
       " 'Most',\n",
       " 'real',\n",
       " 'estate',\n",
       " 'appraisal',\n",
       " 'applications',\n",
       " 'require',\n",
       " 'you',\n",
       " 'to',\n",
       " 'submit',\n",
       " 'a',\n",
       " 'processing',\n",
       " 'fee',\n",
       " 'along',\n",
       " 'with',\n",
       " 'your',\n",
       " 'application',\n",
       " '.']"
      ]
     },
     "execution_count": 17,
     "metadata": {},
     "output_type": "execute_result"
    }
   ],
   "source": [
    "word_tokenize(context_example)"
   ]
  },
  {
   "cell_type": "code",
   "execution_count": 22,
   "metadata": {},
   "outputs": [],
   "source": [
    "def get_changed_word(ppd_match): \n",
    "    "
   ]
  },
  {
   "cell_type": "code",
   "execution_count": 103,
   "metadata": {},
   "outputs": [],
   "source": [
    "from collections import Counter\n",
    "\n",
    "def check_word_in_context(context, matches): \n",
    "    # count all the words in the context and make a dict representation of it \n",
    "    word_frequency = Counter()\n",
    "    ppdb_matches = [elem[0][0] for elem in matches]\n",
    "\n",
    "    \n",
    "    tokenized = word_tokenize(context)\n",
    "    for token in tokenized: \n",
    "        token = token.lower()\n",
    "        word_frequency[token] += 1\n",
    "    d = {}\n",
    "    for ppdb_match in ppdb_matches:\n",
    "        if ppdb_match.lower() in dict(word_frequency).keys(): \n",
    "            count_for_match = word_frequency[ppdb_match]\n",
    "            if count_for_match > 1: \n",
    "                d[ppdb_match] = True\n",
    "            else:\n",
    "                d[ppdb_match] = False\n",
    "    print(d)    "
   ]
  },
  {
   "cell_type": "code",
   "execution_count": 104,
   "metadata": {},
   "outputs": [
    {
     "name": "stdout",
     "output_type": "stream",
     "text": [
      "[[['change', 'NN'], ['chance', 'NN']]]\n",
      "{'change': False}\n",
      "[[['changes', 'NNS'], ['chances', 'NNS']]]\n",
      "{'changes': False}\n",
      "[[['Humour', 'NNP'], ['Humor', 'NNP']]]\n",
      "{'Humour': False}\n",
      "[[['voltage', 'NN'], ['resistance', 'NN']]]\n",
      "{'voltage': True}\n",
      "[[['TP', 'NNP'], ['FP', 'NNP']]]\n",
      "{'TP': False}\n",
      "[[['Parent', 'NN'], ['Mother', 'NN']]]\n",
      "{'Parent': False}\n",
      "[[['click', 'NN'], ['tap', 'NN']]]\n",
      "{'click': True}\n",
      "[[['Maker', 'NNP'], ['Machine', 'NNP']]]\n",
      "{'Maker': False}\n",
      "[[['window', 'NN'], ['page', 'NN']]]\n",
      "{'window': True}\n",
      "[[['gentleman', 'NN'], ['gent', 'NN']]]\n",
      "{'gentleman': True}\n"
     ]
    }
   ],
   "source": [
    "for i in range(10): \n",
    "    print(data[i]['PPDB_Matches'])\n",
    "    check_word_in_context(data[i]['Source_Context_5_Processed'], data[i]['PPDB_Matches'])"
   ]
  },
  {
   "cell_type": "code",
   "execution_count": 66,
   "metadata": {},
   "outputs": [
    {
     "data": {
      "text/plain": [
       "'To find an appraiser who might be able to train you, run a search online for “real estate appraisers” or some similar formulation. Alternately, use your phone book to locate real estate appraisers. * In some cases, your local licensing authority will connect you with an appraiser. * You can often begin as an apprentice before beginning your educational requirements, but you won’t be able to complete your apprenticeship and become a licensed real estate appraiser without gaining the requisite education. * In the U.S., you could use the Appraisal Subcommittee’s “Find an appraiser” search function at https://www.asc.gov/Pages/FindAnAppraiser.aspx. 3. Complete the real estate appraisal application. The application varies from country to country, and regional variations often exist even within a single nation. Generally, however, you’ll need to include (or agree to) a criminal background check, provide copies of your academic transcripts, and provide basic contact information (including your name, phone number, and address). * Contact your local real estate licensing authority, labor department, or regulatory board for information about where to obtain the real estate appraiser application. 4. Include the appropriate fee with your application. Most real estate appraisal applications require you to submit a processing fee along with your application.'"
      ]
     },
     "execution_count": 66,
     "metadata": {},
     "output_type": "execute_result"
    }
   ],
   "source": [
    "data[10]['Source_Context_5_Processed']"
   ]
  },
  {
   "cell_type": "code",
   "execution_count": 67,
   "metadata": {},
   "outputs": [],
   "source": [
    "d = data[10]['PPDB_Matches']"
   ]
  },
  {
   "cell_type": "code",
   "execution_count": 68,
   "metadata": {},
   "outputs": [
    {
     "data": {
      "text/plain": [
       "[[['appraisal', 'NN'], ['appraiser', 'NN']]]"
      ]
     },
     "execution_count": 68,
     "metadata": {},
     "output_type": "execute_result"
    }
   ],
   "source": [
    "d"
   ]
  },
  {
   "cell_type": "code",
   "execution_count": 42,
   "metadata": {},
   "outputs": [],
   "source": [
    "source_word = [pair[0][0] for elem in d for pair in elem]"
   ]
  },
  {
   "cell_type": "code",
   "execution_count": 43,
   "metadata": {},
   "outputs": [
    {
     "data": {
      "text/plain": [
       "['a', 'a']"
      ]
     },
     "execution_count": 43,
     "metadata": {},
     "output_type": "execute_result"
    }
   ],
   "source": [
    "source_word"
   ]
  },
  {
   "cell_type": "code",
   "execution_count": 54,
   "metadata": {},
   "outputs": [
    {
     "data": {
      "text/plain": [
       "['thinking', 'outcomes']"
      ]
     },
     "execution_count": 54,
     "metadata": {},
     "output_type": "execute_result"
    }
   ],
   "source": [
    "source_words = [elem[0][0] for elem in example]\n",
    "source_words"
   ]
  },
  {
   "cell_type": "code",
   "execution_count": null,
   "metadata": {},
   "outputs": [],
   "source": []
  }
 ],
 "metadata": {
  "kernelspec": {
   "display_name": "Python 3",
   "language": "python",
   "name": "python3"
  },
  "language_info": {
   "codemirror_mode": {
    "name": "ipython",
    "version": 3
   },
   "file_extension": ".py",
   "mimetype": "text/x-python",
   "name": "python",
   "nbconvert_exporter": "python",
   "pygments_lexer": "ipython3",
   "version": "3.7.4"
  }
 },
 "nbformat": 4,
 "nbformat_minor": 2
}
