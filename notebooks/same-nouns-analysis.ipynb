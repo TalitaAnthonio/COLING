{
 "cells": [
  {
   "cell_type": "markdown",
   "metadata": {},
   "source": [
    "## Read data"
   ]
  },
  {
   "cell_type": "code",
   "execution_count": 7,
   "metadata": {},
   "outputs": [],
   "source": [
    "import json\n",
    "import random"
   ]
  },
  {
   "cell_type": "code",
   "execution_count": 2,
   "metadata": {},
   "outputs": [],
   "source": [
    "path = '../classification-scripts/same-noun-modifications/SAME-NOUN-MODIFICATIONS-DEV.json'"
   ]
  },
  {
   "cell_type": "code",
   "execution_count": 4,
   "metadata": {},
   "outputs": [],
   "source": [
    "with open(path, 'r') as json_file: \n",
    "     data = json.load(json_file)"
   ]
  },
  {
   "cell_type": "code",
   "execution_count": 5,
   "metadata": {},
   "outputs": [
    {
     "data": {
      "text/plain": [
       "{'Filename': 'Approach_a_Girl_in_Public.txt',\n",
       " 'All_Versions': ['Seek eye contact.', 'Maintain eye contact.'],\n",
       " 'Revision_Length': 1,\n",
       " 'Base_Sentence': 'Seek eye contact.',\n",
       " 'Revisions': ['Maintain eye contact.'],\n",
       " 'Key': 'Approach_a_Girl_in_Public34',\n",
       " 'Source_Tokenized': ['Seek', 'eye', 'contact', '.'],\n",
       " 'Target_Tokenized': ['Maintain', 'eye', 'contact', '.'],\n",
       " 'Correction': True,\n",
       " 'Source_Line_Tagged': [['Seek', 'NNP'],\n",
       "  ['eye', 'NN'],\n",
       "  ['contact', 'NN'],\n",
       "  ['.', '.']],\n",
       " 'Target_Line_Tagged': [['Maintain', 'NNP'],\n",
       "  ['eye', 'NN'],\n",
       "  ['contact', 'NN'],\n",
       "  ['.', '.']],\n",
       " 'Differences': [[['Seek', 'NNP'], ['Maintain', 'NNP']]],\n",
       " 'Entailment_Rel': {'seek#maintain1': 'Independent'},\n",
       " 'PPDB_Matches': [[['Seek', 'NNP'], ['Maintain', 'NNP']]],\n",
       " 'Loc_in_splits': 'DEV',\n",
       " 'Target_Line_Nr': [5820],\n",
       " 'Source_Line_Nr': [5771],\n",
       " 'Source_Context': ['## Section::::Related wikiHows.',\n",
       "  'This is a good way to approach women in a public setting without seeming creepy. You can meet women anywhere. You may even meet your future wife standing at a bus stop.',\n",
       "  '## Steps',\n",
       "  '1. You have to get out there and seek them out! Most intelligent and classy girls do not go door to door looking for dates.',\n",
       "  '2. Enter a public place such as school and check out the girls (Note: if you are too old to be in school, it will look creepy).',\n",
       "  '3. Seek eye contact. Maintain eye contact while trying to keep underwear and armpits dry.',\n",
       "  \"4. Smile. Avoid appearing overconfident as she may find you cocky, but you mustn't be shy either. Some girls do like shy guys. But most of them want a guy who's not afraid to go out on a limb sometimes.\",\n",
       "  '5. Approach with confidence; don\\'t use cheesy pick-up lines (A pick-up line is a conversation opener with the intent of engaging an unfamiliar person for sex, romance, or dating. ...), they rarely work. A simple \"Hi, how are you tonight?\" should break the ice. Or, if you\\'re a teenager, a less formal \"Hey, how\\'s it going?\" or \"Hey, what\\'s up?\" will suffice. Being polite and friendly always helps.',\n",
       "  '6. Have a fun conversation. If there is chemistry between you two, this is all you need to do. Joking around and flirting will make both of you more comfortable. It is always more enjoyable to be with someone who makes you smile.',\n",
       "  '7. Take a hint if she\\'s not interested. If she\\'s busy, or if your comic genius is not being appreciated, then say, \"It was great to meet you\" and cut your losses. If you come on too strong, some women might feel threatened.',\n",
       "  '8. Take it small steps at a time. If you think she is interested: be brief, return to your friends, say, \"Maybe we can have a chat later.\"'],\n",
       " 'Target_Context': ['## Section::::Related wikiHows.',\n",
       "  'This is a good way to approach women in a public setting without seeming creepy. You can meet women anywhere. You may even meet your future wife standing at a bus stop.',\n",
       "  '## Steps',\n",
       "  '1. You have to get out there and seek them out! Most intelligent and classy girls do not go door to door looking for dates.',\n",
       "  '2. Enter a public place such as school and check out the girls (Note: if you are too old to be in school, it will look creepy).',\n",
       "  '3. Seek eye contact. Maintain eye contact.',\n",
       "  \"4. Smile. Avoid appearing overconfident as she may find you cocky, but you mustn't be shy either. Some girls do like shy guys. But most of them want a guy who's not afraid to go out on a limb sometimes.\",\n",
       "  '5. Approach with confidence; don\\'t use cheesy pick-up lines (A pick-up line is a conversation opener with the intent of engaging an unfamiliar person for sex, romance, or dating. ...), they rarely work. A simple \"Hi, how are you tonight?\" should break the ice. Or, if you\\'re a teenager, a less formal \"Hey, how\\'s it going?\" or \"Hey, what\\'s up?\" will suffice. Being polite and friendly always helps.',\n",
       "  '6. Have a fun conversation. If there is chemistry between you two, this is all you need to do. Joking around and flirting will make both of you more comfortable. It is always more enjoyable to be with someone who makes you smile.',\n",
       "  '7. Take a hint if she\\'s not interested. If she\\'s busy, or if your comic genius is not being appreciated, then say, \"It was great to meet you\" and cut your losses. If you come on too strong, some women might feel threatened.',\n",
       "  '8. Take it small steps at a time. If you think she is interested: be brief, return to your friends, say, \"Maybe we can have a chat later.\"']}"
      ]
     },
     "execution_count": 5,
     "metadata": {},
     "output_type": "execute_result"
    }
   ],
   "source": [
    "data[0]"
   ]
  },
  {
   "cell_type": "markdown",
   "metadata": {},
   "source": [
    "## Analysis"
   ]
  },
  {
   "cell_type": "code",
   "execution_count": 9,
   "metadata": {},
   "outputs": [],
   "source": [
    "random_set = random.choices(data, k=10)"
   ]
  },
  {
   "cell_type": "code",
   "execution_count": 31,
   "metadata": {},
   "outputs": [],
   "source": [
    "def pretty_lines(context): \n",
    "    for linenr, item in enumerate(context,1): \n",
    "        print(linenr, '\\t', item)"
   ]
  },
  {
   "cell_type": "code",
   "execution_count": 44,
   "metadata": {},
   "outputs": [],
   "source": [
    "def do_analysis(elem, source=True):\n",
    "    filename = elem['Filename']\n",
    "    ppdb_matches = elem['PPDB_Matches']\n",
    "    print(\"Filename: \", filename)\n",
    "    print(\"Revision_Length: \", elem['Revision_Length'])\n",
    "    print(\"PPDB_Matches: \", ppdb_matches)\n",
    "    print(\"Relations: \", elem['Entailment_Rel'])\n",
    "    print(\"Differences:\", elem['Differences'])\n",
    "    if source:\n",
    "        print(\"---SOURCE INFO---\")\n",
    "        source_context = elem['Source_Context']\n",
    "        source_line= elem['Source_Tokenized']\n",
    "        print(source_line)\n",
    "        print('---------------------')\n",
    "        pretty_lines(source_context)\n",
    "    else: \n",
    "        print(\"---TARGET INFO---\")\n",
    "        target_context = elem['Target_Context']\n",
    "        target_line = elem['Target_Line_Tagged']\n",
    "        print(target_line)\n",
    "        print(\"---------------------\")\n",
    "        pretty_lines(target_context)"
   ]
  },
  {
   "cell_type": "code",
   "execution_count": 45,
   "metadata": {},
   "outputs": [
    {
     "name": "stdout",
     "output_type": "stream",
     "text": [
      "Filename:  Build_a_Railway_System_on_Minecraft.txt\n",
      "Revision_Length:  1\n",
      "PPDB_Matches:  [[['Awesome', 'NNP'], ['Cool', 'NNP']]]\n",
      "Relations:  {'awesome#cool1': 'Independent'}\n",
      "Differences: [[['Awesome', 'NNP'], ['Cool', 'NNP']]]\n",
      "---SOURCE INFO---\n",
      "['How', 'to', 'Build', 'Awesome', 'Stuff', 'in', 'Minecraft']\n",
      "---------------------\n",
      "1 \t * Minecraft\n",
      "2 \t * TooManyItems cheating system to help you get things from it. If you don't have it, you could learn how to insert it onto your computer then to your Minecraft system in any OS. If you don't want to cheat, it would be extremely hard and tiring to help you find resources.\n",
      "3 \t ## Related wikiHows\n",
      "4 \t * <a href=\"Find%20and%20Mine%20Diamonds%20Fast%20on%20Minecraft\">How to Find and Mine Diamonds Fast on Minecraft</a>\n",
      "5 \t * <a href=\"Change%20Your%20Minecraft%20Skin\">How to Change Your Minecraft Skin</a>\n",
      "6 \t * <a href=\"Build%20Awesome%20Stuff%20in%20Minecraft\">How to Build Awesome Stuff in Minecraft</a>\n",
      "7 \t * <a href=\"Download%20a%20Texture%20Pack%20in%20Minecraft\">How to Download a Texture Pack in Minecraft</a>\n",
      "8 \t * <a href=\"Capture%20Minecaft\">How to Capture Minecaft</a>\n",
      "9 \t * <a href=\"Cheat%20in%20Minecraft\">How to Cheat in Minecraft</a>\n",
      "10 \t * <a href=\"Make%20a%20Ladder%20in%20Minecraft\">How to Make a Ladder in Minecraft</a>\n",
      "11 \t * <a href=\"Make%20Stairs%20in%20Minecraft\">How to Make Stairs in Minecraft</a>\n"
     ]
    }
   ],
   "source": [
    "# do analysis for first case \n",
    "do_analysis(random_set[0])"
   ]
  },
  {
   "cell_type": "code",
   "execution_count": 46,
   "metadata": {},
   "outputs": [
    {
     "name": "stdout",
     "output_type": "stream",
     "text": [
      "Filename:  Build_a_Railway_System_on_Minecraft.txt\n",
      "Revision_Length:  1\n",
      "PPDB_Matches:  [[['Awesome', 'NNP'], ['Cool', 'NNP']]]\n",
      "Relations:  {'awesome#cool1': 'Independent'}\n",
      "Differences: [[['Awesome', 'NNP'], ['Cool', 'NNP']]]\n",
      "---TARGET INFO---\n",
      "[['How', 'WRB'], ['to', 'TO'], ['Make', 'VB'], ['Cool', 'NNP'], ['Stuff', 'NNP'], ['in', 'IN'], ['Minecraft', 'NNP']]\n",
      "---------------------\n",
      "1 \t * Minecraft\n",
      "2 \t * TooManyItems cheating system to help you get things from it. If you don't have it, you could learn how to insert it onto your computer then to your Minecraft system in any OS. If you don't want to cheat, it would be extremely hard and tiring to help you find resources.\n",
      "3 \t ## Related wikiHows\n",
      "4 \t * <a href=\"Find%20and%20Mine%20Diamonds%20Fast%20on%20Minecraft\">How to Find and Mine Diamonds Fast on Minecraft</a>\n",
      "5 \t * <a href=\"Change%20Your%20Minecraft%20Skin\">How to Change Your Minecraft Skin</a>\n",
      "6 \t * <a href=\"Make%20Cool%20Stuff%20in%20Minecraft\">How to Make Cool Stuff in Minecraft</a>\n",
      "7 \t * <a href=\"Download%20a%20Texture%20Pack%20in%20Minecraft\">How to Download a Texture Pack in Minecraft</a>\n",
      "8 \t * <a href=\"Capture%20Minecaft\">How to Capture Minecaft</a>\n",
      "9 \t * <a href=\"Cheat%20in%20Minecraft\">How to Cheat in Minecraft</a>\n",
      "10 \t * <a href=\"Make%20a%20Ladder%20in%20Minecraft\">How to Make a Ladder in Minecraft</a>\n",
      "11 \t * <a href=\"Make%20Stairs%20in%20Minecraft\">How to Make Stairs in Minecraft</a>\n"
     ]
    }
   ],
   "source": [
    "do_analysis(random_set[0], False)"
   ]
  },
  {
   "cell_type": "code",
   "execution_count": 47,
   "metadata": {},
   "outputs": [
    {
     "name": "stdout",
     "output_type": "stream",
     "text": [
      "Filename:  Build_a_Pullup_Bar.txt\n",
      "Revision_Length:  1\n",
      "PPDB_Matches:  [[['stabilisation', 'NN'], ['stabilization', 'NN']]]\n",
      "Relations:  {'stabilisation#stabilization1': 'Equivalence'}\n",
      "Differences: [[['stabilisation', 'NN'], ['stabilization', 'NN']]]\n",
      "---SOURCE INFO---\n",
      "['The', 'first', 'method', 'is', 'great', 'for', 'working', 'your', 'small', 'stabilisation', 'muscles', ',', 'getting', 'more', 'dynamic', 'exercises', 'and', 'it', \"'s\", 'cheaper', 'and', 'easier', 'to', 'construct', '.']\n",
      "---------------------\n",
      "1 \t 3. Put the bar in the holes and fill with concrete or cement.\n",
      "2 \t 4. Let dry for a couple days, and you're done!\n",
      "3 \t 5. Finished.\n",
      "4 \t ## Tips\n",
      "5 \t * The second bar is way better, but costs more and takes longer to make. It's probably worth it though.\n",
      "6 \t * The first method is great for working your small stabilisation muscles, getting more dynamic exercises and it's cheaper and easier to construct.\n",
      "7 \t ## Warnings\n",
      "8 \t * Don't drop the bar on you when you're putting the hanging one up.\n",
      "9 \t * Make sure to not hurt any muscles and stretch before your workout.\n",
      "10 \t ## Things You'll Need\n",
      "11 \t * A four foot bar\n",
      "\n",
      "\n",
      "Filename:  Build_a_Pullup_Bar.txt\n",
      "Revision_Length:  1\n",
      "PPDB_Matches:  [[['stabilisation', 'NN'], ['stabilization', 'NN']]]\n",
      "Relations:  {'stabilisation#stabilization1': 'Equivalence'}\n",
      "Differences: [[['stabilisation', 'NN'], ['stabilization', 'NN']]]\n",
      "---TARGET INFO---\n",
      "[['The', 'DT'], ['first', 'JJ'], ['method', 'NN'], ['is', 'VBZ'], ['great', 'JJ'], ['for', 'IN'], ['working', 'VBG'], ['your', 'PRP$'], ['small', 'JJ'], ['stabilization', 'NN'], ['muscles', 'NNS'], [',', ','], ['getting', 'VBG'], ['more', 'JJR'], ['dynamic', 'JJ'], ['exercises', 'NNS'], ['and', 'CC'], ['it', 'PRP'], [\"'s\", 'VBZ'], ['cheaper', 'JJR'], ['and', 'CC'], ['easier', 'JJR'], ['to', 'TO'], ['construct', 'VB'], ['.', '.']]\n",
      "---------------------\n",
      "1 \t 3. Put the bar in the holes and fill with concrete or cement.\n",
      "2 \t 4. Let dry for a couple days, and you're done!\n",
      "3 \t 5. Finished.\n",
      "4 \t ## Tips\n",
      "5 \t * The second bar is way better, but costs more and takes longer to make. It's probably worth it though.\n",
      "6 \t * The first method is great for working your small stabilization muscles, getting more dynamic exercises and it's cheaper and easier to construct.\n",
      "7 \t ## Warnings\n",
      "8 \t * Don't drop the bar on you when you're putting the hanging one up.\n",
      "9 \t * Make sure to not hurt any muscles and stretch before your workout.\n",
      "10 \t ## Things You'll Need\n",
      "11 \t * A four foot bar\n"
     ]
    }
   ],
   "source": [
    "# case two \n",
    "do_analysis(random_set[1])\n",
    "print('\\n')\n",
    "do_analysis(random_set[1], False)"
   ]
  },
  {
   "cell_type": "code",
   "execution_count": 48,
   "metadata": {},
   "outputs": [
    {
     "name": "stdout",
     "output_type": "stream",
     "text": [
      "Filename:  Memorize_Times_Tables.txt\n",
      "Revision_Length:  1\n",
      "PPDB_Matches:  [[['songs', 'NNS'], ['tunes', 'NNS']]]\n",
      "Relations:  {'songs#tunes1': 'OtherRelated'}\n",
      "Differences: [[['songs', 'NNS'], ['tunes', 'NNS']]]\n",
      "---SOURCE INFO---\n",
      "['Try', 'searching', 'for', '“', 'Mr', '.', 'DeMaio', 'time', 'table', 'songs', '”', 'or', '“', 'NumbeRock', 'math', 'songs', '”', 'on', 'YouTube', 'for', 'some', 'fun', 'educational', 'songs', '.']\n",
      "---------------------\n",
      "1 \t 1. Read stories about multiplication. There are several stories written to help readers make sense of multiplication, such as “The Best of Times” by Greg Tang. Learning with fun stories can help you remember the answers to tricky multiplication questions.\n",
      "2 \t 2. Play “Math Card War” with a friend. Take a regular deck of playing cards and take out all the face cards (Jacks, Queens, Kings and Jokers). Divide the deck evenly between whoever is playing. Each turn, every player draws 2 cards from the top of their deck and multiplies the number on their first card by the number on their second card. Whoever’s cards multiply to the highest number wins that turn, and gets to keep the cards that the other players put down. The player who gets all the cards wins.\n",
      "3 \t 3. Play a multiplication game like “Timez Attack.” Timez Attack is a free computer game designed to help players learn their times tables. Ask an adult or parent to help you download the game onto a computer that you can use.\n",
      "4 \t * Greg Tang’s website also has fun multiplication games such as Kakooma, a puzzle that lets you pick the right answer out of a pattern: http://gregtangmath.com/kakooma\n",
      "5 \t 4. Use songs to help you memorize the times table. You can find fun songs about multiplication online with your parent or teacher’s help, or ask your local librarian if they have any CDs of multiplication songs at the library.\n",
      "6 \t * Try searching for “Mr. DeMaio time table songs” or “NumbeRock math songs” on YouTube for some fun educational songs.\n",
      "7 \t 5. Watch videos about the times table. You can ask for an adult’s help finding multiplication songs online, or ask them to order a video series like “Times Tales.” Learning with stories, sights and sounds will give you more ways to remember the times table.\n",
      "8 \t 6. Use a multiplication learning app. “Llama Drama,” “Understanding Math Times Tables,” and “Montessori Math Multiplication” are all high-rated math learning apps that your parents can download onto a phone or tablet. “Zap Zap Math” is another fun app that can be downloaded for free.\n",
      "9 \t 7. Make goals and reward yourself when you meet them. If your goal is to memorize the 2s, 3s and 4s in a week, talk to your parents about something fun you can do if you meet that goal, like go out for ice cream or go to the movies. Remember - you only get your reward if you meet your goal, so work hard!\n",
      "10 \t * You can also put a gold star or sticker next to each row on the times table that you’ve memorized to keep track of how much you’ve learned.\n",
      "11 \t ### Using Tricks and Shortcuts\n",
      "\n",
      "\n",
      "Filename:  Memorize_Times_Tables.txt\n",
      "Revision_Length:  1\n",
      "PPDB_Matches:  [[['songs', 'NNS'], ['tunes', 'NNS']]]\n",
      "Relations:  {'songs#tunes1': 'OtherRelated'}\n",
      "Differences: [[['songs', 'NNS'], ['tunes', 'NNS']]]\n",
      "---TARGET INFO---\n",
      "[['Try', 'VB'], ['searching', 'VBG'], ['for', 'IN'], ['“', 'NNP'], ['Mr', 'NNP'], ['.', '.'], ['DeMaio', 'NNP'], ['time', 'NN'], ['table', 'JJ'], ['songs', 'NNS'], ['”', 'VBD'], ['or', 'CC'], ['“', 'JJ'], ['NumbeRock', 'NNP'], ['math', 'NN'], ['songs', 'NNS'], ['”', 'VBP'], ['on', 'IN'], ['YouTube', 'NNP'], ['for', 'IN'], ['some', 'DT'], ['fun', 'JJ'], ['educational', 'JJ'], ['tunes', 'NNS'], ['.', '.']]\n",
      "---------------------\n",
      "1 \t 1. Read stories about multiplication. There are several stories written to help readers make sense of multiplication, such as “The Best of Times” by Greg Tang. Learning with fun stories can help you remember the answers to tricky multiplication questions.\n",
      "2 \t 2. Play “Math Card War” with a friend. Take a regular deck of playing cards and take out all the face cards (Jacks, Queens, Kings and Jokers). Divide the deck evenly between whoever is playing. Each turn, every player draws 2 cards from the top of their deck and multiplies the number on their first card by the number on their second card. Whoever’s cards multiply to the highest number wins that turn, and gets to keep the cards that the other players put down. The player who ends up with all the cards in the deck wins.\n",
      "3 \t 3. Play a multiplication game like “Timez Attack.” Timez Attack is a free computer game designed to help players learn their times tables. Ask an adult or parent to help you download the game onto a computer that you can use.\n",
      "4 \t * Greg Tang’s website also has fun multiplication games such as Kakooma, a puzzle that lets you pick the right answer out of a pattern: http://gregtangmath.com/kakooma\n",
      "5 \t 4. Use songs to help you memorize the times table. You can find fun songs about multiplication online with your parent or teacher’s help, or ask your local librarian if they have any CDs of multiplication songs at the library.\n",
      "6 \t * Try searching for “Mr. DeMaio time table songs” or “NumbeRock math songs” on YouTube for some fun educational tunes.\n",
      "7 \t 5. Watch videos about the times table. You can ask for an adult’s help finding multiplication songs online, or ask them to order a video series like “Times Tales.” Learning with stories, sights and sounds will give you more ways to remember the times table.\n",
      "8 \t 6. Use a multiplication learning app. “Llama Drama,” “Understanding Math Times Tables,” and “Montessori Math Multiplication” are all high-rated math learning apps that your parents can download onto a phone or tablet. “Zap Zap Math” is another fun app that can be downloaded for free.\n",
      "9 \t 7. Make goals and reward yourself when you meet them. If your goal is to memorize the 2s, 3s and 4s in a week, talk to your parents about something fun you can do if you meet that goal, like go out for ice cream or go to the movies. Remember - you only get your reward if you meet your goal, so work hard!\n",
      "10 \t * You can also put a gold star or sticker next to each row on the times table that you’ve memorized to keep track of how much you’ve learned.\n",
      "11 \t ### Using Tricks and Shortcuts\n"
     ]
    }
   ],
   "source": [
    "do_analysis(random_set[2])\n",
    "print('\\n')\n",
    "do_analysis(random_set[2], False)"
   ]
  },
  {
   "cell_type": "code",
   "execution_count": 49,
   "metadata": {},
   "outputs": [
    {
     "name": "stdout",
     "output_type": "stream",
     "text": [
      "Filename:  Write_Clearly.txt\n",
      "Revision_Length:  1\n",
      "PPDB_Matches:  [[['later', 'NN'], ['latter', 'NN']]]\n",
      "Relations:  {'later#latter1': 'OtherRelated'}\n",
      "Differences: [[['later', 'NN'], ['latter', 'NN']]]\n",
      "---SOURCE INFO---\n",
      "['The', 'former', 'will', 'let', 'you', 'have', 'an', 'idea', 'of', 'how', 'much', 'improvement', 'with', 'respect', 'to', 'neatness', 'of', 'writing', 'has', 'been', 'achieved', 'and', 'the', 'later', 'will', 'help', 'in', 'knowing', 'how', 'much', 'more', 'to', 'improve', '.']\n",
      "---------------------\n",
      "1 \t ## Steps\n",
      "2 \t 1. It's not easy to put yourself across all that easily which is the basic purpose of all forms of communication.Writing is one of the ways by which knowledge is shared,transfered and conveyed.So important is the essence of clear writing that without it the torrents of knowledge that change hands every day would stop, thereby bringing the business of life to a standstill..However there are ways by which the legibility of writing can be improved and the logjam of communication banished.There are four steps that can bolster the clarity of writing which can be listed as follows:\n",
      "3 \t use a light pen that easily gels with the index figure and thumb.It will reduce the stress on fingers and facilitate the moment of joints.\n",
      "4 \t write slowly without rushing through your alphabet.A cautious and exact imitation of the alphabetical letters as they are written in kindergaten primers will curtail the overlapping of two or more letters which will enhance the plainess of the written material.\n",
      "5 \t Write as much as you can so that the the map of a permnant inscription with your hands can be maintained.\n",
      "6 \t Use both blank and lined pages at alternation.The former will let you have an idea of how much improvement with respect to neatness of writing has been achieved and the later will help in knowing how much more to improve.\n",
      "7 \t 2. If these simple to attempt tricks are taken care of,a whole sea of change will show up in a matter of few days.\n",
      "8 \t ## Timestamp::::2011-03-30T02:00:53Z\n",
      "9 \t ## Section::::Steps.\n",
      "10 \t It is easy to weigh the advantages of good writing which is the alpha and omega of the modern communication. The clearer the hand writing, the better.\n",
      "11 \t ## Steps\n",
      "\n",
      "\n",
      "Filename:  Write_Clearly.txt\n",
      "Revision_Length:  1\n",
      "PPDB_Matches:  [[['later', 'NN'], ['latter', 'NN']]]\n",
      "Relations:  {'later#latter1': 'OtherRelated'}\n",
      "Differences: [[['later', 'NN'], ['latter', 'NN']]]\n",
      "---TARGET INFO---\n",
      "[['The', 'DT'], ['former', 'JJ'], ['will', 'MD'], ['let', 'VB'], ['you', 'PRP'], ['have', 'VB'], ['an', 'DT'], ['idea', 'NN'], ['of', 'IN'], ['how', 'WRB'], ['much', 'JJ'], ['improvement', 'NN'], ['with', 'IN'], ['respect', 'NN'], ['to', 'TO'], ['neatness', 'NN'], ['of', 'IN'], ['writing', 'NN'], ['has', 'VBZ'], ['been', 'VBN'], ['achieved', 'VBN'], ['and', 'CC'], ['the', 'DT'], ['latter', 'NN'], ['will', 'MD'], ['help', 'VB'], ['in', 'IN'], ['knowing', 'VBG'], ['how', 'WRB'], ['much', 'RB'], ['more', 'JJR'], ['to', 'TO'], ['improve', 'VB'], ['.', '.']]\n",
      "---------------------\n",
      "1 \t It is easy to weigh the advantages of good writing which is the alpha and omega of the modern communication. The clearer the hand writing, the better.\n",
      "2 \t ## Steps\n",
      "3 \t 1. Use a light pen that easily gels with the index figure and thumb.It will reduce the stress on fingers and facilitate the moment of joints.\n",
      "4 \t 2. Write slowly without rushing through your alphabet.A cautious and exact imitation of the alphabetical letters as they are written in kindergarten primers will curtail the overlapping of two or more letters which will enhance the plainness of the written material.\n",
      "5 \t 3. Write as much as you can so that the the map of a permanent inscription with your hands can be maintained.\n",
      "6 \t 4. Use both blank and lined pages at alternation. The former will let you have an idea of how much improvement with respect to neatness of writing has been achieved and the latter will help in knowing how much more to improve.\n",
      "7 \t ## Timestamp::::2011-04-23T03:26:17Z\n",
      "8 \t ## Section::::Steps.\n",
      "9 \t It is easy to weigh the advantages of good writing which is the alpha and omega of the modern communication. The clearer the hand writing, the better.\n",
      "10 \t ## Steps\n",
      "11 \t 1. Use a light pen that easily gels with the index figure and thumb.It will reduce the stress on fingers and facilitate the moment of joints.\n"
     ]
    }
   ],
   "source": [
    "do_analysis(random_set[3])\n",
    "print('\\n')\n",
    "do_analysis(random_set[3], False)"
   ]
  },
  {
   "cell_type": "code",
   "execution_count": 50,
   "metadata": {},
   "outputs": [
    {
     "name": "stdout",
     "output_type": "stream",
     "text": [
      "Filename:  Keep_Dogs_from_Holiday_Overeating.txt\n",
      "Revision_Length:  1\n",
      "PPDB_Matches:  [[['pets', 'NNS'], ['dogs', 'NNS']]]\n",
      "Relations:  {'pets#dogs1': 'Independent'}\n",
      "Differences: [[['pets', 'NNS'], ['dogs', 'NNS']]]\n",
      "---SOURCE INFO---\n",
      "['During', 'the', 'holidays', ',', 'however', ',', 'people', 'tend', 'to', 'throw', 'the', 'people', 'food', 'rule', 'out', 'the', 'window', 'and', 'give', 'more', 'than', 'what', 'their', 'pets', 'should', 'eat', 'or', 'need', '.']\n",
      "---------------------\n",
      "1 \t * Your pet will be patrolling for leftovers around the house, so keep food out of reach and store it away after the meal is over.\n",
      "2 \t ## Timestamp::::2017-03-01T23:15:33Z\n",
      "3 \t ## Section::::Warnings.\n",
      "4 \t Like their owners, pets can have a hard time eating healthy if they are overindulged with food during the holidays. What might seem like a generous act of sharing food with your pet can lead to serious gastrointestinal consequences for them. Moreover, the extra weight gain will be harder to take off long after the holidays are over.\n",
      "5 \t ## Steps\n",
      "6 \t 1. Let them know that People Food Rules Still Apply. Most pets get some amount of people food under the table regularly. For the most part, healthy food items won't harm your pet's digestion. During the holidays, however, people tend to throw the people food rule out the window and give more than what their pets should eat or need. Stick to the rules and share healthy items from the holiday table.\n",
      "7 \t 2. Determine (and stick to) the Pet Portion Sizes. Pets do not eat the same amount of food as people do, so it's important to portion accordingly when sharing holiday food.\n",
      "8 \t 3. Selective Indulgence: There are healthy options even at holiday meals. Choose fresh vegetables instead of buttery mashed potatoes to share with your pet.\n",
      "9 \t 4. Provide Smaller Meals. Not necessarily a reduction in calories, however, giving smaller portions for your pet's regular meals will make the additional holiday food intake easier to digest.\n",
      "10 \t ## Video\n",
      "11 \t ## Section::::Video.\n",
      "\n",
      "\n",
      "Filename:  Keep_Dogs_from_Holiday_Overeating.txt\n",
      "Revision_Length:  1\n",
      "PPDB_Matches:  [[['pets', 'NNS'], ['dogs', 'NNS']]]\n",
      "Relations:  {'pets#dogs1': 'Independent'}\n",
      "Differences: [[['pets', 'NNS'], ['dogs', 'NNS']]]\n",
      "---TARGET INFO---\n",
      "[['During', 'IN'], ['the', 'DT'], ['holidays', 'NNS'], [',', ','], ['however', 'RB'], [',', ','], ['people', 'NNS'], ['tend', 'VBP'], ['to', 'TO'], ['throw', 'VB'], ['the', 'DT'], ['people', 'NNS'], ['food', 'NN'], ['rule', 'NN'], ['out', 'IN'], ['the', 'DT'], ['window', 'NN'], ['and', 'CC'], ['give', 'VB'], ['more', 'JJR'], ['than', 'IN'], ['what', 'WP'], ['their', 'PRP$'], ['dogs', 'NNS'], ['should', 'MD'], ['eat', 'VB'], ['or', 'CC'], ['need', 'VB'], ['.', '.']]\n",
      "---------------------\n",
      "1 \t * Your pet will be patrolling for leftovers around the house, so keep food out of reach and store it away after the meal is over.\n",
      "2 \t ## Timestamp::::2017-03-01T23:17:25Z\n",
      "3 \t ## Section::::Warnings.\n",
      "4 \t Like their owners, dogs can have a hard time eating healthy if they are overindulged with food during the holidays. What might seem like a generous act of sharing food with your dog can lead to serious gastrointestinal consequences for them. Moreover, the extra weight gain will be harder to take off long after the holidays are over.\n",
      "5 \t ## Steps\n",
      "6 \t 1. Let the dog know that People Food Rules Still Apply. Most dogs get some amount of people food under the table regularly. For the most part, healthy food items won't harm your dog's digestion. During the holidays, however, people tend to throw the people food rule out the window and give more than what their dogs should eat or need. Stick to the rules and share healthy items from the holiday table.\n",
      "7 \t 2. Determine (and stick to) the dog portion sizes. Dogs do not eat the same amount of food as people do, so it's important to portion accordingly when sharing holiday food.\n",
      "8 \t 3. Selective Indulgence: There are healthy options even at holiday meals. Choose fresh vegetables instead of buttery mashed potatoes to share with your dog.\n",
      "9 \t 4. Provide smaller meals. Not necessarily a reduction in calories, however, giving smaller portions for your dog's regular meals will make the additional holiday food intake easier to digest.\n",
      "10 \t ## Video\n",
      "11 \t ## Section::::Video.\n"
     ]
    }
   ],
   "source": [
    "do_analysis(random_set[4])\n",
    "print('\\n')\n",
    "do_analysis(random_set[4], False) "
   ]
  },
  {
   "cell_type": "code",
   "execution_count": 52,
   "metadata": {},
   "outputs": [
    {
     "name": "stdout",
     "output_type": "stream",
     "text": [
      "Filename:  Do_Level_4_Floor_Routine_in_Gymnastics.txt\n",
      "Revision_Length:  1\n",
      "PPDB_Matches:  [[['splits', 'NNS'], ['divisions', 'NNS']]]\n",
      "Relations:  {'splits#divisions1': 'OtherRelated'}\n",
      "Differences: [[['splits', 'NNS'], ['divisions', 'NNS']]]\n",
      "---SOURCE INFO---\n",
      "['Pull', 'your', 'front', 'leg', 'out', 'of', 'the', 'splits', 'to', 'join', 'your', 'back', 'leg', '.']\n",
      "---------------------\n",
      "1 \t 5. Then, kick up into a handstand, and go into a forward roll with arms straight.\n",
      "2 \t 6. Stand up turn to the side and chase the cat leap.\n",
      "3 \t 7. Handstand to bridge, kick over.\n",
      "4 \t 8. run do a Split leap and hop on one leg.\n",
      "5 \t 9. Slide to the floor. Then pike, turn over to a seal pose, get up onto your knees put your right leg out in front of you and do the splits.\n",
      "6 \t 10. Pull your front leg out of the splits to join your back leg.\n",
      "7 \t 11. Crouch and stand up and prance with your right and left feet.\n",
      "8 \t 12. Then, do a scissor jump (where you put your weight on one foot, and stand.\n",
      "9 \t 13. Straight backwards roll to push-up position. Kneel, and then stand up.\n",
      "10 \t 14. Prepare, and then do a half coupe turn.\n",
      "11 \t 15. Put you arms up then down\n",
      "Filename:  Do_Level_4_Floor_Routine_in_Gymnastics.txt\n",
      "Revision_Length:  1\n",
      "PPDB_Matches:  [[['splits', 'NNS'], ['divisions', 'NNS']]]\n",
      "Relations:  {'splits#divisions1': 'OtherRelated'}\n",
      "Differences: [[['splits', 'NNS'], ['divisions', 'NNS']]]\n",
      "---TARGET INFO---\n",
      "[['Pull', 'VB'], ['your', 'PRP$'], ['front', 'NN'], ['leg', 'VBZ'], ['out', 'IN'], ['of', 'IN'], ['the', 'DT'], ['divisions', 'NNS'], ['to', 'TO'], ['join', 'VB'], ['your', 'PRP$'], ['back', 'JJ'], ['leg', 'NN'], ['.', '.']]\n",
      "---------------------\n",
      "1 \t 5. Then, kick up into a handstand and go into a forward roll with arms straight.\n",
      "2 \t 6. Stand upturn to the side and chase the cat leap.\n",
      "3 \t 7. Handstand to a bridge, kick over.\n",
      "4 \t 8. run and do a Split leap and hop on one leg.\n",
      "5 \t 9. Slide to the floor. Then pike, turn over to a seal pose, get up onto your knees put your right leg out in front of you and do the splits.\n",
      "6 \t 10. Pull your front leg out of the divisions to join your back leg.\n",
      "7 \t 11. Crouch and stand up and prance with your right and left feet.\n",
      "8 \t 12. Then, do a scissor jump (where you put your weight on one foot and stand.\n",
      "9 \t 13. Straight backwards roll to push-up position. Kneel, and then stand up.\n",
      "10 \t 14. Prepare and then do a half coupe turn.\n",
      "11 \t 15. Put your arms up then down\n"
     ]
    }
   ],
   "source": [
    "do_analysis(random_set[5])\n",
    "do_analysis(random_set[5], False)"
   ]
  },
  {
   "cell_type": "code",
   "execution_count": 54,
   "metadata": {},
   "outputs": [
    {
     "name": "stdout",
     "output_type": "stream",
     "text": [
      "Filename:  Make_Prunes.txt\n",
      "Revision_Length:  1\n",
      "PPDB_Matches:  [[['prunes', 'NNS'], ['plums', 'NNS']]]\n",
      "Relations:  {'prunes#plums1': 'OtherRelated'}\n",
      "Differences: [[['prunes', 'NNS'], ['plums', 'NNS']]]\n",
      "---SOURCE INFO---\n",
      "['Check', 'the', 'prunes', 'every', 'few', 'hours', '.']\n",
      "---------------------\n",
      "1 \t 2. Lay the prunes on your dehydrator tray. Make sure the prunes are not touching. This is important for air circulation, which allows the prunes to dry properly.\n",
      "2 \t * Do not overfill the tray. If you have too many prunes to fit, just do another batch after your first batch finishes. Prunes will not dry out properly if the tray is crowded.\n",
      "3 \t 3. Place the tray in the dehydrator. You should dehydrate your foods at 115 degrees Fahrenheit when working with a conventional dehydrator. However, if you have an excalibur dehydrator, start out at 145 degrees. After the first two hours pass, reduce the heat to 115 degrees.\n",
      "4 \t * Make sure the dehydrator is at the right temperature before placing the prunes in the oven.\n",
      "5 \t * Place the tray in the dehydrator slowly to avoid knocking the prunes together.\n",
      "6 \t 4. Check the prunes every few hours. You want to turn the prunes periodically. Prunes should be flipped roughly every 6 hours.\n",
      "7 \t * Remember, if you're using an excalibur, turn the temperature down after two hours.\n",
      "8 \t 5. Allow prunes to dry for 14 hours. Prunes will take roughly 14 hours to fully dehydrate. However, they may take longer or shorter depending on the quality of the prunes. This is why it's important to check prunes regularly during the dehydrating process. When fully dehydrated, prunes will be black, wrinkled, and raison-like in appearance.\n",
      "9 \t ### Using an Oven\n",
      "10 \t 1. Cut your prunes and remove the pits. Slice the pits in half, working with a small, sharp knife. Pull the halves apart, remove the pit, and discard the pit.\n",
      "11 \t * Make sure you work with a knife small enough to handle. A large knife is not appropriate for cutting prunes.\n",
      "\n",
      "\n",
      "Filename:  Make_Prunes.txt\n",
      "Revision_Length:  1\n",
      "PPDB_Matches:  [[['prunes', 'NNS'], ['plums', 'NNS']]]\n",
      "Relations:  {'prunes#plums1': 'OtherRelated'}\n",
      "Differences: [[['prunes', 'NNS'], ['plums', 'NNS']]]\n",
      "---TARGET INFO---\n",
      "[['Check', 'VB'], ['the', 'DT'], ['plums', 'NNS'], ['every', 'DT'], ['few', 'JJ'], ['hours', 'NNS'], ['.', '.']]\n",
      "---------------------\n",
      "1 \t * Make sure you work with a knife small enough to handle. A large knife is not appropriate for cutting plums.\n",
      "2 \t 2. Place the plums directly on the oven rack. Do not use a baking pan to make prunes in the oven. A lot of juices will leak from the plums during the drying process. If plums are on a baking pan, they will stick to this surface. Instead, use an oven rack. Make sure to space the plums evenly on the oven rack. If the plums are touching, this may affect the dehydration process.\n",
      "3 \t * As the process can make a mess on the bottom of your oven, consider setting something down to catch the drippings. Some people find success laying a single sheet of foil on the bottom of the oven. However, the foil may melt and it does not work for gas ovens. You could try lining a baking tray with foil and setting that under the plums.\n",
      "4 \t 3. Set the plums in the oven at 200 degrees Fahrenheit. You should set the oven as low as possible. For most ovens, that is 200 degrees Fahrenheit. If your oven is different, simply set the oven to the lowest possible temperature.\n",
      "5 \t * Make sure to place the oven rack in the oven slowly. You do not want to knock the plums around.\n",
      "6 \t 4. Check the plums every few hours. You should flip the plums every few hours so they dry out evenly. You should also check on how the dehydration process is coming along. You want your prunes to be slightly soft and juicy, while also being dry to the point of having a wrinkled, dark appearance.\n",
      "7 \t * This also depends on personal preference. Some people prefer prunes slightly dryer while some prefer them juicier. Do not remove the prunes until they're at your desired state.\n",
      "8 \t 5. Heat your prunes for around 8 hours. While most prunes will be ready at this point, vigilant checking is important. Some prunes will be ready sooner than 8 hours, and some will need a little more time.\n",
      "9 \t * The prunes will probably be ready at slightly different rates. Remove them as needed.\n",
      "10 \t ### Using a Dehydrator\n",
      "11 \t 1. Cut your plums and remove the pits. Remove the stem. Then, cut the plum in half around the pit using a sharp pairing knife.\n"
     ]
    }
   ],
   "source": [
    "do_analysis(random_set[6])\n",
    "print('\\n')\n",
    "do_analysis(random_set[6], False) "
   ]
  },
  {
   "cell_type": "code",
   "execution_count": 55,
   "metadata": {},
   "outputs": [
    {
     "name": "stdout",
     "output_type": "stream",
     "text": [
      "Filename:  Work_Your_Way_up_a_Company.txt\n",
      "Revision_Length:  1\n",
      "PPDB_Matches:  [[['classes', 'NNS'], ['courses', 'NNS']]]\n",
      "Relations:  {'classes#courses1': 'OtherRelated'}\n",
      "Differences: [[['classes', 'NNS'], ['courses', 'NNS']]]\n",
      "---SOURCE INFO---\n",
      "['Take', 'classes', 'offered', 'by', 'the', 'company', '.']\n",
      "---------------------\n",
      "1 \t * Greet people warmly. Whether in an elevator with a top executive or standing in the company cafeteria line with an employee from another department, take the opportunity to introduce yourself and strike up conversation.\n",
      "2 \t * Attend company-wide social functions. It might be tempting to skip the company holiday event thinking that no one will notice. However, attending such social gatherings allows you to interact with a wide variety of company employees.\n",
      "3 \t 5. Take on additional responsibilities. Lighten your boss' workload by offering to oversee a small project. Stay late to master new software, make sales calls or organize paperwork.\n",
      "4 \t * Avoid stepping on other people's toes or crossing boundaries. Your goal is not to outdo your supervisor or highlight the inadequacy of your colleagues. Make sure that the additional responsibilities you pursue contribute to greater productivity without jeopardizing your relationships with colleagues.\n",
      "5 \t 6. Enroll in classes to strengthen skills. Learn the information and skills that you need to progress to the next level in the company. If your goal is to work your way up from administrative assistant to project coordinator to project manager to department director, always prepare for the next job in the sequence of promotions.\n",
      "6 \t * Take classes offered by the company. Some companies offer training and development programs to help employees gain new skills. When given a choice, use these opportunities wisely by choosing classes that will prepare you for a future role.\n",
      "7 \t 7. Apply to relevant job openings. Your desire to work your way up a company will be apparent as you apply for each job. Be sure that you possess the right qualifications and experience for each position. Going directly from administrative assistant to department director in a large company is unrealistic, but applying to a project coordinator position when you are a skilled administrative assistant is a logical progression.\n",
      "8 \t * Plan to stay in each position for a reasonable amount of time. Although the right amount of time is largely dependent on the needs of the particular company, staying in a position for at least 1 to 2 years is a common expectation. It often takes that long to master the responsibilities, contribute value and train others before being promoted.\n",
      "9 \t ## Sources and Citations\n",
      "10 \t * <a href=\"http%3A//www.businessweek.com/magazine/content/08_44/b4106052111185.htm\">http://www.businessweek.com/magazine/content/08_44/b4106052111185.htm</a>\n",
      "11 \t * <a href=\"http%3A//www.bls.gov/osmr/pdf/ec950170.pdf\">http://www.bls.gov/osmr/pdf/ec950170.pdf</a>\n",
      "\n",
      "\n",
      "Filename:  Work_Your_Way_up_a_Company.txt\n",
      "Revision_Length:  1\n",
      "PPDB_Matches:  [[['classes', 'NNS'], ['courses', 'NNS']]]\n",
      "Relations:  {'classes#courses1': 'OtherRelated'}\n",
      "Differences: [[['classes', 'NNS'], ['courses', 'NNS']]]\n",
      "---TARGET INFO---\n",
      "[['Take', 'VB'], ['courses', 'NNS'], ['offered', 'VBN'], ['by', 'IN'], ['the', 'DT'], ['company', 'NN'], ['.', '.']]\n",
      "---------------------\n",
      "1 \t 4. Take on additional responsibilities. Lighten your boss' workload by offering to oversee a small project. Stay late to master new software, make sales calls, or organize paperwork. Make sure that the additional tasks that you pursue contribute to greater productivity without jeopardizing your relationships with colleagues.\n",
      "2 \t * Avoid stepping on other people's toes or crossing boundaries. Your goal is not to outdo your supervisor or to highlight the inadequacy of your colleagues, but rather to offer vital support.\n",
      "3 \t ### Broadening Your Skill Set\n",
      "4 \t 1. Enroll in classes to strengthen skills. Learn the information and skills that you need to progress to the next level in the company. If your goal is to work your way up from administrative assistant to project coordinator to project manager to department director, always prepare for the next job in the sequence of promotions.\n",
      "5 \t * Look for courses offered online, or skim your local newspaper for opportunities. Community college courses can also be a helpful and affordable option. Ask your co-workers or your boss if they have any recommendations for you.\n",
      "6 \t 2. Take courses offered by the company. Some companies offer training and development programs to help employees gain new skills. When given a choice, use these opportunities wisely by choosing classes that will prepare you for a future role. Your boss will be impressed that you are working to better yourself in order to become more of an asset to the company.\n",
      "7 \t 3. Learn a new language. Many companies will be more apt to promote someone who is knowledgeable in more than one language, since it gives them an edge over their competition and helps them to get their message across to a larger audience of consumers.\n",
      "8 \t * Find out whether your company has an office or market in a foreign country. You will have a better chance at career advancement if you learn the language in that particular country. If your company has an office in Berlin, for instance, it could help you to <a href=\"Learn%20German\">learn German</a>. Or if your company does business in Madrid, you may want to <a href=\"Learn%20Spanish\">become fluent in Spanish</a>.\n",
      "9 \t ### Advancing Your Career\n",
      "10 \t 1. Apply to relevant job openings. Many companies tend to promote from within, since they value employees who wish to stay with their company for a long time. Ask your employer if there is an internal job postings site, as some opportunities might be shared within the company before they decide to outsource or open the role to new hires.\n",
      "11 \t * Be sure that you possess the right qualifications and experience for any position to which you apply. Be realistic about your capabilities, and make logical progressions.\n"
     ]
    }
   ],
   "source": [
    "do_analysis(random_set[7])\n",
    "print('\\n')\n",
    "do_analysis(random_set[7], False) "
   ]
  },
  {
   "cell_type": "code",
   "execution_count": 56,
   "metadata": {},
   "outputs": [
    {
     "name": "stdout",
     "output_type": "stream",
     "text": [
      "Filename:  Breed_Syrian_Hamsters.txt\n",
      "Revision_Length:  2\n",
      "PPDB_Matches:  [[['Buy', 'NNP'], ['Purchase', 'NNP']]]\n",
      "Relations:  {'buy#purchase1': 'OtherRelated'}\n",
      "Differences: [[['Buy', 'NNP'], ['Purchase', 'NNP']]]\n",
      "---SOURCE INFO---\n",
      "['Buy', 'an', 'unrelated', 'male', 'and', 'female', 'hamster', '.']\n",
      "---------------------\n",
      "1 \t * Selling them as pets (though it's not likely to bring in much income)\n",
      "2 \t * Giving them away to good homes\n",
      "3 \t 2. Consider how you will enact your plan. You might think \"I'll just give them away to good homes,\" but that's likely going to be harder than it sounds. Think hard about your market before breeding, or you'll have more hamsters than you have customers.\n",
      "4 \t * How will you advertise your hamsters? Good places to start include online, in the newspaper, and at the pet store.\n",
      "5 \t 3. Avoid breeding closely related hamsters. If you already own some hamsters from the same family, you don’t want to breed them together. When you allow brothers to mate with sisters, or fathers/daughters or mothers/sons, you create an inbred line of hamsters. Inbred lines can suffer from genetic flaws. For healthy hamsters, avoid inbreeding at all costs.\n",
      "6 \t 4. Buy an unrelated male and female hamster. If your current hamsters are related or if you don't yet have any, talk to several hamster breeders about where they get their stock. You only need one male and one female to get started. However, buy them from different suppliers to ensure the two breeding animals are not closely related. It is almost always a poor idea to buy breeding hamsters from chain pet stores. Pet stores treat their hamsters quite poorly and many get their hamsters from dirty, cramped, locations. Their baby hamsters, if chosen from a commercial pet store, is likely to suffer from mental and physical and fatal deformities, will almost always have poor temperament, and have a very ugly coloring.\n",
      "7 \t * You might also contact a hamster breeder directly.\n",
      "8 \t 5. Make sure that the hamsters are about the same age. Hamsters can start breeding as early as two months of age. However, it's best to let them grow to 4-6 months before breeding them. This improves the chances of a healthy litter.\n",
      "9 \t 6. Provide the hamsters with comfortable environments. This means cages of a good size that are at the very least 450 sq. inches or larger. Since many commercial cages are too small, you may have to do a small DIY. You only want them to breed when you plan for it, so buy each its own hamster cage. Keep them separate unless you are actively trying to breed them. Keep the cages in the same room, but not close together. In each one, place:\n",
      "10 \t * A food bowl with high-quality food. The best hamster food by far is the Harry/Hazel Hamster mix.\n",
      "11 \t * An inverted water bottle\n",
      "\n",
      "\n",
      "Filename:  Breed_Syrian_Hamsters.txt\n",
      "Revision_Length:  2\n",
      "PPDB_Matches:  [[['Buy', 'NNP'], ['Purchase', 'NNP']]]\n",
      "Relations:  {'buy#purchase1': 'OtherRelated'}\n",
      "Differences: [[['Buy', 'NNP'], ['Purchase', 'NNP']]]\n",
      "---TARGET INFO---\n",
      "[['Purchase', 'NNP'], ['an', 'DT'], ['unrelated', 'JJ'], ['male', 'NN'], ['and', 'CC'], ['female', 'JJ'], ['hamster', 'NN'], ['.', '.']]\n",
      "---------------------\n",
      "1 \t * Selling them as pets (though it is unlikely to provide you with much income).\n",
      "2 \t * Giving them away to good homes.\n",
      "3 \t 2. Consider your will execute your plan. You might think \"I'll just give them away to good homes\", but that is likely going to be harder than it sounds. Research the market before you begin breeding or you may end up with more hamsters than you have customers.\n",
      "4 \t * How will you advertise your hamsters? Good places to start include online, in the newspaper classified ads, and at the pet store (be sure to ask permission first).\n",
      "5 \t 3. Avoid breeding closely related hamsters. If you already own some hamsters from the same family, you do not want to breed them with each other. When you allow brothers to mate with sisters, or fathers/daughters or mothers/sons, you create an inbred line of hamsters. Inbred lines can suffer from genetic flaws. For healthy hamsters, avoid inbreeding altogether.\n",
      "6 \t 4. Purchase an unrelated male and female hamster. If the hamsters you have are all related, or if you do not yet have any, talk to several hamster breeders about where they get their stock. You only need one male and one female to get started. It is best to purchase them from different suppliers, to ensure the two breeding animals are not closely related. It is can be a poor idea to buy breeding hamsters from chain pet stores. Some pet stores can treat their hamsters quite poorly. As well, many get their hamsters that have been bred in dirty and cramped locations. Baby hamsters, if chosen from a commercial pet store, are likely to suffer from mental, physical and even fatal deformities. Also, the hamster very often have poor temperament, and have a poor coloring.\n",
      "7 \t * You might also contact a hamster breeder directly.\n",
      "8 \t 5. Make sure that the hamsters are about the same age. Hamsters can start breeding as early as two months of age. However, it is best to let them grow to four to six months of age before beginning the breeding process. This improves the chances of a healthy litter.\n",
      "9 \t 6. Provide the hamsters with a comfortable environment. This means cages of a good size that are at the very least 450 sq. inches or larger. Since many commercial cages are too small, you may have to a do-it-yourself project ahead of you. Careful planning is important if you plan to breed, as each hamster should have its own cage. Keep the the hamsters in their separate cages, unless you are actively trying to breed them. When you first get the hamsters, keep the cages in the same room, but not close together. Each one should contain:\n",
      "10 \t * A food bowl with high-quality food (One of the best hamster foods by far is the Harry/Hazel Hamster mix.)\n",
      "11 \t * An inverted water bottle\n"
     ]
    }
   ],
   "source": [
    "do_analysis(random_set[8])\n",
    "print('\\n')\n",
    "do_analysis(random_set[8], False) "
   ]
  },
  {
   "cell_type": "code",
   "execution_count": 57,
   "metadata": {},
   "outputs": [
    {
     "name": "stdout",
     "output_type": "stream",
     "text": [
      "Filename:  Make_Paper_from_Old_Scrap_Paper.txt\n",
      "Revision_Length:  1\n",
      "PPDB_Matches:  [[['mould', 'NN'], ['mold', 'NN']]]\n",
      "Relations:  {'mould#mold1': 'Equivalence'}\n",
      "Differences: [[['mould', 'NN'], ['mold', 'NN']]]\n",
      "---SOURCE INFO---\n",
      "['Sponge', 'through', 'the', 'mould', \"'s\", 'screening', '.']\n",
      "---------------------\n",
      "1 \t 6. Place your deckle (the frame) over the screen-side of the mould (the thing with the mesh screen) so that the edges of both the mould and deckle are even.\n",
      "2 \t 7. Dip your mould and deckle into the basin with the screen facing up. You should dip the mould and deckle from the front to the back of the basin so that the pulp in the basin can settle onto the screen. Swirl your mould and deckle around until an even layer of pulp has settled on the screen. Hold the deckle steady on the mould!\n",
      "3 \t 8. Holding the mould and deckle parallel to the water, lift them out of the basin and hold them there to let the water drain through the mesh.\n",
      "4 \t 9. When most of the water has drained, lift your deckle carefully off the mould.\n",
      "5 \t 10. Gently flip your mould over onto your cloth, with the pulp-side facing the cloth. Use a rolling motion - placing one side of the mold down, then the middle, then finally the opposite side - to place your mould face-down on the cloth.\n",
      "6 \t 11. Through the screening of your mould, which is face-down on your couching cloth, use a sponge to dab excess water from the pulp. Sponge through the mould's screening.\n",
      "7 \t 12. When you have sponged all the water you can from the paper pulp, very gently lift your mould off the couched pulp, starting with the edges. Lift the mould slowly, or your wet paper might tear or come up with the mould. (Your aim is to leave a wet piece of paper on the couching cloth when you lift the mould.)\n",
      "8 \t 13. Place another cloth on top of your freshly-pulled paper sheet, and press it. You can either press it by hand or by placing something heavy on it. You can press multiple pieces of paper by stacking several freshly-pulled sheets (with cloth between each) and pressing them all at once.\n",
      "9 \t 14. Once your paper is pressed and somewhat dry (it may still be damp, but not as fragile), you can hang it on a clothesline to finish drying. Or you can leave it to dry on the couching cloth, or on a smooth surface like glass or a mirror. You may wish to iron it smooth, or you can leave it as it is for added texture and character.\n",
      "10 \t ## Tips\n",
      "11 \t * You can use cardboard, newspaper, old books, tissue paper, magazines, junk mail, typing paper, construction paper, unused napkins, old toilet paper rolls, and just about any other kind of unwaxed paper for this project.\n",
      "\n",
      "\n",
      "Filename:  Make_Paper_from_Old_Scrap_Paper.txt\n",
      "Revision_Length:  1\n",
      "PPDB_Matches:  [[['mould', 'NN'], ['mold', 'NN']]]\n",
      "Relations:  {'mould#mold1': 'Equivalence'}\n",
      "Differences: [[['mould', 'NN'], ['mold', 'NN']]]\n",
      "---TARGET INFO---\n",
      "[['Sponge', 'NNP'], ['through', 'IN'], ['the', 'DT'], ['mold', 'NN'], [\"'s\", 'POS'], ['screening', 'NN'], ['.', '.']]\n",
      "---------------------\n",
      "1 \t 6. Place your deckle (the frame) over the screen-side of the mold (the thing with the mesh screen) so that the edges of both the mold and deckle are even.\n",
      "2 \t 7. Dip your mold and deckle into the basin with the screen facing up. You should dip the mold and deckle from the front to the back of the basin so that the pulp in the basin can settle onto the screen. Swirl your mold and deckle around until an even layer of pulp has settled on the screen. Hold the deckle steady on the mold!\n",
      "3 \t 8. Holding the mold and deckle parallel to the water, lift them out of the basin and hold them there to let the water drain through the mesh.\n",
      "4 \t 9. When most of the water has drained, lift your deckle carefully off the mold.\n",
      "5 \t 10. Gently flip your mold over onto your cloth, with the pulp-side facing the cloth. Use a rolling motion - placing one side of the mold down, then the middle, then finally the opposite side - to place your mold face-down on the cloth.\n",
      "6 \t 11. Through the screening of your mold, which is face-down on your couching cloth, use a sponge to dab excess water from the pulp. Sponge through the mold's screening.\n",
      "7 \t 12. When you have sponged all the water you can from the paper pulp, very gently lift your mold off the couched pulp, starting with the edges. Lift the mold slowly, or your wet paper might tear or come up with the mold. (Your aim is to leave a wet piece of paper on the couching cloth when you lift the mold.)\n",
      "8 \t 13. Place another cloth on top of your freshly-pulled paper sheet, and press it. You can either press it by hand or by placing something heavy on it. You can press multiple pieces of paper by stacking several freshly-pulled sheets (with cloth between each) and pressing them all at once.\n",
      "9 \t 14. Once your paper is pressed and somewhat dry (it may still be damp, but not as fragile), you can hang it on a clothesline to finish drying. Or you can leave it to dry on the couching cloth, or on a smooth surface like glass or a mirror. You may wish to iron it smooth, or you can leave it as it is for added texture and character.\n",
      "10 \t ## Tips\n",
      "11 \t * You can use cardboard, newspaper, old books, tissue paper, magazines, junk mail, typing paper, construction paper, unused napkins, old toilet paper rolls, and just about any other kind of unwaxed paper for this project.\n"
     ]
    }
   ],
   "source": [
    "do_analysis(random_set[9])\n",
    "print('\\n')\n",
    "do_analysis(random_set[9], False) "
   ]
  },
  {
   "cell_type": "markdown",
   "metadata": {},
   "source": [
    "## Timestamp Tryout"
   ]
  },
  {
   "cell_type": "code",
   "execution_count": 59,
   "metadata": {},
   "outputs": [
    {
     "data": {
      "text/plain": [
       "['## Steps',\n",
       " \"1. It's not easy to put yourself across all that easily which is the basic purpose of all forms of communication.Writing is one of the ways by which knowledge is shared,transfered and conveyed.So important is the essence of clear writing that without it the torrents of knowledge that change hands every day would stop, thereby bringing the business of life to a standstill..However there are ways by which the legibility of writing can be improved and the logjam of communication banished.There are four steps that can bolster the clarity of writing which can be listed as follows:\",\n",
       " 'use a light pen that easily gels with the index figure and thumb.It will reduce the stress on fingers and facilitate the moment of joints.',\n",
       " 'write slowly without rushing through your alphabet.A cautious and exact imitation of the alphabetical letters as they are written in kindergaten primers will curtail the overlapping of two or more letters which will enhance the plainess of the written material.',\n",
       " 'Write as much as you can so that the the map of a permnant inscription with your hands can be maintained.',\n",
       " 'Use both blank and lined pages at alternation.The former will let you have an idea of how much improvement with respect to neatness of writing has been achieved and the later will help in knowing how much more to improve.',\n",
       " '2. If these simple to attempt tricks are taken care of,a whole sea of change will show up in a matter of few days.',\n",
       " '## Timestamp::::2011-03-30T02:00:53Z',\n",
       " '## Section::::Steps.',\n",
       " 'It is easy to weigh the advantages of good writing which is the alpha and omega of the modern communication. The clearer the hand writing, the better.',\n",
       " '## Steps']"
      ]
     },
     "execution_count": 59,
     "metadata": {},
     "output_type": "execute_result"
    }
   ],
   "source": [
    "random_set[3]['Source_Context']"
   ]
  },
  {
   "cell_type": "code",
   "execution_count": 69,
   "metadata": {},
   "outputs": [],
   "source": [
    "example = random_set[3]['Source_Context']"
   ]
  },
  {
   "cell_type": "code",
   "execution_count": 82,
   "metadata": {},
   "outputs": [],
   "source": [
    "def remove_timestamp(context): \n",
    "    timestamp_indexes = []\n",
    "    for elem in example: \n",
    "        if 'Timestamp' in elem: \n",
    "            index_timestamp = example.index(elem)\n",
    "            timestamp_indexes.append(index_timestamp) \n",
    "    for elem in sorted(timestamp_indexes): \n",
    "        assert len(timestamp_indexes) <= 2 \n",
    "        if len(timestamp_indexes) == 1 and timestamp_indexes[0] < 5 : \n",
    "            return context[timestamp_indexes+1:]\n",
    "        elif len(timestamp) == 1 and timestamp_indexes[0] > 5:\n",
    "            return context[:timestamp_indexes]\n",
    "        else: \n",
    "            if elem > 5: \n",
    "                index_before = elem\n",
    "            else: \n",
    "                index_after = elem \n",
    "            return context[index_before:index_after]"
   ]
  },
  {
   "cell_type": "code",
   "execution_count": 75,
   "metadata": {},
   "outputs": [
    {
     "data": {
      "text/plain": [
       "['## Steps',\n",
       " \"1. It's not easy to put yourself across all that easily which is the basic purpose of all forms of communication.Writing is one of the ways by which knowledge is shared,transfered and conveyed.So important is the essence of clear writing that without it the torrents of knowledge that change hands every day would stop, thereby bringing the business of life to a standstill..However there are ways by which the legibility of writing can be improved and the logjam of communication banished.There are four steps that can bolster the clarity of writing which can be listed as follows:\",\n",
       " 'use a light pen that easily gels with the index figure and thumb.It will reduce the stress on fingers and facilitate the moment of joints.',\n",
       " 'write slowly without rushing through your alphabet.A cautious and exact imitation of the alphabetical letters as they are written in kindergaten primers will curtail the overlapping of two or more letters which will enhance the plainess of the written material.',\n",
       " 'Write as much as you can so that the the map of a permnant inscription with your hands can be maintained.',\n",
       " 'Use both blank and lined pages at alternation.The former will let you have an idea of how much improvement with respect to neatness of writing has been achieved and the later will help in knowing how much more to improve.',\n",
       " '2. If these simple to attempt tricks are taken care of,a whole sea of change will show up in a matter of few days.']"
      ]
     },
     "execution_count": 75,
     "metadata": {},
     "output_type": "execute_result"
    }
   ],
   "source": [
    "example[0:7]"
   ]
  },
  {
   "cell_type": "code",
   "execution_count": 76,
   "metadata": {},
   "outputs": [
    {
     "name": "stdout",
     "output_type": "stream",
     "text": [
      "0 \t ## Steps\n",
      "1 \t 1. It's not easy to put yourself across all that easily which is the basic purpose of all forms of communication.Writing is one of the ways by which knowledge is shared,transfered and conveyed.So important is the essence of clear writing that without it the torrents of knowledge that change hands every day would stop, thereby bringing the business of life to a standstill..However there are ways by which the legibility of writing can be improved and the logjam of communication banished.There are four steps that can bolster the clarity of writing which can be listed as follows:\n",
      "2 \t use a light pen that easily gels with the index figure and thumb.It will reduce the stress on fingers and facilitate the moment of joints.\n",
      "3 \t write slowly without rushing through your alphabet.A cautious and exact imitation of the alphabetical letters as they are written in kindergaten primers will curtail the overlapping of two or more letters which will enhance the plainess of the written material.\n",
      "4 \t Write as much as you can so that the the map of a permnant inscription with your hands can be maintained.\n",
      "5 \t Use both blank and lined pages at alternation.The former will let you have an idea of how much improvement with respect to neatness of writing has been achieved and the later will help in knowing how much more to improve.\n",
      "6 \t 2. If these simple to attempt tricks are taken care of,a whole sea of change will show up in a matter of few days.\n",
      "7 \t ## Timestamp::::2011-03-30T02:00:53Z\n",
      "8 \t ## Section::::Steps.\n",
      "9 \t It is easy to weigh the advantages of good writing which is the alpha and omega of the modern communication. The clearer the hand writing, the better.\n",
      "10 \t ## Steps\n"
     ]
    }
   ],
   "source": [
    "for c, elem in enumerate(example, 0): \n",
    "    print(c, '\\t', elem)"
   ]
  },
  {
   "cell_type": "code",
   "execution_count": 78,
   "metadata": {},
   "outputs": [
    {
     "name": "stdout",
     "output_type": "stream",
     "text": [
      "[['The', 'DT'], ['former', 'JJ'], ['will', 'MD'], ['let', 'VB'], ['you', 'PRP'], ['have', 'VB'], ['an', 'DT'], ['idea', 'NN'], ['of', 'IN'], ['how', 'WRB'], ['much', 'JJ'], ['improvement', 'NN'], ['with', 'IN'], ['respect', 'NN'], ['to', 'TO'], ['neatness', 'NN'], ['of', 'IN'], ['writing', 'NN'], ['has', 'VBZ'], ['been', 'VBN'], ['achieved', 'VBN'], ['and', 'CC'], ['the', 'DT'], ['later', 'NN'], ['will', 'MD'], ['help', 'VB'], ['in', 'IN'], ['knowing', 'VBG'], ['how', 'WRB'], ['much', 'RB'], ['more', 'JJR'], ['to', 'TO'], ['improve', 'VB'], ['.', '.']]\n"
     ]
    }
   ],
   "source": [
    "print(random_set[3]['Source_Line_Tagged'])"
   ]
  },
  {
   "cell_type": "code",
   "execution_count": null,
   "metadata": {},
   "outputs": [],
   "source": []
  }
 ],
 "metadata": {
  "kernelspec": {
   "display_name": "Python 3",
   "language": "python",
   "name": "python3"
  },
  "language_info": {
   "codemirror_mode": {
    "name": "ipython",
    "version": 3
   },
   "file_extension": ".py",
   "mimetype": "text/x-python",
   "name": "python",
   "nbconvert_exporter": "python",
   "pygments_lexer": "ipython3",
   "version": "3.7.4"
  }
 },
 "nbformat": 4,
 "nbformat_minor": 2
}
