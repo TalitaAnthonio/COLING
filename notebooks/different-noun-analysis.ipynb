{
 "cells": [
  {
   "cell_type": "markdown",
   "metadata": {},
   "source": [
    "## Read Data "
   ]
  },
  {
   "cell_type": "code",
   "execution_count": 9,
   "metadata": {},
   "outputs": [],
   "source": [
    "import json\n",
    "import random"
   ]
  },
  {
   "cell_type": "code",
   "execution_count": 2,
   "metadata": {},
   "outputs": [],
   "source": [
    "path = '../classification-scripts/different-noun-modifications/DIFF-NOUN-MODIFICATIONS-DEV.json'"
   ]
  },
  {
   "cell_type": "code",
   "execution_count": 4,
   "metadata": {},
   "outputs": [],
   "source": [
    "with open(path, 'r') as json_in: \n",
    "    data = json.load(json_in)"
   ]
  },
  {
   "cell_type": "code",
   "execution_count": 5,
   "metadata": {},
   "outputs": [
    {
     "data": {
      "text/plain": [
       "{'Filename': 'Be_a_Gentleman_Towards_Girls.txt',\n",
       " 'All_Versions': ['Nothing is less tastier when you see a men with a suit to large or an outfit not in season;).',\n",
       "  'Nothing is less tastier when you see a man with a suit to large or an outfit not in season;).',\n",
       "  'Nothing is less tastier when you see a man with a suit too large or an outfit not in season ;).'],\n",
       " 'Revision_Length': 2,\n",
       " 'Key': 'Be_a_Gentleman_Towards_Girls1',\n",
       " 'Target_Tagged': [['Nothing', 'NN'],\n",
       "  ['is', 'VBZ'],\n",
       "  ['less', 'RBR'],\n",
       "  ['tastier', 'RB'],\n",
       "  ['when', 'WRB'],\n",
       "  ['you', 'PRP'],\n",
       "  ['see', 'VBP'],\n",
       "  ['a', 'DT'],\n",
       "  ['man', 'NN'],\n",
       "  ['with', 'IN'],\n",
       "  ['a', 'DT'],\n",
       "  ['suit', 'NN'],\n",
       "  ['too', 'RB'],\n",
       "  ['large', 'JJ'],\n",
       "  ['or', 'CC'],\n",
       "  ['an', 'DT'],\n",
       "  ['outfit', 'JJ'],\n",
       "  ['not', 'RB'],\n",
       "  ['in', 'IN'],\n",
       "  ['season', 'NN'],\n",
       "  [';', ':'],\n",
       "  [')', ')'],\n",
       "  ['.', '.']],\n",
       " 'Source_tagged': [['Nothing', 'NN'],\n",
       "  ['is', 'VBZ'],\n",
       "  ['less', 'RBR'],\n",
       "  ['tastier', 'RB'],\n",
       "  ['when', 'WRB'],\n",
       "  ['you', 'PRP'],\n",
       "  ['see', 'VBP'],\n",
       "  ['a', 'DT'],\n",
       "  ['men', 'NNS'],\n",
       "  ['with', 'IN'],\n",
       "  ['a', 'DT'],\n",
       "  ['suit', 'NN'],\n",
       "  ['to', 'TO'],\n",
       "  ['large', 'JJ'],\n",
       "  ['or', 'CC'],\n",
       "  ['an', 'DT'],\n",
       "  ['outfit', 'JJ'],\n",
       "  ['not', 'RB'],\n",
       "  ['in', 'IN'],\n",
       "  ['season', 'NN'],\n",
       "  [';', ':'],\n",
       "  [')', ')'],\n",
       "  ['.', '.']],\n",
       " 'Differences': [[['men', 'NNS'], ['man', 'NN']]],\n",
       " 'Entailment_Rel': {'men#man1': 'Equivalence'},\n",
       " 'PPDB_Matches': [[['men', 'NNS'], ['man', 'NN']]],\n",
       " 'Loc_in_splits': 'DEV',\n",
       " 'Target_Line_Nr': [196, 353],\n",
       " 'Source_Line_Nr': [170, 327],\n",
       " 'Source_Context': [\"Wonder why you don't get the girls you want...eventhough you look sooooooo hot? Well, read this article to find out how.\",\n",
       "  '## Steps',\n",
       "  '1. Be confident: it doesnt help being handsome without having the skills to attract a girl. So tip 1, feel confident about yourselve.',\n",
       "  '2. Once you achieved curtain confidence, make sure u use the skills too. Read following tip for curtain skills to accomplish.',\n",
       "  \"3. First of all every women/girl is unique. Once you have this in mind life gets easier...why? Because once you get rejected by one girl you still have the confidence to get the other girl. There are way more girls in the world then men.Don't forget this.\",\n",
       "  '4. Second, make sure you wear clothes you feel comfortable in. Nothing is less tastier when you see a men with a suit to large or an outfit not in season;).Girls pay attention to this ,trust me:)',\n",
       "  \"5. Talk to the girl you like. If you don't talk to her she will feel unwanted and unlikeable eventhough you show sign.\",\n",
       "  '6. Third and not least, be a gentleman!!! Keep in mind : how would you like that people tread you! Thats what girls expect form you , so role op your sleeves and show how gentle your are. Gentlemen means someons who is GENTLE;)',\n",
       "  '## Tips',\n",
       "  '* Laugh',\n",
       "  '* Smile'],\n",
       " 'Target_Context': [\"Wonder why you don't get the girls you want...eventhough you look sooooooo hot? Well, read this article to find out how.\",\n",
       "  '## Steps',\n",
       "  '1. Be confident: it doesnt help being handsome without having the skills to attract a girl. So tip 1, feel confident about yourself.',\n",
       "  '2. Once you achieved curtain confidence, make sure u use the skills too. Read following tip for certain skills to accomplish.',\n",
       "  \"3. First of all every woman/girl is unique. Once you have this in mind life gets easier...why? Because once you get rejected by one girl you still have the confidence to get the other girl. There are way more girls in the world than men. Don't forget this.\",\n",
       "  '4. Second, make sure you wear clothes you feel comfortable in. Nothing is less tastier when you see a man with a suit too large or an outfit not in season ;). Girls pay attention to this,trust me:)',\n",
       "  \"5. Talk to the girl you like. If you don't talk to her she will feel unwanted and unlikeable eventhough you show signs of interest.\",\n",
       "  \"6. Third and not least, be a gentleman!!! Keep in mind : how would you like that people treat you! That's what girls expect from you, so role up your sleeves and show how gentle your are. Gentlemen means someone who is GENTLE ;)\",\n",
       "  '## Tips',\n",
       "  '* Laugh',\n",
       "  '* Smile']}"
      ]
     },
     "execution_count": 5,
     "metadata": {},
     "output_type": "execute_result"
    }
   ],
   "source": [
    "data[0]"
   ]
  },
  {
   "cell_type": "markdown",
   "metadata": {},
   "source": [
    "## Copy Nice functions"
   ]
  },
  {
   "cell_type": "code",
   "execution_count": 19,
   "metadata": {},
   "outputs": [],
   "source": [
    "def do_analysis(elem, source=True):\n",
    "    filename = elem['Filename']\n",
    "    ppdb_matches = elem['PPDB_Matches']\n",
    "    print(\"Filename: \", filename)\n",
    "    print(\"Revision_Length: \", elem['Revision_Length'])\n",
    "    print(\"PPDB_Matches: \", ppdb_matches)\n",
    "    print(\"Relations: \", elem['Entailment_Rel'])\n",
    "    print(\"Differences:\", elem['Differences'])\n",
    "    if source:\n",
    "        print(\"---SOURCE INFO---\")\n",
    "        source_context = elem['Source_Context']\n",
    "        source_line= elem['Source_tagged']\n",
    "        print(source_line)\n",
    "        print('---------------------')\n",
    "        pretty_lines(source_context)\n",
    "    else: \n",
    "        print(\"---TARGET INFO---\")\n",
    "        target_context = elem['Target_Context']\n",
    "        target_line = elem['Target_Tagged']\n",
    "        print(target_line)\n",
    "        print(\"---------------------\")\n",
    "        pretty_lines(target_context)"
   ]
  },
  {
   "cell_type": "code",
   "execution_count": 20,
   "metadata": {},
   "outputs": [],
   "source": [
    "def pretty_lines(context): \n",
    "    for linenr, item in enumerate(context,1): \n",
    "        print(linenr, '\\t', item)"
   ]
  },
  {
   "cell_type": "code",
   "execution_count": 21,
   "metadata": {},
   "outputs": [],
   "source": [
    "random_set = random.choices(data, k=10)"
   ]
  },
  {
   "cell_type": "code",
   "execution_count": 22,
   "metadata": {},
   "outputs": [
    {
     "name": "stdout",
     "output_type": "stream",
     "text": [
      "Filename:  Buy_a_Fire_Belly_Newt.txt\n",
      "Revision_Length:  1\n",
      "PPDB_Matches:  [[['area', 'NN'], ['areas', 'NNS']]]\n",
      "Relations:  {'area#areas1': 'ReverseEntailment'}\n",
      "Differences: [[['area', 'NN'], ['areas', 'NNS']]]\n",
      "---SOURCE INFO---\n",
      "[['While', 'IN'], ['there', 'EX'], ['are', 'VBP'], ['specialty', 'NN'], ['stores', 'NNS'], ['for', 'IN'], ['amphibians', 'NNS'], ['in', 'IN'], ['some', 'DT'], ['area', 'NN'], [',', ','], ['many', 'JJ'], ['standard', 'JJ'], ['pet', 'NN'], ['stores', 'NNS'], ['carry', 'VBP'], ['fire', 'NN'], ['bellied', 'VBN'], ['newts', 'NN'], ['.', '.']]\n",
      "---------------------\n",
      "1 \t ## Section::::Sources and Citations.\n",
      "2 \t ## Timestamp::::2016-09-25T23:34:34Z\n",
      "3 \t Fire bellied newts are a common and easy to care for amphibian that are often found in pet shops and available from a number of breeders. Choosing a good newt is important, though, to ensure you get a healthy and long-lived pet. Whether you choose the slightly larger Chinese fire bellied newt or the smaller, smoother Japanese fire bellied newt, finding the right pet from the right store will help ensure you get the most out of your new pet.\n",
      "4 \t ## Steps\n",
      "5 \t ### Finding a Pet Shop\n",
      "6 \t 1. Visit a pet store. While there are specialty stores for amphibians in some area, many standard pet stores carry fire bellied newts. Call around to local pet shops to see if they offer newts for sale.\n",
      "7 \t * Compare prices at multiple shops. You will pay a higher price newts from a more reputable source, but regardless you probably do not need to spend more than $30 for your newt.\n",
      "8 \t * Ask the pet shop “How do you get your newts?” You want the store to know where your newt is from so that you can look into the supplier’s background and reputation. Newts live 6-10 years. If you find through reviews that your pet store sells newts that have a reputation for shorter lives, look elsewhere.\n",
      "9 \t 2. Check out online stores. A number of places sell fire bellied newts through online shops. Look for a shop with humane shipping policies and guaranteed arrival.\n",
      "10 \t * Check the online provider’s shipping policy. Make sure they use a lined box that is especially made for shipping reptiles, as well as heating or cooling packs to ensure the newt’s safety.\n",
      "11 \t * If shipping policy is not specified on the site, call or email the provider to ask “How do you ship your newts?” Do not buy from a provider that does not use proper shipping equipment, or that will not ship overnight.\n",
      "\n",
      "\n",
      "Filename:  Buy_a_Fire_Belly_Newt.txt\n",
      "Revision_Length:  1\n",
      "PPDB_Matches:  [[['area', 'NN'], ['areas', 'NNS']]]\n",
      "Relations:  {'area#areas1': 'ReverseEntailment'}\n",
      "Differences: [[['area', 'NN'], ['areas', 'NNS']]]\n",
      "---TARGET INFO---\n",
      "[['While', 'IN'], ['there', 'EX'], ['are', 'VBP'], ['specialty', 'NN'], ['stores', 'NNS'], ['for', 'IN'], ['amphibians', 'NNS'], ['in', 'IN'], ['some', 'DT'], ['areas', 'NNS'], [',', ','], ['many', 'JJ'], ['standard', 'JJ'], ['pet', 'NN'], ['stores', 'NNS'], ['carry', 'VBP'], ['fire', 'NN'], ['bellied', 'VBN'], ['newts', 'NN'], ['.', '.']]\n",
      "---------------------\n",
      "1 \t __Parts__\n",
      "2 \t ## Timestamp::::2016-09-27T14:00:49Z\n",
      "3 \t Fire bellied newts are common and easy to care for amphibians that are often found in pet shops and available from a number of breeders. Choosing a good newt is important, though, to ensure you get a healthy and long-lived pet. Whether you choose the slightly larger Chinese fire bellied newt or the smaller, smoother Japanese fire bellied newt, finding the right pet from the right store will help ensure you get the most out of your new pet.\n",
      "4 \t ## Steps\n",
      "5 \t ### Finding a Pet Shop\n",
      "6 \t 1. Visit a pet store. While there are specialty stores for amphibians in some areas, many standard pet stores carry fire bellied newts. Call around to local pet shops to see if they offer newts for sale.\n",
      "7 \t * Compare prices at multiple shops. You will pay a higher price for newts from a more reputable source, but regardless you probably do not need to spend more than $30 for your newt.\n",
      "8 \t * Ask the pet shop, “How do you get your newts?” You want the store to know where your newt is from so that you can look into the supplier’s background and reputation. Newts live 6-10 years. If you find through reviews that your pet store sells newts that have a reputation for shorter lives, look elsewhere.\n",
      "9 \t 2. Check out online stores. A number of places sell fire bellied newts through online shops. Look for a shop with humane shipping policies and guaranteed arrival.\n",
      "10 \t * Check the online provider’s shipping policy. Make sure they use a lined box that is especially made for shipping reptiles, as well as heating or cooling packs to ensure the newt’s safety.\n",
      "11 \t * Check to ensure that your provider will overnight or next-day ship the newt. Slower shipping may cause undue stress on the newts, impacting their health. Newts left too long without care may also die.\n"
     ]
    }
   ],
   "source": [
    "do_analysis(random_set[0])\n",
    "print('\\n')\n",
    "do_analysis(random_set[0], False)"
   ]
  },
  {
   "cell_type": "code",
   "execution_count": 23,
   "metadata": {},
   "outputs": [
    {
     "name": "stdout",
     "output_type": "stream",
     "text": [
      "Filename:  Apply_Goth_Makeup.txt\n",
      "Revision_Length:  1\n",
      "PPDB_Matches:  [[['colours', 'NN'], ['colors', 'NNS']]]\n",
      "Relations:  {'colours#colors1': 'Equivalence'}\n",
      "Differences: [[['colours', 'NN'], ['colors', 'NNS']]]\n",
      "---SOURCE INFO---\n",
      "[['This', 'DT'], ['will', 'MD'], ['work', 'VB'], ['on', 'IN'], ['almost', 'RB'], ['any', 'DT'], ['type', 'NN'], ['of', 'IN'], ['Goth', 'NNP'], [',', ','], ['if', 'IN'], ['you', 'PRP'], ['get', 'VBP'], ['the', 'DT'], ['technique', 'NN'], ['and', 'CC'], ['colours', 'NN'], ['right', 'RB'], ['.', '.']]\n",
      "---------------------\n",
      "1 \t * Natural looking powder. Although this background is almost invisible, it will smooth out the [[Soak for Beautiful Skin|skin]] and give it a more sensual touch. It works well for [[Make a Romantic Scrapbook|Romantic]] Goths, and much softer styles. All you need to do is gently sweep a natural coloured powder-- such as bronze-- all over your face. Your skin will seem smoother, softer, and create a good base to work on. If you do want to look pale, but not like you have covered your face in chalk, use foundation/powder two shades lighter than what you normally use.\n",
      "2 \t * Nothing at all. You don't have to create a base or have any makeup on your skin to look good. If you decide to leave the base makeup, make sure you take good care of your [[Take Care of Your Skin|skin]] to keep it [[Get Clear, Smooth Skin|clear]] and smooth. It's difficult to look Gothic and dark with a face full of [[Get Rid of Acne|acne]].\n",
      "3 \t 7. Play with your [[Take Care of Your Eyes|eyes]]. Eyes are an incredibly important feature to Goth makeup, and it can be [[Be Fun to Be With|fun]] to experiment with them. If you have an attention attracting [[Choose a Hairstyle|hairstyle]], or want to play up your [[Get Great Lips|lips]] instead, you can simply line your eyes with soft black and leave them. But if you want to make your eyes the main feature of your face, there are a lot of ways to bring them out by using [[Apply Artsy Eyeliner|eyeliner]] and [[Apply Eyeshadow|eyeshadow]]. Some techniques are:[[Image:Apply Goth Makeup Step 7.jpg|center]]\n",
      "4 \t * Black [[Apply Liquid Eyeliner|liquid eyeliner]]. A dark, thick lining to your eyes will make them stand out. Line your eyes carefully at first and then give them a second coat, sweeping the strokes on.\n",
      "5 \t * Crazy [[Make Cat Eyes With Eyeliner|eyeliner]]. If you're a Supernatural or Vampire Goth, stand out eyeliner works well. Line your eyes heavily and then try sweeping dark rings around them with liquid eyeliner. This creates a [[Hide Being Tired|tired]], [[Survive a Haunted House|haunted]] gaze.\n",
      "6 \t * Crazy [[Apply Rainbow Eyeshadow|eyeshadow]]. This will work on almost any type of Goth, if you get the technique and colours right. If you're looking for a Vampire or Supernatural look, try using bright, strong eyeshadow, with glitter in it. For example, lining your eyes with simple soft black eyeliner, then created rings around them with deep, shimmering purple or dark blue eyeshadow will give you a supernatural or haunted look. Try to use brighter colours with eyeshadow, or just black. Glitter eyeshadow passes off a Supernatural or Vampire look, while a careful coat of a natural eyeshadow will work well with Romantic Goths.\n",
      "7 \t * Eyeliner drawings. Try giving yourself a few dark eye \"[[Choose a Tattoo Design|tattoos]]\" with black or coloured eyeliner. For example, line your eyes with simple black, then draw several black strokes coming down from your eyes. This look works well on any type of Goth, depending on your strokes and [[Make Shadow Drawings|drawings]].\n",
      "8 \t 8. Think about [[Apply Blush|blush]]. If you're a Romantic or softer Goth, a light, sensual blush on your [[Make Cheeks Rosier Naturally|cheeks]] can complete your look. If you've already dusted your face with white powder, try dabbing some shimmers of pink or reddish blush on your cheeks to pull off an eerie, dangerous look. Play around with blush and try to make it flow with your style.[[Image:Apply Goth Makeup Step 8.jpg|center]]\n",
      "9 \t 9. Add in extras. You can draw in some Gothic \"[[Apply the Perfect Temporary Tattoo|tattoos]]\" on your face using eyeliner pencils. Simple stars or [[Make Goth Spikes|spikes]] work well, but unique patterns and complex drawings will definitely get you remembered. Don't be afraid to experiment.[[Image:Apply Goth Makeup Step 9.jpg|center]]\n",
      "10 \t 10. If you have long hair, tie it back out of your face, and perhaps use an Alice Band to keep a fringe or some wisps of hair out of your face.[[Image:Apply Goth Makeup Step 10.jpg|center]]\n",
      "11 \t 11. Keep your hair in its natural color, or dye it! Natural colored hair can work for the Goth look just as well as unnatural colors. [[Image:Apply Goth Makeup Step 11.jpg|center]]\n",
      "\n",
      "\n",
      "Filename:  Apply_Goth_Makeup.txt\n",
      "Revision_Length:  1\n",
      "PPDB_Matches:  [[['colours', 'NN'], ['colors', 'NNS']]]\n",
      "Relations:  {'colours#colors1': 'Equivalence'}\n",
      "Differences: [[['colours', 'NN'], ['colors', 'NNS']]]\n",
      "---TARGET INFO---\n",
      "[['This', 'DT'], ['will', 'MD'], ['work', 'VB'], ['on', 'IN'], ['almost', 'RB'], ['any', 'DT'], ['type', 'NN'], ['of', 'IN'], ['Goth', 'NNP'], [',', ','], ['if', 'IN'], ['you', 'PRP'], ['get', 'VBP'], ['the', 'DT'], ['technique', 'NN'], ['and', 'CC'], ['colors', 'NNS'], ['right', 'RB'], ['.', '.']]\n",
      "---------------------\n",
      "1 \t * Natural looking powder. Although this background is almost invisible, it will smooth out the [[Soak for Beautiful Skin|skin]] and give it a more sensual touch. It works well for [[Make a Romantic Scrapbook|Romantic]] Goths, and much softer styles. All you need to do is gently sweep a natural colored powder-- such as bronze-- all over your face. Your skin will seem smoother, softer, and create a good base to work on. If you do want to look pale, but not like you have covered your face in chalk, use foundation/powder two shades lighter than what you normally use.\n",
      "2 \t * Nothing at all. You don't have to create a base or have any makeup on your skin to look good. If you decide to leave the base makeup, make sure you take good care of your [[Take Care of Your Skin|skin]] to keep it [[Get Clear, Smooth Skin|clear]] and smooth. It's difficult to look Gothic and dark with a face full of [[Get Rid of Acne|acne]].\n",
      "3 \t 7. Play with your [[Take Care of Your Eyes|eyes]]. Eyes are an incredibly important feature to Goth makeup, and it can be [[Be Fun to Be With|fun]] to experiment with them. If you have an attention attracting [[Choose a Hairstyle|hairstyle]], or want to play up your [[Get Great Lips|lips]] instead, you can simply line your eyes with soft black and leave them. But if you want to make your eyes the main feature of your face, there are a lot of ways to bring them out by using [[Apply Artsy Eyeliner|eyeliner]] and [[Apply Eyeshadow|eyeshadow]]. Some techniques are:[[Image:Apply Goth Makeup Step 7.jpg|center]]\n",
      "4 \t * Black [[Apply Liquid Eyeliner|liquid eyeliner]]. A dark, thick lining to your eyes will make them stand out. Line your eyes carefully at first and then give them a second coat, sweeping the strokes on.\n",
      "5 \t * Crazy [[Make Cat Eyes With Eyeliner|eyeliner]]. If you're a Supernatural or Vampire Goth, stand out eyeliner works well. Line your eyes heavily and then try sweeping dark rings around them with liquid eyeliner. This creates a [[Hide Being Tired|tired]], [[Survive a Haunted House|haunted]] gaze.\n",
      "6 \t * Crazy [[Apply Rainbow Eyeshadow|eyeshadow]]. This will work on almost any type of Goth, if you get the technique and colors right. If you're looking for a Vampire or Supernatural look, try using bright, strong eyeshadow, with glitter in it. For example, lining your eyes with simple soft black eyeliner, then created rings around them with deep, shimmering purple or dark blue eyeshadow will give you a supernatural or haunted look. Try to use brighter colors with eyeshadow, or just black. Glitter eyeshadow passes off a Supernatural or Vampire look, while a careful coat of a natural eyeshadow will work well with Romantic Goths.\n",
      "7 \t * Eyeliner drawings. Try giving yourself a few dark eye \"[[Choose a Tattoo Design|tattoos]]\" with black or colored eyeliner. For example, line your eyes with simple black, then draw several black strokes coming down from your eyes. This look works well on any type of Goth, depending on your strokes and [[Make Shadow Drawings|drawings]].\n",
      "8 \t 8. Think about [[Apply Blush|blush]]. If you're a Romantic or softer Goth, a light, sensual blush on your [[Make Cheeks Rosier Naturally|cheeks]] can complete your look. If you've already dusted your face with white powder, try dabbing some shimmers of pink or reddish blush on your cheeks to pull off an eerie, dangerous look. Play around with blush and try to make it flow with your style.[[Image:Apply Goth Makeup Step 8.jpg|center]]\n",
      "9 \t 9. Add in extras. You can draw in some Gothic \"[[Apply the Perfect Temporary Tattoo|tattoos]]\" on your face using eyeliner pencils. Simple stars or [[Make Goth Spikes|spikes]] work well, but unique patterns and complex drawings will definitely get you remembered. Don't be afraid to experiment.[[Image:Apply Goth Makeup Step 9.jpg|center]]\n",
      "10 \t 10. If you have long hair, tie it back out of your face. Perhaps use an Alice Band to keep a fringe or some wisps of hair out of your face.[[Image:Apply Goth Makeup Step 10.jpg|center]]\n",
      "11 \t 11. Keep your hair in its natural color, or dye it! Natural colored hair can work for the Goth look just as well as unnatural colors. [[Image:Apply Goth Makeup Step 11.jpg|center]]\n"
     ]
    }
   ],
   "source": [
    "do_analysis(random_set[1])\n",
    "print('\\n')\n",
    "do_analysis(random_set[1], False)"
   ]
  },
  {
   "cell_type": "code",
   "execution_count": 25,
   "metadata": {},
   "outputs": [
    {
     "name": "stdout",
     "output_type": "stream",
     "text": [
      "Filename:  Draw_a_Horseshoe.txt\n",
      "Revision_Length:  1\n",
      "PPDB_Matches:  [[['Head', 'NNP'], ['Horse', 'NN']]]\n",
      "Relations:  {'head#horse1': 'Independent'}\n",
      "Differences: [[['Head', 'NNP'], ['Horse', 'NN']]]\n",
      "---SOURCE INFO---\n",
      "[['How', 'WRB'], ['to', 'TO'], ['Draw', 'VB'], ['a', 'DT'], ['Horse', 'NNP'], ['Head', 'NNP']]\n",
      "---------------------\n",
      "1 \t * Paper\n",
      "2 \t * Colored pencils\n",
      "3 \t * Gray colored pencil\n",
      "4 \t * Background color of your choice\n",
      "5 \t ## Related wikiHows\n",
      "6 \t * <a href=\"Draw%20a%20Horse%20Head\">How to Draw a Horse Head</a>\n",
      "7 \t * <a href=\"Shoe%20a%20Horse\">How to Shoe a Horse</a>\n",
      "8 \t ## Timestamp::::2014-11-06T00:02:48Z\n",
      "9 \t ## Section::::Related wikiHows.\n",
      "10 \t If you have trouble drawing a horseshoe it's pretty simple! Watch and learn.\n",
      "11 \t ## Steps\n",
      "\n",
      "\n",
      "Filename:  Draw_a_Horseshoe.txt\n",
      "Revision_Length:  1\n",
      "PPDB_Matches:  [[['Head', 'NNP'], ['Horse', 'NN']]]\n",
      "Relations:  {'head#horse1': 'Independent'}\n",
      "Differences: [[['Head', 'NNP'], ['Horse', 'NN']]]\n",
      "---TARGET INFO---\n",
      "[['How', 'WRB'], ['to', 'TO'], ['Draw', 'VB'], ['a', 'DT'], ['Simple', 'JJ'], ['Horse', 'NN']]\n",
      "---------------------\n",
      "1 \t * Gray colored pencil\n",
      "2 \t * Background color of your choice\n",
      "3 \t ## Related wikiHows\n",
      "4 \t * <a href=\"Draw%20a%20Horse%20Head\">How to Draw a Horse Head</a>\n",
      "5 \t * <a href=\"Shoe%20a%20Horse\">How to Shoe a Horse</a>\n",
      "6 \t * <a href=\"Draw%20a%20Simple%20Horse\">How to Draw a Simple Horse</a>\n",
      "7 \t ## Timestamp::::2015-07-08T18:15:42Z\n",
      "8 \t ## Section::::Related wikiHows.\n",
      "9 \t If you have trouble drawing a horseshoe it's pretty simple! Watch and learn.\n",
      "10 \t ## Steps\n",
      "11 \t 1. Using a gray colored pencil, draw a medium sized U.<br><br>\n"
     ]
    }
   ],
   "source": [
    "do_analysis(random_set[2])\n",
    "print('\\n')\n",
    "do_analysis(random_set[2], False)"
   ]
  },
  {
   "cell_type": "code",
   "execution_count": 26,
   "metadata": {},
   "outputs": [
    {
     "name": "stdout",
     "output_type": "stream",
     "text": [
      "Filename:  Understand_Op_Amp_Peak_Detector_Circuits.txt\n",
      "Revision_Length:  1\n",
      "PPDB_Matches:  [[['operation', 'NN'], ['operations', 'NNS']]]\n",
      "Relations:  {'operation#operations1': 'OtherRelated'}\n",
      "Differences: [[['operation', 'NN'], ['operations', 'NNS']]]\n",
      "---SOURCE INFO---\n",
      "[['But', 'CC'], ['apart', 'RB'], ['from', 'IN'], ['mathematical', 'JJ'], ['operation', 'NN'], [',', ','], ['it', 'PRP'], ['can', 'MD'], ['also', 'RB'], ['perform', 'VB'], ['peak', 'JJ'], ['detection', 'NN'], ['work', 'NN'], ['with', 'IN'], ['the', 'DT'], ['help', 'NN'], ['of', 'IN'], ['a', 'DT'], ['diode', 'NN'], ['and', 'CC'], ['a', 'DT'], ['capacitor', 'NN'], ['.', '.']]\n",
      "---------------------\n",
      "1 \t ## Related wikiHows\n",
      "2 \t * <a href=\"Understand%20Basic%20Diode%20Clipping%20Circuits\">Understand Basic Diode Clipping Circuits</a>\n",
      "3 \t * <a href=\"Draw%20the%20Transfer%20Characteristics%20for%20a%20Basic%20Diode%20Clipping%20Circuit\">Draw the Transfer Characteristics for a Basic Diode Clipping Circuit</a>\n",
      "4 \t ## Timestamp::::2017-09-24T17:28:42Z\n",
      "5 \t ## Section::::Related wikiHows.\n",
      "6 \t Operational amplifiers forms the building blocks of linear integrated circuits. Op-Amps are almost used everywhere in electronics. It is basically a voltage amplifiers. As the name itself suggests, operational amplifiers are used to do the mathematical operations on the inputs applied to it. But apart from mathematical operation, it can also perform peak detection work with the help of a diode and a capacitor. Op-Amp Peak detector is a circuit, which detects the peaks of the input voltage signal, if the previous input voltage signals has a peak, less than the present peak voltage signal or in simple words, it detects and holds the most positive peak in the input voltage signal.\n",
      "7 \t ## Steps\n",
      "8 \t 1. Understand the basics of the operational amplifier circuits. The basic ideas listed below, helps us to understand peak detector circuits in easy way.\n",
      "9 \t * Operational amplifiers have two input terminals and one output terminal.\n",
      "10 \t * Input terminals includes inverting input terminal and non-inverting input terminal.\n",
      "11 \t * Inverting input produces the output, which is opposite in polarity to that of input.\n",
      "\n",
      "\n",
      "Filename:  Understand_Op_Amp_Peak_Detector_Circuits.txt\n",
      "Revision_Length:  1\n",
      "PPDB_Matches:  [[['operation', 'NN'], ['operations', 'NNS']]]\n",
      "Relations:  {'operation#operations1': 'OtherRelated'}\n",
      "Differences: [[['operation', 'NN'], ['operations', 'NNS']]]\n",
      "---TARGET INFO---\n",
      "[['But', 'CC'], ['apart', 'RB'], ['from', 'IN'], ['mathematical', 'JJ'], ['operations', 'NNS'], [',', ','], ['it', 'PRP'], ['can', 'MD'], ['also', 'RB'], ['perform', 'VB'], ['peak', 'JJ'], ['detection', 'NN'], ['work', 'NN'], ['with', 'IN'], ['the', 'DT'], ['help', 'NN'], ['of', 'IN'], ['a', 'DT'], ['diode', 'NN'], ['and', 'CC'], ['a', 'DT'], ['capacitor', 'NN'], ['.', '.']]\n",
      "---------------------\n",
      "1 \t ## Related wikiHows\n",
      "2 \t * <a href=\"Understand%20Basic%20Diode%20Clipping%20Circuits\">Understand Basic Diode Clipping Circuits</a>\n",
      "3 \t * <a href=\"Draw%20the%20Transfer%20Characteristics%20for%20a%20Basic%20Diode%20Clipping%20Circuit\">Draw the Transfer Characteristics for a Basic Diode Clipping Circuit</a>\n",
      "4 \t ## Timestamp::::2017-09-24T17:55:37Z\n",
      "5 \t ## Section::::Related wikiHows.\n",
      "6 \t Operational amplifiers form the building blocks of linear integrated circuits. Op-Amps are almost used everywhere in electronics. It is basically a voltage amplifier. As the name itself suggests, operational amplifiers are used to do the mathematical operations on the inputs applied to it. But apart from mathematical operations, it can also perform peak detection work with the help of a diode and a capacitor. Op-Amp Peak detector is a circuit, which detects the peaks of the input voltage signal, if the previous input voltage signals has a peak, less than the present peak voltage signal or in simple words, it detects and holds the most positive peak in the input voltage signal.\n",
      "7 \t ## Steps\n",
      "8 \t 1. Understand the basics of the operational amplifier circuits. The basic ideas listed below, helps us to understand peak detector circuits in easy way.\n",
      "9 \t * Operational amplifiers have two input terminals and one output terminal.\n",
      "10 \t * Input terminals includes inverting input terminal and non-inverting input terminal.\n",
      "11 \t * Inverting input produces the output, which is opposite in polarity to that of input.\n"
     ]
    }
   ],
   "source": [
    "do_analysis(random_set[3])\n",
    "print('\\n')\n",
    "do_analysis(random_set[3], False)"
   ]
  },
  {
   "cell_type": "code",
   "execution_count": 28,
   "metadata": {},
   "outputs": [
    {
     "name": "stdout",
     "output_type": "stream",
     "text": [
      "Filename:  Repair_a_Bad_Reputation.txt\n",
      "Revision_Length:  1\n",
      "PPDB_Matches:  [[['head', 'NN'], ['eyes', 'NNS']]]\n",
      "Relations:  {'head#eyes1': 'Independent'}\n",
      "Differences: [[['head', 'NN'], ['eyes', 'NNS']]]\n",
      "---SOURCE INFO---\n",
      "[['Your', 'PRP$'], ['bad', 'JJ'], ['reputation', 'NN'], ['may', 'MD'], ['be', 'VB'], ['worse', 'JJR'], ['in', 'IN'], ['your', 'PRP$'], ['head', 'NN'], ['than', 'IN'], ['it', 'PRP'], ['is', 'VBZ'], ['in', 'IN'], ['the', 'DT'], ['head', 'NN'], ['of', 'IN'], ['others', 'NNS'], ['.', '.']]\n",
      "---------------------\n",
      "1 \t ## Timestamp::::2015-10-10T08:42:51Z\n",
      "2 \t Damaged reputations may not be easy to recover or repair. This is why it's so important to protect your reputation. Sometimes, the loss to your reputation is no fault of yours. Sometimes it's your own mistake. Getting your good name back is not always easy -- but it can be done, with patience, determination, and perseverance.\n",
      "3 \t ## Steps\n",
      "4 \t ### Getting Rid of a Bad Reputation\n",
      "5 \t 1. Accept that people might not forget. They may care less with time, but still remember. This doesn't mean fixing your reputation is impossible. Bad reputations are always potentially temporary. It all has to do with time. After some time, people stop caring so much about what you did in the past.\n",
      "6 \t * Many people encounter their own failures and the failures of others over time. These stand out more, and they forget about you. Remember that you remember your own failures better than other people. Your bad reputation may be worse in your head than it is in the head of others.\n",
      "7 \t * Research shows that contrary to popular perception, when compared to other means of social evaluation, reputation matters measurably less than other factors.\n",
      "8 \t * Go off the grid, to get away from social media and online reputations.\n",
      "9 \t 2. Talk to people about it. Be frank when addressing the issues surrounding your bad reputation. If you are calm, respectful, and genuinely concerned, they are likely to help you. By not verbally addressing the problem, you let people's imaginations run wild, and you give rumors free-range.\n",
      "10 \t * If someone is actively spreading news of your bad reputation, talk to them first.\n",
      "11 \t * Ask friends their opinion on the matter.\n",
      "\n",
      "\n",
      "Filename:  Repair_a_Bad_Reputation.txt\n",
      "Revision_Length:  1\n",
      "PPDB_Matches:  [[['head', 'NN'], ['eyes', 'NNS']]]\n",
      "Relations:  {'head#eyes1': 'Independent'}\n",
      "Differences: [[['head', 'NN'], ['eyes', 'NNS']]]\n",
      "---TARGET INFO---\n",
      "[['Your', 'PRP$'], ['bad', 'JJ'], ['reputation', 'NN'], ['may', 'MD'], ['be', 'VB'], ['worse', 'JJR'], ['in', 'IN'], ['your', 'PRP$'], ['head', 'NN'], ['than', 'IN'], ['it', 'PRP'], ['is', 'VBZ'], ['in', 'IN'], ['the', 'DT'], ['eyes', 'NNS'], ['of', 'IN'], ['others', 'NNS'], ['.', '.']]\n",
      "---------------------\n",
      "1 \t ## Timestamp::::2015-10-15T00:36:01Z\n",
      "2 \t Damaged reputations may not be easy to recover or repair. This is why it's so important to protect your reputation. Sometimes, the loss to your reputation is no fault of yours and sometimes it's your own mistake. Getting your good name back is not always easy – but it can be done with patience, determination, and perseverance.\n",
      "3 \t ## Steps\n",
      "4 \t ### Getting Rid of a Bad Reputation\n",
      "5 \t 1. Accept that people might not forget. They may care less with time, but still remember. This doesn't mean fixing your reputation is impossible. Bad reputations are always potentially temporary. It all has to do with time. After some time, people stop caring so much about what you did in the past.\n",
      "6 \t * Many people encounter their own failures and the failures of others over time. These stand out more, and they forget about you. Remember that you remember your own failures better than other people. Your bad reputation may be worse in your head than it is in the eyes of others.\n",
      "7 \t * Research shows that, contrary to popular perception, when compared to other means of social evaluation, reputation matters measurably less than other factors.\n",
      "8 \t * Go off the grid and take a break from social media and online.\n",
      "9 \t 2. Talk to people about it. Be frank when addressing the issues surrounding your bad reputation. If you are calm, respectful, and genuinely concerned, they are likely to help you. By not verbally addressing the problem, you let people's imaginations run wild, and you give rumors free-range.\n",
      "10 \t * If someone is actively spreading news of your bad reputation, talk to them first.\n",
      "11 \t * Ask friends their opinion on the matter.\n"
     ]
    }
   ],
   "source": [
    "do_analysis(random_set[4])\n",
    "print('\\n')\n",
    "do_analysis(random_set[4], False)"
   ]
  },
  {
   "cell_type": "code",
   "execution_count": 29,
   "metadata": {},
   "outputs": [
    {
     "name": "stdout",
     "output_type": "stream",
     "text": [
      "Filename:  Prepare_for_Competitive_Exams.txt\n",
      "Revision_Length:  1\n",
      "PPDB_Matches:  [[['tests', 'NNS'], ['test', 'NN']]]\n",
      "Relations:  {'tests#test1': 'Equivalence'}\n",
      "Differences: [[['tests', 'NNS'], ['test', 'NN']]]\n",
      "---SOURCE INFO---\n",
      "[['Every', 'DT'], ['couple', 'NN'], ['of', 'IN'], ['weeks', 'NNS'], [',', ','], ['or', 'CC'], ['as', 'RB'], ['often', 'RB'], ['as', 'IN'], ['recommended', 'VBN'], [',', ','], ['take', 'VB'], ['a', 'DT'], ['practice', 'NN'], ['tests', 'NNS'], [',', ','], ['and', 'CC'], ['then', 'RB'], ['go', 'VB'], ['back', 'RB'], ['through', 'IN'], ['and', 'CC'], ['look', 'VB'], ['at', 'IN'], ['the', 'DT'], ['questions', 'NNS'], ['you', 'PRP'], ['missed', 'VBD'], ['.', '.']]\n",
      "---------------------\n",
      "1 \t 3. Make an outline to structure your study plan. You will need to make a realistic study plan based on what test you are taking, and the amount of time experts say you will need to do to prepare. Some competitive tests like the GRE take months to prepare for, for example. #*Sit down with your study materials, and make an outline of what big topics/areas you need to study for the test.\n",
      "2 \t 4. Backward plan which areas of the test you will study and for how long. Having a plan and staying consistent in studying and doing targeted practice are going to be key for success on competitive exams. Typically, you will need to block off large, regular chunks of time in your schedule for studying. According to your outline, break down how much material you will need to study per session, approximately. Start with the most important material and work toward the less important material to make sure the important stuff gets covered before the test.\n",
      "3 \t 5. Use a calendar app like Google Calendar to make a schedule. You can sign up for a Gmail account if you do not have one and want the app. Go to your Calendar app located in the apps directory in the upper right corner of your Gmail account. Go to \"Create\" and schedule an \"Event\" to put the study schedule on your Calendar app. Google Calendar has email reminders you can make for yourself that are handy and easy to create. Check and update your calendar regularly to remind yourself of your study schedule.\n",
      "4 \t * Revise your schedule as needed. If something comes up and you are unable to study, look at your calendar and revise the study plan. Make room in your schedule to study at another time so that you can cover the material and keep on pace in your studies.\n",
      "5 \t 6. Clear your plate of obligations. In order to gear up for taking a competitive test, you should carve out room in your schedule for you to study regularly. Explain to your friends and family that you will be concentrating on preparing for a test. Take whatever steps you need to give yourself the time and space you need to focus regularly on studying.\n",
      "6 \t 7. Keep track of your progress by taking practice tests. Every couple of weeks, or as often as recommended, take a practice tests, and then go back through and look at the questions you missed. If your answer sheet tells you what kind of question it was, take note. If not, do your best to determine what kind of problems you are missing and look for patterns in the mistakes you are making so that you know what to focus on in your studying.\n",
      "7 \t * When testing, don’t consider each question unique. There are different types of questions that recur in tests. For example, on the English portion of the ACT, test questions come from these categories: grammar & usage, punctuation, sentence structure, strategy, organization, and style.\n",
      "8 \t 8. Study the areas you are weak in. Take more time studying the concepts that you are having trouble with. For example, if you are having difficulty correctly answering the questions about sentence structure in the ACT, use your practice book to study lessons on sentence structure. Consider getting help from someone who is strong in the area you are struggling in, like a teacher or a friend.\n",
      "9 \t 9. Stay focused on your outline. The stress that comes from studying for competitive tests can be overwhelming at times because of the amount that you have to study. Make sure to combat that stress by concentrating on studying one lesson at a time. Remind yourself that you have to go through this test prep one step at a time, and don’t let yourself worry about mastering the whole test in a short period of time.\n",
      "10 \t * Do not try to learn everything at once, cramming will not help you deeply understand the content you are learning.\n",
      "11 \t 10. Remove distractions while you study. One way to make the practice of studying more manageable is if you set up a routine of removing all distractions from your study space. Looking at your phone or computer will break your focus and ability to study well. Make sure that you put all of your electronics away and that you are working in a space that will help you focus. For example, there should be no televisions or distractions in the background.\n",
      "\n",
      "\n",
      "Filename:  Prepare_for_Competitive_Exams.txt\n",
      "Revision_Length:  1\n",
      "PPDB_Matches:  [[['tests', 'NNS'], ['test', 'NN']]]\n",
      "Relations:  {'tests#test1': 'Equivalence'}\n",
      "Differences: [[['tests', 'NNS'], ['test', 'NN']]]\n",
      "---TARGET INFO---\n",
      "[['Every', 'DT'], ['couple', 'NN'], ['of', 'IN'], ['weeks', 'NNS'], [',', ','], ['or', 'CC'], ['as', 'RB'], ['often', 'RB'], ['as', 'IN'], ['recommended', 'VBN'], [',', ','], ['take', 'VB'], ['a', 'DT'], ['practice', 'NN'], ['test', 'NN'], [',', ','], ['and', 'CC'], ['then', 'RB'], ['go', 'VB'], ['back', 'RB'], ['through', 'IN'], ['and', 'CC'], ['look', 'VB'], ['at', 'IN'], ['the', 'DT'], ['questions', 'NNS'], ['you', 'PRP'], ['missed', 'VBD'], ['.', '.']]\n",
      "---------------------\n",
      "1 \t * Start with the most important material and work toward the less important material to make sure the important content gets covered before the test.\n",
      "2 \t 5. Use a calendar app like Google Calendar to make a schedule. You can sign up for a Gmail account if you do not have one and want the app. Go to your Calendar app located in the apps directory in the upper right corner of your Gmail account. Go to \"Create\" and schedule an \"Event\" to put the study schedule on your Calendar app. Check and update your calendar regularly to remind yourself of your study schedule.\n",
      "3 \t * Google Calendar has an email reminders option that you can use to remind yourself of your schedule.\n",
      "4 \t * Revise your schedule as needed. If something comes up and you are unable to study, look at your calendar and revise the study plan. Make room in your schedule to study at another time so that you can cover the material and keep on pace in your studies.\n",
      "5 \t 6. Clear your plate of obligations. In order to gear up for taking a competitive test, you should carve out room in your schedule for you to study regularly. Explain to your friends and family that you will be concentrating on preparing for a test. Take whatever steps you need to give yourself the time and space you need to focus regularly on studying.\n",
      "6 \t 7. Keep track of your progress by taking practice tests. Every couple of weeks, or as often as recommended, take a practice test, and then go back through and look at the questions you missed. If your answer sheet tells you what kind of question it was, take note. If not, do your best to determine what kind of problems you are missing, and look for patterns in the mistakes you are making so that you know what to focus on in your studying.\n",
      "7 \t * When testing, don’t consider each question unique. There are different types of questions that recur in tests. For example, on the English portion of the ACT, test questions come from these categories: grammar & usage, punctuation, sentence structure, strategy, organization, and style.\n",
      "8 \t 8. Study the areas you are weak in. Take more time studying the concepts that you are having trouble with. For example, if you are having difficulty correctly answering the questions about sentence structure in the ACT, use your practice book to study lessons on sentence structure. Consider getting help from someone who is strong in the area you are struggling in, like a teacher or a friend.\n",
      "9 \t 9. Stay focused on your outline. The stress that comes from studying for competitive tests can be overwhelming at times because of the amount that you have to study. Make sure to combat that stress by concentrating on studying one lesson at a time. Remind yourself that you have to go through this test prep one step at a time, and don’t let yourself worry about mastering the whole test in a short period of time.\n",
      "10 \t * Do not try to learn everything at once, cramming will not help you deeply understand the content you are learning.\n",
      "11 \t 10. Remove distractions while you study. One way to make the practice of studying more manageable is if you set up a routine of removing all distractions from your study space. Looking at your phone or computer will break your focus and ability to study well. Make sure that you put all of your electronics away and that you are working in a space that will help you focus. For example, there should be no televisions or distractions in the background.\n"
     ]
    }
   ],
   "source": [
    "do_analysis(random_set[5])\n",
    "print('\\n')\n",
    "do_analysis(random_set[5], False)"
   ]
  },
  {
   "cell_type": "code",
   "execution_count": 31,
   "metadata": {},
   "outputs": [
    {
     "name": "stdout",
     "output_type": "stream",
     "text": [
      "Filename:  Get_More_Money_and_LP_on_the_Sims_Freeplay.txt\n",
      "Revision_Length:  1\n",
      "PPDB_Matches:  [[['object', 'NN'], ['objects', 'NNS']]]\n",
      "Relations:  {'object#objects1': 'Equivalence'}\n",
      "Differences: [[['object', 'NN'], ['objects', 'NNS']]]\n",
      "---SOURCE INFO---\n",
      "[['You', 'PRP'], ['can', 'MD'], ['use', 'VB'], ['them', 'PRP'], ['to', 'TO'], ['get', 'VB'], ['more', 'JJR'], ['object', 'NN'], ['without', 'IN'], ['spending', 'VBG'], ['a', 'DT'], ['Simoleon', 'NNP'], ['or', 'CC'], ['Lifestly', 'RB'], ['Point', 'NNP'], ['.', '.']]\n",
      "---------------------\n",
      "1 \t 4. Make some goods, and then sell them. Buy a stove, and sell some baked goodies. Start off by baking cookies or pancakes and when you've made your baking skill really high, you can bake chocolate cake! Also, try planting bell pepper seeds as bell pepper seeds are free and it only takes 30 seconds for them to grow and be ready to sell! After they are ready you can sell them for a few simoleons. It takes a lot of time and patience to earn a lot of money this way, but it can still be worth it and it also earns you lifestyle points.\n",
      "2 \t 5. Use the first character's dog to dig up money and Lifestyle Points. After the dog digs up Lifestyle Points, praise him so he knows that he will get praised if he digs up Lifestyle Points. If he knows that you will praise him for digging up Lifestyle Points, he will dig up even more Lifestyle Points!\n",
      "3 \t 6. Go to work. When your Sims go to work, they earn money, which they keep.\n",
      "4 \t 7. Do things that take a lot of time to complete. This will earn you a lot of experience points—which helps you level up—which gives you more land value—which earns you money—which earns you Lifestyle Points.\n",
      "5 \t 8. Grow vegetables, when they are completed and grown you will gain more money depending on which ones you grow.\n",
      "6 \t 9. Visit Party Boat. If you have Facebook account and friends who play the game, you can go to Party Boat to collect gifts such as Lifestyle Points and Simoleons. New gifts usually arrive in 24 hours. When you connect to Facebook, you also get Neighbours (NBR). The more friends on Facebook play the game, the more Neighbours you'll have. You can use them to get more object without spending a Simoleon or Lifestly Point.\n",
      "7 \t ### Method Two: Cheats\n",
      "8 \t 1. Note: EA sometimes shuts down cheats in new versions, but they're always worth a try!\n",
      "9 \t 2. Free Simoleons! Try this one to slip yourself some simoleons.\n",
      "10 \t * Send all your sims go to your main house (it doesn't have to have them all in one house, but it's a lot easier to collect the money and xp)\n",
      "11 \t * Make all sims plant beans, bake, or anything that gets you points.\n",
      "\n",
      "\n",
      "Filename:  Get_More_Money_and_LP_on_the_Sims_Freeplay.txt\n",
      "Revision_Length:  1\n",
      "PPDB_Matches:  [[['object', 'NN'], ['objects', 'NNS']]]\n",
      "Relations:  {'object#objects1': 'Equivalence'}\n",
      "Differences: [[['object', 'NN'], ['objects', 'NNS']]]\n",
      "---TARGET INFO---\n",
      "[['You', 'PRP'], ['can', 'MD'], ['use', 'VB'], ['them', 'PRP'], ['to', 'TO'], ['get', 'VB'], ['more', 'JJR'], ['objects', 'NNS'], ['without', 'IN'], ['spending', 'VBG'], ['a', 'DT'], ['Simoleon', 'NNP'], ['or', 'CC'], ['Lifestlye', 'NNP'], ['Point', 'NNP'], ['.', '.']]\n",
      "---------------------\n",
      "1 \t 4. Make some goods, and then sell them. Buy a stove, and sell some baked goodies. Start off by baking cookies or pancakes and when you've made your baking skill really high, you can bake chocolate cake! Also, try planting bell pepper seeds as bell pepper seeds are free and it only takes 30 seconds for them to grow and be ready to sell! After they are ready you can sell them for a few simoleons. It takes a lot of time and patience to earn a lot of money this way, but it can still be worth it and it also earns you lifestyle points.\n",
      "2 \t 5. Use the first character's dog to dig up money and Lifestyle Points. After the dog digs up Lifestyle Points, praise him so he knows that he will get praised if he digs up Lifestyle Points. If he knows that you will praise him for digging up Lifestyle Points, he will dig up even more Lifestyle Points!\n",
      "3 \t 6. Go to work. When your Sims go to work, they earn money, which they keep.\n",
      "4 \t 7. Do things that take a lot of time to complete. This will earn you a lot of experience points—which helps you level up—which gives you more land value—which earns you money—which earns you Lifestyle Points.\n",
      "5 \t 8. Grow vegetables, when they are completed and grown you will gain more money depending on which ones you grow.\n",
      "6 \t 9. Visit Party Boat. If you have Facebook account and friends who play the game, you can go to Party Boat to collect gifts such as Lifestyle Points and Simoleons. New gifts usually arrive in 24 hours. When you connect to Facebook, you also get Neighbours (NBR). The more friends on Facebook play the game, the more Neighbours you'll have. You can use them to get more objects without spending a Simoleon or Lifestlye Point.\n",
      "7 \t ### Method Two: Cheats\n",
      "8 \t 1. Note: EA sometimes shuts down cheats in new versions, but they're always worth a try!\n",
      "9 \t 2. Free Simoleons! Try this one to slip yourself some simoleons.\n",
      "10 \t * Send all your sims go to your main house (it doesn't have to have them all in one house, but it's a lot easier to collect the money and xp)\n",
      "11 \t * Make all sims plant beans, bake, or anything that gets you points.\n"
     ]
    }
   ],
   "source": [
    "do_analysis(random_set[6])\n",
    "print('\\n')\n",
    "do_analysis(random_set[6], False)"
   ]
  },
  {
   "cell_type": "code",
   "execution_count": 32,
   "metadata": {},
   "outputs": [
    {
     "name": "stdout",
     "output_type": "stream",
     "text": [
      "Filename:  Endure_an_MRI_Scan.txt\n",
      "Revision_Length:  1\n",
      "PPDB_Matches:  [[['needs', 'NNS'], ['need', 'NN']]]\n",
      "Relations:  {'needs#need1': 'OtherRelated'}\n",
      "Differences: [[['needs', 'NNS'], ['need', 'NN']]]\n",
      "---SOURCE INFO---\n",
      "[['Adults', 'NNS'], ['between', 'IN'], ['the', 'DT'], ['ages', 'NNS'], ['of', 'IN'], ['26', 'CD'], ['and', 'CC'], ['64', 'CD'], ['needs', 'NNS'], ['seven', 'CD'], ['to', 'TO'], ['nine', 'CD'], ['hours', 'NNS'], ['of', 'IN'], ['sleep', 'NN'], ['a', 'DT'], ['night', 'NN'], ['to', 'TO'], ['ensure', 'VB'], ['proper', 'JJ'], ['mental', 'NN'], ['and', 'CC'], ['physical', 'JJ'], ['health', 'NN'], ['.', '.']]\n",
      "---------------------\n",
      "1 \t 6. Go to your “happy place.” Think of a location that you find particularly peaceful and relaxing. Visualize yourself in that space, emphasizing its details in your mind. This practice will help you mentally distance yourself from the MRI procedure and its accompanying anxiety.\n",
      "2 \t 7. Cover your eyes. Ask for a wet washcloth or a cool mask to set over your eyes before you begin. The coolness is soothing and helps put you in a state of relaxation. It also prevents you from seeing their surroundings, which may trigger their claustrophobia.\n",
      "3 \t 8. Follow your normal daily routine. It is important to maintain as many of your daily habits as possible the day of your procedure. This will help limit your anxiety going into your MRI scan.\n",
      "4 \t * Eat your normal foods. Unless your physician tells you otherwise, you can eat normally the day of your scan. However, keep in mind that you cannot move during the scan so be sure to avoid foods that might cause gastronomic discomfort.\n",
      "5 \t * Drink plenty of water. However, remember that you cannot take bathroom breaks during the scan and some procedures take as long as 90 minutes, so be sure to go to the bathroom before getting into the machine.\n",
      "6 \t 9. Get enough sleep. Being tired amplifies anxious feelings so it is important to get a good night’s rest before your MRI scan. Adults between the ages of 26 and 64 needs seven to nine hours of sleep a night to ensure proper mental and physical health.\n",
      "7 \t * Talk to your physician about taking a sleep aid the night before your procedure to ensure you are well rested. However, keep in mind that many sleep aids may make you groggy and might not be compatible with other medications. Always talk with your doctor before taking new medications.\n",
      "8 \t ### Getting Extra Help\n",
      "9 \t 1. Bring a friend or family member for support. They will help soothe you during the procedure by maintaining physical contact (holding your hand or touching foot). Be sure to bring someone does not have a medical condition (pregnancy or metal implants in their body such as a pacemaker or aneurysm clip) that would prevent them from being in the imaging room. If friends or family members are unavailable, the hospital or imaging facility may supply a staff member to stay in the scan room with you.\n",
      "10 \t * Communicate with the your friend/family member and the support staff during the procedure. This will help you feel more at ease and distract you during the procedure.\n",
      "11 \t 2. Take a sedative. With your health provider, discuss the possibility of taking a mild sedative before the procedure. Patients often find these types of medications relaxing and helpful in limiting anxiety.\n",
      "\n",
      "\n",
      "Filename:  Endure_an_MRI_Scan.txt\n",
      "Revision_Length:  1\n",
      "PPDB_Matches:  [[['needs', 'NNS'], ['need', 'NN']]]\n",
      "Relations:  {'needs#need1': 'OtherRelated'}\n",
      "Differences: [[['needs', 'NNS'], ['need', 'NN']]]\n",
      "---TARGET INFO---\n",
      "[['Adults', 'NNS'], ['between', 'IN'], ['the', 'DT'], ['ages', 'NNS'], ['of', 'IN'], ['26', 'CD'], ['and', 'CC'], ['64', 'CD'], ['need', 'NN'], ['seven', 'CD'], ['to', 'TO'], ['nine', 'CD'], ['hours', 'NNS'], ['of', 'IN'], ['sleep', 'NN'], ['a', 'DT'], ['night', 'NN'], ['to', 'TO'], ['ensure', 'VB'], ['proper', 'JJ'], ['mental', 'NN'], ['and', 'CC'], ['physical', 'JJ'], ['health', 'NN'], ['.', '.']]\n",
      "---------------------\n",
      "1 \t 6. Go to your “happy place.” Think of a location that you find particularly peaceful and relaxing. Visualize yourself in that space, emphasizing its details in your mind. This practice will help you mentally distance yourself from the MRI procedure and its accompanying anxiety.\n",
      "2 \t 7. Cover your eyes. Ask for a wet washcloth or an eye mask to set over your eyes before you begin. This prevents you from seeing your surroundings, which may trigger your claustrophobia or anxiety.\n",
      "3 \t 8. Follow your normal daily routine. It is important to maintain as many of your daily habits as possible the day of your procedure. This will help limit your anxiety going into your MRI scan.\n",
      "4 \t * Eat your normal foods. Unless your physician tells you otherwise, you can eat normally the day of your scan. However, keep in mind that you cannot move during the scan so be sure to avoid foods that might cause gastronomic discomfort.\n",
      "5 \t * Drink plenty of water; however, remember that you cannot take bathroom breaks during the scan and some procedures take as long as 90 minutes, so be sure to go to the bathroom before getting into the machine.\n",
      "6 \t 9. Get enough sleep. Being tired amplifies anxious feelings so it is important to get a good night’s rest before your MRI scan. Adults between the ages of 26 and 64 need seven to nine hours of sleep a night to ensure proper mental and physical health.\n",
      "7 \t * Talk to your physician about taking a sleep aid the night before your procedure to ensure you are well-rested. However, keep in mind that many sleep aids may make you groggy and might not be compatible with other medications. Always talk with your doctor before taking new medications.\n",
      "8 \t ### Getting Extra Help\n",
      "9 \t 1. Bring a friend or family member for support. They will help soothe you during the procedure by maintaining physical contact (holding your hand or touching foot). Be sure to bring someone who does not have a medical condition (pregnancy or metal implants in their body such as a pacemaker or aneurysm clip) that would prevent them from being in the imaging room. If friends or family members are unavailable, the hospital or imaging facility may supply a staff member to stay in the scan room with you.\n",
      "10 \t * Communicate with the your friend/family member and the support staff during the procedure. This will help you feel more at ease and distract you during the procedure. There are speakers in the machine, as well as a call button or squeeze ball you can press or squeeze to communicate with the staff.\n",
      "11 \t 2. Take a sedative. With your health provider, discuss the possibility of taking a mild sedative before the procedure. Patients often find these types of medications relaxing and helpful in limiting anxiety.\n"
     ]
    }
   ],
   "source": [
    "do_analysis(random_set[7])\n",
    "print('\\n')\n",
    "do_analysis(random_set[7], False)"
   ]
  },
  {
   "cell_type": "code",
   "execution_count": 33,
   "metadata": {},
   "outputs": [
    {
     "name": "stdout",
     "output_type": "stream",
     "text": [
      "Filename:  Create_an_Efficient_Kindergarten_Classroom_Clean_Up.txt\n",
      "Revision_Length:  1\n",
      "PPDB_Matches:  [[['students', 'NNS'], ['student', 'NN']]]\n",
      "Relations:  {'students#student1': 'OtherRelated'}\n",
      "Differences: [[['students', 'NNS'], ['student', 'NN']]]\n",
      "---SOURCE INFO---\n",
      "[['A', 'DT'], ['students', 'NNS'], ['may', 'MD'], ['resist', 'VB'], ['cleaning-up', 'NN'], [',', ','], ['but', 'CC'], ['not', 'RB'], ['always', 'RB'], ['because', 'IN'], ['he', 'PRP'], ['or', 'CC'], ['she', 'PRP'], ['is', 'VBZ'], ['being', 'VBG'], ['oppositional', 'JJ'], ['.', '.']]\n",
      "---------------------\n",
      "1 \t ## Tips\n",
      "2 \t * As they clean up, call out thanks to specific students, for positive behavior: \"Nice job putting away the animals, Pedro!\" Students will realize you are paying attention to them, and react.\n",
      "3 \t * A plastic wading pool can be used to contain Legos or other building blocks without the constant need for pick-up.\n",
      "4 \t * If the day will be difficult for some reason, keep clean-up simple by avoiding the most messy and hard-to-clean-up activities.\n",
      "5 \t * Sometimes a mess will occur that's just so overwhelming, it may be better to do something else first, then come back to the mess.\n",
      "6 \t * A students may resist cleaning-up, but not always because he or she is being oppositional. Maybe he or she simply does not know what to do next. Try to re-direct (\"Tian, you look like you're not sure what to do next. Can you help Tonya put the markers away?\") or ask if he or she needs help. Also, often a kindergartener will tend to do only his or her own clean-up, and be oblivious to the needs of the classroom. So be aware that students will often need guidance, often every day.\n",
      "7 \t * Establish what the consequence will be for not helping, and make it pertinent to the task at hand...for instance, refusing to help clean at clean-up time may mean having to clean up while everyone else goes out to recess.\n",
      "8 \t ## Warnings\n",
      "9 \t * Never make clean-up chores punishments. It can, however, be a consequence of an action (such as a child getting too wild at the water table) , or a reward.\n",
      "10 \t * Be careful in letting children use harsh chemical cleaners. There are usually non-toxic alternatives, and even cleaners they can make themselves.\n",
      "11 \t ## Related wikiHows\n",
      "\n",
      "\n",
      "Filename:  Create_an_Efficient_Kindergarten_Classroom_Clean_Up.txt\n",
      "Revision_Length:  1\n",
      "PPDB_Matches:  [[['students', 'NNS'], ['student', 'NN']]]\n",
      "Relations:  {'students#student1': 'OtherRelated'}\n",
      "Differences: [[['students', 'NNS'], ['student', 'NN']]]\n",
      "---TARGET INFO---\n",
      "[['A', 'DT'], ['student', 'NN'], ['may', 'MD'], ['resist', 'VB'], ['cleaning-up', 'NN'], [',', ','], ['but', 'CC'], ['not', 'RB'], ['always', 'RB'], ['because', 'IN'], ['he', 'PRP'], ['or', 'CC'], ['she', 'PRP'], ['is', 'VBZ'], ['being', 'VBG'], ['oppositional', 'JJ'], ['.', '.']]\n",
      "---------------------\n",
      "1 \t ## Tips\n",
      "2 \t * As they clean up, call out thanks to specific students, for positive behavior: \"Nice job putting away the animals, Pedro!\" Students will realize you are paying attention to them, and react.\n",
      "3 \t * A plastic wading pool can be used to contain Legos or other building blocks without the constant need for pick-up.\n",
      "4 \t * If the day will be difficult for some reason, keep clean-up simple by avoiding the most messy and hard-to-clean-up activities.\n",
      "5 \t * Sometimes a mess will occur that's just so overwhelming, it may be better to do something else first, then come back to the mess.\n",
      "6 \t * A student may resist cleaning-up, but not always because he or she is being oppositional. Maybe he or she simply does not know what to do next. Try to re-direct (\"Tian, you look like you're not sure what to do next. Can you help Tonya put the markers away?\") or ask if he or she needs help. Also, often a kindergartener will tend to do only his or her own clean-up, and be oblivious to the needs of the classroom. So be aware that students will often need guidance, often every day.\n",
      "7 \t * Establish what the consequence will be for not helping, and make it pertinent to the task at hand...for instance, refusing to help clean at clean-up time may mean having to clean up while everyone else goes out to recess.\n",
      "8 \t * Motivation is extremely important. A good way of motivating children is to give them all jobs, like a 'chair monitor' who tucks in the chairs or a 'pencil monitor' who sorts out the pencils. Let the children chose their job and they will feel special and important.\n",
      "9 \t ## Warnings\n",
      "10 \t * Never make clean-up chores punishments. It can, however, be a consequence of an action (such as a child getting too wild at the water table) , or a reward.\n",
      "11 \t * Be careful in letting children use harsh chemical cleaners. There are usually non-toxic alternatives, and even cleaners they can make themselves.\n"
     ]
    }
   ],
   "source": [
    "do_analysis(random_set[8])\n",
    "print('\\n')\n",
    "do_analysis(random_set[8], False)"
   ]
  },
  {
   "cell_type": "code",
   "execution_count": 34,
   "metadata": {},
   "outputs": [
    {
     "name": "stdout",
     "output_type": "stream",
     "text": [
      "Filename:  Get_a_Child_to_Stop_Sucking_Fingers.txt\n",
      "Revision_Length:  2\n",
      "PPDB_Matches:  [[['hand', 'NN'], ['hands', 'NNS']]]\n",
      "Relations:  {'hand#hands2': 'OtherRelated'}\n",
      "Differences: [[['thumb', 'NN'], ['fingers', 'NNS']], [['hand', 'NN'], ['hands', 'NNS']]]\n",
      "---SOURCE INFO---\n",
      "[['If', 'IN'], ['you', 'PRP'], [\"'ve\", 'VBP'], ['controlled', 'VBN'], ['your', 'PRP$'], ['thumb-sucking', 'NN'], ['while', 'IN'], ['you', 'PRP'], [\"'re\", 'VBP'], ['awake', 'JJ'], [',', ','], ['but', 'CC'], ['you', 'PRP'], ['still', 'RB'], ['suck', 'VB'], ['your', 'PRP$'], ['thumb', 'NN'], ['when', 'WRB'], ['you', 'PRP'], [\"'re\", 'VBP'], ['asleep', 'JJ'], [',', ','], ['try', 'VB'], ['putting', 'VBG'], ['a', 'DT'], ['glove', 'NN'], ['or', 'CC'], ['mittain', 'VB'], ['on', 'IN'], ['your', 'PRP$'], ['hand', 'NN'], ['before', 'IN'], ['bed', 'NN'], ['.', '.']]\n",
      "---------------------\n",
      "1 \t ## Timestamp::::2009-06-14T17:10:29Z\n",
      "2 \t ## Section::::Tips.\n",
      "3 \t Do you or your child still suck your thumb? Tips on how to stop this addicting habit!\n",
      "4 \t ## Steps\n",
      "5 \t 1. Start small. If you're in public and you feel the urge to suck on your thumb or fingers, remind yourself how embarrassing it will be if somebody sees you\n",
      "6 \t 2. If you've controlled your thumb-sucking while you're awake, but you still suck your thumb when you're asleep, try putting a glove or mittain on your hand before bed. It helps if it's scratchy wool, because then when you go to suck your thumb in the night, the glove protects it and the scratchyness will tell you not to suck on it anymore.\n",
      "7 \t 3. If you can't control your thumb-sucking whatsoever, you can buy a type of drug you can almost paint your nails with. It goes on clear, maybe a bit tinted, but mostly nobody can tell it's on. It has a HORRIBLE flavor, so usually if you suck on it, you pull away immediately because of the taste! It's called Mavala STOP. It's amazing! It's availiable at most drugstores like London Drugs. If you can't find it, ask if they have it.\n",
      "8 \t ## Tips\n",
      "9 \t * If you don't stop your habit at first, don't give up! Try again until it works!\n",
      "10 \t * Oh, and by the way, Mavala doesn't hurt you!\n",
      "11 \t * Habits are hard to break, but when you do break your habit, treat yourself to a day at the spa or give your child a new toy to say \"Congratulations!\"\n",
      "\n",
      "\n",
      "Filename:  Get_a_Child_to_Stop_Sucking_Fingers.txt\n",
      "Revision_Length:  2\n",
      "PPDB_Matches:  [[['hand', 'NN'], ['hands', 'NNS']]]\n",
      "Relations:  {'hand#hands2': 'OtherRelated'}\n",
      "Differences: [[['thumb', 'NN'], ['fingers', 'NNS']], [['hand', 'NN'], ['hands', 'NNS']]]\n",
      "---TARGET INFO---\n",
      "[['If', 'IN'], ['your', 'PRP$'], ['child', 'NN'], ['has', 'VBZ'], ['controlled', 'VBN'], ['their', 'PRP$'], ['finger-sucking', 'NN'], ['while', 'IN'], ['they', 'PRP'], [\"'re\", 'VBP'], ['awake', 'JJ'], [',', ','], ['but', 'CC'], ['still', 'RB'], ['suck', 'VB'], ['their', 'PRP$'], ['fingers', 'NNS'], ['when', 'WRB'], ['they', 'PRP'], [\"'re\", 'VBP'], ['asleep', 'JJ'], [',', ','], ['try', 'VB'], ['putting', 'VBG'], ['a', 'DT'], ['glove', 'NN'], ['or', 'CC'], ['mitten', 'VB'], ['on', 'IN'], ['their', 'PRP$'], ['hands', 'NNS'], ['before', 'IN'], ['bed', 'NN'], ['.', '.']]\n",
      "---------------------\n",
      "1 \t ## Timestamp::::2011-03-16T02:59:18Z\n",
      "2 \t ## Section::::Related wikiHows.\n",
      "3 \t Does your child suck on their fingers? Although most people suck their thumbs, children also develop the habit of sucking their fingers. It's a bad habit and it needs to be broken as soon as possible - here's how to do it!\n",
      "4 \t ## Steps\n",
      "5 \t 1. Start small. If you're in public and your child starts sucking their fingers, tell him/her that big girls and boys don't suck their fingers. This alone can motivate children to stop sucking their fingers in order to be a \"big boy\" or a \"big girl\". If your child is a bit older, remind him/her how embarrassing it will be if somebody sees them sucking their fingers.\n",
      "6 \t 2. Control it even when it seems that you can't. If your child has controlled their finger-sucking while they're awake, but still suck their fingers when they're asleep, try putting a glove or mitten on their hands before bed. It helps if it's scratchy wool, because then, when they go to suck their fingers in the night, the glove protects it and the scratchiness will tell them not to suck on it anymore.\n",
      "7 \t 3. Don't make it easy for them! The disadvantage to wearing the glove to bed is that children can take it off easily and continue sucking on their fingers. If you can't control their finger-sucking whatsoever, you can buy a type of drug you can almost paint your nails with. It goes on clear, maybe a bit tinted, but mostly nobody can tell it's on. It has a HORRIBLE flavor, so usually if you suck on it, you pull away immediately because of the taste! It's called Mavala STOP. It's available at most drugstores like London Drugs. If you can't find it, ask if they have it.\n",
      "8 \t 4. Encourage them. Breaking a habit is a hard thing for a child to do, so make sure to encourage them every step of the way. Never give up on them! If you give up on them, they're likely to give up on themselves, and the habit will never be broken. Make sure that they don't give up and that they perservere until the habit is broken! Remind them how good it will feel to be a \"big girl/boy\" or to never be embarrassed by their finger-sucking again.\n",
      "9 \t 5. Reward them. Once their finger-sucking habit is broken, reward your child! You can buy them a toy that they've always wanted, take them to the zoo or the park, or take them out for ice cream to celebrate. A reward will tell your child that their efforts are appreciated and that breaking their habit was a good thing.\n",
      "10 \t ## Tips\n",
      "11 \t * If they don't stop their habit at first, don't give up! Try again until it works!\n"
     ]
    }
   ],
   "source": [
    "do_analysis(random_set[9])\n",
    "print('\\n')\n",
    "do_analysis(random_set[9], False)"
   ]
  },
  {
   "cell_type": "code",
   "execution_count": 42,
   "metadata": {},
   "outputs": [
    {
     "name": "stdout",
     "output_type": "stream",
     "text": [
      "1 \t 1\n",
      "2 \t 1\n",
      "3 \t 1\n",
      "4 \t 1\n",
      "5 \t 1\n",
      "6 \t 1\n",
      "7 \t 1\n",
      "8 \t 1\n",
      "9 \t 1\n",
      "10 \t 2\n"
     ]
    }
   ],
   "source": [
    "for c, elem in enumerate(random_set,1): \n",
    "    print(c, '\\t', elem['Revision_Length'])"
   ]
  },
  {
   "cell_type": "code",
   "execution_count": null,
   "metadata": {},
   "outputs": [],
   "source": []
  }
 ],
 "metadata": {
  "kernelspec": {
   "display_name": "Python 3",
   "language": "python",
   "name": "python3"
  },
  "language_info": {
   "codemirror_mode": {
    "name": "ipython",
    "version": 3
   },
   "file_extension": ".py",
   "mimetype": "text/x-python",
   "name": "python",
   "nbconvert_exporter": "python",
   "pygments_lexer": "ipython3",
   "version": "3.7.4"
  }
 },
 "nbformat": 4,
 "nbformat_minor": 2
}
