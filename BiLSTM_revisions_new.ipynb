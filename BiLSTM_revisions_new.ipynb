{
  "nbformat": 4,
  "nbformat_minor": 0,
  "metadata": {
    "colab": {
      "name": "BiLSTM-revisions_new.ipynb",
      "provenance": [],
      "collapsed_sections": [],
      "authorship_tag": "ABX9TyPQOKUFb+RNtYmsfmEMYFCz",
      "include_colab_link": true
    },
    "kernelspec": {
      "name": "python3",
      "display_name": "Python 3"
    },
    "accelerator": "GPU"
  },
  "cells": [
    {
      "cell_type": "markdown",
      "metadata": {
        "id": "view-in-github",
        "colab_type": "text"
      },
      "source": [
        "<a href=\"https://colab.research.google.com/github/TalitaAnthonio/COLING/blob/master/BiLSTM_revisions_new.ipynb\" target=\"_parent\"><img src=\"https://colab.research.google.com/assets/colab-badge.svg\" alt=\"Open In Colab\"/></a>"
      ]
    },
    {
      "cell_type": "markdown",
      "metadata": {
        "id": "pptvd-7dAm2H",
        "colab_type": "text"
      },
      "source": [
        "# BiLSTM with Wikihow \n",
        "\n",
        "*This notebook is used to run the examples with wikihow. \n",
        "\n",
        "### Read data"
      ]
    },
    {
      "cell_type": "code",
      "metadata": {
        "id": "IyHZoAG80_T4",
        "colab_type": "code",
        "outputId": "e45bb9db-ee6b-4610-f939-951ad2f429f2",
        "colab": {
          "base_uri": "https://localhost:8080/",
          "height": 215
        }
      },
      "source": [
        "!pip install torchtext==0.4.0"
      ],
      "execution_count": 1,
      "outputs": [
        {
          "output_type": "stream",
          "text": [
            "Requirement already satisfied: torchtext==0.4.0 in /usr/local/lib/python3.6/dist-packages (0.4.0)\n",
            "Requirement already satisfied: tqdm in /usr/local/lib/python3.6/dist-packages (from torchtext==0.4.0) (4.38.0)\n",
            "Requirement already satisfied: torch in /usr/local/lib/python3.6/dist-packages (from torchtext==0.4.0) (1.5.0+cu101)\n",
            "Requirement already satisfied: numpy in /usr/local/lib/python3.6/dist-packages (from torchtext==0.4.0) (1.18.3)\n",
            "Requirement already satisfied: requests in /usr/local/lib/python3.6/dist-packages (from torchtext==0.4.0) (2.23.0)\n",
            "Requirement already satisfied: six in /usr/local/lib/python3.6/dist-packages (from torchtext==0.4.0) (1.12.0)\n",
            "Requirement already satisfied: future in /usr/local/lib/python3.6/dist-packages (from torch->torchtext==0.4.0) (0.16.0)\n",
            "Requirement already satisfied: certifi>=2017.4.17 in /usr/local/lib/python3.6/dist-packages (from requests->torchtext==0.4.0) (2020.4.5.1)\n",
            "Requirement already satisfied: idna<3,>=2.5 in /usr/local/lib/python3.6/dist-packages (from requests->torchtext==0.4.0) (2.9)\n",
            "Requirement already satisfied: urllib3!=1.25.0,!=1.25.1,<1.26,>=1.21.1 in /usr/local/lib/python3.6/dist-packages (from requests->torchtext==0.4.0) (1.24.3)\n",
            "Requirement already satisfied: chardet<4,>=3.0.2 in /usr/local/lib/python3.6/dist-packages (from requests->torchtext==0.4.0) (3.0.4)\n"
          ],
          "name": "stdout"
        }
      ]
    },
    {
      "cell_type": "code",
      "metadata": {
        "id": "bPVqCqA_AG0B",
        "colab_type": "code",
        "colab": {}
      },
      "source": [
        "from torchtext import data \n",
        "from torchtext import datasets\n",
        "import torch\n",
        "\n",
        "SEED = 1234\n",
        "\n",
        "torch.manual_seed(SEED)\n",
        "torch.backends.cudnn.deterministic = True"
      ],
      "execution_count": 0,
      "outputs": []
    },
    {
      "cell_type": "code",
      "metadata": {
        "id": "P78Gwd3RATgo",
        "colab_type": "code",
        "outputId": "358b8713-9c7f-4767-82d6-58d089023c6f",
        "colab": {
          "base_uri": "https://localhost:8080/",
          "height": 35
        }
      },
      "source": [
        "from google.colab import drive \n",
        "\n",
        "\n",
        "drive.mount('/content/drive')\n",
        "path_to_dev = \"/content/drive/My Drive/data/wikihow/dev_set_pytorch.json\"\n",
        "path_to_test = \"/content/drive/My Drive/data/wikihow/test_set_pytorch.json\"\n",
        "path_to_train = \"/content/drive/My Drive/data/wikihow/train_set_pytorch.json\""
      ],
      "execution_count": 2,
      "outputs": [
        {
          "output_type": "stream",
          "text": [
            "Drive already mounted at /content/drive; to attempt to forcibly remount, call drive.mount(\"/content/drive\", force_remount=True).\n"
          ],
          "name": "stdout"
        }
      ]
    },
    {
      "cell_type": "code",
      "metadata": {
        "id": "_iqDC3d2BPNL",
        "colab_type": "code",
        "colab": {}
      },
      "source": [
        "# define the fields \n",
        "\n",
        "LABEL = data.LabelField(dtype=torch.float)\n",
        "LINE = data.Field(tokenize='spacy', lower=True, include_lengths=True)\n",
        "\n",
        "# put it to false because it shouldnt tokenize the units \n",
        "PAIRID = data.Field(dtype=torch.int, sequential=False, use_vocab=False)\n",
        "#CONTEXT = data.Field()"
      ],
      "execution_count": 0,
      "outputs": []
    },
    {
      "cell_type": "markdown",
      "metadata": {
        "id": "S1KMYHzCBusZ",
        "colab_type": "text"
      },
      "source": [
        "**notes from notebook**\n",
        "\n",
        "\n",
        "Also, if the values of json field are a string then the Fields tokenization is applied (default is to split the string on spaces), however if the values are a list then no tokenization is applied. Usually it is a good idea for the data to already be tokenized into a list, this saves time as you don't have to wait for TorchText to do it."
      ]
    },
    {
      "cell_type": "code",
      "metadata": {
        "id": "5qzkMM9YBvQ9",
        "colab_type": "code",
        "colab": {}
      },
      "source": [
        "fields = {'Label': ('label', LABEL), 'Line': ('line', LINE), 'ID': ('ID', PAIRID)}\n",
        "#fields = {'Label': ('label', LABEL), 'Line': ('line', LINE)}"
      ],
      "execution_count": 0,
      "outputs": []
    },
    {
      "cell_type": "code",
      "metadata": {
        "id": "3rBxlYrlCCIO",
        "colab_type": "code",
        "colab": {}
      },
      "source": [
        "train_data, validation_data, test_data = data.TabularDataset.splits(\n",
        "                            path = 'data',\n",
        "                            train = path_to_train,\n",
        "                            validation = path_to_dev, \n",
        "                            test = path_to_test,\n",
        "                            format = 'json',\n",
        "                            fields = fields\n",
        ")"
      ],
      "execution_count": 0,
      "outputs": []
    },
    {
      "cell_type": "code",
      "metadata": {
        "id": "2kzWqQOtDF5c",
        "colab_type": "code",
        "outputId": "f8c4d97d-ddad-451b-fe68-f80b8a3883e1",
        "colab": {
          "base_uri": "https://localhost:8080/",
          "height": 521
        }
      },
      "source": [
        "vars(train_data[1])"
      ],
      "execution_count": 7,
      "outputs": [
        {
          "output_type": "execute_result",
          "data": {
            "text/plain": [
              "{'ID': 1,\n",
              " 'label': '1',\n",
              " 'line': ['if',\n",
              "  'you',\n",
              "  'do',\n",
              "  \"n't\",\n",
              "  'want',\n",
              "  'your',\n",
              "  'goat',\n",
              "  \"'s\",\n",
              "  'hooves',\n",
              "  'to',\n",
              "  'bend',\n",
              "  ',',\n",
              "  'crack',\n",
              "  ',',\n",
              "  'or',\n",
              "  'get',\n",
              "  'infected',\n",
              "  'make',\n",
              "  'sure',\n",
              "  'you',\n",
              "  'trim',\n",
              "  'them',\n",
              "  'once',\n",
              "  'a',\n",
              "  'month',\n",
              "  '.']}"
            ]
          },
          "metadata": {
            "tags": []
          },
          "execution_count": 7
        }
      ]
    },
    {
      "cell_type": "markdown",
      "metadata": {
        "id": "ixkimMpvGROD",
        "colab_type": "text"
      },
      "source": [
        "## Build Vocabulary"
      ]
    },
    {
      "cell_type": "markdown",
      "metadata": {
        "id": "-CwaFjfVHEb0",
        "colab_type": "text"
      },
      "source": [
        "Build vocabulary for ``LINE`` and ``LABEL``."
      ]
    },
    {
      "cell_type": "code",
      "metadata": {
        "id": "qvHQTmsGGOeq",
        "colab_type": "code",
        "colab": {}
      },
      "source": [
        "MAX_VOCAB_SIZE = 20000\n",
        "\n",
        "# fasttext.en.300d, glove.6B.100d\n",
        "\n",
        "LINE.build_vocab(train_data, \n",
        "                 max_size = MAX_VOCAB_SIZE, \n",
        "                 vectors = \"glove.6B.100d\",\n",
        "                 unk_init = torch.Tensor.normal_)\n",
        "\n",
        "LABEL.build_vocab(train_data)"
      ],
      "execution_count": 0,
      "outputs": []
    },
    {
      "cell_type": "code",
      "metadata": {
        "id": "9cY8Lllw07Ax",
        "colab_type": "code",
        "colab": {}
      },
      "source": [
        ""
      ],
      "execution_count": 0,
      "outputs": []
    },
    {
      "cell_type": "code",
      "metadata": {
        "id": "iCiMlaA4HByL",
        "colab_type": "code",
        "outputId": "8da96791-f41b-4ab3-f1a2-c4a0dc8c7f18",
        "colab": {
          "base_uri": "https://localhost:8080/",
          "height": 53
        }
      },
      "source": [
        "print(\"the vocabulary size is {0}\".format(len(LINE.vocab)))\n",
        "print(\"the number of unique labels is {0}\".format(len(LABEL.vocab)))\n"
      ],
      "execution_count": 9,
      "outputs": [
        {
          "output_type": "stream",
          "text": [
            "the vocabulary size is 20002\n",
            "the number of unique labels is 2\n"
          ],
          "name": "stdout"
        }
      ]
    },
    {
      "cell_type": "code",
      "metadata": {
        "id": "A9unN2MrUfiR",
        "colab_type": "code",
        "colab": {
          "base_uri": "https://localhost:8080/",
          "height": 35
        },
        "outputId": "59c56f34-6cb3-48dd-9051-d23fcf12127c"
      },
      "source": [
        ""
      ],
      "execution_count": 11,
      "outputs": [
        {
          "output_type": "stream",
          "text": [
            "['if', 'you', 'do', \"n't\", 'want', 'your', 'goat', \"'s\", 'hooves', 'to', 'bend', ',', 'crack', ',', 'or', 'get', 'infected', 'make', 'sure', 'you', 'trim', 'them', 'every', 'three', 'months', '.']\n"
          ],
          "name": "stdout"
        }
      ]
    },
    {
      "cell_type": "markdown",
      "metadata": {
        "id": "ztxK_VCQHbRF",
        "colab_type": "text"
      },
      "source": [
        "## Make Batch sizes "
      ]
    },
    {
      "cell_type": "code",
      "metadata": {
        "id": "iWrARyctHY1y",
        "colab_type": "code",
        "colab": {}
      },
      "source": [
        "BATCH_SIZE = 32 # not 64 \n",
        "\n",
        "device = torch.device('cuda' if torch.cuda.is_available() else 'cpu')\n",
        "\n",
        "train_iterator, valid_iterator, test_iterator = data.BucketIterator.splits(\n",
        "    (train_data, validation_data, test_data), \n",
        "    batch_size = BATCH_SIZE, sort_key = lambda x : len(x.line), \n",
        "    sort_within_batch = True,\n",
        "    repeat=False, \n",
        "    device = device)"
      ],
      "execution_count": 0,
      "outputs": []
    },
    {
      "cell_type": "code",
      "metadata": {
        "id": "Rsd4cEbeHmwU",
        "colab_type": "code",
        "outputId": "2d42618a-36aa-4893-9dad-d1b71b40cab8",
        "colab": {
          "base_uri": "https://localhost:8080/",
          "height": 71
        }
      },
      "source": [
        "print(len(train_iterator))\n",
        "print(len(valid_iterator))\n",
        "print(len(test_iterator))"
      ],
      "execution_count": 12,
      "outputs": [
        {
          "output_type": "stream",
          "text": [
            "2760\n",
            "320\n",
            "308\n"
          ],
          "name": "stdout"
        }
      ]
    },
    {
      "cell_type": "code",
      "metadata": {
        "id": "tsTRESE2Hq2M",
        "colab_type": "code",
        "outputId": "8dd764c4-c1a7-4496-e174-bf89299b2d53",
        "colab": {
          "base_uri": "https://localhost:8080/",
          "height": 359
        }
      },
      "source": [
        "vars(PAIRID)"
      ],
      "execution_count": 21,
      "outputs": [
        {
          "output_type": "execute_result",
          "data": {
            "text/plain": [
              "{'batch_first': False,\n",
              " 'dtype': torch.int32,\n",
              " 'eos_token': None,\n",
              " 'fix_length': None,\n",
              " 'include_lengths': False,\n",
              " 'init_token': None,\n",
              " 'is_target': False,\n",
              " 'lower': False,\n",
              " 'pad_first': False,\n",
              " 'pad_token': None,\n",
              " 'postprocessing': None,\n",
              " 'preprocessing': None,\n",
              " 'sequential': False,\n",
              " 'stop_words': None,\n",
              " 'tokenize': <function torchtext.data.utils._split_tokenizer>,\n",
              " 'tokenizer_args': (None, 'en'),\n",
              " 'truncate_first': False,\n",
              " 'unk_token': '<unk>',\n",
              " 'use_vocab': False}"
            ]
          },
          "metadata": {
            "tags": []
          },
          "execution_count": 21
        }
      ]
    },
    {
      "cell_type": "code",
      "metadata": {
        "id": "X6_KaXiBMbs9",
        "colab_type": "code",
        "colab": {
          "base_uri": "https://localhost:8080/",
          "height": 89
        },
        "outputId": "27d47813-167c-4d4e-c90d-5429e6607a25"
      },
      "source": [
        "for batch in train_iterator: \n",
        "    print(batch.ID)\n",
        "    break"
      ],
      "execution_count": 24,
      "outputs": [
        {
          "output_type": "stream",
          "text": [
            "tensor([55488, 11599, 24898,  2649, 86782, 82529, 13370, 65513, 14993, 87831,\n",
            "        69852, 71688, 20503,  1606, 13383, 33103, 69000, 79197, 53177, 47936,\n",
            "        15198, 59084, 36855, 61040, 44112,  3411, 83829, 67843, 77764, 43293,\n",
            "        22784, 27626], device='cuda:0', dtype=torch.int32)\n"
          ],
          "name": "stdout"
        }
      ]
    },
    {
      "cell_type": "markdown",
      "metadata": {
        "id": "vB_kP9KmHsw_",
        "colab_type": "text"
      },
      "source": [
        "## Build the model"
      ]
    },
    {
      "cell_type": "code",
      "metadata": {
        "id": "OPglIy1oHtd7",
        "colab_type": "code",
        "colab": {}
      },
      "source": [
        "import torch.nn as nn\n",
        "\n",
        "class RNN(nn.Module):\n",
        "    def __init__(self, vocab_size, embedding_dim, hidden_dim, output_dim, n_layers, \n",
        "                 bidirectional, dropout, pad_idx):\n",
        "        \n",
        "        super().__init__()\n",
        "        \n",
        "        # Documentation: padding_idx (python:int, optional) – If given, pads the output with the embedding \n",
        "        # vector at padding_idx (initialized to zeros) whenever it encounters the index.\n",
        "        self.embedding = nn.Embedding(vocab_size, embedding_dim, padding_idx = pad_idx)\n",
        "        \n",
        "        self.rnn = nn.LSTM(embedding_dim, \n",
        "                           hidden_dim, \n",
        "                           num_layers=n_layers, \n",
        "                           bidirectional=bidirectional, \n",
        "                           dropout=dropout)\n",
        "        \n",
        "        self.fc = nn.Linear(hidden_dim * 2, output_dim)\n",
        "        \n",
        "        self.dropout = nn.Dropout(dropout)\n",
        "        \n",
        "    def forward(self, text, text_lengths):\n",
        "        \n",
        "        #text = [sent len, batch size]\n",
        "        \n",
        "        embedded = self.dropout(self.embedding(text))\n",
        "        \n",
        "        #embedded = [sent len, batch size, emb dim]\n",
        "        \n",
        "        #pack sequence\n",
        "        packed_embedded = nn.utils.rnn.pack_padded_sequence(embedded, text_lengths)\n",
        "        \n",
        "        packed_output, (hidden, cell) = self.rnn(packed_embedded)\n",
        "        \n",
        "        #unpack sequence\n",
        "        output, output_lengths = nn.utils.rnn.pad_packed_sequence(packed_output)\n",
        "\n",
        "        #output = [sent len, batch size, hid dim * num directions]\n",
        "        #output over padding tokens are zero tensors\n",
        "        \n",
        "        #hidden = [num layers * num directions, batch size, hid dim]\n",
        "        #cell = [num layers * num directions, batch size, hid dim]\n",
        "        \n",
        "        #concat the final forward (hidden[-2,:,:]) and backward (hidden[-1,:,:]) hidden layers\n",
        "        #and apply dropout\n",
        "        \n",
        "        hidden = self.dropout(torch.cat((hidden[-2,:,:], hidden[-1,:,:]), dim = 1))\n",
        "                \n",
        "        #hidden = [batch size, hid dim * num directions]\n",
        "            \n",
        "        return self.fc(hidden)"
      ],
      "execution_count": 0,
      "outputs": []
    },
    {
      "cell_type": "code",
      "metadata": {
        "id": "vguFv6s7Hxdh",
        "colab_type": "code",
        "colab": {}
      },
      "source": [
        "# makes sense because the glove vectors are also 100d \n",
        "INPUT_DIM = len(LINE.vocab)\n",
        "EMBEDDING_DIM = 100\n",
        "HIDDEN_DIM = 256\n",
        "OUTPUT_DIM = 1\n",
        "N_LAYERS = 2\n",
        "BIDIRECTIONAL = True\n",
        "\n",
        "# we use a dropout probability of 1 \n",
        "DROPOUT = 0.5\n",
        "PAD_IDX = LINE.vocab.stoi[LINE.pad_token]\n",
        "\n",
        "model = RNN(INPUT_DIM, \n",
        "            EMBEDDING_DIM, \n",
        "            HIDDEN_DIM, \n",
        "            OUTPUT_DIM, \n",
        "            N_LAYERS, \n",
        "            BIDIRECTIONAL, \n",
        "            DROPOUT, \n",
        "            PAD_IDX)"
      ],
      "execution_count": 0,
      "outputs": []
    },
    {
      "cell_type": "markdown",
      "metadata": {
        "id": "6Za1UkzaH3wz",
        "colab_type": "text"
      },
      "source": [
        "## Use pre-trained embeddings "
      ]
    },
    {
      "cell_type": "code",
      "metadata": {
        "id": "NECN_QLDH0Sl",
        "colab_type": "code",
        "outputId": "870e3ae9-fa9b-4d8b-cf77-7086b5015059",
        "colab": {
          "base_uri": "https://localhost:8080/",
          "height": 35
        }
      },
      "source": [
        "pretrained_embeddings = LINE.vocab.vectors\n",
        "print(pretrained_embeddings.shape)"
      ],
      "execution_count": 27,
      "outputs": [
        {
          "output_type": "stream",
          "text": [
            "torch.Size([20002, 100])\n"
          ],
          "name": "stdout"
        }
      ]
    },
    {
      "cell_type": "code",
      "metadata": {
        "id": "P-Ays5WgH7Rb",
        "colab_type": "code",
        "outputId": "0cacd575-9a58-4b27-a2f5-ade3168a3375",
        "colab": {
          "base_uri": "https://localhost:8080/",
          "height": 143
        }
      },
      "source": [
        "model.embedding.weight.data.copy_(pretrained_embeddings)"
      ],
      "execution_count": 28,
      "outputs": [
        {
          "output_type": "execute_result",
          "data": {
            "text/plain": [
              "tensor([[ 0.2115,  0.7696, -1.0531,  ..., -0.9108, -0.3834, -0.6472],\n",
              "        [ 0.8658, -1.4613,  0.2594,  ...,  2.6229,  1.2800,  0.1922],\n",
              "        [-0.3398,  0.2094,  0.4635,  ..., -0.2339,  0.4730, -0.0288],\n",
              "        ...,\n",
              "        [-0.1353, -0.1401, -0.1164,  ...,  0.3354, -0.2014, -0.5799],\n",
              "        [-0.0764,  0.3016, -0.0953,  ...,  0.1170, -0.6364,  0.6872],\n",
              "        [ 0.1417,  0.2383,  0.5077,  ..., -0.1551, -0.1413, -0.5351]])"
            ]
          },
          "metadata": {
            "tags": []
          },
          "execution_count": 28
        }
      ]
    },
    {
      "cell_type": "code",
      "metadata": {
        "id": "yJL8pz5sIAZL",
        "colab_type": "code",
        "outputId": "adf0d4ea-2c4f-49b8-e9b0-f02928cf7115",
        "colab": {
          "base_uri": "https://localhost:8080/",
          "height": 143
        }
      },
      "source": [
        "UNK_IDX = LINE.vocab.stoi[LINE.unk_token]\n",
        "\n",
        "model.embedding.weight.data[UNK_IDX] = torch.zeros(EMBEDDING_DIM)\n",
        "model.embedding.weight.data[PAD_IDX] = torch.zeros(EMBEDDING_DIM)\n",
        "\n",
        "print(model.embedding.weight.data)"
      ],
      "execution_count": 29,
      "outputs": [
        {
          "output_type": "stream",
          "text": [
            "tensor([[ 0.0000,  0.0000,  0.0000,  ...,  0.0000,  0.0000,  0.0000],\n",
            "        [ 0.0000,  0.0000,  0.0000,  ...,  0.0000,  0.0000,  0.0000],\n",
            "        [-0.3398,  0.2094,  0.4635,  ..., -0.2339,  0.4730, -0.0288],\n",
            "        ...,\n",
            "        [-0.1353, -0.1401, -0.1164,  ...,  0.3354, -0.2014, -0.5799],\n",
            "        [-0.0764,  0.3016, -0.0953,  ...,  0.1170, -0.6364,  0.6872],\n",
            "        [ 0.1417,  0.2383,  0.5077,  ..., -0.1551, -0.1413, -0.5351]])\n"
          ],
          "name": "stdout"
        }
      ]
    },
    {
      "cell_type": "markdown",
      "metadata": {
        "id": "OTqtFXm6IEIj",
        "colab_type": "text"
      },
      "source": [
        "## Train the model "
      ]
    },
    {
      "cell_type": "code",
      "metadata": {
        "id": "wgDnkjl8IBwk",
        "colab_type": "code",
        "colab": {}
      },
      "source": [
        "import torch.optim as optim\n",
        "\n",
        "# it's not necessary to specify a learning rate here. \n",
        "optimizer = optim.Adam(model.parameters())\n",
        "# we use the same loss as previously \n",
        "criterion = nn.BCEWithLogitsLoss()\n",
        "\n",
        "model = model.to(device)\n",
        "criterion = criterion.to(device)"
      ],
      "execution_count": 0,
      "outputs": []
    },
    {
      "cell_type": "code",
      "metadata": {
        "id": "IMYGK1ZWIJAY",
        "colab_type": "code",
        "colab": {}
      },
      "source": [
        "def binary_accuracy(preds, y):\n",
        "    \"\"\"\n",
        "    Returns accuracy per batch, i.e. if you get 8/10 right, this returns 0.8, NOT 8\n",
        "    \"\"\"\n",
        "\n",
        "    #round predictions to the closest integer\n",
        "    rounded_preds = torch.round(torch.sigmoid(preds))\n",
        "    correct = (rounded_preds == y).float() #convert into float for division \n",
        "    acc = correct.sum() / len(correct)\n",
        "    return acc"
      ],
      "execution_count": 0,
      "outputs": []
    },
    {
      "cell_type": "code",
      "metadata": {
        "id": "2ID9fKDqIO45",
        "colab_type": "code",
        "colab": {}
      },
      "source": [
        "def train(model, iterator, optimizer, criterion):\n",
        "    \n",
        "    epoch_loss = 0\n",
        "    epoch_acc = 0\n",
        "    \n",
        "    model.train()\n",
        "    \n",
        "    for batch in iterator:\n",
        "        \n",
        "        optimizer.zero_grad()\n",
        "\n",
        "        # this happens now because \n",
        "        # As we have set include_lengths = True, our batch.text is \n",
        "        # now a tuple with the first element being the numericalized tensor and \n",
        "        # the second element being the actual lengths of each sequence. \n",
        "        # We separate these into their own variables, text and text_lengths, before passing them to the model.\n",
        "        \n",
        "        text, text_lengths = batch.line\n",
        "        \n",
        "        predictions = model(text, text_lengths).squeeze(1)\n",
        "        \n",
        "        loss = criterion(predictions, batch.label)\n",
        "        \n",
        "        acc = binary_accuracy(predictions, batch.label)\n",
        "        \n",
        "        loss.backward()\n",
        "        \n",
        "        optimizer.step()\n",
        "        \n",
        "        epoch_loss += loss.item()\n",
        "        epoch_acc += acc.item()\n",
        "        \n",
        "    return epoch_loss / len(iterator), epoch_acc / len(iterator)"
      ],
      "execution_count": 0,
      "outputs": []
    },
    {
      "cell_type": "code",
      "metadata": {
        "id": "5VZI8Uw6hxYr",
        "colab_type": "code",
        "colab": {}
      },
      "source": [
        "def evaluate(model, iterator, criterion):\n",
        "    \n",
        "    epoch_loss = 0\n",
        "    epoch_acc = 0\n",
        "    \n",
        "    model.eval()\n",
        "    \n",
        "    with torch.no_grad():\n",
        "    \n",
        "        for batch in iterator:\n",
        "\n",
        "            text, text_lengths = batch.line\n",
        "            \n",
        "            predictions = model(text, text_lengths).squeeze(1)\n",
        "            \n",
        "            loss = criterion(predictions, batch.label)\n",
        "            \n",
        "            acc = binary_accuracy(predictions, batch.label)\n",
        "            correct = get_evaluation_scores(predictions, batch.label)\n",
        "\n",
        "            epoch_loss += loss.item()\n",
        "            epoch_acc += acc.item()\n",
        "        \n",
        "    return epoch_loss / len(iterator), epoch_acc / len(iterator)"
      ],
      "execution_count": 0,
      "outputs": []
    },
    {
      "cell_type": "code",
      "metadata": {
        "id": "yVYoDku1acxd",
        "colab_type": "code",
        "colab": {
          "base_uri": "https://localhost:8080/",
          "height": 71
        },
        "outputId": "ae1018d5-f40e-4ae1-d1a6-04127e755082"
      },
      "source": [
        "N_EPOCHS = 1\n",
        "\n",
        "\n",
        "for epoch in range(N_EPOCHS):\n",
        "    \n",
        "    train_loss, train_acc = train(model, train_iterator, optimizer, criterion)\n",
        "    valid_loss, valid_acc = evaluate(model, valid_iterator, criterion)\n",
        "    \n",
        "    \n",
        "    print(\"Epoch {0}\".format(epoch+1))\n",
        "    print(f'\\tTrain Loss: {train_loss:.3f} | Train Acc: {train_acc*100:.2f}%')\n",
        "    print(f'\\t Val. Loss: {valid_loss:.3f} |  Val. Acc: {valid_acc*100:.2f}%')"
      ],
      "execution_count": 38,
      "outputs": [
        {
          "output_type": "stream",
          "text": [
            "Epoch 1\n",
            "\tTrain Loss: 0.664 | Train Acc: 57.60%\n",
            "\t Val. Loss: 0.651 |  Val. Acc: 59.32%\n"
          ],
          "name": "stdout"
        }
      ]
    },
    {
      "cell_type": "code",
      "metadata": {
        "id": "HrvVBBBbISmY",
        "colab_type": "code",
        "colab": {}
      },
      "source": [
        "def evaluate_2(model, iterator, criterion):\n",
        "    \n",
        "    epoch_loss = 0\n",
        "    epoch_acc = 0\n",
        "    \n",
        "    model.eval()\n",
        "    \n",
        "    prediction_tuples = []\n",
        "    with torch.no_grad():\n",
        "    \n",
        "        for batch in iterator:\n",
        "\n",
        "            text, text_lengths = batch.line\n",
        "            \n",
        "            predictions = model(text, text_lengths).squeeze(1)\n",
        "            \n",
        "            loss = criterion(predictions, batch.label)\n",
        "            \n",
        "            acc = binary_accuracy(predictions, batch.label)\n",
        "            correct = get_evaluation_scores(predictions, batch.label)\n",
        "\n",
        "            # ---- ADD THIS -------- \n",
        "            prediction_tuples_per_batch = get_predictions(predictions, batch.label, batch.ID)\n",
        "            prediction_tuples += prediction_tuples_per_batch\n",
        "\n",
        "\n",
        "            epoch_loss += loss.item()\n",
        "            epoch_acc += acc.item()\n",
        "    \n",
        "    sorted_predictions = compute_custum_acc(prediction_tuples)\n",
        "    return epoch_loss / len(iterator), epoch_acc / len(iterator), sorted_predictions"
      ],
      "execution_count": 0,
      "outputs": []
    },
    {
      "cell_type": "code",
      "metadata": {
        "id": "z_kEYxZieEvj",
        "colab_type": "code",
        "colab": {}
      },
      "source": [
        "from collections import Counter\n",
        "\n",
        "def compute_custum_acc(list_with_tuple_predictions): \n",
        "    sorted_predictions = sorted(list_with_tuple_predictions, key=lambda x: x[2])  \n",
        "    return sorted_predictions\n",
        "    "
      ],
      "execution_count": 0,
      "outputs": []
    },
    {
      "cell_type": "code",
      "metadata": {
        "id": "2VKxAytiMz6y",
        "colab_type": "code",
        "colab": {}
      },
      "source": [
        "# use to get predictions in tuple format \n",
        "def get_predictions(preds, ys, batch_ids): \n",
        "    predictions = []\n",
        "    batch_ids =  batch_ids.squeeze(0)\n",
        "    preds = torch.sigmoid(preds) \n",
        "  \n",
        "    for pred, y, batch_id in zip(preds, ys, batch_ids):\n",
        "        individual_prediction = (pred.item(), y.item(), batch_id.item())\n",
        "        predictions.append(individual_prediction)\n",
        "    return predictions \n",
        "   \n",
        "  "
      ],
      "execution_count": 0,
      "outputs": []
    },
    {
      "cell_type": "code",
      "metadata": {
        "id": "-jv3A05LIYhG",
        "colab_type": "code",
        "outputId": "3fa1f027-0a17-4f4c-a6d9-51fd555ee28c",
        "colab": {
          "base_uri": "https://localhost:8080/",
          "height": 71
        }
      },
      "source": [
        "N_EPOCHS = 1\n",
        "\n",
        "\n",
        "for epoch in range(N_EPOCHS):\n",
        "    \n",
        "    #train_loss, train_acc = train(model, train_iterator, optimizer, criterion)\n",
        "    valid_loss, valid_acc, sorted_predictions = evaluate_2(model, valid_iterator, criterion)\n",
        "    \n",
        "    \n",
        "    print(\"Epoch {0}\".format(epoch+1))\n",
        "    print(f'\\tTrain Loss: {train_loss:.3f} | Train Acc: {train_acc*100:.2f}%')\n",
        "    print(f'\\t Val. Loss: {valid_loss:.3f} |  Val. Acc: {valid_acc*100:.2f}%')"
      ],
      "execution_count": 65,
      "outputs": [
        {
          "output_type": "stream",
          "text": [
            "Epoch 1\n",
            "\tTrain Loss: 0.664 | Train Acc: 57.60%\n",
            "\t Val. Loss: 0.651 |  Val. Acc: 59.32%\n"
          ],
          "name": "stdout"
        }
      ]
    },
    {
      "cell_type": "code",
      "metadata": {
        "id": "gtBGw73qeLO5",
        "colab_type": "code",
        "colab": {
          "base_uri": "https://localhost:8080/",
          "height": 35
        },
        "outputId": "813da68a-d3e4-4b5c-fb56-b838a9a931aa"
      },
      "source": [
        "sorted_predictions[0:10]\n",
        "\n",
        "good = 0 \n",
        "bad = 0 \n",
        "for source, target in zip(sorted_predictions[::2], sorted_predictions[1::2]): \n",
        "    source_pred = source[0]\n",
        "    target_pred = target[0]\n",
        "\n",
        "    if source_pred < target_pred: \n",
        "       good += 1 \n",
        "    else: \n",
        "       bad += 1   \n",
        "\n",
        "print(good/(good+bad))"
      ],
      "execution_count": 77,
      "outputs": [
        {
          "output_type": "stream",
          "text": [
            "0.663408913213448\n"
          ],
          "name": "stdout"
        }
      ]
    },
    {
      "cell_type": "code",
      "metadata": {
        "id": "QKLGfNLnIdUU",
        "colab_type": "code",
        "colab": {}
      },
      "source": [
        "# this can later be used if I want \n",
        "from sklearn.metrics import classification_report \n",
        "from sklearn.metrics import confusion_matrix \n",
        "\n",
        "def get_evaluation_scores(preds, y):\n",
        "    categories = {\"0.0\": \"Non-Hyperpartisan\", \"1.0\": \"Hyperpartisan\"} \n",
        "    rounded_preds = torch.round(torch.sigmoid(preds))\n",
        "    Ypredict = []\n",
        "    Ytrue = []\n",
        "    for ypred in rounded_preds: \n",
        "        Ypredict.append(ypred.item())\n",
        "    for ytrue in y: \n",
        "        Ytrue.append(ytrue.item())\n",
        "    return classification_report(Ytrue, Ypredict)"
      ],
      "execution_count": 0,
      "outputs": []
    },
    {
      "cell_type": "code",
      "metadata": {
        "id": "Cavu-uwDIcLV",
        "colab_type": "code",
        "colab": {}
      },
      "source": [
        "test_loss, test_acc = evaluate(model, test_iterator, criterion)\n",
        "print(f'Test Loss: {test_loss:.3f} | Test Acc: {test_acc*100:.2f}%')"
      ],
      "execution_count": 0,
      "outputs": []
    },
    {
      "cell_type": "code",
      "metadata": {
        "id": "lUUyE7tfSSe-",
        "colab_type": "code",
        "colab": {}
      },
      "source": [
        ""
      ],
      "execution_count": 0,
      "outputs": []
    }
  ]
}